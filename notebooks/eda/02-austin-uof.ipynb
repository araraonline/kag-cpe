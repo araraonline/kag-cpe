{
 "cells": [
  {
   "cell_type": "markdown",
   "metadata": {},
   "source": [
    "# EDA - Austin incidents\n",
    "\n",
    "Simple exploration of the Austin incidents dataset.\n",
    "\n",
    "No plots or anything fancy :D"
   ]
  },
  {
   "cell_type": "code",
   "execution_count": 1,
   "metadata": {},
   "outputs": [],
   "source": [
    "import pandas as pd"
   ]
  },
  {
   "cell_type": "markdown",
   "metadata": {},
   "source": [
    "## Incidents file"
   ]
  },
  {
   "cell_type": "code",
   "execution_count": 2,
   "metadata": {},
   "outputs": [
    {
     "data": {
      "text/html": [
       "<div>\n",
       "<style scoped>\n",
       "    .dataframe tbody tr th:only-of-type {\n",
       "        vertical-align: middle;\n",
       "    }\n",
       "\n",
       "    .dataframe tbody tr th {\n",
       "        vertical-align: top;\n",
       "    }\n",
       "\n",
       "    .dataframe thead th {\n",
       "        text-align: right;\n",
       "    }\n",
       "</style>\n",
       "<table border=\"1\" class=\"dataframe\">\n",
       "  <thead>\n",
       "    <tr style=\"text-align: right;\">\n",
       "      <th></th>\n",
       "      <th>0</th>\n",
       "      <th>1</th>\n",
       "      <th>2</th>\n",
       "      <th>3</th>\n",
       "      <th>4</th>\n",
       "    </tr>\n",
       "  </thead>\n",
       "  <tbody>\n",
       "    <tr>\n",
       "      <th>RIN</th>\n",
       "      <td>156701</td>\n",
       "      <td>161046</td>\n",
       "      <td>161381</td>\n",
       "      <td>142588</td>\n",
       "      <td>162084</td>\n",
       "    </tr>\n",
       "    <tr>\n",
       "      <th>Primary Key</th>\n",
       "      <td>2015541517</td>\n",
       "      <td>20151510003</td>\n",
       "      <td>20151510003</td>\n",
       "      <td>2014111929</td>\n",
       "      <td>20151720001</td>\n",
       "    </tr>\n",
       "    <tr>\n",
       "      <th>Date Occurred</th>\n",
       "      <td>2015-02-24 00:00:00</td>\n",
       "      <td>2015-05-31 00:00:00</td>\n",
       "      <td>2015-05-31 00:00:00</td>\n",
       "      <td>2014-01-11 00:00:00</td>\n",
       "      <td>2015-06-21 00:00:00</td>\n",
       "    </tr>\n",
       "    <tr>\n",
       "      <th>Area Command</th>\n",
       "      <td>FR</td>\n",
       "      <td>GE</td>\n",
       "      <td>GE</td>\n",
       "      <td>HE</td>\n",
       "      <td>GE</td>\n",
       "    </tr>\n",
       "    <tr>\n",
       "      <th>Nature of Contact</th>\n",
       "      <td>VIEWED OFFENSE</td>\n",
       "      <td>VIEWED OFFENSE</td>\n",
       "      <td>VIEWED OFFENSE</td>\n",
       "      <td>TRAFFIC STOP</td>\n",
       "      <td>DISPATCHED CALL</td>\n",
       "    </tr>\n",
       "    <tr>\n",
       "      <th>Reason Desc</th>\n",
       "      <td>NECESSARY TO EFFECT ARREST / DETENTION</td>\n",
       "      <td>NECESSARY TO EFFECT ARREST / DETENTION</td>\n",
       "      <td>IN CUSTODY, MAINTAINING CONTROL</td>\n",
       "      <td>NECESSARY TO DEFEND REPORTING OFFICER</td>\n",
       "      <td>TO RESTRAIN FOR SUBJECTS SAFETY</td>\n",
       "    </tr>\n",
       "    <tr>\n",
       "      <th>Master Subject ID</th>\n",
       "      <td>167510327: 2015541517</td>\n",
       "      <td>459191174: 20151510003</td>\n",
       "      <td>459191174: 20151510003</td>\n",
       "      <td>198377769: 2014111929</td>\n",
       "      <td>459030448: 20151720001</td>\n",
       "    </tr>\n",
       "    <tr>\n",
       "      <th>Subject Sex</th>\n",
       "      <td>M</td>\n",
       "      <td>M</td>\n",
       "      <td>M</td>\n",
       "      <td>M</td>\n",
       "      <td>M</td>\n",
       "    </tr>\n",
       "    <tr>\n",
       "      <th>Race</th>\n",
       "      <td>Hispanic</td>\n",
       "      <td>Hispanic</td>\n",
       "      <td>Hispanic</td>\n",
       "      <td>Black</td>\n",
       "      <td>Black</td>\n",
       "    </tr>\n",
       "    <tr>\n",
       "      <th>Subject Role</th>\n",
       "      <td>NaN</td>\n",
       "      <td>NaN</td>\n",
       "      <td>NaN</td>\n",
       "      <td>SUSPECT</td>\n",
       "      <td>NaN</td>\n",
       "    </tr>\n",
       "    <tr>\n",
       "      <th>Subject Conduct Desc</th>\n",
       "      <td>SUSPECTED UNDER INFLUENCE OF ALCOHOL/DRUGS</td>\n",
       "      <td>SUSPECTED UNDER INFLUENCE OF ALCOHOL/DRUGS</td>\n",
       "      <td>SUSPECTED UNDER INFLUENCE OF ALCOHOL/DRUGS</td>\n",
       "      <td>EDP/MENTALLY UNSTABLE; SUSPECTED UNDER INFLUEN...</td>\n",
       "      <td>SUSPECTED UNDER INFLUENCE OF ALCOHOL/DRUGS</td>\n",
       "    </tr>\n",
       "    <tr>\n",
       "      <th>Subject Resistance</th>\n",
       "      <td>EMPTY HAND DEFENSIVE RESISTANCE</td>\n",
       "      <td>EMPTY HAND ACTIVE AGGRESSION</td>\n",
       "      <td>EMPTY HAND ACTIVE AGGRESSION; EMPTY HAND DEFEN...</td>\n",
       "      <td>VERBAL RESISTANCE/AGGRESSION; PASSIVE RESISTANCE</td>\n",
       "      <td>EMPTY HAND DEFENSIVE RESISTANCE</td>\n",
       "    </tr>\n",
       "    <tr>\n",
       "      <th>Weapon Used 1</th>\n",
       "      <td>WEAPONLESS (PRESSURE POINTS/KICKS/HAND)</td>\n",
       "      <td>WEAPONLESS (PRESSURE POINTS/KICKS/HAND)</td>\n",
       "      <td>WEAPONLESS (PRESSURE POINTS/KICKS/HAND)</td>\n",
       "      <td>WEAPONLESS (PRESSURE POINTS/KICKS/HAND)</td>\n",
       "      <td>WEAPONLESS (PRESSURE POINTS/KICKS/HAND)</td>\n",
       "    </tr>\n",
       "    <tr>\n",
       "      <th>Weapon Used 2</th>\n",
       "      <td>NaN</td>\n",
       "      <td>NaN</td>\n",
       "      <td>NaN</td>\n",
       "      <td>NaN</td>\n",
       "      <td>NaN</td>\n",
       "    </tr>\n",
       "    <tr>\n",
       "      <th>Weapon Used 3</th>\n",
       "      <td>NaN</td>\n",
       "      <td>NaN</td>\n",
       "      <td>NaN</td>\n",
       "      <td>NaN</td>\n",
       "      <td>NaN</td>\n",
       "    </tr>\n",
       "    <tr>\n",
       "      <th>Weapon Used 4</th>\n",
       "      <td>NaN</td>\n",
       "      <td>NaN</td>\n",
       "      <td>NaN</td>\n",
       "      <td>NaN</td>\n",
       "      <td>NaN</td>\n",
       "    </tr>\n",
       "    <tr>\n",
       "      <th>Number Shots</th>\n",
       "      <td>NaN</td>\n",
       "      <td>NaN</td>\n",
       "      <td>1</td>\n",
       "      <td>NaN</td>\n",
       "      <td>NaN</td>\n",
       "    </tr>\n",
       "    <tr>\n",
       "      <th>Subject Effects</th>\n",
       "      <td>NO COMPLAINT OF INJURY/PAIN</td>\n",
       "      <td>NO COMPLAINT OF INJURY/PAIN</td>\n",
       "      <td>NO COMPLAINT OF INJURY/PAIN</td>\n",
       "      <td>COMPLAINT OF INJURY/PAIN</td>\n",
       "      <td>NO COMPLAINT OF INJURY/PAIN</td>\n",
       "    </tr>\n",
       "    <tr>\n",
       "      <th>Effect on Officer</th>\n",
       "      <td>NO COMPLAINT OF INJURY/PAIN</td>\n",
       "      <td>NO COMPLAINT OF INJURY/PAIN</td>\n",
       "      <td>NO COMPLAINT OF INJURY/PAIN</td>\n",
       "      <td>NO COMPLAINT OF INJURY/PAIN</td>\n",
       "      <td>NO COMPLAINT OF INJURY/PAIN</td>\n",
       "    </tr>\n",
       "    <tr>\n",
       "      <th>Officer Organization Desc</th>\n",
       "      <td>CRIMINAL INTERDICTION / K9</td>\n",
       "      <td>GEORGE 300 REG I PATROL</td>\n",
       "      <td>GEORGE 300 REG I PATROL</td>\n",
       "      <td>HENRY 700 REG III PATROL</td>\n",
       "      <td>GEORGE 400 REG I PATROL</td>\n",
       "    </tr>\n",
       "    <tr>\n",
       "      <th>Officer Yrs of Service</th>\n",
       "      <td>3</td>\n",
       "      <td>5</td>\n",
       "      <td>7</td>\n",
       "      <td>4</td>\n",
       "      <td>3</td>\n",
       "    </tr>\n",
       "    <tr>\n",
       "      <th>X-Coordinate</th>\n",
       "      <td>3100341</td>\n",
       "      <td>3115535</td>\n",
       "      <td>3115535</td>\n",
       "      <td>3117503</td>\n",
       "      <td>3116713</td>\n",
       "    </tr>\n",
       "    <tr>\n",
       "      <th>Y-Coordinate</th>\n",
       "      <td>10030899</td>\n",
       "      <td>10070296</td>\n",
       "      <td>10070296</td>\n",
       "      <td>10057313</td>\n",
       "      <td>10067447</td>\n",
       "    </tr>\n",
       "    <tr>\n",
       "      <th>City Council District</th>\n",
       "      <td>5</td>\n",
       "      <td>9</td>\n",
       "      <td>9</td>\n",
       "      <td>NaN</td>\n",
       "      <td>3</td>\n",
       "    </tr>\n",
       "    <tr>\n",
       "      <th>Geolocation</th>\n",
       "      <td>9900 BLOCK S IH 35 SB</td>\n",
       "      <td>409 E 6TH ST</td>\n",
       "      <td>409 E 6TH ST</td>\n",
       "      <td>BURTON DR / E OLTORF ST</td>\n",
       "      <td>SAN MARCOS ST / SPENCE ST</td>\n",
       "    </tr>\n",
       "    <tr>\n",
       "      <th>City</th>\n",
       "      <td>Austin</td>\n",
       "      <td>Austin</td>\n",
       "      <td>Austin</td>\n",
       "      <td>Austin</td>\n",
       "      <td>Austin</td>\n",
       "    </tr>\n",
       "    <tr>\n",
       "      <th>State</th>\n",
       "      <td>TX</td>\n",
       "      <td>TX</td>\n",
       "      <td>TX</td>\n",
       "      <td>TX</td>\n",
       "      <td>TX</td>\n",
       "    </tr>\n",
       "    <tr>\n",
       "      <th>Latitude</th>\n",
       "      <td>NaN</td>\n",
       "      <td>NaN</td>\n",
       "      <td>NaN</td>\n",
       "      <td>NaN</td>\n",
       "      <td>NaN</td>\n",
       "    </tr>\n",
       "    <tr>\n",
       "      <th>Longitude</th>\n",
       "      <td>NaN</td>\n",
       "      <td>NaN</td>\n",
       "      <td>NaN</td>\n",
       "      <td>NaN</td>\n",
       "      <td>NaN</td>\n",
       "    </tr>\n",
       "  </tbody>\n",
       "</table>\n",
       "</div>"
      ],
      "text/plain": [
       "                                                                    0  \\\n",
       "RIN                                                            156701   \n",
       "Primary Key                                                2015541517   \n",
       "Date Occurred                                     2015-02-24 00:00:00   \n",
       "Area Command                                                       FR   \n",
       "Nature of Contact                                      VIEWED OFFENSE   \n",
       "Reason Desc                    NECESSARY TO EFFECT ARREST / DETENTION   \n",
       "Master Subject ID                               167510327: 2015541517   \n",
       "Subject Sex                                                         M   \n",
       "Race                                                         Hispanic   \n",
       "Subject Role                                                      NaN   \n",
       "Subject Conduct Desc       SUSPECTED UNDER INFLUENCE OF ALCOHOL/DRUGS   \n",
       "Subject Resistance                    EMPTY HAND DEFENSIVE RESISTANCE   \n",
       "Weapon Used 1                 WEAPONLESS (PRESSURE POINTS/KICKS/HAND)   \n",
       "Weapon Used 2                                                     NaN   \n",
       "Weapon Used 3                                                     NaN   \n",
       "Weapon Used 4                                                     NaN   \n",
       "Number Shots                                                      NaN   \n",
       "Subject Effects                           NO COMPLAINT OF INJURY/PAIN   \n",
       "Effect on Officer                         NO COMPLAINT OF INJURY/PAIN   \n",
       "Officer Organization Desc                  CRIMINAL INTERDICTION / K9   \n",
       "Officer Yrs of Service                                              3   \n",
       "X-Coordinate                                                  3100341   \n",
       "Y-Coordinate                                                 10030899   \n",
       "City Council District                                               5   \n",
       "Geolocation                                     9900 BLOCK S IH 35 SB   \n",
       "City                                                           Austin   \n",
       "State                                                              TX   \n",
       "Latitude                                                          NaN   \n",
       "Longitude                                                         NaN   \n",
       "\n",
       "                                                                    1  \\\n",
       "RIN                                                            161046   \n",
       "Primary Key                                               20151510003   \n",
       "Date Occurred                                     2015-05-31 00:00:00   \n",
       "Area Command                                                       GE   \n",
       "Nature of Contact                                      VIEWED OFFENSE   \n",
       "Reason Desc                    NECESSARY TO EFFECT ARREST / DETENTION   \n",
       "Master Subject ID                              459191174: 20151510003   \n",
       "Subject Sex                                                         M   \n",
       "Race                                                         Hispanic   \n",
       "Subject Role                                                      NaN   \n",
       "Subject Conduct Desc       SUSPECTED UNDER INFLUENCE OF ALCOHOL/DRUGS   \n",
       "Subject Resistance                       EMPTY HAND ACTIVE AGGRESSION   \n",
       "Weapon Used 1                 WEAPONLESS (PRESSURE POINTS/KICKS/HAND)   \n",
       "Weapon Used 2                                                     NaN   \n",
       "Weapon Used 3                                                     NaN   \n",
       "Weapon Used 4                                                     NaN   \n",
       "Number Shots                                                      NaN   \n",
       "Subject Effects                           NO COMPLAINT OF INJURY/PAIN   \n",
       "Effect on Officer                         NO COMPLAINT OF INJURY/PAIN   \n",
       "Officer Organization Desc                     GEORGE 300 REG I PATROL   \n",
       "Officer Yrs of Service                                              5   \n",
       "X-Coordinate                                                  3115535   \n",
       "Y-Coordinate                                                 10070296   \n",
       "City Council District                                               9   \n",
       "Geolocation                                              409 E 6TH ST   \n",
       "City                                                           Austin   \n",
       "State                                                              TX   \n",
       "Latitude                                                          NaN   \n",
       "Longitude                                                         NaN   \n",
       "\n",
       "                                                                           2  \\\n",
       "RIN                                                                   161381   \n",
       "Primary Key                                                      20151510003   \n",
       "Date Occurred                                            2015-05-31 00:00:00   \n",
       "Area Command                                                              GE   \n",
       "Nature of Contact                                             VIEWED OFFENSE   \n",
       "Reason Desc                                  IN CUSTODY, MAINTAINING CONTROL   \n",
       "Master Subject ID                                     459191174: 20151510003   \n",
       "Subject Sex                                                                M   \n",
       "Race                                                                Hispanic   \n",
       "Subject Role                                                             NaN   \n",
       "Subject Conduct Desc              SUSPECTED UNDER INFLUENCE OF ALCOHOL/DRUGS   \n",
       "Subject Resistance         EMPTY HAND ACTIVE AGGRESSION; EMPTY HAND DEFEN...   \n",
       "Weapon Used 1                        WEAPONLESS (PRESSURE POINTS/KICKS/HAND)   \n",
       "Weapon Used 2                                                            NaN   \n",
       "Weapon Used 3                                                            NaN   \n",
       "Weapon Used 4                                                            NaN   \n",
       "Number Shots                                                               1   \n",
       "Subject Effects                                  NO COMPLAINT OF INJURY/PAIN   \n",
       "Effect on Officer                                NO COMPLAINT OF INJURY/PAIN   \n",
       "Officer Organization Desc                            GEORGE 300 REG I PATROL   \n",
       "Officer Yrs of Service                                                     7   \n",
       "X-Coordinate                                                         3115535   \n",
       "Y-Coordinate                                                        10070296   \n",
       "City Council District                                                      9   \n",
       "Geolocation                                                     409 E 6TH ST   \n",
       "City                                                                  Austin   \n",
       "State                                                                     TX   \n",
       "Latitude                                                                 NaN   \n",
       "Longitude                                                                NaN   \n",
       "\n",
       "                                                                           3  \\\n",
       "RIN                                                                   142588   \n",
       "Primary Key                                                       2014111929   \n",
       "Date Occurred                                            2014-01-11 00:00:00   \n",
       "Area Command                                                              HE   \n",
       "Nature of Contact                                               TRAFFIC STOP   \n",
       "Reason Desc                            NECESSARY TO DEFEND REPORTING OFFICER   \n",
       "Master Subject ID                                      198377769: 2014111929   \n",
       "Subject Sex                                                                M   \n",
       "Race                                                                   Black   \n",
       "Subject Role                                                         SUSPECT   \n",
       "Subject Conduct Desc       EDP/MENTALLY UNSTABLE; SUSPECTED UNDER INFLUEN...   \n",
       "Subject Resistance          VERBAL RESISTANCE/AGGRESSION; PASSIVE RESISTANCE   \n",
       "Weapon Used 1                        WEAPONLESS (PRESSURE POINTS/KICKS/HAND)   \n",
       "Weapon Used 2                                                            NaN   \n",
       "Weapon Used 3                                                            NaN   \n",
       "Weapon Used 4                                                            NaN   \n",
       "Number Shots                                                             NaN   \n",
       "Subject Effects                                     COMPLAINT OF INJURY/PAIN   \n",
       "Effect on Officer                                NO COMPLAINT OF INJURY/PAIN   \n",
       "Officer Organization Desc                           HENRY 700 REG III PATROL   \n",
       "Officer Yrs of Service                                                     4   \n",
       "X-Coordinate                                                         3117503   \n",
       "Y-Coordinate                                                        10057313   \n",
       "City Council District                                                    NaN   \n",
       "Geolocation                                          BURTON DR / E OLTORF ST   \n",
       "City                                                                  Austin   \n",
       "State                                                                     TX   \n",
       "Latitude                                                                 NaN   \n",
       "Longitude                                                                NaN   \n",
       "\n",
       "                                                                    4  \n",
       "RIN                                                            162084  \n",
       "Primary Key                                               20151720001  \n",
       "Date Occurred                                     2015-06-21 00:00:00  \n",
       "Area Command                                                       GE  \n",
       "Nature of Contact                                     DISPATCHED CALL  \n",
       "Reason Desc                           TO RESTRAIN FOR SUBJECTS SAFETY  \n",
       "Master Subject ID                              459030448: 20151720001  \n",
       "Subject Sex                                                         M  \n",
       "Race                                                            Black  \n",
       "Subject Role                                                      NaN  \n",
       "Subject Conduct Desc       SUSPECTED UNDER INFLUENCE OF ALCOHOL/DRUGS  \n",
       "Subject Resistance                    EMPTY HAND DEFENSIVE RESISTANCE  \n",
       "Weapon Used 1                 WEAPONLESS (PRESSURE POINTS/KICKS/HAND)  \n",
       "Weapon Used 2                                                     NaN  \n",
       "Weapon Used 3                                                     NaN  \n",
       "Weapon Used 4                                                     NaN  \n",
       "Number Shots                                                      NaN  \n",
       "Subject Effects                           NO COMPLAINT OF INJURY/PAIN  \n",
       "Effect on Officer                         NO COMPLAINT OF INJURY/PAIN  \n",
       "Officer Organization Desc                     GEORGE 400 REG I PATROL  \n",
       "Officer Yrs of Service                                              3  \n",
       "X-Coordinate                                                  3116713  \n",
       "Y-Coordinate                                                 10067447  \n",
       "City Council District                                               3  \n",
       "Geolocation                                 SAN MARCOS ST / SPENCE ST  \n",
       "City                                                           Austin  \n",
       "State                                                              TX  \n",
       "Latitude                                                          NaN  \n",
       "Longitude                                                         NaN  "
      ]
     },
     "execution_count": 2,
     "metadata": {},
     "output_type": "execute_result"
    }
   ],
   "source": [
    "loc = '../../data/raw/cpe-data/Dept_37-00027/37-00027_UOF-P_2014-2016_prepped.csv'\n",
    "df = pd.read_csv(loc, header=[1])\n",
    "df['Date Occurred'] = pd.to_datetime(df['Date Occurred'])\n",
    "df.head().T"
   ]
  },
  {
   "cell_type": "code",
   "execution_count": 3,
   "metadata": {},
   "outputs": [
    {
     "data": {
      "text/plain": [
       "(9482, 29)"
      ]
     },
     "execution_count": 3,
     "metadata": {},
     "output_type": "execute_result"
    }
   ],
   "source": [
    "df.shape"
   ]
  },
  {
   "cell_type": "code",
   "execution_count": 4,
   "metadata": {},
   "outputs": [
    {
     "data": {
      "text/html": [
       "<style  type=\"text/css\" >\n",
       "</style>  \n",
       "<table id=\"T_ff3c3ab6_cd7f_11e8_adf6_7170768e58ec\" > \n",
       "<thead>    <tr> \n",
       "        <th class=\"blank level0\" ></th> \n",
       "        <th class=\"col_heading level0 col0\" >nan</th> \n",
       "    </tr></thead> \n",
       "<tbody>    <tr> \n",
       "        <th id=\"T_ff3c3ab6_cd7f_11e8_adf6_7170768e58eclevel0_row0\" class=\"row_heading level0 row0\" >Subject Sex</th> \n",
       "        <td id=\"T_ff3c3ab6_cd7f_11e8_adf6_7170768e58ecrow0_col0\" class=\"data row0 col0\" >3.4%</td> \n",
       "    </tr>    <tr> \n",
       "        <th id=\"T_ff3c3ab6_cd7f_11e8_adf6_7170768e58eclevel0_row1\" class=\"row_heading level0 row1\" >Race</th> \n",
       "        <td id=\"T_ff3c3ab6_cd7f_11e8_adf6_7170768e58ecrow1_col0\" class=\"data row1 col0\" >3.6%</td> \n",
       "    </tr>    <tr> \n",
       "        <th id=\"T_ff3c3ab6_cd7f_11e8_adf6_7170768e58eclevel0_row2\" class=\"row_heading level0 row2\" >Subject Role</th> \n",
       "        <td id=\"T_ff3c3ab6_cd7f_11e8_adf6_7170768e58ecrow2_col0\" class=\"data row2 col0\" >69.6%</td> \n",
       "    </tr>    <tr> \n",
       "        <th id=\"T_ff3c3ab6_cd7f_11e8_adf6_7170768e58eclevel0_row3\" class=\"row_heading level0 row3\" >Subject Conduct Desc</th> \n",
       "        <td id=\"T_ff3c3ab6_cd7f_11e8_adf6_7170768e58ecrow3_col0\" class=\"data row3 col0\" >19.6%</td> \n",
       "    </tr>    <tr> \n",
       "        <th id=\"T_ff3c3ab6_cd7f_11e8_adf6_7170768e58eclevel0_row4\" class=\"row_heading level0 row4\" >Weapon Used 2</th> \n",
       "        <td id=\"T_ff3c3ab6_cd7f_11e8_adf6_7170768e58ecrow4_col0\" class=\"data row4 col0\" >95.2%</td> \n",
       "    </tr>    <tr> \n",
       "        <th id=\"T_ff3c3ab6_cd7f_11e8_adf6_7170768e58eclevel0_row5\" class=\"row_heading level0 row5\" >Weapon Used 3</th> \n",
       "        <td id=\"T_ff3c3ab6_cd7f_11e8_adf6_7170768e58ecrow5_col0\" class=\"data row5 col0\" >99.3%</td> \n",
       "    </tr>    <tr> \n",
       "        <th id=\"T_ff3c3ab6_cd7f_11e8_adf6_7170768e58eclevel0_row6\" class=\"row_heading level0 row6\" >Weapon Used 4</th> \n",
       "        <td id=\"T_ff3c3ab6_cd7f_11e8_adf6_7170768e58ecrow6_col0\" class=\"data row6 col0\" >100.0%</td> \n",
       "    </tr>    <tr> \n",
       "        <th id=\"T_ff3c3ab6_cd7f_11e8_adf6_7170768e58eclevel0_row7\" class=\"row_heading level0 row7\" >Number Shots</th> \n",
       "        <td id=\"T_ff3c3ab6_cd7f_11e8_adf6_7170768e58ecrow7_col0\" class=\"data row7 col0\" >79.4%</td> \n",
       "    </tr>    <tr> \n",
       "        <th id=\"T_ff3c3ab6_cd7f_11e8_adf6_7170768e58eclevel0_row8\" class=\"row_heading level0 row8\" >Effect on Officer</th> \n",
       "        <td id=\"T_ff3c3ab6_cd7f_11e8_adf6_7170768e58ecrow8_col0\" class=\"data row8 col0\" >5.3%</td> \n",
       "    </tr>    <tr> \n",
       "        <th id=\"T_ff3c3ab6_cd7f_11e8_adf6_7170768e58eclevel0_row9\" class=\"row_heading level0 row9\" >City Council District</th> \n",
       "        <td id=\"T_ff3c3ab6_cd7f_11e8_adf6_7170768e58ecrow9_col0\" class=\"data row9 col0\" >31.3%</td> \n",
       "    </tr>    <tr> \n",
       "        <th id=\"T_ff3c3ab6_cd7f_11e8_adf6_7170768e58eclevel0_row10\" class=\"row_heading level0 row10\" >Latitude</th> \n",
       "        <td id=\"T_ff3c3ab6_cd7f_11e8_adf6_7170768e58ecrow10_col0\" class=\"data row10 col0\" >77.2%</td> \n",
       "    </tr>    <tr> \n",
       "        <th id=\"T_ff3c3ab6_cd7f_11e8_adf6_7170768e58eclevel0_row11\" class=\"row_heading level0 row11\" >Longitude</th> \n",
       "        <td id=\"T_ff3c3ab6_cd7f_11e8_adf6_7170768e58ecrow11_col0\" class=\"data row11 col0\" >77.2%</td> \n",
       "    </tr></tbody> \n",
       "</table> "
      ],
      "text/plain": [
       "<pandas.io.formats.style.Styler at 0x7ffa3279d780>"
      ]
     },
     "execution_count": 4,
     "metadata": {},
     "output_type": "execute_result"
    }
   ],
   "source": [
    "pct_nan = df.isnull().sum() / df.shape[0]\n",
    "pct_nan = pct_nan[pct_nan > 0.01]\n",
    "pct_nan.name = \"nan\"\n",
    "pct_nan.to_frame().style \\\n",
    "    .format(\"{:.1%}\")"
   ]
  },
  {
   "cell_type": "code",
   "execution_count": 5,
   "metadata": {},
   "outputs": [
    {
     "data": {
      "text/plain": [
       "9482"
      ]
     },
     "execution_count": 5,
     "metadata": {},
     "output_type": "execute_result"
    }
   ],
   "source": [
    "df['RIN'].nunique()"
   ]
  },
  {
   "cell_type": "code",
   "execution_count": 6,
   "metadata": {},
   "outputs": [
    {
     "data": {
      "text/plain": [
       "4910"
      ]
     },
     "execution_count": 6,
     "metadata": {},
     "output_type": "execute_result"
    }
   ],
   "source": [
    "df['Primary Key'].nunique()"
   ]
  },
  {
   "cell_type": "code",
   "execution_count": 7,
   "metadata": {},
   "outputs": [
    {
     "data": {
      "text/html": [
       "<div>\n",
       "<style scoped>\n",
       "    .dataframe tbody tr th:only-of-type {\n",
       "        vertical-align: middle;\n",
       "    }\n",
       "\n",
       "    .dataframe tbody tr th {\n",
       "        vertical-align: top;\n",
       "    }\n",
       "\n",
       "    .dataframe thead th {\n",
       "        text-align: right;\n",
       "    }\n",
       "</style>\n",
       "<table border=\"1\" class=\"dataframe\">\n",
       "  <thead>\n",
       "    <tr style=\"text-align: right;\">\n",
       "      <th></th>\n",
       "      <th>RIN</th>\n",
       "      <th>Primary Key</th>\n",
       "      <th>Date Occurred</th>\n",
       "      <th>Area Command</th>\n",
       "      <th>Nature of Contact</th>\n",
       "      <th>Reason Desc</th>\n",
       "      <th>Master Subject ID</th>\n",
       "      <th>Subject Sex</th>\n",
       "      <th>Race</th>\n",
       "      <th>Subject Role</th>\n",
       "      <th>...</th>\n",
       "      <th>Officer Organization Desc</th>\n",
       "      <th>Officer Yrs of Service</th>\n",
       "      <th>X-Coordinate</th>\n",
       "      <th>Y-Coordinate</th>\n",
       "      <th>City Council District</th>\n",
       "      <th>Geolocation</th>\n",
       "      <th>City</th>\n",
       "      <th>State</th>\n",
       "      <th>Latitude</th>\n",
       "      <th>Longitude</th>\n",
       "    </tr>\n",
       "  </thead>\n",
       "  <tbody>\n",
       "    <tr>\n",
       "      <th>0</th>\n",
       "      <td>156701</td>\n",
       "      <td>2015541517</td>\n",
       "      <td>2015-02-24</td>\n",
       "      <td>FR</td>\n",
       "      <td>VIEWED OFFENSE</td>\n",
       "      <td>NECESSARY TO EFFECT ARREST / DETENTION</td>\n",
       "      <td>167510327: 2015541517</td>\n",
       "      <td>M</td>\n",
       "      <td>Hispanic</td>\n",
       "      <td>NaN</td>\n",
       "      <td>...</td>\n",
       "      <td>CRIMINAL INTERDICTION / K9</td>\n",
       "      <td>3</td>\n",
       "      <td>3100341</td>\n",
       "      <td>10030899</td>\n",
       "      <td>5.0</td>\n",
       "      <td>9900 BLOCK S IH 35 SB</td>\n",
       "      <td>Austin</td>\n",
       "      <td>TX</td>\n",
       "      <td>NaN</td>\n",
       "      <td>NaN</td>\n",
       "    </tr>\n",
       "    <tr>\n",
       "      <th>52</th>\n",
       "      <td>156646</td>\n",
       "      <td>2015541517</td>\n",
       "      <td>2015-02-24</td>\n",
       "      <td>FR</td>\n",
       "      <td>VIEWED OFFENSE</td>\n",
       "      <td>NECESSARY TO EFFECT ARREST / DETENTION</td>\n",
       "      <td>167510327: 2015541517</td>\n",
       "      <td>M</td>\n",
       "      <td>Hispanic</td>\n",
       "      <td>NaN</td>\n",
       "      <td>...</td>\n",
       "      <td>FRANK 800 REG IV PATROL</td>\n",
       "      <td>3</td>\n",
       "      <td>3100341</td>\n",
       "      <td>10030899</td>\n",
       "      <td>5.0</td>\n",
       "      <td>9900 BLOCK S IH 35 SB</td>\n",
       "      <td>Austin</td>\n",
       "      <td>TX</td>\n",
       "      <td>NaN</td>\n",
       "      <td>NaN</td>\n",
       "    </tr>\n",
       "    <tr>\n",
       "      <th>2869</th>\n",
       "      <td>156702</td>\n",
       "      <td>2015541517</td>\n",
       "      <td>2015-02-24</td>\n",
       "      <td>FR</td>\n",
       "      <td>VIEWED OFFENSE</td>\n",
       "      <td>NECESSARY TO EFFECT ARREST / DETENTION</td>\n",
       "      <td>167510327: 2015541517</td>\n",
       "      <td>M</td>\n",
       "      <td>Hispanic</td>\n",
       "      <td>NaN</td>\n",
       "      <td>...</td>\n",
       "      <td>FRANK 800 REG IV PATROL</td>\n",
       "      <td>2</td>\n",
       "      <td>3100341</td>\n",
       "      <td>10030899</td>\n",
       "      <td>5.0</td>\n",
       "      <td>9900 BLOCK S IH 35 SB</td>\n",
       "      <td>Austin</td>\n",
       "      <td>TX</td>\n",
       "      <td>NaN</td>\n",
       "      <td>NaN</td>\n",
       "    </tr>\n",
       "    <tr>\n",
       "      <th>4919</th>\n",
       "      <td>156721</td>\n",
       "      <td>2015541517</td>\n",
       "      <td>2015-02-24</td>\n",
       "      <td>FR</td>\n",
       "      <td>VIEWED OFFENSE</td>\n",
       "      <td>NECESSARY TO EFFECT ARREST / DETENTION</td>\n",
       "      <td>167510327: 2015541517</td>\n",
       "      <td>M</td>\n",
       "      <td>Hispanic</td>\n",
       "      <td>NaN</td>\n",
       "      <td>...</td>\n",
       "      <td>FRANK 800 REG IV PATROL</td>\n",
       "      <td>1</td>\n",
       "      <td>3100341</td>\n",
       "      <td>10030899</td>\n",
       "      <td>5.0</td>\n",
       "      <td>9900 BLOCK S IH 35 SB</td>\n",
       "      <td>Austin</td>\n",
       "      <td>TX</td>\n",
       "      <td>NaN</td>\n",
       "      <td>NaN</td>\n",
       "    </tr>\n",
       "  </tbody>\n",
       "</table>\n",
       "<p>4 rows × 29 columns</p>\n",
       "</div>"
      ],
      "text/plain": [
       "         RIN  Primary Key Date Occurred Area Command Nature of Contact  \\\n",
       "0     156701   2015541517    2015-02-24           FR    VIEWED OFFENSE   \n",
       "52    156646   2015541517    2015-02-24           FR    VIEWED OFFENSE   \n",
       "2869  156702   2015541517    2015-02-24           FR    VIEWED OFFENSE   \n",
       "4919  156721   2015541517    2015-02-24           FR    VIEWED OFFENSE   \n",
       "\n",
       "                                 Reason Desc      Master Subject ID  \\\n",
       "0     NECESSARY TO EFFECT ARREST / DETENTION  167510327: 2015541517   \n",
       "52    NECESSARY TO EFFECT ARREST / DETENTION  167510327: 2015541517   \n",
       "2869  NECESSARY TO EFFECT ARREST / DETENTION  167510327: 2015541517   \n",
       "4919  NECESSARY TO EFFECT ARREST / DETENTION  167510327: 2015541517   \n",
       "\n",
       "     Subject Sex      Race Subject Role    ...      Officer Organization Desc  \\\n",
       "0              M  Hispanic          NaN    ...     CRIMINAL INTERDICTION / K9   \n",
       "52             M  Hispanic          NaN    ...        FRANK 800 REG IV PATROL   \n",
       "2869           M  Hispanic          NaN    ...        FRANK 800 REG IV PATROL   \n",
       "4919           M  Hispanic          NaN    ...        FRANK 800 REG IV PATROL   \n",
       "\n",
       "     Officer Yrs of Service X-Coordinate Y-Coordinate City Council District  \\\n",
       "0                         3      3100341     10030899                   5.0   \n",
       "52                        3      3100341     10030899                   5.0   \n",
       "2869                      2      3100341     10030899                   5.0   \n",
       "4919                      1      3100341     10030899                   5.0   \n",
       "\n",
       "                Geolocation    City State Latitude Longitude  \n",
       "0     9900 BLOCK S IH 35 SB  Austin    TX      NaN       NaN  \n",
       "52    9900 BLOCK S IH 35 SB  Austin    TX      NaN       NaN  \n",
       "2869  9900 BLOCK S IH 35 SB  Austin    TX      NaN       NaN  \n",
       "4919  9900 BLOCK S IH 35 SB  Austin    TX      NaN       NaN  \n",
       "\n",
       "[4 rows x 29 columns]"
      ]
     },
     "execution_count": 7,
     "metadata": {},
     "output_type": "execute_result"
    }
   ],
   "source": [
    "df[df['Primary Key'] == 2015541517]\n",
    "\n",
    "# same incident, different people (:"
   ]
  },
  {
   "cell_type": "code",
   "execution_count": 8,
   "metadata": {},
   "outputs": [
    {
     "data": {
      "text/plain": [
       "Timestamp('2014-01-01 00:00:00')"
      ]
     },
     "execution_count": 8,
     "metadata": {},
     "output_type": "execute_result"
    }
   ],
   "source": [
    "df['Date Occurred'].min()"
   ]
  },
  {
   "cell_type": "code",
   "execution_count": 9,
   "metadata": {},
   "outputs": [
    {
     "data": {
      "text/plain": [
       "Timestamp('2016-12-31 00:00:00')"
      ]
     },
     "execution_count": 9,
     "metadata": {},
     "output_type": "execute_result"
    }
   ],
   "source": [
    "df['Date Occurred'].max()"
   ]
  },
  {
   "cell_type": "code",
   "execution_count": 10,
   "metadata": {},
   "outputs": [
    {
     "data": {
      "text/plain": [
       "2015    3302\n",
       "2016    3293\n",
       "2014    2887\n",
       "Name: Date Occurred, dtype: int64"
      ]
     },
     "execution_count": 10,
     "metadata": {},
     "output_type": "execute_result"
    }
   ],
   "source": [
    "df['Date Occurred'].dt.year.value_counts()"
   ]
  },
  {
   "cell_type": "code",
   "execution_count": 11,
   "metadata": {},
   "outputs": [
    {
     "data": {
      "text/plain": [
       "GE    2536\n",
       "ED    1168\n",
       "FR    1058\n",
       "ID    1012\n",
       "HE     971\n",
       "CH     885\n",
       "DA     675\n",
       "BA     570\n",
       "AD     509\n",
       "-       35\n",
       "AP      23\n",
       "88      23\n",
       "Name: Area Command, dtype: int64"
      ]
     },
     "execution_count": 11,
     "metadata": {},
     "output_type": "execute_result"
    }
   ],
   "source": [
    "df['Area Command'].value_counts()"
   ]
  },
  {
   "cell_type": "code",
   "execution_count": 12,
   "metadata": {},
   "outputs": [
    {
     "data": {
      "text/plain": [
       "DISPATCHED CALL       5884\n",
       "VIEWED OFFENSE        1962\n",
       "OTHER                  670\n",
       "TRAFFIC STOP           626\n",
       "TACTICAL OPERATION     205\n",
       "WARRANT SERVICE        131\n",
       "-                        1\n",
       "Name: Nature of Contact, dtype: int64"
      ]
     },
     "execution_count": 12,
     "metadata": {},
     "output_type": "execute_result"
    }
   ],
   "source": [
    "df['Nature of Contact'].value_counts()"
   ]
  },
  {
   "cell_type": "code",
   "execution_count": 13,
   "metadata": {},
   "outputs": [
    {
     "data": {
      "text/plain": [
       "NECESSARY TO EFFECT ARREST / DETENTION             5987\n",
       "IN CUSTODY, MAINTAINING CONTROL                    1727\n",
       "NECESSARY TO DEFEND ANOTHER                         596\n",
       "TO RESTRAIN FOR SUBJECTS SAFETY                     593\n",
       "NECESSARY TO DEFEND REPORTING OFFICER               372\n",
       "OTHER (DOCUMENT IN SUPPLEMENT)                      181\n",
       "TO PREVENT A VIOLENT FELONY                          16\n",
       "NECESSARY TO IMMOBILIZE A VEHICLE PURSUIT (PIT)       7\n",
       "Name: Reason Desc, dtype: int64"
      ]
     },
     "execution_count": 13,
     "metadata": {},
     "output_type": "execute_result"
    }
   ],
   "source": [
    "df['Reason Desc'].value_counts()"
   ]
  },
  {
   "cell_type": "code",
   "execution_count": 14,
   "metadata": {},
   "outputs": [
    {
     "data": {
      "text/plain": [
       "M    7485\n",
       "F    1673\n",
       "Name: Subject Sex, dtype: int64"
      ]
     },
     "execution_count": 14,
     "metadata": {},
     "output_type": "execute_result"
    }
   ],
   "source": [
    "df['Subject Sex'].value_counts()"
   ]
  },
  {
   "cell_type": "code",
   "execution_count": 15,
   "metadata": {},
   "outputs": [
    {
     "data": {
      "text/plain": [
       "Hispanic    3233\n",
       "White       3068\n",
       "Black       2750\n",
       "Asian         85\n",
       "Unknown        4\n",
       "Name: Race, dtype: int64"
      ]
     },
     "execution_count": 15,
     "metadata": {},
     "output_type": "execute_result"
    }
   ],
   "source": [
    "df['Race'].value_counts()"
   ]
  },
  {
   "cell_type": "code",
   "execution_count": 16,
   "metadata": {},
   "outputs": [
    {
     "data": {
      "text/plain": [
       "ARRESTED       2066\n",
       "JUV-ARRESTE     178\n",
       "COMMITTED       141\n",
       "VICTIM/ARRE     126\n",
       "SUBJECT         126\n",
       "SUSPECT          91\n",
       "INVOLVED         36\n",
       "VICTIM/OFFE      27\n",
       "JUV-COMMITT      23\n",
       "VICTIM           18\n",
       "Name: Subject Role, dtype: int64"
      ]
     },
     "execution_count": 16,
     "metadata": {},
     "output_type": "execute_result"
    }
   ],
   "source": [
    "df['Subject Role'].value_counts().head(10)"
   ]
  },
  {
   "cell_type": "code",
   "execution_count": 17,
   "metadata": {},
   "outputs": [
    {
     "data": {
      "text/plain": [
       "SUSPECTED UNDER INFLUENCE OF ALCOHOL/DRUGS                           5176\n",
       "EDP/MENTALLY UNSTABLE                                                1418\n",
       "EDP/MENTALLY UNSTABLE; SUSPECTED UNDER INFLUENCE OF ALCOHOL/DRUGS    1030\n",
       "Name: Subject Conduct Desc, dtype: int64"
      ]
     },
     "execution_count": 17,
     "metadata": {},
     "output_type": "execute_result"
    }
   ],
   "source": [
    "df['Subject Conduct Desc'].value_counts()"
   ]
  },
  {
   "cell_type": "code",
   "execution_count": 18,
   "metadata": {},
   "outputs": [
    {
     "data": {
      "text/plain": [
       "EMPTY HAND DEFENSIVE RESISTANCE                                                                2441\n",
       "expired code-empty hand defensive resistance                                                   1304\n",
       "EMPTY HAND ACTIVE AGGRESSION                                                                   1131\n",
       "VERBAL RESISTANCE/AGGRESSION; EMPTY HAND DEFENSIVE RESISTANCE                                   542\n",
       "expired code-empty hand active aggression                                                       482\n",
       "expired code-verbal resistance/aggression; expired code-empty hand defensive resistance         377\n",
       "PASSIVE RESISTANCE                                                                              292\n",
       "EMPTY HAND ACTIVE AGGRESSION; EMPTY HAND DEFENSIVE RESISTANCE                                   290\n",
       "OTHER                                                                                           282\n",
       "VERBAL RESISTANCE/AGGRESSION; EMPTY HAND ACTIVE AGGRESSION; EMPTY HAND DEFENSIVE RESISTANCE     237\n",
       "Name: Subject Resistance, dtype: int64"
      ]
     },
     "execution_count": 18,
     "metadata": {},
     "output_type": "execute_result"
    }
   ],
   "source": [
    "df['Subject Resistance'].value_counts().head(10)\n",
    "# needs cleaning (?)"
   ]
  },
  {
   "cell_type": "code",
   "execution_count": 19,
   "metadata": {},
   "outputs": [
    {
     "data": {
      "text/plain": [
       "WEAPONLESS (PRESSURE POINTS/KICKS/HAND)                  7218\n",
       "CHEMICAL AGENT - O C SPRAY                                596\n",
       "CED - PRONGS-ENTER # SHOTS                                536\n",
       "CED - DRIVE STUN-ENTER # SHOTS                            205\n",
       "CED - PRONGS-ENTER # CYCLES (use #shots field)            198\n",
       "CED - PRONGS MISSED-ENTER # SHOTS                         176\n",
       "OTHER                                                     153\n",
       "CED - PRONGS MISSED-ENTER # CYCLES (use #shots field)     103\n",
       "CED - DRIVE STUN-ENTER # CYCLES (use #shots field)         84\n",
       "IMPACT WEAPON - BATON                                      37\n",
       "-                                                          30\n",
       "IMPACT MUNITION/BEANBAG RND-ENTER # SHOTS                  28\n",
       "CANINE - BITE                                              23\n",
       "IMPACT MUNITION/RUBBER RND-ENTER # SHOTS                   20\n",
       "FIREARM - HANDGUN-ENTER # SHOTS                            17\n",
       "FIREARM - RIFLE-ENTER # SHOTS                               8\n",
       "PURSUIT IMMOBILIZATION TECHNIQUE (PIT)                      8\n",
       "IMPACT WEAPON - OTHER                                       5\n",
       "CHEMICAL AGENT - OTHER                                      1\n",
       "FIREARM -  SHOTGUN-ENTER # SHOTS                            1\n",
       "Name: Weapon Used 1, dtype: int64"
      ]
     },
     "execution_count": 19,
     "metadata": {},
     "output_type": "execute_result"
    }
   ],
   "source": [
    "df['Weapon Used 1'].value_counts()"
   ]
  },
  {
   "cell_type": "code",
   "execution_count": 20,
   "metadata": {},
   "outputs": [
    {
     "data": {
      "text/plain": [
       "WEAPONLESS (PRESSURE POINTS/KICKS/HAND)               248\n",
       "CED - PRONGS-ENTER # SHOTS                             78\n",
       "CED - PRONGS-ENTER # CYCLES (use #shots field)         44\n",
       "CED - DRIVE STUN-ENTER # SHOTS                         32\n",
       "CANINE - BITE                                          20\n",
       "CED - DRIVE STUN-ENTER # CYCLES (use #shots field)     17\n",
       "CHEMICAL AGENT - O C SPRAY                              5\n",
       "OTHER                                                   3\n",
       "CHEMICAL AGENT - OTHER                                  2\n",
       "CED - PRONGS MISSED-ENTER # SHOTS                       2\n",
       "PURSUIT IMMOBILIZATION TECHNIQUE (PIT)                  1\n",
       "Name: Weapon Used 2, dtype: int64"
      ]
     },
     "execution_count": 20,
     "metadata": {},
     "output_type": "execute_result"
    }
   ],
   "source": [
    "df['Weapon Used 2'].value_counts()"
   ]
  },
  {
   "cell_type": "code",
   "execution_count": 21,
   "metadata": {},
   "outputs": [
    {
     "data": {
      "text/plain": [
       "WEAPONLESS (PRESSURE POINTS/KICKS/HAND)           48\n",
       "CED - PRONGS-ENTER # SHOTS                         6\n",
       "CED - PRONGS-ENTER # CYCLES (use #shots field)     3\n",
       "CANINE - BITE                                      2\n",
       "CED - DRIVE STUN-ENTER # SHOTS                     2\n",
       "CHEMICAL AGENT - O C SPRAY                         1\n",
       "Name: Weapon Used 3, dtype: int64"
      ]
     },
     "execution_count": 21,
     "metadata": {},
     "output_type": "execute_result"
    }
   ],
   "source": [
    "df['Weapon Used 3'].value_counts()"
   ]
  },
  {
   "cell_type": "code",
   "execution_count": 22,
   "metadata": {},
   "outputs": [
    {
     "data": {
      "text/plain": [
       "WEAPONLESS (PRESSURE POINTS/KICKS/HAND)    3\n",
       "CANINE - BITE                              1\n",
       "Name: Weapon Used 4, dtype: int64"
      ]
     },
     "execution_count": 22,
     "metadata": {},
     "output_type": "execute_result"
    }
   ],
   "source": [
    "df['Weapon Used 4'].value_counts()"
   ]
  },
  {
   "cell_type": "code",
   "execution_count": 23,
   "metadata": {},
   "outputs": [
    {
     "data": {
      "text/plain": [
       "1.0     998\n",
       "0.0     482\n",
       "2.0     290\n",
       "3.0     103\n",
       "4.0      38\n",
       "5.0      17\n",
       "6.0       7\n",
       "7.0       4\n",
       "8.0       4\n",
       "9.0       3\n",
       "12.0      3\n",
       "15.0      1\n",
       "11.0      1\n",
       "14.0      1\n",
       "Name: Number Shots, dtype: int64"
      ]
     },
     "execution_count": 23,
     "metadata": {},
     "output_type": "execute_result"
    }
   ],
   "source": [
    "df['Number Shots'].value_counts()"
   ]
  },
  {
   "cell_type": "code",
   "execution_count": 24,
   "metadata": {},
   "outputs": [
    {
     "data": {
      "text/plain": [
       "NO COMPLAINT OF INJURY/PAIN                                                           5253\n",
       "MINOR INJURY                                                                          1825\n",
       "COMPLAINT OF INJURY/PAIN                                                              1061\n",
       "COMPLAINT OF INJURY/PAIN BUT NONE OBSERVED                                             849\n",
       "MINOR INJURY; COMPLAINT OF INJURY/PAIN                                                 325\n",
       "MINOR INJURY; NO COMPLAINT OF INJURY/PAIN                                               60\n",
       "SERIOUS INJURY                                                                          23\n",
       "DEATH                                                                                   18\n",
       "-                                                                                       15\n",
       "COMPLAINT OF INJURY/PAIN; COMPLAINT OF INJURY/PAIN BUT NONE OBSERVED                    13\n",
       "MINOR INJURY; COMPLAINT OF INJURY/PAIN; COMPLAINT OF INJURY/PAIN BUT NONE OBSERVED       6\n",
       "SERIOUS INJURY; COMPLAINT OF INJURY/PAIN                                                 6\n",
       "COMPLAINT OF INJURY/PAIN; NO COMPLAINT OF INJURY/PAIN                                    3\n",
       "COMPLAINT OF INJURY/PAIN BUT NONE OBSERVED; NO COMPLAINT OF INJURY/PAIN                  3\n",
       "MINOR INJURY; COMPLAINT OF INJURY/PAIN BUT NONE OBSERVED                                 2\n",
       "SERIOUS INJURY; MINOR INJURY                                                             1\n",
       "SERIOUS INJURY; NO COMPLAINT OF INJURY/PAIN                                              1\n",
       "Name: Subject Effects, dtype: int64"
      ]
     },
     "execution_count": 24,
     "metadata": {},
     "output_type": "execute_result"
    }
   ],
   "source": [
    "df['Subject Effects'].value_counts()"
   ]
  },
  {
   "cell_type": "code",
   "execution_count": 25,
   "metadata": {},
   "outputs": [
    {
     "data": {
      "text/plain": [
       "NO COMPLAINT OF INJURY/PAIN                                             7967\n",
       "MINOR INJURY                                                             573\n",
       "COMPLAINT OF INJURY/PAIN                                                 290\n",
       "MINOR INJURY; COMPLAINT OF INJURY/PAIN                                    71\n",
       "COMPLAINT OF INJURY/PAIN BUT NONE OBSERVED                                52\n",
       "COMPLAINT OF INJURY/PAIN; NO COMPLAINT OF INJURY/PAIN                     10\n",
       "MINOR INJURY; NO COMPLAINT OF INJURY/PAIN                                  7\n",
       "SERIOUS INJURY                                                             5\n",
       "COMPLAINT OF INJURY/PAIN; COMPLAINT OF INJURY/PAIN BUT NONE OBSERVED       2\n",
       "SERIOUS INJURY; NO COMPLAINT OF INJURY/PAIN                                1\n",
       "SERIOUS INJURY; COMPLAINT OF INJURY/PAIN                                   1\n",
       "Name: Effect on Officer, dtype: int64"
      ]
     },
     "execution_count": 25,
     "metadata": {},
     "output_type": "execute_result"
    }
   ],
   "source": [
    "df['Effect on Officer'].value_counts()"
   ]
  },
  {
   "cell_type": "code",
   "execution_count": 26,
   "metadata": {},
   "outputs": [
    {
     "data": {
      "text/plain": [
       "GEORGE 600 REG I PATROL       250\n",
       "GEORGE 800 REG I PATROL       230\n",
       "GEORGE 1100 REG 1 NIGHTS      220\n",
       "GEORGE 400 REG I PATROL       218\n",
       "EDWARD 700 REG II PATROL      208\n",
       "FRANK 500 REG IV PATROL       186\n",
       "GEORGE 700 REG I PATROL       184\n",
       "GEORGE 300 REG I PATROL       184\n",
       "CHARLIE 700 REG III PATROL    164\n",
       "FRANK 400 REG IV PATROL       161\n",
       "Name: Officer Organization Desc, dtype: int64"
      ]
     },
     "execution_count": 26,
     "metadata": {},
     "output_type": "execute_result"
    }
   ],
   "source": [
    "df['Officer Organization Desc'].value_counts().head(10)"
   ]
  },
  {
   "cell_type": "code",
   "execution_count": 27,
   "metadata": {},
   "outputs": [
    {
     "data": {
      "text/plain": [
       "2    1405\n",
       "3    1147\n",
       "1    1131\n",
       "4     896\n",
       "5     560\n",
       "Name: Officer Yrs of Service, dtype: int64"
      ]
     },
     "execution_count": 27,
     "metadata": {},
     "output_type": "execute_result"
    }
   ],
   "source": [
    "df['Officer Yrs of Service'].value_counts().head()"
   ]
  },
  {
   "cell_type": "code",
   "execution_count": 28,
   "metadata": {},
   "outputs": [
    {
     "data": {
      "text/plain": [
       "3106"
      ]
     },
     "execution_count": 28,
     "metadata": {},
     "output_type": "execute_result"
    }
   ],
   "source": [
    "df['X-Coordinate'].nunique()"
   ]
  },
  {
   "cell_type": "code",
   "execution_count": 29,
   "metadata": {},
   "outputs": [
    {
     "data": {
      "text/plain": [
       "3053"
      ]
     },
     "execution_count": 29,
     "metadata": {},
     "output_type": "execute_result"
    }
   ],
   "source": [
    "df['Y-Coordinate'].nunique()"
   ]
  },
  {
   "cell_type": "code",
   "execution_count": 30,
   "metadata": {},
   "outputs": [
    {
     "data": {
      "text/plain": [
       "9.0     2125\n",
       "3.0      973\n",
       "4.0      854\n",
       "1.0      816\n",
       "2.0      608\n",
       "7.0      414\n",
       "5.0      321\n",
       "6.0      171\n",
       "8.0      127\n",
       "10.0     107\n",
       "Name: City Council District, dtype: int64"
      ]
     },
     "execution_count": 30,
     "metadata": {},
     "output_type": "execute_result"
    }
   ],
   "source": [
    "df['City Council District'].value_counts()"
   ]
  },
  {
   "cell_type": "code",
   "execution_count": 31,
   "metadata": {},
   "outputs": [
    {
     "data": {
      "text/plain": [
       "3146"
      ]
     },
     "execution_count": 31,
     "metadata": {},
     "output_type": "execute_result"
    }
   ],
   "source": [
    "df['Geolocation'].nunique()"
   ]
  },
  {
   "cell_type": "code",
   "execution_count": 32,
   "metadata": {},
   "outputs": [
    {
     "data": {
      "text/plain": [
       "Austin    9482\n",
       "Name: City, dtype: int64"
      ]
     },
     "execution_count": 32,
     "metadata": {},
     "output_type": "execute_result"
    }
   ],
   "source": [
    "df['City'].value_counts()"
   ]
  },
  {
   "cell_type": "code",
   "execution_count": 33,
   "metadata": {},
   "outputs": [
    {
     "data": {
      "text/plain": [
       "TX    9482\n",
       "Name: State, dtype: int64"
      ]
     },
     "execution_count": 33,
     "metadata": {},
     "output_type": "execute_result"
    }
   ],
   "source": [
    "df['State'].value_counts()"
   ]
  },
  {
   "cell_type": "code",
   "execution_count": 34,
   "metadata": {},
   "outputs": [
    {
     "data": {
      "text/plain": [
       "880"
      ]
     },
     "execution_count": 34,
     "metadata": {},
     "output_type": "execute_result"
    }
   ],
   "source": [
    "df['Latitude'].nunique()"
   ]
  },
  {
   "cell_type": "code",
   "execution_count": 35,
   "metadata": {},
   "outputs": [
    {
     "data": {
      "text/plain": [
       "880"
      ]
     },
     "execution_count": 35,
     "metadata": {},
     "output_type": "execute_result"
    }
   ],
   "source": [
    "df['Longitude'].nunique()"
   ]
  }
 ],
 "metadata": {
  "kernelspec": {
   "display_name": "Python 3",
   "language": "python",
   "name": "python3"
  },
  "language_info": {
   "codemirror_mode": {
    "name": "ipython",
    "version": 3
   },
   "file_extension": ".py",
   "mimetype": "text/x-python",
   "name": "python",
   "nbconvert_exporter": "python",
   "pygments_lexer": "ipython3",
   "version": "3.7.0"
  }
 },
 "nbformat": 4,
 "nbformat_minor": 2
}
