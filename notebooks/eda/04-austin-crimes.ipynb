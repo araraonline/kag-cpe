{
 "cells": [
  {
   "cell_type": "markdown",
   "metadata": {},
   "source": [
    "# Austin crimes\n",
    "\n",
    "This is an EDA. I will explore which data is available for Austin crimes in 2015.\n",
    "\n",
    "Also, I'll be checking what needs to be cleaned and just taking a quick glimpse overall."
   ]
  },
  {
   "cell_type": "markdown",
   "metadata": {},
   "source": [
    "Data from: [Crime Reports 2015 | Open Data | City of Austin Texas][1]\n",
    "\n",
    "[1]: https://data.austintexas.gov/Public-Safety/Crime-Reports-2015/g3bw-w7hh"
   ]
  },
  {
   "cell_type": "code",
   "execution_count": 1,
   "metadata": {},
   "outputs": [],
   "source": [
    "# imports\n",
    "\n",
    "import pandas as pd"
   ]
  },
  {
   "cell_type": "code",
   "execution_count": 2,
   "metadata": {},
   "outputs": [
    {
     "data": {
      "text/html": [
       "<div>\n",
       "<style scoped>\n",
       "    .dataframe tbody tr th:only-of-type {\n",
       "        vertical-align: middle;\n",
       "    }\n",
       "\n",
       "    .dataframe tbody tr th {\n",
       "        vertical-align: top;\n",
       "    }\n",
       "\n",
       "    .dataframe thead th {\n",
       "        text-align: right;\n",
       "    }\n",
       "</style>\n",
       "<table border=\"1\" class=\"dataframe\">\n",
       "  <thead>\n",
       "    <tr style=\"text-align: right;\">\n",
       "      <th></th>\n",
       "      <th>0</th>\n",
       "      <th>1</th>\n",
       "      <th>2</th>\n",
       "      <th>3</th>\n",
       "      <th>4</th>\n",
       "    </tr>\n",
       "  </thead>\n",
       "  <tbody>\n",
       "    <tr>\n",
       "      <th>Incident Number</th>\n",
       "      <td>20155006575</td>\n",
       "      <td>20151891608</td>\n",
       "      <td>20155050011</td>\n",
       "      <td>20158004086</td>\n",
       "      <td>20155054719</td>\n",
       "    </tr>\n",
       "    <tr>\n",
       "      <th>Highest Offense Description</th>\n",
       "      <td>FORGERY AND PASSING</td>\n",
       "      <td>AUTO THEFT</td>\n",
       "      <td>THEFT</td>\n",
       "      <td>THEFT</td>\n",
       "      <td>DEBIT CARD ABUSE</td>\n",
       "    </tr>\n",
       "    <tr>\n",
       "      <th>Highest Offense Code</th>\n",
       "      <td>1000</td>\n",
       "      <td>700</td>\n",
       "      <td>600</td>\n",
       "      <td>600</td>\n",
       "      <td>1108</td>\n",
       "    </tr>\n",
       "    <tr>\n",
       "      <th>Family Violence</th>\n",
       "      <td>N</td>\n",
       "      <td>N</td>\n",
       "      <td>N</td>\n",
       "      <td>N</td>\n",
       "      <td>N</td>\n",
       "    </tr>\n",
       "    <tr>\n",
       "      <th>Occurred Date Time</th>\n",
       "      <td>2015-02-11 15:29:00</td>\n",
       "      <td>2015-07-07 17:50:00</td>\n",
       "      <td>2015-11-02 12:00:00</td>\n",
       "      <td>2015-11-12 00:30:00</td>\n",
       "      <td>2015-12-13 12:00:00</td>\n",
       "    </tr>\n",
       "    <tr>\n",
       "      <th>Occurred Date</th>\n",
       "      <td>02/11/2015</td>\n",
       "      <td>07/07/2015</td>\n",
       "      <td>11/02/2015</td>\n",
       "      <td>11/12/2015</td>\n",
       "      <td>12/13/2015</td>\n",
       "    </tr>\n",
       "    <tr>\n",
       "      <th>Occurred Time</th>\n",
       "      <td>1529</td>\n",
       "      <td>1750</td>\n",
       "      <td>1200</td>\n",
       "      <td>30</td>\n",
       "      <td>1200</td>\n",
       "    </tr>\n",
       "    <tr>\n",
       "      <th>Report Date Time</th>\n",
       "      <td>02/15/2015 03:29:00 PM</td>\n",
       "      <td>07/08/2015 10:01:00 PM</td>\n",
       "      <td>11/12/2015 04:27:00 PM</td>\n",
       "      <td>11/12/2015 03:18:00 AM</td>\n",
       "      <td>12/15/2015 02:28:00 PM</td>\n",
       "    </tr>\n",
       "    <tr>\n",
       "      <th>Report Date</th>\n",
       "      <td>02/15/2015</td>\n",
       "      <td>07/08/2015</td>\n",
       "      <td>11/12/2015</td>\n",
       "      <td>11/12/2015</td>\n",
       "      <td>12/15/2015</td>\n",
       "    </tr>\n",
       "    <tr>\n",
       "      <th>Report Time</th>\n",
       "      <td>1529</td>\n",
       "      <td>2201</td>\n",
       "      <td>1627</td>\n",
       "      <td>318</td>\n",
       "      <td>1428</td>\n",
       "    </tr>\n",
       "    <tr>\n",
       "      <th>Location Type</th>\n",
       "      <td>BANKS / SAVINGS &amp; LOAN</td>\n",
       "      <td>PARKING LOTS / GARAGE</td>\n",
       "      <td>RESIDENCE / HOME</td>\n",
       "      <td>HOTEL / MOTEL / ETC.</td>\n",
       "      <td>DEPARTMENT / DISCOUNT STORE</td>\n",
       "    </tr>\n",
       "    <tr>\n",
       "      <th>Address</th>\n",
       "      <td>2117 E 7TH ST</td>\n",
       "      <td>9333 RESEARCH BLVD NB</td>\n",
       "      <td>1071 CLAYTON LN</td>\n",
       "      <td>200 LAVACA ST</td>\n",
       "      <td>4025 S CAPITAL OF TEXAS HWY SVRD NB</td>\n",
       "    </tr>\n",
       "    <tr>\n",
       "      <th>Zip Code</th>\n",
       "      <td>78702</td>\n",
       "      <td>78759</td>\n",
       "      <td>78723</td>\n",
       "      <td>78701</td>\n",
       "      <td>78704</td>\n",
       "    </tr>\n",
       "    <tr>\n",
       "      <th>Council District</th>\n",
       "      <td>3</td>\n",
       "      <td>7</td>\n",
       "      <td>4</td>\n",
       "      <td>9</td>\n",
       "      <td>5</td>\n",
       "    </tr>\n",
       "    <tr>\n",
       "      <th>APD Sector</th>\n",
       "      <td>CH</td>\n",
       "      <td>AD</td>\n",
       "      <td>ID</td>\n",
       "      <td>GE</td>\n",
       "      <td>DA</td>\n",
       "    </tr>\n",
       "    <tr>\n",
       "      <th>APD District</th>\n",
       "      <td>1</td>\n",
       "      <td>1</td>\n",
       "      <td>2</td>\n",
       "      <td>4</td>\n",
       "      <td>3</td>\n",
       "    </tr>\n",
       "    <tr>\n",
       "      <th>PRA</th>\n",
       "      <td>419</td>\n",
       "      <td>216</td>\n",
       "      <td>292</td>\n",
       "      <td>405</td>\n",
       "      <td>466</td>\n",
       "    </tr>\n",
       "    <tr>\n",
       "      <th>Census Tract</th>\n",
       "      <td>9.02</td>\n",
       "      <td>17.53</td>\n",
       "      <td>21.05</td>\n",
       "      <td>11</td>\n",
       "      <td>19.01</td>\n",
       "    </tr>\n",
       "    <tr>\n",
       "      <th>Clearance Status</th>\n",
       "      <td>N</td>\n",
       "      <td>N</td>\n",
       "      <td>N</td>\n",
       "      <td>N</td>\n",
       "      <td>N</td>\n",
       "    </tr>\n",
       "    <tr>\n",
       "      <th>Clearance Date</th>\n",
       "      <td>2015-02-17 00:00:00</td>\n",
       "      <td>2015-07-22 00:00:00</td>\n",
       "      <td>2015-11-18 00:00:00</td>\n",
       "      <td>2015-11-18 00:00:00</td>\n",
       "      <td>2015-12-15 00:00:00</td>\n",
       "    </tr>\n",
       "    <tr>\n",
       "      <th>UCR Category</th>\n",
       "      <td>NaN</td>\n",
       "      <td>240</td>\n",
       "      <td>23H</td>\n",
       "      <td>23H</td>\n",
       "      <td>NaN</td>\n",
       "    </tr>\n",
       "    <tr>\n",
       "      <th>Category Description</th>\n",
       "      <td>NaN</td>\n",
       "      <td>Auto Theft</td>\n",
       "      <td>Theft</td>\n",
       "      <td>Theft</td>\n",
       "      <td>NaN</td>\n",
       "    </tr>\n",
       "    <tr>\n",
       "      <th>X-coordinate</th>\n",
       "      <td>3.12195e+06</td>\n",
       "      <td>3.11434e+06</td>\n",
       "      <td>3.12631e+06</td>\n",
       "      <td>3.11312e+06</td>\n",
       "      <td>3.09683e+06</td>\n",
       "    </tr>\n",
       "    <tr>\n",
       "      <th>Y-coordinate</th>\n",
       "      <td>3.12195e+06</td>\n",
       "      <td>3.11434e+06</td>\n",
       "      <td>3.12631e+06</td>\n",
       "      <td>3.11312e+06</td>\n",
       "      <td>3.09683e+06</td>\n",
       "    </tr>\n",
       "    <tr>\n",
       "      <th>Latitude</th>\n",
       "      <td>30.2617</td>\n",
       "      <td>30.3827</td>\n",
       "      <td>30.3185</td>\n",
       "      <td>30.2653</td>\n",
       "      <td>30.2386</td>\n",
       "    </tr>\n",
       "    <tr>\n",
       "      <th>Longitude</th>\n",
       "      <td>-97.7188</td>\n",
       "      <td>-97.7397</td>\n",
       "      <td>-97.7034</td>\n",
       "      <td>-97.7466</td>\n",
       "      <td>-97.799</td>\n",
       "    </tr>\n",
       "    <tr>\n",
       "      <th>Location</th>\n",
       "      <td>(30.26167703, -97.71877525)</td>\n",
       "      <td>(30.38272339, -97.73965657)</td>\n",
       "      <td>(30.3185291, -97.7034222)</td>\n",
       "      <td>(30.26533133, -97.7466441)</td>\n",
       "      <td>(30.23855227, -97.79897319)</td>\n",
       "    </tr>\n",
       "  </tbody>\n",
       "</table>\n",
       "</div>"
      ],
      "text/plain": [
       "                                                       0  \\\n",
       "Incident Number                              20155006575   \n",
       "Highest Offense Description          FORGERY AND PASSING   \n",
       "Highest Offense Code                                1000   \n",
       "Family Violence                                        N   \n",
       "Occurred Date Time                   2015-02-11 15:29:00   \n",
       "Occurred Date                                 02/11/2015   \n",
       "Occurred Time                                       1529   \n",
       "Report Date Time                  02/15/2015 03:29:00 PM   \n",
       "Report Date                                   02/15/2015   \n",
       "Report Time                                         1529   \n",
       "Location Type                     BANKS / SAVINGS & LOAN   \n",
       "Address                                    2117 E 7TH ST   \n",
       "Zip Code                                           78702   \n",
       "Council District                                       3   \n",
       "APD Sector                                            CH   \n",
       "APD District                                           1   \n",
       "PRA                                                  419   \n",
       "Census Tract                                        9.02   \n",
       "Clearance Status                                       N   \n",
       "Clearance Date                       2015-02-17 00:00:00   \n",
       "UCR Category                                         NaN   \n",
       "Category Description                                 NaN   \n",
       "X-coordinate                                 3.12195e+06   \n",
       "Y-coordinate                                 3.12195e+06   \n",
       "Latitude                                         30.2617   \n",
       "Longitude                                       -97.7188   \n",
       "Location                     (30.26167703, -97.71877525)   \n",
       "\n",
       "                                                       1  \\\n",
       "Incident Number                              20151891608   \n",
       "Highest Offense Description                   AUTO THEFT   \n",
       "Highest Offense Code                                 700   \n",
       "Family Violence                                        N   \n",
       "Occurred Date Time                   2015-07-07 17:50:00   \n",
       "Occurred Date                                 07/07/2015   \n",
       "Occurred Time                                       1750   \n",
       "Report Date Time                  07/08/2015 10:01:00 PM   \n",
       "Report Date                                   07/08/2015   \n",
       "Report Time                                         2201   \n",
       "Location Type                      PARKING LOTS / GARAGE   \n",
       "Address                            9333 RESEARCH BLVD NB   \n",
       "Zip Code                                           78759   \n",
       "Council District                                       7   \n",
       "APD Sector                                            AD   \n",
       "APD District                                           1   \n",
       "PRA                                                  216   \n",
       "Census Tract                                       17.53   \n",
       "Clearance Status                                       N   \n",
       "Clearance Date                       2015-07-22 00:00:00   \n",
       "UCR Category                                         240   \n",
       "Category Description                          Auto Theft   \n",
       "X-coordinate                                 3.11434e+06   \n",
       "Y-coordinate                                 3.11434e+06   \n",
       "Latitude                                         30.3827   \n",
       "Longitude                                       -97.7397   \n",
       "Location                     (30.38272339, -97.73965657)   \n",
       "\n",
       "                                                     2  \\\n",
       "Incident Number                            20155050011   \n",
       "Highest Offense Description                      THEFT   \n",
       "Highest Offense Code                               600   \n",
       "Family Violence                                      N   \n",
       "Occurred Date Time                 2015-11-02 12:00:00   \n",
       "Occurred Date                               11/02/2015   \n",
       "Occurred Time                                     1200   \n",
       "Report Date Time                11/12/2015 04:27:00 PM   \n",
       "Report Date                                 11/12/2015   \n",
       "Report Time                                       1627   \n",
       "Location Type                         RESIDENCE / HOME   \n",
       "Address                                1071 CLAYTON LN   \n",
       "Zip Code                                         78723   \n",
       "Council District                                     4   \n",
       "APD Sector                                          ID   \n",
       "APD District                                         2   \n",
       "PRA                                                292   \n",
       "Census Tract                                     21.05   \n",
       "Clearance Status                                     N   \n",
       "Clearance Date                     2015-11-18 00:00:00   \n",
       "UCR Category                                       23H   \n",
       "Category Description                             Theft   \n",
       "X-coordinate                               3.12631e+06   \n",
       "Y-coordinate                               3.12631e+06   \n",
       "Latitude                                       30.3185   \n",
       "Longitude                                     -97.7034   \n",
       "Location                     (30.3185291, -97.7034222)   \n",
       "\n",
       "                                                      3  \\\n",
       "Incident Number                             20158004086   \n",
       "Highest Offense Description                       THEFT   \n",
       "Highest Offense Code                                600   \n",
       "Family Violence                                       N   \n",
       "Occurred Date Time                  2015-11-12 00:30:00   \n",
       "Occurred Date                                11/12/2015   \n",
       "Occurred Time                                        30   \n",
       "Report Date Time                 11/12/2015 03:18:00 AM   \n",
       "Report Date                                  11/12/2015   \n",
       "Report Time                                         318   \n",
       "Location Type                      HOTEL / MOTEL / ETC.   \n",
       "Address                                   200 LAVACA ST   \n",
       "Zip Code                                          78701   \n",
       "Council District                                      9   \n",
       "APD Sector                                           GE   \n",
       "APD District                                          4   \n",
       "PRA                                                 405   \n",
       "Census Tract                                         11   \n",
       "Clearance Status                                      N   \n",
       "Clearance Date                      2015-11-18 00:00:00   \n",
       "UCR Category                                        23H   \n",
       "Category Description                              Theft   \n",
       "X-coordinate                                3.11312e+06   \n",
       "Y-coordinate                                3.11312e+06   \n",
       "Latitude                                        30.2653   \n",
       "Longitude                                      -97.7466   \n",
       "Location                     (30.26533133, -97.7466441)   \n",
       "\n",
       "                                                               4  \n",
       "Incident Number                                      20155054719  \n",
       "Highest Offense Description                     DEBIT CARD ABUSE  \n",
       "Highest Offense Code                                        1108  \n",
       "Family Violence                                                N  \n",
       "Occurred Date Time                           2015-12-13 12:00:00  \n",
       "Occurred Date                                         12/13/2015  \n",
       "Occurred Time                                               1200  \n",
       "Report Date Time                          12/15/2015 02:28:00 PM  \n",
       "Report Date                                           12/15/2015  \n",
       "Report Time                                                 1428  \n",
       "Location Type                        DEPARTMENT / DISCOUNT STORE  \n",
       "Address                      4025 S CAPITAL OF TEXAS HWY SVRD NB  \n",
       "Zip Code                                                   78704  \n",
       "Council District                                               5  \n",
       "APD Sector                                                    DA  \n",
       "APD District                                                   3  \n",
       "PRA                                                          466  \n",
       "Census Tract                                               19.01  \n",
       "Clearance Status                                               N  \n",
       "Clearance Date                               2015-12-15 00:00:00  \n",
       "UCR Category                                                 NaN  \n",
       "Category Description                                         NaN  \n",
       "X-coordinate                                         3.09683e+06  \n",
       "Y-coordinate                                         3.09683e+06  \n",
       "Latitude                                                 30.2386  \n",
       "Longitude                                                -97.799  \n",
       "Location                             (30.23855227, -97.79897319)  "
      ]
     },
     "execution_count": 2,
     "metadata": {},
     "output_type": "execute_result"
    }
   ],
   "source": [
    "loc = '../../data/raw/crime_reports_austin.csv'\n",
    "df = pd.read_csv(loc)\n",
    "df['Occurred Date Time'] = pd.to_datetime(df['Occurred Date Time'])\n",
    "df['Clearance Date'] = pd.to_datetime(df['Clearance Date'])\n",
    "df.head().T"
   ]
  },
  {
   "cell_type": "code",
   "execution_count": 3,
   "metadata": {},
   "outputs": [
    {
     "data": {
      "text/plain": [
       "(116879, 27)"
      ]
     },
     "execution_count": 3,
     "metadata": {},
     "output_type": "execute_result"
    }
   ],
   "source": [
    "df.shape\n",
    "\n",
    "# woah"
   ]
  },
  {
   "cell_type": "code",
   "execution_count": 4,
   "metadata": {},
   "outputs": [
    {
     "data": {
      "text/html": [
       "<style  type=\"text/css\" >\n",
       "</style>  \n",
       "<table id=\"T_cb3438d6_d0db_11e8_a3a6_735c874d4d84\" > \n",
       "<thead>    <tr> \n",
       "        <th class=\"blank level0\" ></th> \n",
       "        <th class=\"col_heading level0 col0\" >nan</th> \n",
       "    </tr></thead> \n",
       "<tbody>    <tr> \n",
       "        <th id=\"T_cb3438d6_d0db_11e8_a3a6_735c874d4d84level0_row0\" class=\"row_heading level0 row0\" >Council District</th> \n",
       "        <td id=\"T_cb3438d6_d0db_11e8_a3a6_735c874d4d84row0_col0\" class=\"data row0 col0\" >1.1%</td> \n",
       "    </tr>    <tr> \n",
       "        <th id=\"T_cb3438d6_d0db_11e8_a3a6_735c874d4d84level0_row1\" class=\"row_heading level0 row1\" >Clearance Status</th> \n",
       "        <td id=\"T_cb3438d6_d0db_11e8_a3a6_735c874d4d84row1_col0\" class=\"data row1 col0\" >8.5%</td> \n",
       "    </tr>    <tr> \n",
       "        <th id=\"T_cb3438d6_d0db_11e8_a3a6_735c874d4d84level0_row2\" class=\"row_heading level0 row2\" >Clearance Date</th> \n",
       "        <td id=\"T_cb3438d6_d0db_11e8_a3a6_735c874d4d84row2_col0\" class=\"data row2 col0\" >8.5%</td> \n",
       "    </tr>    <tr> \n",
       "        <th id=\"T_cb3438d6_d0db_11e8_a3a6_735c874d4d84level0_row3\" class=\"row_heading level0 row3\" >UCR Category</th> \n",
       "        <td id=\"T_cb3438d6_d0db_11e8_a3a6_735c874d4d84row3_col0\" class=\"data row3 col0\" >67.0%</td> \n",
       "    </tr>    <tr> \n",
       "        <th id=\"T_cb3438d6_d0db_11e8_a3a6_735c874d4d84level0_row4\" class=\"row_heading level0 row4\" >Category Description</th> \n",
       "        <td id=\"T_cb3438d6_d0db_11e8_a3a6_735c874d4d84row4_col0\" class=\"data row4 col0\" >67.0%</td> \n",
       "    </tr>    <tr> \n",
       "        <th id=\"T_cb3438d6_d0db_11e8_a3a6_735c874d4d84level0_row5\" class=\"row_heading level0 row5\" >Latitude</th> \n",
       "        <td id=\"T_cb3438d6_d0db_11e8_a3a6_735c874d4d84row5_col0\" class=\"data row5 col0\" >2.1%</td> \n",
       "    </tr>    <tr> \n",
       "        <th id=\"T_cb3438d6_d0db_11e8_a3a6_735c874d4d84level0_row6\" class=\"row_heading level0 row6\" >Longitude</th> \n",
       "        <td id=\"T_cb3438d6_d0db_11e8_a3a6_735c874d4d84row6_col0\" class=\"data row6 col0\" >2.1%</td> \n",
       "    </tr>    <tr> \n",
       "        <th id=\"T_cb3438d6_d0db_11e8_a3a6_735c874d4d84level0_row7\" class=\"row_heading level0 row7\" >Location</th> \n",
       "        <td id=\"T_cb3438d6_d0db_11e8_a3a6_735c874d4d84row7_col0\" class=\"data row7 col0\" >2.1%</td> \n",
       "    </tr></tbody> \n",
       "</table> "
      ],
      "text/plain": [
       "<pandas.io.formats.style.Styler at 0x7fc26c49f860>"
      ]
     },
     "execution_count": 4,
     "metadata": {},
     "output_type": "execute_result"
    }
   ],
   "source": [
    "pct_nan = df.isnull().sum() / df.shape[0]\n",
    "pct_nan = pct_nan[pct_nan > 0.01]\n",
    "pct_nan.name = \"nan\"\n",
    "pct_nan.to_frame().style \\\n",
    "    .format(\"{:.1%}\")"
   ]
  },
  {
   "cell_type": "code",
   "execution_count": 5,
   "metadata": {},
   "outputs": [
    {
     "data": {
      "text/plain": [
       "116879"
      ]
     },
     "execution_count": 5,
     "metadata": {},
     "output_type": "execute_result"
    }
   ],
   "source": [
    "df['Incident Number'].nunique()"
   ]
  },
  {
   "cell_type": "code",
   "execution_count": 6,
   "metadata": {},
   "outputs": [
    {
     "data": {
      "text/plain": [
       "THEFT                             10730\n",
       "FAMILY DISTURBANCE                10409\n",
       "BURGLARY OF VEHICLE                9439\n",
       "CRIMINAL MISCHIEF                  5858\n",
       "THEFT BY SHOPLIFTING               4082\n",
       "DISTURBANCE - OTHER                3855\n",
       "ASSAULT W/INJURY-FAM/DATE VIOL     3822\n",
       "DWI                                3564\n",
       "BURGLARY OF RESIDENCE              3205\n",
       "WARRANT ARREST NON TRAFFIC         2823\n",
       "Name: Highest Offense Description, dtype: int64"
      ]
     },
     "execution_count": 6,
     "metadata": {},
     "output_type": "execute_result"
    }
   ],
   "source": [
    "df['Highest Offense Description'].value_counts().head(10)"
   ]
  },
  {
   "cell_type": "code",
   "execution_count": 7,
   "metadata": {
    "scrolled": true
   },
   "outputs": [
    {
     "data": {
      "text/plain": [
       "600     10730\n",
       "3400    10409\n",
       "601      9439\n",
       "900      6451\n",
       "1400     5858\n",
       "607      4082\n",
       "3401     3855\n",
       "2100     3564\n",
       "500      3242\n",
       "902      3070\n",
       "Name: Highest Offense Code, dtype: int64"
      ]
     },
     "execution_count": 7,
     "metadata": {},
     "output_type": "execute_result"
    }
   ],
   "source": [
    "df['Highest Offense Code'].value_counts().head(10)\n",
    "\n",
    "# almost the same as last one"
   ]
  },
  {
   "cell_type": "code",
   "execution_count": 8,
   "metadata": {},
   "outputs": [
    {
     "data": {
      "text/plain": [
       "ASSAULT W/INJURY-FAM/DATE VIOL    3822\n",
       "ASSAULT WITH INJURY               2629\n",
       "Name: Highest Offense Description, dtype: int64"
      ]
     },
     "execution_count": 8,
     "metadata": {},
     "output_type": "execute_result"
    }
   ],
   "source": [
    "df[df['Highest Offense Code'] == 900]['Highest Offense Description'].value_counts()"
   ]
  },
  {
   "cell_type": "code",
   "execution_count": 9,
   "metadata": {},
   "outputs": [
    {
     "data": {
      "text/plain": [
       "N    109568\n",
       "Y      7311\n",
       "Name: Family Violence, dtype: int64"
      ]
     },
     "execution_count": 9,
     "metadata": {},
     "output_type": "execute_result"
    }
   ],
   "source": [
    "df['Family Violence'].value_counts()"
   ]
  },
  {
   "cell_type": "code",
   "execution_count": 10,
   "metadata": {},
   "outputs": [
    {
     "data": {
      "text/plain": [
       "Timestamp('2003-01-01 00:01:00')"
      ]
     },
     "execution_count": 10,
     "metadata": {},
     "output_type": "execute_result"
    }
   ],
   "source": [
    "df['Occurred Date Time'].min()\n",
    "\n",
    "# ooooh"
   ]
  },
  {
   "cell_type": "code",
   "execution_count": 11,
   "metadata": {},
   "outputs": [
    {
     "data": {
      "text/plain": [
       "Timestamp('2015-12-31 23:59:00')"
      ]
     },
     "execution_count": 11,
     "metadata": {},
     "output_type": "execute_result"
    }
   ],
   "source": [
    "df['Occurred Date Time'].max()"
   ]
  },
  {
   "cell_type": "code",
   "execution_count": 12,
   "metadata": {},
   "outputs": [
    {
     "data": {
      "text/plain": [
       "RESIDENCE / HOME                      47699\n",
       "STREETS / HWY / ROAD / ALLEY          24661\n",
       "PARKING LOTS / GARAGE                 12304\n",
       "OTHER / UNKNOWN                        5988\n",
       "COMMERCIAL / OFFICE BUILDING           3890\n",
       "DEPARTMENT / DISCOUNT STORE            3260\n",
       "GROCERY / SUPERMARKET                  2207\n",
       "HOTEL / MOTEL / ETC.                   2109\n",
       "RESTAURANTS                            1740\n",
       "DRUG STORE / DR. OFFICE / HOSPITAL     1564\n",
       "Name: Location Type, dtype: int64"
      ]
     },
     "execution_count": 12,
     "metadata": {},
     "output_type": "execute_result"
    }
   ],
   "source": [
    "df['Location Type'].value_counts().head(10)"
   ]
  },
  {
   "cell_type": "code",
   "execution_count": 13,
   "metadata": {},
   "outputs": [
    {
     "data": {
      "text/plain": [
       "41507"
      ]
     },
     "execution_count": 13,
     "metadata": {},
     "output_type": "execute_result"
    }
   ],
   "source": [
    "df['Address'].nunique()"
   ]
  },
  {
   "cell_type": "code",
   "execution_count": 14,
   "metadata": {},
   "outputs": [
    {
     "data": {
      "text/plain": [
       "55"
      ]
     },
     "execution_count": 14,
     "metadata": {},
     "output_type": "execute_result"
    }
   ],
   "source": [
    "df['Zip Code'].nunique()"
   ]
  },
  {
   "cell_type": "code",
   "execution_count": 15,
   "metadata": {},
   "outputs": [
    {
     "data": {
      "text/plain": [
       "9.0     19005\n",
       "3.0     18001\n",
       "4.0     16522\n",
       "1.0     14082\n",
       "2.0     12241\n",
       "7.0     10868\n",
       "5.0      9359\n",
       "6.0      5825\n",
       "10.0     4907\n",
       "8.0      4805\n",
       "Name: Council District, dtype: int64"
      ]
     },
     "execution_count": 15,
     "metadata": {},
     "output_type": "execute_result"
    }
   ],
   "source": [
    "df['Council District'].value_counts()"
   ]
  },
  {
   "cell_type": "code",
   "execution_count": 16,
   "metadata": {},
   "outputs": [
    {
     "data": {
      "text/plain": [
       "N    74884\n",
       "C    27962\n",
       "O     4092\n",
       "Name: Clearance Status, dtype: int64"
      ]
     },
     "execution_count": 16,
     "metadata": {},
     "output_type": "execute_result"
    }
   ],
   "source": [
    "df['Clearance Status'].value_counts()"
   ]
  },
  {
   "cell_type": "code",
   "execution_count": 17,
   "metadata": {},
   "outputs": [
    {
     "data": {
      "text/plain": [
       "Timestamp('2015-01-01 00:00:00')"
      ]
     },
     "execution_count": 17,
     "metadata": {},
     "output_type": "execute_result"
    }
   ],
   "source": [
    "df['Clearance Date'].min()"
   ]
  },
  {
   "cell_type": "code",
   "execution_count": 18,
   "metadata": {},
   "outputs": [
    {
     "data": {
      "text/plain": [
       "Timestamp('2018-09-25 00:00:00')"
      ]
     },
     "execution_count": 18,
     "metadata": {},
     "output_type": "execute_result"
    }
   ],
   "source": [
    "df['Clearance Date'].max()\n",
    "\n",
    "# things are happening"
   ]
  },
  {
   "cell_type": "code",
   "execution_count": 19,
   "metadata": {},
   "outputs": [
    {
     "data": {
      "text/plain": [
       "23H    12559\n",
       "23F    10028\n",
       "220     4890\n",
       "23C     4082\n",
       "240     2004\n",
       "13A     1860\n",
       "120      889\n",
       "23G      698\n",
       "11A      539\n",
       "23A      438\n",
       "23D      294\n",
       "11C      162\n",
       "23E       89\n",
       "09A       24\n",
       "23B        8\n",
       "11B        5\n",
       "Name: UCR Category, dtype: int64"
      ]
     },
     "execution_count": 19,
     "metadata": {},
     "output_type": "execute_result"
    }
   ],
   "source": [
    "# Uniform Crime Report\n",
    "df['UCR Category'].value_counts()"
   ]
  },
  {
   "cell_type": "code",
   "execution_count": 20,
   "metadata": {},
   "outputs": [
    {
     "data": {
      "text/plain": [
       "Theft                 28196\n",
       "Burglary               4890\n",
       "Auto Theft             2004\n",
       "Aggravated Assault     1860\n",
       "Robbery                 889\n",
       "Rape                    706\n",
       "Murder                   24\n",
       "Name: Category Description, dtype: int64"
      ]
     },
     "execution_count": 20,
     "metadata": {},
     "output_type": "execute_result"
    }
   ],
   "source": [
    "df['Category Description'].value_counts()"
   ]
  },
  {
   "cell_type": "code",
   "execution_count": 21,
   "metadata": {},
   "outputs": [
    {
     "data": {
      "text/plain": [
       "115978"
      ]
     },
     "execution_count": 21,
     "metadata": {},
     "output_type": "execute_result"
    }
   ],
   "source": [
    "# various repeated localities, maybe\n",
    "# or quantized reporting\n",
    "df['X-coordinate'].notnull().sum()"
   ]
  },
  {
   "cell_type": "code",
   "execution_count": 22,
   "metadata": {},
   "outputs": [
    {
     "data": {
      "text/plain": [
       "27989"
      ]
     },
     "execution_count": 22,
     "metadata": {},
     "output_type": "execute_result"
    }
   ],
   "source": [
    "df['X-coordinate'].nunique()"
   ]
  },
  {
   "cell_type": "code",
   "execution_count": 23,
   "metadata": {},
   "outputs": [
    {
     "data": {
      "text/plain": [
       "27989"
      ]
     },
     "execution_count": 23,
     "metadata": {},
     "output_type": "execute_result"
    }
   ],
   "source": [
    "df['Y-coordinate'].nunique()"
   ]
  },
  {
   "cell_type": "code",
   "execution_count": 24,
   "metadata": {},
   "outputs": [
    {
     "data": {
      "text/plain": [
       "37929"
      ]
     },
     "execution_count": 24,
     "metadata": {},
     "output_type": "execute_result"
    }
   ],
   "source": [
    "df['Latitude'].nunique()"
   ]
  },
  {
   "cell_type": "code",
   "execution_count": 25,
   "metadata": {},
   "outputs": [
    {
     "data": {
      "text/plain": [
       "37914"
      ]
     },
     "execution_count": 25,
     "metadata": {},
     "output_type": "execute_result"
    }
   ],
   "source": [
    "df['Longitude'].nunique()"
   ]
  },
  {
   "cell_type": "code",
   "execution_count": 28,
   "metadata": {},
   "outputs": [
    {
     "data": {
      "text/plain": [
       "'(30.26167703, -97.71877525)'"
      ]
     },
     "execution_count": 28,
     "metadata": {},
     "output_type": "execute_result"
    }
   ],
   "source": [
    "df['Location'][0]  # location is a lat/lon string"
   ]
  },
  {
   "cell_type": "code",
   "execution_count": 26,
   "metadata": {
    "scrolled": true
   },
   "outputs": [
    {
     "data": {
      "text/html": [
       "<div>\n",
       "<style scoped>\n",
       "    .dataframe tbody tr th:only-of-type {\n",
       "        vertical-align: middle;\n",
       "    }\n",
       "\n",
       "    .dataframe tbody tr th {\n",
       "        vertical-align: top;\n",
       "    }\n",
       "\n",
       "    .dataframe thead th {\n",
       "        text-align: right;\n",
       "    }\n",
       "</style>\n",
       "<table border=\"1\" class=\"dataframe\">\n",
       "  <thead>\n",
       "    <tr style=\"text-align: right;\">\n",
       "      <th></th>\n",
       "      <th>0</th>\n",
       "      <th>1</th>\n",
       "      <th>2</th>\n",
       "      <th>3</th>\n",
       "      <th>4</th>\n",
       "    </tr>\n",
       "  </thead>\n",
       "  <tbody>\n",
       "    <tr>\n",
       "      <th>Incident Number</th>\n",
       "      <td>20155006575</td>\n",
       "      <td>20151891608</td>\n",
       "      <td>20155050011</td>\n",
       "      <td>20158004086</td>\n",
       "      <td>20155054719</td>\n",
       "    </tr>\n",
       "    <tr>\n",
       "      <th>Highest Offense Description</th>\n",
       "      <td>FORGERY AND PASSING</td>\n",
       "      <td>AUTO THEFT</td>\n",
       "      <td>THEFT</td>\n",
       "      <td>THEFT</td>\n",
       "      <td>DEBIT CARD ABUSE</td>\n",
       "    </tr>\n",
       "    <tr>\n",
       "      <th>Highest Offense Code</th>\n",
       "      <td>1000</td>\n",
       "      <td>700</td>\n",
       "      <td>600</td>\n",
       "      <td>600</td>\n",
       "      <td>1108</td>\n",
       "    </tr>\n",
       "    <tr>\n",
       "      <th>Family Violence</th>\n",
       "      <td>N</td>\n",
       "      <td>N</td>\n",
       "      <td>N</td>\n",
       "      <td>N</td>\n",
       "      <td>N</td>\n",
       "    </tr>\n",
       "    <tr>\n",
       "      <th>Occurred Date Time</th>\n",
       "      <td>2015-02-11 15:29:00</td>\n",
       "      <td>2015-07-07 17:50:00</td>\n",
       "      <td>2015-11-02 12:00:00</td>\n",
       "      <td>2015-11-12 00:30:00</td>\n",
       "      <td>2015-12-13 12:00:00</td>\n",
       "    </tr>\n",
       "    <tr>\n",
       "      <th>Occurred Date</th>\n",
       "      <td>02/11/2015</td>\n",
       "      <td>07/07/2015</td>\n",
       "      <td>11/02/2015</td>\n",
       "      <td>11/12/2015</td>\n",
       "      <td>12/13/2015</td>\n",
       "    </tr>\n",
       "    <tr>\n",
       "      <th>Occurred Time</th>\n",
       "      <td>1529</td>\n",
       "      <td>1750</td>\n",
       "      <td>1200</td>\n",
       "      <td>30</td>\n",
       "      <td>1200</td>\n",
       "    </tr>\n",
       "    <tr>\n",
       "      <th>Report Date Time</th>\n",
       "      <td>02/15/2015 03:29:00 PM</td>\n",
       "      <td>07/08/2015 10:01:00 PM</td>\n",
       "      <td>11/12/2015 04:27:00 PM</td>\n",
       "      <td>11/12/2015 03:18:00 AM</td>\n",
       "      <td>12/15/2015 02:28:00 PM</td>\n",
       "    </tr>\n",
       "    <tr>\n",
       "      <th>Report Date</th>\n",
       "      <td>02/15/2015</td>\n",
       "      <td>07/08/2015</td>\n",
       "      <td>11/12/2015</td>\n",
       "      <td>11/12/2015</td>\n",
       "      <td>12/15/2015</td>\n",
       "    </tr>\n",
       "    <tr>\n",
       "      <th>Report Time</th>\n",
       "      <td>1529</td>\n",
       "      <td>2201</td>\n",
       "      <td>1627</td>\n",
       "      <td>318</td>\n",
       "      <td>1428</td>\n",
       "    </tr>\n",
       "    <tr>\n",
       "      <th>Location Type</th>\n",
       "      <td>BANKS / SAVINGS &amp; LOAN</td>\n",
       "      <td>PARKING LOTS / GARAGE</td>\n",
       "      <td>RESIDENCE / HOME</td>\n",
       "      <td>HOTEL / MOTEL / ETC.</td>\n",
       "      <td>DEPARTMENT / DISCOUNT STORE</td>\n",
       "    </tr>\n",
       "    <tr>\n",
       "      <th>Address</th>\n",
       "      <td>2117 E 7TH ST</td>\n",
       "      <td>9333 RESEARCH BLVD NB</td>\n",
       "      <td>1071 CLAYTON LN</td>\n",
       "      <td>200 LAVACA ST</td>\n",
       "      <td>4025 S CAPITAL OF TEXAS HWY SVRD NB</td>\n",
       "    </tr>\n",
       "    <tr>\n",
       "      <th>Zip Code</th>\n",
       "      <td>78702</td>\n",
       "      <td>78759</td>\n",
       "      <td>78723</td>\n",
       "      <td>78701</td>\n",
       "      <td>78704</td>\n",
       "    </tr>\n",
       "    <tr>\n",
       "      <th>Council District</th>\n",
       "      <td>3</td>\n",
       "      <td>7</td>\n",
       "      <td>4</td>\n",
       "      <td>9</td>\n",
       "      <td>5</td>\n",
       "    </tr>\n",
       "    <tr>\n",
       "      <th>APD Sector</th>\n",
       "      <td>CH</td>\n",
       "      <td>AD</td>\n",
       "      <td>ID</td>\n",
       "      <td>GE</td>\n",
       "      <td>DA</td>\n",
       "    </tr>\n",
       "    <tr>\n",
       "      <th>APD District</th>\n",
       "      <td>1</td>\n",
       "      <td>1</td>\n",
       "      <td>2</td>\n",
       "      <td>4</td>\n",
       "      <td>3</td>\n",
       "    </tr>\n",
       "    <tr>\n",
       "      <th>PRA</th>\n",
       "      <td>419</td>\n",
       "      <td>216</td>\n",
       "      <td>292</td>\n",
       "      <td>405</td>\n",
       "      <td>466</td>\n",
       "    </tr>\n",
       "    <tr>\n",
       "      <th>Census Tract</th>\n",
       "      <td>9.02</td>\n",
       "      <td>17.53</td>\n",
       "      <td>21.05</td>\n",
       "      <td>11</td>\n",
       "      <td>19.01</td>\n",
       "    </tr>\n",
       "    <tr>\n",
       "      <th>Clearance Status</th>\n",
       "      <td>N</td>\n",
       "      <td>N</td>\n",
       "      <td>N</td>\n",
       "      <td>N</td>\n",
       "      <td>N</td>\n",
       "    </tr>\n",
       "    <tr>\n",
       "      <th>Clearance Date</th>\n",
       "      <td>2015-02-17 00:00:00</td>\n",
       "      <td>2015-07-22 00:00:00</td>\n",
       "      <td>2015-11-18 00:00:00</td>\n",
       "      <td>2015-11-18 00:00:00</td>\n",
       "      <td>2015-12-15 00:00:00</td>\n",
       "    </tr>\n",
       "    <tr>\n",
       "      <th>UCR Category</th>\n",
       "      <td>NaN</td>\n",
       "      <td>240</td>\n",
       "      <td>23H</td>\n",
       "      <td>23H</td>\n",
       "      <td>NaN</td>\n",
       "    </tr>\n",
       "    <tr>\n",
       "      <th>Category Description</th>\n",
       "      <td>NaN</td>\n",
       "      <td>Auto Theft</td>\n",
       "      <td>Theft</td>\n",
       "      <td>Theft</td>\n",
       "      <td>NaN</td>\n",
       "    </tr>\n",
       "    <tr>\n",
       "      <th>X-coordinate</th>\n",
       "      <td>3.12195e+06</td>\n",
       "      <td>3.11434e+06</td>\n",
       "      <td>3.12631e+06</td>\n",
       "      <td>3.11312e+06</td>\n",
       "      <td>3.09683e+06</td>\n",
       "    </tr>\n",
       "    <tr>\n",
       "      <th>Y-coordinate</th>\n",
       "      <td>3.12195e+06</td>\n",
       "      <td>3.11434e+06</td>\n",
       "      <td>3.12631e+06</td>\n",
       "      <td>3.11312e+06</td>\n",
       "      <td>3.09683e+06</td>\n",
       "    </tr>\n",
       "    <tr>\n",
       "      <th>Latitude</th>\n",
       "      <td>30.2617</td>\n",
       "      <td>30.3827</td>\n",
       "      <td>30.3185</td>\n",
       "      <td>30.2653</td>\n",
       "      <td>30.2386</td>\n",
       "    </tr>\n",
       "    <tr>\n",
       "      <th>Longitude</th>\n",
       "      <td>-97.7188</td>\n",
       "      <td>-97.7397</td>\n",
       "      <td>-97.7034</td>\n",
       "      <td>-97.7466</td>\n",
       "      <td>-97.799</td>\n",
       "    </tr>\n",
       "    <tr>\n",
       "      <th>Location</th>\n",
       "      <td>(30.26167703, -97.71877525)</td>\n",
       "      <td>(30.38272339, -97.73965657)</td>\n",
       "      <td>(30.3185291, -97.7034222)</td>\n",
       "      <td>(30.26533133, -97.7466441)</td>\n",
       "      <td>(30.23855227, -97.79897319)</td>\n",
       "    </tr>\n",
       "  </tbody>\n",
       "</table>\n",
       "</div>"
      ],
      "text/plain": [
       "                                                       0  \\\n",
       "Incident Number                              20155006575   \n",
       "Highest Offense Description          FORGERY AND PASSING   \n",
       "Highest Offense Code                                1000   \n",
       "Family Violence                                        N   \n",
       "Occurred Date Time                   2015-02-11 15:29:00   \n",
       "Occurred Date                                 02/11/2015   \n",
       "Occurred Time                                       1529   \n",
       "Report Date Time                  02/15/2015 03:29:00 PM   \n",
       "Report Date                                   02/15/2015   \n",
       "Report Time                                         1529   \n",
       "Location Type                     BANKS / SAVINGS & LOAN   \n",
       "Address                                    2117 E 7TH ST   \n",
       "Zip Code                                           78702   \n",
       "Council District                                       3   \n",
       "APD Sector                                            CH   \n",
       "APD District                                           1   \n",
       "PRA                                                  419   \n",
       "Census Tract                                        9.02   \n",
       "Clearance Status                                       N   \n",
       "Clearance Date                       2015-02-17 00:00:00   \n",
       "UCR Category                                         NaN   \n",
       "Category Description                                 NaN   \n",
       "X-coordinate                                 3.12195e+06   \n",
       "Y-coordinate                                 3.12195e+06   \n",
       "Latitude                                         30.2617   \n",
       "Longitude                                       -97.7188   \n",
       "Location                     (30.26167703, -97.71877525)   \n",
       "\n",
       "                                                       1  \\\n",
       "Incident Number                              20151891608   \n",
       "Highest Offense Description                   AUTO THEFT   \n",
       "Highest Offense Code                                 700   \n",
       "Family Violence                                        N   \n",
       "Occurred Date Time                   2015-07-07 17:50:00   \n",
       "Occurred Date                                 07/07/2015   \n",
       "Occurred Time                                       1750   \n",
       "Report Date Time                  07/08/2015 10:01:00 PM   \n",
       "Report Date                                   07/08/2015   \n",
       "Report Time                                         2201   \n",
       "Location Type                      PARKING LOTS / GARAGE   \n",
       "Address                            9333 RESEARCH BLVD NB   \n",
       "Zip Code                                           78759   \n",
       "Council District                                       7   \n",
       "APD Sector                                            AD   \n",
       "APD District                                           1   \n",
       "PRA                                                  216   \n",
       "Census Tract                                       17.53   \n",
       "Clearance Status                                       N   \n",
       "Clearance Date                       2015-07-22 00:00:00   \n",
       "UCR Category                                         240   \n",
       "Category Description                          Auto Theft   \n",
       "X-coordinate                                 3.11434e+06   \n",
       "Y-coordinate                                 3.11434e+06   \n",
       "Latitude                                         30.3827   \n",
       "Longitude                                       -97.7397   \n",
       "Location                     (30.38272339, -97.73965657)   \n",
       "\n",
       "                                                     2  \\\n",
       "Incident Number                            20155050011   \n",
       "Highest Offense Description                      THEFT   \n",
       "Highest Offense Code                               600   \n",
       "Family Violence                                      N   \n",
       "Occurred Date Time                 2015-11-02 12:00:00   \n",
       "Occurred Date                               11/02/2015   \n",
       "Occurred Time                                     1200   \n",
       "Report Date Time                11/12/2015 04:27:00 PM   \n",
       "Report Date                                 11/12/2015   \n",
       "Report Time                                       1627   \n",
       "Location Type                         RESIDENCE / HOME   \n",
       "Address                                1071 CLAYTON LN   \n",
       "Zip Code                                         78723   \n",
       "Council District                                     4   \n",
       "APD Sector                                          ID   \n",
       "APD District                                         2   \n",
       "PRA                                                292   \n",
       "Census Tract                                     21.05   \n",
       "Clearance Status                                     N   \n",
       "Clearance Date                     2015-11-18 00:00:00   \n",
       "UCR Category                                       23H   \n",
       "Category Description                             Theft   \n",
       "X-coordinate                               3.12631e+06   \n",
       "Y-coordinate                               3.12631e+06   \n",
       "Latitude                                       30.3185   \n",
       "Longitude                                     -97.7034   \n",
       "Location                     (30.3185291, -97.7034222)   \n",
       "\n",
       "                                                      3  \\\n",
       "Incident Number                             20158004086   \n",
       "Highest Offense Description                       THEFT   \n",
       "Highest Offense Code                                600   \n",
       "Family Violence                                       N   \n",
       "Occurred Date Time                  2015-11-12 00:30:00   \n",
       "Occurred Date                                11/12/2015   \n",
       "Occurred Time                                        30   \n",
       "Report Date Time                 11/12/2015 03:18:00 AM   \n",
       "Report Date                                  11/12/2015   \n",
       "Report Time                                         318   \n",
       "Location Type                      HOTEL / MOTEL / ETC.   \n",
       "Address                                   200 LAVACA ST   \n",
       "Zip Code                                          78701   \n",
       "Council District                                      9   \n",
       "APD Sector                                           GE   \n",
       "APD District                                          4   \n",
       "PRA                                                 405   \n",
       "Census Tract                                         11   \n",
       "Clearance Status                                      N   \n",
       "Clearance Date                      2015-11-18 00:00:00   \n",
       "UCR Category                                        23H   \n",
       "Category Description                              Theft   \n",
       "X-coordinate                                3.11312e+06   \n",
       "Y-coordinate                                3.11312e+06   \n",
       "Latitude                                        30.2653   \n",
       "Longitude                                      -97.7466   \n",
       "Location                     (30.26533133, -97.7466441)   \n",
       "\n",
       "                                                               4  \n",
       "Incident Number                                      20155054719  \n",
       "Highest Offense Description                     DEBIT CARD ABUSE  \n",
       "Highest Offense Code                                        1108  \n",
       "Family Violence                                                N  \n",
       "Occurred Date Time                           2015-12-13 12:00:00  \n",
       "Occurred Date                                         12/13/2015  \n",
       "Occurred Time                                               1200  \n",
       "Report Date Time                          12/15/2015 02:28:00 PM  \n",
       "Report Date                                           12/15/2015  \n",
       "Report Time                                                 1428  \n",
       "Location Type                        DEPARTMENT / DISCOUNT STORE  \n",
       "Address                      4025 S CAPITAL OF TEXAS HWY SVRD NB  \n",
       "Zip Code                                                   78704  \n",
       "Council District                                               5  \n",
       "APD Sector                                                    DA  \n",
       "APD District                                                   3  \n",
       "PRA                                                          466  \n",
       "Census Tract                                               19.01  \n",
       "Clearance Status                                               N  \n",
       "Clearance Date                               2015-12-15 00:00:00  \n",
       "UCR Category                                                 NaN  \n",
       "Category Description                                         NaN  \n",
       "X-coordinate                                         3.09683e+06  \n",
       "Y-coordinate                                         3.09683e+06  \n",
       "Latitude                                                 30.2386  \n",
       "Longitude                                                -97.799  \n",
       "Location                             (30.23855227, -97.79897319)  "
      ]
     },
     "execution_count": 26,
     "metadata": {},
     "output_type": "execute_result"
    }
   ],
   "source": [
    "df.head().T"
   ]
  },
  {
   "cell_type": "markdown",
   "metadata": {},
   "source": [
    "There's no racial information :(\n",
    "\n",
    "We will focus on the spatial information."
   ]
  }
 ],
 "metadata": {
  "kernelspec": {
   "display_name": "Python 3",
   "language": "python",
   "name": "python3"
  },
  "language_info": {
   "codemirror_mode": {
    "name": "ipython",
    "version": 3
   },
   "file_extension": ".py",
   "mimetype": "text/x-python",
   "name": "python",
   "nbconvert_exporter": "python",
   "pygments_lexer": "ipython3",
   "version": "3.7.0"
  }
 },
 "nbformat": 4,
 "nbformat_minor": 2
}
