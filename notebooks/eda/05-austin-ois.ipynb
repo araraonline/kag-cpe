{
 "cells": [
  {
   "cell_type": "markdown",
   "metadata": {},
   "source": [
    "# Austin OIS\n",
    "\n",
    "OIS = Officer Involved Shootings\n",
    "\n",
    "This file is a quick EDA of the OIS file from Austin."
   ]
  },
  {
   "cell_type": "code",
   "execution_count": 1,
   "metadata": {},
   "outputs": [],
   "source": [
    "import pandas as pd"
   ]
  },
  {
   "cell_type": "code",
   "execution_count": 10,
   "metadata": {},
   "outputs": [
    {
     "data": {
      "text/html": [
       "<div>\n",
       "<style scoped>\n",
       "    .dataframe tbody tr th:only-of-type {\n",
       "        vertical-align: middle;\n",
       "    }\n",
       "\n",
       "    .dataframe tbody tr th {\n",
       "        vertical-align: top;\n",
       "    }\n",
       "\n",
       "    .dataframe thead th {\n",
       "        text-align: right;\n",
       "    }\n",
       "</style>\n",
       "<table border=\"1\" class=\"dataframe\">\n",
       "  <thead>\n",
       "    <tr style=\"text-align: right;\">\n",
       "      <th></th>\n",
       "      <th>0</th>\n",
       "      <th>1</th>\n",
       "      <th>2</th>\n",
       "      <th>3</th>\n",
       "      <th>4</th>\n",
       "    </tr>\n",
       "  </thead>\n",
       "  <tbody>\n",
       "    <tr>\n",
       "      <th>Case #</th>\n",
       "      <td>16-1660189\\n16-5024527</td>\n",
       "      <td>13-5033792\\n13-2071392</td>\n",
       "      <td>16-2900369\\n16-5046503\\n16-5042860</td>\n",
       "      <td>11-5028251\\n11-1502313</td>\n",
       "      <td>17-5049741\\n17-3490320</td>\n",
       "    </tr>\n",
       "    <tr>\n",
       "      <th>Date</th>\n",
       "      <td>2016-06-14 00:00:00</td>\n",
       "      <td>2013-07-26 00:00:00</td>\n",
       "      <td>2016-10-16 00:00:00</td>\n",
       "      <td>2011-05-30 00:00:00</td>\n",
       "      <td>2017-12-15 00:00:00</td>\n",
       "    </tr>\n",
       "    <tr>\n",
       "      <th>Subject Race/Ethnicity</th>\n",
       "      <td>Hispanic</td>\n",
       "      <td>Black</td>\n",
       "      <td>White</td>\n",
       "      <td>Black</td>\n",
       "      <td>Black</td>\n",
       "    </tr>\n",
       "    <tr>\n",
       "      <th>Subject Gender</th>\n",
       "      <td>Male</td>\n",
       "      <td>Male</td>\n",
       "      <td>Female</td>\n",
       "      <td>Male</td>\n",
       "      <td>Male</td>\n",
       "    </tr>\n",
       "    <tr>\n",
       "      <th>Subject Injuries</th>\n",
       "      <td>shot (injured only)</td>\n",
       "      <td>killed</td>\n",
       "      <td>killed</td>\n",
       "      <td>killed</td>\n",
       "      <td>shot (injured only)</td>\n",
       "    </tr>\n",
       "    <tr>\n",
       "      <th>Location 1</th>\n",
       "      <td>6000 block Cougar Dr</td>\n",
       "      <td>W 35th St/W 34th St (3500 CRAWFORD AVE)</td>\n",
       "      <td>744 W William Cannon Dr\\n(30.197953, -97.789496)</td>\n",
       "      <td>800 Block E 8th St\\n(39.40884, -81.431641)</td>\n",
       "      <td>5007 Lynnwood St\\n(30.322115, -97.740477)</td>\n",
       "    </tr>\n",
       "  </tbody>\n",
       "</table>\n",
       "</div>"
      ],
      "text/plain": [
       "                                             0  \\\n",
       "Case #                  16-1660189\\n16-5024527   \n",
       "Date                       2016-06-14 00:00:00   \n",
       "Subject Race/Ethnicity                Hispanic   \n",
       "Subject Gender                            Male   \n",
       "Subject Injuries           shot (injured only)   \n",
       "Location 1                6000 block Cougar Dr   \n",
       "\n",
       "                                                              1  \\\n",
       "Case #                                   13-5033792\\n13-2071392   \n",
       "Date                                        2013-07-26 00:00:00   \n",
       "Subject Race/Ethnicity                                    Black   \n",
       "Subject Gender                                             Male   \n",
       "Subject Injuries                                         killed   \n",
       "Location 1              W 35th St/W 34th St (3500 CRAWFORD AVE)   \n",
       "\n",
       "                                                                       2  \\\n",
       "Case #                                16-2900369\\n16-5046503\\n16-5042860   \n",
       "Date                                                 2016-10-16 00:00:00   \n",
       "Subject Race/Ethnicity                                             White   \n",
       "Subject Gender                                                    Female   \n",
       "Subject Injuries                                                  killed   \n",
       "Location 1              744 W William Cannon Dr\\n(30.197953, -97.789496)   \n",
       "\n",
       "                                                                 3  \\\n",
       "Case #                                      11-5028251\\n11-1502313   \n",
       "Date                                           2011-05-30 00:00:00   \n",
       "Subject Race/Ethnicity                                       Black   \n",
       "Subject Gender                                                Male   \n",
       "Subject Injuries                                            killed   \n",
       "Location 1              800 Block E 8th St\\n(39.40884, -81.431641)   \n",
       "\n",
       "                                                                4  \n",
       "Case #                                     17-5049741\\n17-3490320  \n",
       "Date                                          2017-12-15 00:00:00  \n",
       "Subject Race/Ethnicity                                      Black  \n",
       "Subject Gender                                               Male  \n",
       "Subject Injuries                              shot (injured only)  \n",
       "Location 1              5007 Lynnwood St\\n(30.322115, -97.740477)  "
      ]
     },
     "execution_count": 10,
     "metadata": {},
     "output_type": "execute_result"
    }
   ],
   "source": [
    "df = pd.read_csv('../../data/raw/ois_austin.csv')\n",
    "df['Date'] = pd.to_datetime(df['Date'])\n",
    "df.head().T"
   ]
  },
  {
   "cell_type": "code",
   "execution_count": 12,
   "metadata": {},
   "outputs": [
    {
     "data": {
      "text/plain": [
       "(59, 6)"
      ]
     },
     "execution_count": 12,
     "metadata": {},
     "output_type": "execute_result"
    }
   ],
   "source": [
    "df.shape"
   ]
  },
  {
   "cell_type": "code",
   "execution_count": 13,
   "metadata": {},
   "outputs": [
    {
     "data": {
      "text/plain": [
       "Case #                    0\n",
       "Date                      0\n",
       "Subject Race/Ethnicity    0\n",
       "Subject Gender            0\n",
       "Subject Injuries          0\n",
       "Location 1                0\n",
       "dtype: int64"
      ]
     },
     "execution_count": 13,
     "metadata": {},
     "output_type": "execute_result"
    }
   ],
   "source": [
    "df.isnull().sum()"
   ]
  },
  {
   "cell_type": "code",
   "execution_count": 11,
   "metadata": {},
   "outputs": [
    {
     "data": {
      "text/plain": [
       "57"
      ]
     },
     "execution_count": 11,
     "metadata": {},
     "output_type": "execute_result"
    }
   ],
   "source": [
    "df['Case #'].nunique()"
   ]
  },
  {
   "cell_type": "code",
   "execution_count": 14,
   "metadata": {},
   "outputs": [
    {
     "data": {
      "text/plain": [
       "Timestamp('2008-11-06 00:00:00')"
      ]
     },
     "execution_count": 14,
     "metadata": {},
     "output_type": "execute_result"
    }
   ],
   "source": [
    "df['Date'].min()"
   ]
  },
  {
   "cell_type": "code",
   "execution_count": 15,
   "metadata": {},
   "outputs": [
    {
     "data": {
      "text/plain": [
       "Timestamp('2017-12-17 00:00:00')"
      ]
     },
     "execution_count": 15,
     "metadata": {},
     "output_type": "execute_result"
    }
   ],
   "source": [
    "df['Date'].max()"
   ]
  },
  {
   "cell_type": "code",
   "execution_count": 16,
   "metadata": {},
   "outputs": [
    {
     "data": {
      "text/plain": [
       "White       28\n",
       "Black       18\n",
       "Hispanic    12\n",
       "Asian        1\n",
       "Name: Subject Race/Ethnicity, dtype: int64"
      ]
     },
     "execution_count": 16,
     "metadata": {},
     "output_type": "execute_result"
    }
   ],
   "source": [
    "df['Subject Race/Ethnicity'].value_counts()"
   ]
  },
  {
   "cell_type": "code",
   "execution_count": 17,
   "metadata": {},
   "outputs": [
    {
     "data": {
      "text/plain": [
       "Male      55\n",
       "Female     4\n",
       "Name: Subject Gender, dtype: int64"
      ]
     },
     "execution_count": 17,
     "metadata": {},
     "output_type": "execute_result"
    }
   ],
   "source": [
    "df['Subject Gender'].value_counts()"
   ]
  },
  {
   "cell_type": "code",
   "execution_count": 25,
   "metadata": {},
   "outputs": [
    {
     "data": {
      "text/plain": [
       "killed                     32\n",
       "shot (injured only)        14\n",
       "None                       10\n",
       "injured - incidentally      2\n",
       "killed (self-inflicted)     1\n",
       "Name: Subject Injuries, dtype: int64"
      ]
     },
     "execution_count": 25,
     "metadata": {},
     "output_type": "execute_result"
    }
   ],
   "source": [
    "df['Subject Injuries'].value_counts()\n",
    "# 'None' here is literal"
   ]
  },
  {
   "cell_type": "code",
   "execution_count": 26,
   "metadata": {},
   "outputs": [
    {
     "data": {
      "text/plain": [
       "56"
      ]
     },
     "execution_count": 26,
     "metadata": {},
     "output_type": "execute_result"
    }
   ],
   "source": [
    "df['Location 1'].nunique()"
   ]
  },
  {
   "cell_type": "code",
   "execution_count": 32,
   "metadata": {},
   "outputs": [
    {
     "data": {
      "text/plain": [
       "0                                6000 block Cougar Dr\n",
       "1             W 35th St/W 34th St (3500 CRAWFORD AVE)\n",
       "2    744 W William Cannon Dr\\n(30.197953, -97.789496)\n",
       "3          800 Block E 8th St\\n(39.40884, -81.431641)\n",
       "4           5007 Lynnwood St\\n(30.322115, -97.740477)\n",
       "Name: Location 1, dtype: object"
      ]
     },
     "execution_count": 32,
     "metadata": {},
     "output_type": "execute_result"
    }
   ],
   "source": [
    "df['Location 1'].head()\n",
    "# most have coordinates, though"
   ]
  },
  {
   "cell_type": "code",
   "execution_count": 35,
   "metadata": {},
   "outputs": [
    {
     "data": {
      "text/plain": [
       "0     False\n",
       "1     False\n",
       "2      True\n",
       "3      True\n",
       "4      True\n",
       "5      True\n",
       "6      True\n",
       "7      True\n",
       "8      True\n",
       "9      True\n",
       "10     True\n",
       "11     True\n",
       "12     True\n",
       "13     True\n",
       "14     True\n",
       "15     True\n",
       "16     True\n",
       "17     True\n",
       "18     True\n",
       "19     True\n",
       "20     True\n",
       "21     True\n",
       "22     True\n",
       "23     True\n",
       "24     True\n",
       "25     True\n",
       "26     True\n",
       "27     True\n",
       "28     True\n",
       "29     True\n",
       "30     True\n",
       "31     True\n",
       "32     True\n",
       "33     True\n",
       "34     True\n",
       "35     True\n",
       "36     True\n",
       "37     True\n",
       "38     True\n",
       "39     True\n",
       "40     True\n",
       "41     True\n",
       "42     True\n",
       "43     True\n",
       "44     True\n",
       "45     True\n",
       "46     True\n",
       "47     True\n",
       "48     True\n",
       "49     True\n",
       "50     True\n",
       "51     True\n",
       "52     True\n",
       "53     True\n",
       "54     True\n",
       "55     True\n",
       "56     True\n",
       "57     True\n",
       "58     True\n",
       "Name: Location 1, dtype: bool"
      ]
     },
     "execution_count": 35,
     "metadata": {},
     "output_type": "execute_result"
    }
   ],
   "source": [
    "df['Location 1'].str.contains('\\n')"
   ]
  }
 ],
 "metadata": {
  "kernelspec": {
   "display_name": "Python 3",
   "language": "python",
   "name": "python3"
  },
  "language_info": {
   "codemirror_mode": {
    "name": "ipython",
    "version": 3
   },
   "file_extension": ".py",
   "mimetype": "text/x-python",
   "name": "python",
   "nbconvert_exporter": "python",
   "pygments_lexer": "ipython3",
   "version": "3.7.0"
  }
 },
 "nbformat": 4,
 "nbformat_minor": 2
}
