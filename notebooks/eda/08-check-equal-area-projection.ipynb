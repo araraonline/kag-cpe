{
 "cells": [
  {
   "cell_type": "markdown",
   "metadata": {},
   "source": [
    "# 8. Check equal-area projection"
   ]
  },
  {
   "cell_type": "code",
   "execution_count": 1,
   "metadata": {},
   "outputs": [],
   "source": [
    "%matplotlib inline"
   ]
  },
  {
   "cell_type": "code",
   "execution_count": 2,
   "metadata": {},
   "outputs": [
    {
     "data": {
      "text/html": [
       "<div>\n",
       "<style scoped>\n",
       "    .dataframe tbody tr th:only-of-type {\n",
       "        vertical-align: middle;\n",
       "    }\n",
       "\n",
       "    .dataframe tbody tr th {\n",
       "        vertical-align: top;\n",
       "    }\n",
       "\n",
       "    .dataframe thead th {\n",
       "        text-align: right;\n",
       "    }\n",
       "</style>\n",
       "<table border=\"1\" class=\"dataframe\">\n",
       "  <thead>\n",
       "    <tr style=\"text-align: right;\">\n",
       "      <th></th>\n",
       "      <th>REGION</th>\n",
       "      <th>DIVISION</th>\n",
       "      <th>STATEFP</th>\n",
       "      <th>STATENS</th>\n",
       "      <th>GEOID</th>\n",
       "      <th>STUSPS</th>\n",
       "      <th>NAME</th>\n",
       "      <th>LSAD</th>\n",
       "      <th>MTFCC</th>\n",
       "      <th>FUNCSTAT</th>\n",
       "      <th>ALAND</th>\n",
       "      <th>AWATER</th>\n",
       "      <th>INTPTLAT</th>\n",
       "      <th>INTPTLON</th>\n",
       "      <th>geometry</th>\n",
       "    </tr>\n",
       "  </thead>\n",
       "  <tbody>\n",
       "    <tr>\n",
       "      <th>0</th>\n",
       "      <td>3</td>\n",
       "      <td>5</td>\n",
       "      <td>54</td>\n",
       "      <td>01779805</td>\n",
       "      <td>54</td>\n",
       "      <td>WV</td>\n",
       "      <td>West Virginia</td>\n",
       "      <td>00</td>\n",
       "      <td>G4000</td>\n",
       "      <td>A</td>\n",
       "      <td>62265597146</td>\n",
       "      <td>489902816</td>\n",
       "      <td>+38.6472854</td>\n",
       "      <td>-080.6183274</td>\n",
       "      <td>POLYGON ((-6128768.035681799 7275607.897696841...</td>\n",
       "    </tr>\n",
       "  </tbody>\n",
       "</table>\n",
       "</div>"
      ],
      "text/plain": [
       "  REGION DIVISION STATEFP   STATENS GEOID STUSPS           NAME LSAD  MTFCC  \\\n",
       "0      3        5      54  01779805    54     WV  West Virginia   00  G4000   \n",
       "\n",
       "  FUNCSTAT        ALAND     AWATER     INTPTLAT      INTPTLON  \\\n",
       "0        A  62265597146  489902816  +38.6472854  -080.6183274   \n",
       "\n",
       "                                            geometry  \n",
       "0  POLYGON ((-6128768.035681799 7275607.897696841...  "
      ]
     },
     "execution_count": 2,
     "metadata": {},
     "output_type": "execute_result"
    }
   ],
   "source": [
    "from cpe_help.tiger import get_tiger\n",
    "from cpe_help.util import crs\n",
    "\n",
    "tiger = get_tiger()\n",
    "df = tiger.load_state_boundaries()\n",
    "df = df.iloc[:1]\n",
    "df = df.to_crs({'init': 'esri:102005'})  # just a random projection\n",
    "df"
   ]
  },
  {
   "cell_type": "code",
   "execution_count": 3,
   "metadata": {},
   "outputs": [
    {
     "data": {
      "text/plain": [
       "<matplotlib.axes._subplots.AxesSubplot at 0x7f3b00baa630>"
      ]
     },
     "execution_count": 3,
     "metadata": {},
     "output_type": "execute_result"
    },
    {
     "data": {
      "image/png": "[encoded data removed]",
      "text/plain": [
       "<Figure size 432x288 with 1 Axes>"
      ]
     },
     "metadata": {
      "needs_background": "light"
     },
     "output_type": "display_data"
    }
   ],
   "source": [
    "df.plot()"
   ]
  },
  {
   "cell_type": "code",
   "execution_count": 4,
   "metadata": {},
   "outputs": [
    {
     "data": {
      "text/html": [
       "<div>\n",
       "<style scoped>\n",
       "    .dataframe tbody tr th:only-of-type {\n",
       "        vertical-align: middle;\n",
       "    }\n",
       "\n",
       "    .dataframe tbody tr th {\n",
       "        vertical-align: top;\n",
       "    }\n",
       "\n",
       "    .dataframe thead th {\n",
       "        text-align: right;\n",
       "    }\n",
       "</style>\n",
       "<table border=\"1\" class=\"dataframe\">\n",
       "  <thead>\n",
       "    <tr style=\"text-align: right;\">\n",
       "      <th></th>\n",
       "      <th>REGION</th>\n",
       "      <th>DIVISION</th>\n",
       "      <th>STATEFP</th>\n",
       "      <th>STATENS</th>\n",
       "      <th>GEOID</th>\n",
       "      <th>STUSPS</th>\n",
       "      <th>NAME</th>\n",
       "      <th>LSAD</th>\n",
       "      <th>MTFCC</th>\n",
       "      <th>FUNCSTAT</th>\n",
       "      <th>ALAND</th>\n",
       "      <th>AWATER</th>\n",
       "      <th>INTPTLAT</th>\n",
       "      <th>INTPTLON</th>\n",
       "      <th>geometry</th>\n",
       "    </tr>\n",
       "  </thead>\n",
       "  <tbody>\n",
       "    <tr>\n",
       "      <th>0</th>\n",
       "      <td>3</td>\n",
       "      <td>5</td>\n",
       "      <td>54</td>\n",
       "      <td>01779805</td>\n",
       "      <td>54</td>\n",
       "      <td>WV</td>\n",
       "      <td>West Virginia</td>\n",
       "      <td>00</td>\n",
       "      <td>G4000</td>\n",
       "      <td>A</td>\n",
       "      <td>62265597146</td>\n",
       "      <td>489902816</td>\n",
       "      <td>+38.6472854</td>\n",
       "      <td>-080.6183274</td>\n",
       "      <td>POLYGON ((-117874.2969239168 34183.23987637906...</td>\n",
       "    </tr>\n",
       "  </tbody>\n",
       "</table>\n",
       "</div>"
      ],
      "text/plain": [
       "  REGION DIVISION STATEFP   STATENS GEOID STUSPS           NAME LSAD  MTFCC  \\\n",
       "0      3        5      54  01779805    54     WV  West Virginia   00  G4000   \n",
       "\n",
       "  FUNCSTAT        ALAND     AWATER     INTPTLAT      INTPTLON  \\\n",
       "0        A  62265597146  489902816  +38.6472854  -080.6183274   \n",
       "\n",
       "                                            geometry  \n",
       "0  POLYGON ((-117874.2969239168 34183.23987637906...  "
      ]
     },
     "execution_count": 4,
     "metadata": {},
     "output_type": "execute_result"
    }
   ],
   "source": [
    "proj = crs.equal_area_from_geodf(df)\n",
    "df = df.to_crs(proj)\n",
    "df"
   ]
  },
  {
   "cell_type": "code",
   "execution_count": 5,
   "metadata": {},
   "outputs": [
    {
     "data": {
      "text/plain": [
       "<matplotlib.axes._subplots.AxesSubplot at 0x7f3af5532c50>"
      ]
     },
     "execution_count": 5,
     "metadata": {},
     "output_type": "execute_result"
    },
    {
     "data": {
      "image/png": "[encoded data removed]",
      "text/plain": [
       "<Figure size 432x288 with 1 Axes>"
      ]
     },
     "metadata": {
      "needs_background": "light"
     },
     "output_type": "display_data"
    }
   ],
   "source": [
    "df.plot()"
   ]
  },
  {
   "cell_type": "code",
   "execution_count": 6,
   "metadata": {},
   "outputs": [
    {
     "name": "stdout",
     "output_type": "stream",
     "text": [
      " Area error for West Virginia: 5284.35 m^2\n"
     ]
    }
   ],
   "source": [
    "found_area = df.area[0]\n",
    "expected_area = (df.ALAND + df.AWATER)[0]\n",
    "error = found_area - expected_area\n",
    "\n",
    "# that's smaller than a square with side 73m\n",
    "print(f\" Area error for West Virginia: {error:.2f} m^2\")"
   ]
  }
 ],
 "metadata": {
  "kernelspec": {
   "display_name": "Python 3",
   "language": "python",
   "name": "python3"
  },
  "language_info": {
   "codemirror_mode": {
    "name": "ipython",
    "version": 3
   },
   "file_extension": ".py",
   "mimetype": "text/x-python",
   "name": "python",
   "nbconvert_exporter": "python",
   "pygments_lexer": "ipython3",
   "version": "3.7.0"
  }
 },
 "nbformat": 4,
 "nbformat_minor": 2
}
