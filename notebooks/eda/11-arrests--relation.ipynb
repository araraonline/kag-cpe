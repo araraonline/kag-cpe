{
 "cells": [
  {
   "cell_type": "markdown",
   "metadata": {},
   "source": [
    "# 11. Arrests - relation to other variables\n",
    "\n",
    "Here I will try to get a clearer view of the arrests, by comparing it to the other variables available. For example, how does the racial composition of a region influences the amount of arrests that will happen in that region? A specific programming problem will appear here, that is, how can we efficiently (and accurately enough) get counts of points in a certain area."
   ]
  },
  {
   "cell_type": "markdown",
   "metadata": {},
   "source": [
    "# Load/preprocess data"
   ]
  },
  {
   "cell_type": "code",
   "execution_count": 24,
   "metadata": {},
   "outputs": [],
   "source": [
    "import geopandas\n",
    "import matplotlib.pyplot\n",
    "import numpy\n",
    "import pandas\n",
    "import shapely\n",
    "import statsmodels.api\n",
    "\n",
    "from cpe_help import Department, util"
   ]
  },
  {
   "cell_type": "code",
   "execution_count": 2,
   "metadata": {},
   "outputs": [],
   "source": [
    "%matplotlib inline"
   ]
  },
  {
   "cell_type": "code",
   "execution_count": 3,
   "metadata": {},
   "outputs": [
    {
     "data": {
      "text/plain": [
       "Department('49-00033')"
      ]
     },
     "execution_count": 3,
     "metadata": {},
     "output_type": "execute_result"
    }
   ],
   "source": [
    "dept = Department('49-00033')\n",
    "dept"
   ]
  },
  {
   "cell_type": "markdown",
   "metadata": {},
   "source": [
    "Load clean data:"
   ]
  },
  {
   "cell_type": "code",
   "execution_count": 4,
   "metadata": {},
   "outputs": [],
   "source": [
    "precincts = dept.load_police_precincts()\n",
    "tracts = dept.load_census_tracts()\n",
    "bgs = dept.load_block_groups()"
   ]
  },
  {
   "cell_type": "markdown",
   "metadata": {},
   "source": [
    "Load arrests:"
   ]
  },
  {
   "cell_type": "code",
   "execution_count": 5,
   "metadata": {},
   "outputs": [
    {
     "data": {
      "text/html": [
       "<div>\n",
       "<style scoped>\n",
       "    .dataframe tbody tr th:only-of-type {\n",
       "        vertical-align: middle;\n",
       "    }\n",
       "\n",
       "    .dataframe tbody tr th {\n",
       "        vertical-align: top;\n",
       "    }\n",
       "\n",
       "    .dataframe thead th {\n",
       "        text-align: right;\n",
       "    }\n",
       "</style>\n",
       "<table border=\"1\" class=\"dataframe\">\n",
       "  <thead>\n",
       "    <tr style=\"text-align: right;\">\n",
       "      <th></th>\n",
       "      <th>INCIDENT_DATE</th>\n",
       "      <th>INCIDENT_TIME</th>\n",
       "      <th>INCIDENT_UNIQUE_IDENTIFIER</th>\n",
       "      <th>LOCATION_DISTRICT</th>\n",
       "      <th>LOCATION_TYPE</th>\n",
       "      <th>UNKNOWN_FIELD_TYPE</th>\n",
       "      <th>SUBJECT_AGE</th>\n",
       "      <th>SUBJECT_GENDER</th>\n",
       "      <th>SUBJECT_RACE</th>\n",
       "      <th>UNKNOWN_FIELD_TYPE.1</th>\n",
       "      <th>INCIDENT_REASON</th>\n",
       "      <th>UNKNOWN_FIELD_TYPE.2</th>\n",
       "      <th>CHARGE</th>\n",
       "      <th>CHARGE_DESCRIPTION</th>\n",
       "      <th>LOCATION_FULL_STREET_ADDRESS_OR_INTERSECTION</th>\n",
       "      <th>CROSS_STREET</th>\n",
       "      <th>LOCATION_LATITUDE</th>\n",
       "      <th>LOCATION_LONGITUDE</th>\n",
       "    </tr>\n",
       "  </thead>\n",
       "  <tbody>\n",
       "    <tr>\n",
       "      <th>0</th>\n",
       "      <td>ARST DATE</td>\n",
       "      <td>TIME</td>\n",
       "      <td>RPT_ID</td>\n",
       "      <td>AREA</td>\n",
       "      <td>AREA_DESC</td>\n",
       "      <td>RD</td>\n",
       "      <td>AGE</td>\n",
       "      <td>SEX_CD</td>\n",
       "      <td>DESCENT_CD</td>\n",
       "      <td>CHRG_GRP_CD</td>\n",
       "      <td>GRP_DESC</td>\n",
       "      <td>ARST_TYP_CD</td>\n",
       "      <td>CHARGE</td>\n",
       "      <td>CHRG_DESC</td>\n",
       "      <td>LOCATION</td>\n",
       "      <td>CRSST</td>\n",
       "      <td>Location Lat</td>\n",
       "      <td>Location Lon</td>\n",
       "    </tr>\n",
       "    <tr>\n",
       "      <th>1</th>\n",
       "      <td>12/31/15 0:00</td>\n",
       "      <td>2345</td>\n",
       "      <td>4538991</td>\n",
       "      <td>14</td>\n",
       "      <td>Pacific</td>\n",
       "      <td>1435</td>\n",
       "      <td>43</td>\n",
       "      <td>M</td>\n",
       "      <td>H</td>\n",
       "      <td>22</td>\n",
       "      <td>Driving Under Influence</td>\n",
       "      <td>M</td>\n",
       "      <td>23152(A)VC</td>\n",
       "      <td>DRUNK DRIVING ALCOHOL/DRUGS</td>\n",
       "      <td>3500    MCLAUGHLIN                   AV</td>\n",
       "      <td>NaN</td>\n",
       "      <td>34.0141</td>\n",
       "      <td>-118.4288</td>\n",
       "    </tr>\n",
       "    <tr>\n",
       "      <th>2</th>\n",
       "      <td>12/31/15 0:00</td>\n",
       "      <td>2330</td>\n",
       "      <td>4538996</td>\n",
       "      <td>1</td>\n",
       "      <td>Central</td>\n",
       "      <td>101</td>\n",
       "      <td>27</td>\n",
       "      <td>M</td>\n",
       "      <td>W</td>\n",
       "      <td>4</td>\n",
       "      <td>Aggravated Assault</td>\n",
       "      <td>F</td>\n",
       "      <td>273.5(A)PC</td>\n",
       "      <td>CORPORAL INJURY ON SPOUSE/COHABITANT/ETC</td>\n",
       "      <td>900    FIGUEROA                     TR</td>\n",
       "      <td>NaN</td>\n",
       "      <td>34.0663</td>\n",
       "      <td>-118.2441</td>\n",
       "    </tr>\n",
       "    <tr>\n",
       "      <th>3</th>\n",
       "      <td>12/31/15 0:00</td>\n",
       "      <td>2320</td>\n",
       "      <td>4539142</td>\n",
       "      <td>6</td>\n",
       "      <td>Hollywood</td>\n",
       "      <td>646</td>\n",
       "      <td>31</td>\n",
       "      <td>M</td>\n",
       "      <td>W</td>\n",
       "      <td>16</td>\n",
       "      <td>Narcotic Drug Laws</td>\n",
       "      <td>M</td>\n",
       "      <td>11350(A)HS</td>\n",
       "      <td>POSSESSION OF CONTROLLED SUBSTANCE</td>\n",
       "      <td>6300    HOLLYWOOD                    BL</td>\n",
       "      <td>NaN</td>\n",
       "      <td>34.1016</td>\n",
       "      <td>-118.3267</td>\n",
       "    </tr>\n",
       "    <tr>\n",
       "      <th>4</th>\n",
       "      <td>12/31/15 0:00</td>\n",
       "      <td>2319</td>\n",
       "      <td>4538947</td>\n",
       "      <td>21</td>\n",
       "      <td>Topanga</td>\n",
       "      <td>2189</td>\n",
       "      <td>28</td>\n",
       "      <td>M</td>\n",
       "      <td>H</td>\n",
       "      <td>22</td>\n",
       "      <td>Driving Under Influence</td>\n",
       "      <td>M</td>\n",
       "      <td>23152(A)VC</td>\n",
       "      <td>DRUNK DRIVING ALCOHOL/DRUGS</td>\n",
       "      <td>VENTURA                      FY</td>\n",
       "      <td>WINNETKA</td>\n",
       "      <td>34.1723</td>\n",
       "      <td>-118.5709</td>\n",
       "    </tr>\n",
       "  </tbody>\n",
       "</table>\n",
       "</div>"
      ],
      "text/plain": [
       "   INCIDENT_DATE INCIDENT_TIME INCIDENT_UNIQUE_IDENTIFIER LOCATION_DISTRICT  \\\n",
       "0      ARST DATE          TIME                     RPT_ID              AREA   \n",
       "1  12/31/15 0:00          2345                    4538991                14   \n",
       "2  12/31/15 0:00          2330                    4538996                 1   \n",
       "3  12/31/15 0:00          2320                    4539142                 6   \n",
       "4  12/31/15 0:00          2319                    4538947                21   \n",
       "\n",
       "  LOCATION_TYPE UNKNOWN_FIELD_TYPE SUBJECT_AGE SUBJECT_GENDER SUBJECT_RACE  \\\n",
       "0     AREA_DESC                 RD         AGE         SEX_CD   DESCENT_CD   \n",
       "1       Pacific               1435          43              M            H   \n",
       "2       Central                101          27              M            W   \n",
       "3     Hollywood                646          31              M            W   \n",
       "4       Topanga               2189          28              M            H   \n",
       "\n",
       "  UNKNOWN_FIELD_TYPE.1          INCIDENT_REASON UNKNOWN_FIELD_TYPE.2  \\\n",
       "0          CHRG_GRP_CD                 GRP_DESC          ARST_TYP_CD   \n",
       "1                   22  Driving Under Influence                    M   \n",
       "2                    4       Aggravated Assault                    F   \n",
       "3                   16       Narcotic Drug Laws                    M   \n",
       "4                   22  Driving Under Influence                    M   \n",
       "\n",
       "       CHARGE                        CHARGE_DESCRIPTION  \\\n",
       "0      CHARGE                                 CHRG_DESC   \n",
       "1  23152(A)VC               DRUNK DRIVING ALCOHOL/DRUGS   \n",
       "2  273.5(A)PC  CORPORAL INJURY ON SPOUSE/COHABITANT/ETC   \n",
       "3  11350(A)HS        POSSESSION OF CONTROLLED SUBSTANCE   \n",
       "4  23152(A)VC               DRUNK DRIVING ALCOHOL/DRUGS   \n",
       "\n",
       "  LOCATION_FULL_STREET_ADDRESS_OR_INTERSECTION CROSS_STREET LOCATION_LATITUDE  \\\n",
       "0                                     LOCATION        CRSST      Location Lat   \n",
       "1      3500    MCLAUGHLIN                   AV          NaN           34.0141   \n",
       "2       900    FIGUEROA                     TR          NaN           34.0663   \n",
       "3      6300    HOLLYWOOD                    BL          NaN           34.1016   \n",
       "4              VENTURA                      FY     WINNETKA           34.1723   \n",
       "\n",
       "  LOCATION_LONGITUDE  \n",
       "0       Location Lon  \n",
       "1          -118.4288  \n",
       "2          -118.2441  \n",
       "3          -118.3267  \n",
       "4          -118.5709  "
      ]
     },
     "execution_count": 5,
     "metadata": {},
     "output_type": "execute_result"
    }
   ],
   "source": [
    "raw_arrests = pandas.read_csv(dept.external_dir / '49-00033_Arrests_2015.csv', low_memory=False)\n",
    "raw_arrests.head()"
   ]
  },
  {
   "cell_type": "code",
   "execution_count": 6,
   "metadata": {},
   "outputs": [],
   "source": [
    "variables = pandas.Series(raw_arrests.columns, index=raw_arrests.loc[0])\n",
    "arrests = raw_arrests.loc[1:].copy()\n",
    "\n",
    "# process date and drop time\n",
    "arrests['INCIDENT_DATE'] = pandas.to_datetime(\n",
    "    arrests['INCIDENT_DATE'], format='%m/%d/%y %H:%M')\n",
    "arrests = arrests.drop('INCIDENT_TIME', axis=1)\n",
    "\n",
    "# convert dtypes\n",
    "numeric_columns = [\n",
    "    'LOCATION_LATITUDE',\n",
    "    'LOCATION_LONGITUDE',\n",
    "]\n",
    "arrests[numeric_columns] = arrests[numeric_columns].apply(pandas.to_numeric)\n",
    "\n",
    "# drop entries where lat/lon is unknown\n",
    "# (5.32% of the entries)\n",
    "# (could have retrieved approximate lat/lon from address)\n",
    "arrests = arrests[\n",
    "    (arrests['LOCATION_LATITUDE'] != 0) &\n",
    "    (arrests['LOCATION_LONGITUDE'] != 0)\n",
    "]\n",
    "\n",
    "# generate points from location\n",
    "points = [shapely.geometry.Point(x, y)\n",
    "          for x, y in zip(\n",
    "              arrests['LOCATION_LONGITUDE'], arrests['LOCATION_LATITUDE'])]\n",
    "\n",
    "# convert to GeoDataFrame\n",
    "arrests = geopandas.GeoDataFrame(\n",
    "    arrests,\n",
    "    geometry=points,\n",
    "    crs=util.crs.epsg4326,\n",
    ")\n",
    "arrests = arrests.to_crs(precincts.crs)\n",
    "\n",
    "# select single sample\n",
    "arrests_all = arrests.copy()\n",
    "arrests = arrests.sample(10000, random_state=1)"
   ]
  },
  {
   "cell_type": "markdown",
   "metadata": {},
   "source": [
    "Only use intersecting regions:"
   ]
  },
  {
   "cell_type": "code",
   "execution_count": 7,
   "metadata": {},
   "outputs": [],
   "source": [
    "region = precincts.unary_union\n",
    "\n",
    "# crs are already the same\n",
    "arrests = arrests[arrests.intersects(region)]\n",
    "tracts = tracts[tracts.intersects(region)]\n",
    "bgs = bgs[bgs.intersects(region)]"
   ]
  },
  {
   "cell_type": "markdown",
   "metadata": {},
   "source": [
    "Project into Albers equal-area:"
   ]
  },
  {
   "cell_type": "code",
   "execution_count": 8,
   "metadata": {},
   "outputs": [],
   "source": [
    "proj = util.crs.equal_area_from_geodf(tracts)\n",
    "\n",
    "arrests = arrests.to_crs(proj)\n",
    "precincts = precincts.to_crs(proj)\n",
    "tracts = tracts.to_crs(proj)\n",
    "bgs = bgs.to_crs(proj)"
   ]
  },
  {
   "cell_type": "markdown",
   "metadata": {},
   "source": [
    "Check results:"
   ]
  },
  {
   "cell_type": "code",
   "execution_count": 9,
   "metadata": {},
   "outputs": [
    {
     "data": {
      "image/png": "[encoded data removed]",
      "text/plain": [
       "<Figure size 1152x864 with 4 Axes>"
      ]
     },
     "metadata": {
      "needs_background": "light"
     },
     "output_type": "display_data"
    }
   ],
   "source": [
    "fig, axes = matplotlib.pyplot.subplots(ncols=4, figsize=(16, 12))\n",
    "\n",
    "for ax in axes:\n",
    "    ax.set_aspect('equal')\n",
    "    \n",
    "arrests.plot(ax=axes[0])\n",
    "precincts.plot(ax=axes[1])\n",
    "tracts.plot(ax=axes[2])\n",
    "bgs.plot(ax=axes[3]);"
   ]
  },
  {
   "cell_type": "markdown",
   "metadata": {},
   "source": [
    "# Prepare data (for model)"
   ]
  },
  {
   "cell_type": "markdown",
   "metadata": {},
   "source": [
    "We are gonna only use BGs that are within the police precincts."
   ]
  },
  {
   "cell_type": "code",
   "execution_count": 10,
   "metadata": {},
   "outputs": [],
   "source": [
    "bgs = bgs[bgs.within(precincts.unary_union)]"
   ]
  },
  {
   "cell_type": "code",
   "execution_count": 11,
   "metadata": {},
   "outputs": [
    {
     "data": {
      "text/plain": [
       "<matplotlib.axes._subplots.AxesSubplot at 0x7f86a3dcb5c0>"
      ]
     },
     "execution_count": 11,
     "metadata": {},
     "output_type": "execute_result"
    },
    {
     "data": {
      "image/png": "[encoded data removed]",
      "text/plain": [
       "<Figure size 432x288 with 1 Axes>"
      ]
     },
     "metadata": {
      "needs_background": "light"
     },
     "output_type": "display_data"
    }
   ],
   "source": [
    "bgs.plot()"
   ]
  },
  {
   "cell_type": "markdown",
   "metadata": {},
   "source": [
    "Some BGs have almost no people. Let's drop those entries."
   ]
  },
  {
   "cell_type": "code",
   "execution_count": 12,
   "metadata": {},
   "outputs": [],
   "source": [
    "bgs = bgs[bgs['TOTAL_POPULATION'] > 150]\n",
    "bgs = bgs[bgs['POVERTY_TOTAL'] > 100]"
   ]
  },
  {
   "cell_type": "markdown",
   "metadata": {},
   "source": [
    "Our model is gonna work with ratios instead of absolute values."
   ]
  },
  {
   "cell_type": "code",
   "execution_count": 13,
   "metadata": {},
   "outputs": [
    {
     "data": {
      "text/html": [
       "<div>\n",
       "<style scoped>\n",
       "    .dataframe tbody tr th:only-of-type {\n",
       "        vertical-align: middle;\n",
       "    }\n",
       "\n",
       "    .dataframe tbody tr th {\n",
       "        vertical-align: top;\n",
       "    }\n",
       "\n",
       "    .dataframe thead th {\n",
       "        text-align: right;\n",
       "    }\n",
       "</style>\n",
       "<table border=\"1\" class=\"dataframe\">\n",
       "  <thead>\n",
       "    <tr style=\"text-align: right;\">\n",
       "      <th></th>\n",
       "      <th>SEX_FEMALE</th>\n",
       "      <th>RACE_BLACK</th>\n",
       "      <th>RACE_ASIAN</th>\n",
       "      <th>RACE_HISPANIC</th>\n",
       "      <th>RACE_OTHER</th>\n",
       "      <th>POVERTY_BPL</th>\n",
       "      <th>EMPLOYMENT_UNEMPLOYED</th>\n",
       "    </tr>\n",
       "  </thead>\n",
       "  <tbody>\n",
       "    <tr>\n",
       "      <th>8</th>\n",
       "      <td>0.369019</td>\n",
       "      <td>0.001421</td>\n",
       "      <td>0.102321</td>\n",
       "      <td>0.055898</td>\n",
       "      <td>0.021317</td>\n",
       "      <td>0.150166</td>\n",
       "      <td>0.075168</td>\n",
       "    </tr>\n",
       "    <tr>\n",
       "      <th>125</th>\n",
       "      <td>0.527730</td>\n",
       "      <td>0.049171</td>\n",
       "      <td>0.093196</td>\n",
       "      <td>0.247570</td>\n",
       "      <td>0.088050</td>\n",
       "      <td>0.113779</td>\n",
       "      <td>0.053283</td>\n",
       "    </tr>\n",
       "    <tr>\n",
       "      <th>126</th>\n",
       "      <td>0.549724</td>\n",
       "      <td>0.112339</td>\n",
       "      <td>0.078269</td>\n",
       "      <td>0.027624</td>\n",
       "      <td>0.035912</td>\n",
       "      <td>0.099448</td>\n",
       "      <td>0.036364</td>\n",
       "    </tr>\n",
       "    <tr>\n",
       "      <th>127</th>\n",
       "      <td>0.537874</td>\n",
       "      <td>0.000000</td>\n",
       "      <td>0.534691</td>\n",
       "      <td>0.399109</td>\n",
       "      <td>0.029281</td>\n",
       "      <td>0.116486</td>\n",
       "      <td>0.071207</td>\n",
       "    </tr>\n",
       "    <tr>\n",
       "      <th>128</th>\n",
       "      <td>0.487387</td>\n",
       "      <td>0.053153</td>\n",
       "      <td>0.445495</td>\n",
       "      <td>0.340090</td>\n",
       "      <td>0.014414</td>\n",
       "      <td>0.253604</td>\n",
       "      <td>0.052676</td>\n",
       "    </tr>\n",
       "  </tbody>\n",
       "</table>\n",
       "</div>"
      ],
      "text/plain": [
       "     SEX_FEMALE  RACE_BLACK  RACE_ASIAN  RACE_HISPANIC  RACE_OTHER  \\\n",
       "8      0.369019    0.001421    0.102321       0.055898    0.021317   \n",
       "125    0.527730    0.049171    0.093196       0.247570    0.088050   \n",
       "126    0.549724    0.112339    0.078269       0.027624    0.035912   \n",
       "127    0.537874    0.000000    0.534691       0.399109    0.029281   \n",
       "128    0.487387    0.053153    0.445495       0.340090    0.014414   \n",
       "\n",
       "     POVERTY_BPL  EMPLOYMENT_UNEMPLOYED  \n",
       "8       0.150166               0.075168  \n",
       "125     0.113779               0.053283  \n",
       "126     0.099448               0.036364  \n",
       "127     0.116486               0.071207  \n",
       "128     0.253604               0.052676  "
      ]
     },
     "execution_count": 13,
     "metadata": {},
     "output_type": "execute_result"
    }
   ],
   "source": [
    "race_other = bgs[['RACE_NH_INDIAN', 'RACE_NH_HAWAIIAN', 'RACE_NH_OTHER', 'RACE_NH_MULTIRACIAL']].sum(axis=1)\n",
    "df = pandas.DataFrame({\n",
    "    'SEX_FEMALE': bgs['SEX_FEMALE'] / bgs['SEX_TOTAL'],\n",
    "    'RACE_BLACK': bgs['RACE_NH_BLACK'] / bgs['RACE_TOTAL'],\n",
    "    'RACE_ASIAN': bgs['RACE_NH_ASIAN'] / bgs['RACE_TOTAL'],\n",
    "    'RACE_HISPANIC': bgs['RACE_HISPANIC'] / bgs['RACE_TOTAL'],\n",
    "    'RACE_OTHER': race_other / bgs['RACE_TOTAL'],\n",
    "    'POVERTY_BPL': bgs['POVERTY_BPL'] / bgs['POVERTY_TOTAL'],\n",
    "    'EMPLOYMENT_UNEMPLOYED': bgs['EMPLOYMENT_UNEMPLOYED'] / bgs['EMPLOYMENT_TOTAL'],\n",
    "})\n",
    "df.head()"
   ]
  },
  {
   "cell_type": "markdown",
   "metadata": {},
   "source": [
    "And, we need the crime count for each BG:"
   ]
  },
  {
   "cell_type": "code",
   "execution_count": 14,
   "metadata": {},
   "outputs": [
    {
     "name": "stdout",
     "output_type": "stream",
     "text": [
      "CPU times: user 5.76 s, sys: 0 ns, total: 5.76 s\n",
      "Wall time: 5.78 s\n"
     ]
    }
   ],
   "source": [
    "%%time\n",
    "\n",
    "points = [(p, p.x, p.y) for p in arrests.geometry]\n",
    "\n",
    "result = {}\n",
    "for ix, bg in bgs.geometry.iteritems():\n",
    "    bounds = bg.bounds\n",
    "    xmin, ymin, xmax, ymax = bounds\n",
    "    \n",
    "    count = 0\n",
    "    for point, x, y in points:\n",
    "        if x < xmin:\n",
    "            continue\n",
    "        if y < ymin:\n",
    "            continue\n",
    "        if x > xmax:\n",
    "            continue\n",
    "        if y > ymax:\n",
    "            continue\n",
    "        if bg.contains(point):\n",
    "            count += 1\n",
    "            \n",
    "    result[ix] = count"
   ]
  },
  {
   "cell_type": "code",
   "execution_count": 15,
   "metadata": {},
   "outputs": [
    {
     "data": {
      "text/plain": [
       "7898"
      ]
     },
     "execution_count": 15,
     "metadata": {},
     "output_type": "execute_result"
    }
   ],
   "source": [
    "sum(result.values())"
   ]
  },
  {
   "cell_type": "code",
   "execution_count": 16,
   "metadata": {},
   "outputs": [
    {
     "data": {
      "text/plain": [
       "9857"
      ]
     },
     "execution_count": 16,
     "metadata": {},
     "output_type": "execute_result"
    }
   ],
   "source": [
    "arrests.shape[0]"
   ]
  },
  {
   "cell_type": "code",
   "execution_count": 17,
   "metadata": {},
   "outputs": [
    {
     "data": {
      "image/png": "[encoded data removed]",
      "text/plain": [
       "<Figure size 432x288 with 1 Axes>"
      ]
     },
     "metadata": {
      "needs_background": "light"
     },
     "output_type": "display_data"
    }
   ],
   "source": [
    "arrest_count = pandas.Series(\n",
    "    data=list(result.values()),\n",
    "    index=list(result.keys()),\n",
    ")\n",
    "arrest_count.hist(bins=50);"
   ]
  },
  {
   "cell_type": "markdown",
   "metadata": {},
   "source": [
    "Now we can define our inputs and outputs."
   ]
  },
  {
   "cell_type": "code",
   "execution_count": 18,
   "metadata": {},
   "outputs": [],
   "source": [
    "inputs = df.copy()\n",
    "inputs = inputs * 100  # use percentage values\n",
    "inputs = statsmodels.api.add_constant(inputs)\n",
    "\n",
    "outputs = arrest_count / (bgs['TOTAL_POPULATION'] / 1000)\n",
    "outputs.name = 'ARREST_RATIO'"
   ]
  },
  {
   "cell_type": "code",
   "execution_count": 19,
   "metadata": {},
   "outputs": [
    {
     "data": {
      "text/html": [
       "<div>\n",
       "<style scoped>\n",
       "    .dataframe tbody tr th:only-of-type {\n",
       "        vertical-align: middle;\n",
       "    }\n",
       "\n",
       "    .dataframe tbody tr th {\n",
       "        vertical-align: top;\n",
       "    }\n",
       "\n",
       "    .dataframe thead th {\n",
       "        text-align: right;\n",
       "    }\n",
       "</style>\n",
       "<table border=\"1\" class=\"dataframe\">\n",
       "  <thead>\n",
       "    <tr style=\"text-align: right;\">\n",
       "      <th></th>\n",
       "      <th>const</th>\n",
       "      <th>SEX_FEMALE</th>\n",
       "      <th>RACE_BLACK</th>\n",
       "      <th>RACE_ASIAN</th>\n",
       "      <th>RACE_HISPANIC</th>\n",
       "      <th>RACE_OTHER</th>\n",
       "      <th>POVERTY_BPL</th>\n",
       "      <th>EMPLOYMENT_UNEMPLOYED</th>\n",
       "    </tr>\n",
       "  </thead>\n",
       "  <tbody>\n",
       "    <tr>\n",
       "      <th>8</th>\n",
       "      <td>1.0</td>\n",
       "      <td>36.901942</td>\n",
       "      <td>0.142113</td>\n",
       "      <td>10.232117</td>\n",
       "      <td>5.589768</td>\n",
       "      <td>2.131691</td>\n",
       "      <td>15.016580</td>\n",
       "      <td>7.516779</td>\n",
       "    </tr>\n",
       "    <tr>\n",
       "      <th>125</th>\n",
       "      <td>1.0</td>\n",
       "      <td>52.773013</td>\n",
       "      <td>4.917095</td>\n",
       "      <td>9.319611</td>\n",
       "      <td>24.757004</td>\n",
       "      <td>8.805031</td>\n",
       "      <td>11.377930</td>\n",
       "      <td>5.328259</td>\n",
       "    </tr>\n",
       "    <tr>\n",
       "      <th>126</th>\n",
       "      <td>1.0</td>\n",
       "      <td>54.972376</td>\n",
       "      <td>11.233886</td>\n",
       "      <td>7.826888</td>\n",
       "      <td>2.762431</td>\n",
       "      <td>3.591160</td>\n",
       "      <td>9.944751</td>\n",
       "      <td>3.636364</td>\n",
       "    </tr>\n",
       "    <tr>\n",
       "      <th>127</th>\n",
       "      <td>1.0</td>\n",
       "      <td>53.787397</td>\n",
       "      <td>0.000000</td>\n",
       "      <td>53.469128</td>\n",
       "      <td>39.910885</td>\n",
       "      <td>2.928071</td>\n",
       "      <td>11.648631</td>\n",
       "      <td>7.120743</td>\n",
       "    </tr>\n",
       "    <tr>\n",
       "      <th>128</th>\n",
       "      <td>1.0</td>\n",
       "      <td>48.738739</td>\n",
       "      <td>5.315315</td>\n",
       "      <td>44.549550</td>\n",
       "      <td>34.009009</td>\n",
       "      <td>1.441441</td>\n",
       "      <td>25.360360</td>\n",
       "      <td>5.267559</td>\n",
       "    </tr>\n",
       "  </tbody>\n",
       "</table>\n",
       "</div>"
      ],
      "text/plain": [
       "     const  SEX_FEMALE  RACE_BLACK  RACE_ASIAN  RACE_HISPANIC  RACE_OTHER  \\\n",
       "8      1.0   36.901942    0.142113   10.232117       5.589768    2.131691   \n",
       "125    1.0   52.773013    4.917095    9.319611      24.757004    8.805031   \n",
       "126    1.0   54.972376   11.233886    7.826888       2.762431    3.591160   \n",
       "127    1.0   53.787397    0.000000   53.469128      39.910885    2.928071   \n",
       "128    1.0   48.738739    5.315315   44.549550      34.009009    1.441441   \n",
       "\n",
       "     POVERTY_BPL  EMPLOYMENT_UNEMPLOYED  \n",
       "8      15.016580               7.516779  \n",
       "125    11.377930               5.328259  \n",
       "126     9.944751               3.636364  \n",
       "127    11.648631               7.120743  \n",
       "128    25.360360               5.267559  "
      ]
     },
     "execution_count": 19,
     "metadata": {},
     "output_type": "execute_result"
    }
   ],
   "source": [
    "inputs.head()"
   ]
  },
  {
   "cell_type": "code",
   "execution_count": 20,
   "metadata": {},
   "outputs": [
    {
     "data": {
      "text/plain": [
       "8      2.842255\n",
       "125    2.858776\n",
       "126    0.000000\n",
       "127    0.000000\n",
       "128    0.450450\n",
       "Name: ARREST_RATIO, dtype: float64"
      ]
     },
     "execution_count": 20,
     "metadata": {},
     "output_type": "execute_result"
    }
   ],
   "source": [
    "outputs.head()"
   ]
  },
  {
   "cell_type": "markdown",
   "metadata": {},
   "source": [
    "# Create model\n",
    "\n",
    "Now let's create a model and check if the results are significant."
   ]
  },
  {
   "cell_type": "code",
   "execution_count": 21,
   "metadata": {},
   "outputs": [
    {
     "data": {
      "text/html": [
       "<table class=\"simpletable\">\n",
       "<caption>OLS Regression Results</caption>\n",
       "<tr>\n",
       "  <th>Dep. Variable:</th>      <td>ARREST_RATIO</td>   <th>  R-squared:         </th> <td>   0.066</td> \n",
       "</tr>\n",
       "<tr>\n",
       "  <th>Model:</th>                   <td>OLS</td>       <th>  Adj. R-squared:    </th> <td>   0.063</td> \n",
       "</tr>\n",
       "<tr>\n",
       "  <th>Method:</th>             <td>Least Squares</td>  <th>  F-statistic:       </th> <td>   20.92</td> \n",
       "</tr>\n",
       "<tr>\n",
       "  <th>Date:</th>             <td>Fri, 16 Nov 2018</td> <th>  Prob (F-statistic):</th> <td>2.28e-27</td> \n",
       "</tr>\n",
       "<tr>\n",
       "  <th>Time:</th>                 <td>15:09:51</td>     <th>  Log-Likelihood:    </th> <td> -7137.3</td> \n",
       "</tr>\n",
       "<tr>\n",
       "  <th>No. Observations:</th>      <td>  2081</td>      <th>  AIC:               </th> <td>1.429e+04</td>\n",
       "</tr>\n",
       "<tr>\n",
       "  <th>Df Residuals:</th>          <td>  2073</td>      <th>  BIC:               </th> <td>1.434e+04</td>\n",
       "</tr>\n",
       "<tr>\n",
       "  <th>Df Model:</th>              <td>     7</td>      <th>                     </th>     <td> </td>    \n",
       "</tr>\n",
       "<tr>\n",
       "  <th>Covariance Type:</th>      <td>nonrobust</td>    <th>                     </th>     <td> </td>    \n",
       "</tr>\n",
       "</table>\n",
       "<table class=\"simpletable\">\n",
       "<tr>\n",
       "            <td></td>               <th>coef</th>     <th>std err</th>      <th>t</th>      <th>P>|t|</th>  <th>[0.025</th>    <th>0.975]</th>  \n",
       "</tr>\n",
       "<tr>\n",
       "  <th>const</th>                 <td>   15.2089</td> <td>    1.591</td> <td>    9.557</td> <td> 0.000</td> <td>   12.088</td> <td>   18.330</td>\n",
       "</tr>\n",
       "<tr>\n",
       "  <th>SEX_FEMALE</th>            <td>   -0.2555</td> <td>    0.029</td> <td>   -8.877</td> <td> 0.000</td> <td>   -0.312</td> <td>   -0.199</td>\n",
       "</tr>\n",
       "<tr>\n",
       "  <th>RACE_BLACK</th>            <td>    0.0172</td> <td>    0.013</td> <td>    1.337</td> <td> 0.181</td> <td>   -0.008</td> <td>    0.042</td>\n",
       "</tr>\n",
       "<tr>\n",
       "  <th>RACE_ASIAN</th>            <td>   -0.0168</td> <td>    0.015</td> <td>   -1.143</td> <td> 0.253</td> <td>   -0.046</td> <td>    0.012</td>\n",
       "</tr>\n",
       "<tr>\n",
       "  <th>RACE_HISPANIC</th>         <td>   -0.0369</td> <td>    0.008</td> <td>   -4.800</td> <td> 0.000</td> <td>   -0.052</td> <td>   -0.022</td>\n",
       "</tr>\n",
       "<tr>\n",
       "  <th>RACE_OTHER</th>            <td>   -0.0510</td> <td>    0.055</td> <td>   -0.926</td> <td> 0.354</td> <td>   -0.159</td> <td>    0.057</td>\n",
       "</tr>\n",
       "<tr>\n",
       "  <th>POVERTY_BPL</th>           <td>    0.0875</td> <td>    0.014</td> <td>    6.373</td> <td> 0.000</td> <td>    0.061</td> <td>    0.114</td>\n",
       "</tr>\n",
       "<tr>\n",
       "  <th>EMPLOYMENT_UNEMPLOYED</th> <td>    0.0606</td> <td>    0.032</td> <td>    1.905</td> <td> 0.057</td> <td>   -0.002</td> <td>    0.123</td>\n",
       "</tr>\n",
       "</table>\n",
       "<table class=\"simpletable\">\n",
       "<tr>\n",
       "  <th>Omnibus:</th>       <td>3570.867</td> <th>  Durbin-Watson:     </th>  <td>   1.524</td>  \n",
       "</tr>\n",
       "<tr>\n",
       "  <th>Prob(Omnibus):</th>  <td> 0.000</td>  <th>  Jarque-Bera (JB):  </th> <td>3409398.531</td>\n",
       "</tr>\n",
       "<tr>\n",
       "  <th>Skew:</th>           <td>11.549</td>  <th>  Prob(JB):          </th>  <td>    0.00</td>  \n",
       "</tr>\n",
       "<tr>\n",
       "  <th>Kurtosis:</th>       <td>199.944</td> <th>  Cond. No.          </th>  <td>    760.</td>  \n",
       "</tr>\n",
       "</table><br/><br/>Warnings:<br/>[1] Standard Errors assume that the covariance matrix of the errors is correctly specified."
      ],
      "text/plain": [
       "<class 'statsmodels.iolib.summary.Summary'>\n",
       "\"\"\"\n",
       "                            OLS Regression Results                            \n",
       "==============================================================================\n",
       "Dep. Variable:           ARREST_RATIO   R-squared:                       0.066\n",
       "Model:                            OLS   Adj. R-squared:                  0.063\n",
       "Method:                 Least Squares   F-statistic:                     20.92\n",
       "Date:                Fri, 16 Nov 2018   Prob (F-statistic):           2.28e-27\n",
       "Time:                        15:09:51   Log-Likelihood:                -7137.3\n",
       "No. Observations:                2081   AIC:                         1.429e+04\n",
       "Df Residuals:                    2073   BIC:                         1.434e+04\n",
       "Df Model:                           7                                         \n",
       "Covariance Type:            nonrobust                                         \n",
       "=========================================================================================\n",
       "                            coef    std err          t      P>|t|      [0.025      0.975]\n",
       "-----------------------------------------------------------------------------------------\n",
       "const                    15.2089      1.591      9.557      0.000      12.088      18.330\n",
       "SEX_FEMALE               -0.2555      0.029     -8.877      0.000      -0.312      -0.199\n",
       "RACE_BLACK                0.0172      0.013      1.337      0.181      -0.008       0.042\n",
       "RACE_ASIAN               -0.0168      0.015     -1.143      0.253      -0.046       0.012\n",
       "RACE_HISPANIC            -0.0369      0.008     -4.800      0.000      -0.052      -0.022\n",
       "RACE_OTHER               -0.0510      0.055     -0.926      0.354      -0.159       0.057\n",
       "POVERTY_BPL               0.0875      0.014      6.373      0.000       0.061       0.114\n",
       "EMPLOYMENT_UNEMPLOYED     0.0606      0.032      1.905      0.057      -0.002       0.123\n",
       "==============================================================================\n",
       "Omnibus:                     3570.867   Durbin-Watson:                   1.524\n",
       "Prob(Omnibus):                  0.000   Jarque-Bera (JB):          3409398.531\n",
       "Skew:                          11.549   Prob(JB):                         0.00\n",
       "Kurtosis:                     199.944   Cond. No.                         760.\n",
       "==============================================================================\n",
       "\n",
       "Warnings:\n",
       "[1] Standard Errors assume that the covariance matrix of the errors is correctly specified.\n",
       "\"\"\""
      ]
     },
     "execution_count": 21,
     "metadata": {},
     "output_type": "execute_result"
    }
   ],
   "source": [
    "results = statsmodels.api.OLS(outputs, inputs).fit()\n",
    "results.summary()"
   ]
  },
  {
   "cell_type": "markdown",
   "metadata": {},
   "source": [
    "This model is pretty weak, having an adjusted R-squared of only 0.063. However, it is a significative model, and the coefficients show a significant relation. BGs with bigger poverty or unemployment percentages are more prone the arrests. BGs with a bigger amount of hispanic people or of women are less prone to arrests."
   ]
  },
  {
   "cell_type": "markdown",
   "metadata": {},
   "source": [
    "Below I will try a binomial regression."
   ]
  },
  {
   "cell_type": "code",
   "execution_count": 68,
   "metadata": {},
   "outputs": [
    {
     "data": {
      "text/html": [
       "<table class=\"simpletable\">\n",
       "<caption>Generalized Linear Model Regression Results</caption>\n",
       "<tr>\n",
       "  <th>Dep. Variable:</th>  <td>['ARREST_COUNT', 'NOT_ARREST_COUNT']</td> <th>  No. Observations:  </th>  <td>  2081</td>  \n",
       "</tr>\n",
       "<tr>\n",
       "  <th>Model:</th>                           <td>GLM</td>                 <th>  Df Residuals:      </th>  <td>  2073</td>  \n",
       "</tr>\n",
       "<tr>\n",
       "  <th>Model Family:</th>                 <td>Binomial</td>               <th>  Df Model:          </th>  <td>     7</td>  \n",
       "</tr>\n",
       "<tr>\n",
       "  <th>Link Function:</th>                  <td>logit</td>                <th>  Scale:             </th> <td>  1.0000</td> \n",
       "</tr>\n",
       "<tr>\n",
       "  <th>Method:</th>                         <td>IRLS</td>                 <th>  Log-Likelihood:    </th> <td> -9164.9</td> \n",
       "</tr>\n",
       "<tr>\n",
       "  <th>Date:</th>                     <td>Fri, 16 Nov 2018</td>           <th>  Deviance:          </th> <td>  13829.</td> \n",
       "</tr>\n",
       "<tr>\n",
       "  <th>Time:</th>                         <td>15:56:57</td>               <th>  Pearson chi2:      </th> <td>3.45e+04</td> \n",
       "</tr>\n",
       "<tr>\n",
       "  <th>No. Iterations:</th>                   <td>9</td>                  <th>  Covariance Type:   </th> <td>nonrobust</td>\n",
       "</tr>\n",
       "</table>\n",
       "<table class=\"simpletable\">\n",
       "<tr>\n",
       "            <td></td>               <th>coef</th>     <th>std err</th>      <th>z</th>      <th>P>|z|</th>  <th>[0.025</th>    <th>0.975]</th>  \n",
       "</tr>\n",
       "<tr>\n",
       "  <th>const</th>                 <td>   -4.4060</td> <td>    0.084</td> <td>  -52.646</td> <td> 0.000</td> <td>   -4.570</td> <td>   -4.242</td>\n",
       "</tr>\n",
       "<tr>\n",
       "  <th>SEX_FEMALE</th>            <td>   -4.1008</td> <td>    0.141</td> <td>  -29.184</td> <td> 0.000</td> <td>   -4.376</td> <td>   -3.825</td>\n",
       "</tr>\n",
       "<tr>\n",
       "  <th>RACE_BLACK</th>            <td>    0.5605</td> <td>    0.090</td> <td>    6.239</td> <td> 0.000</td> <td>    0.384</td> <td>    0.737</td>\n",
       "</tr>\n",
       "<tr>\n",
       "  <th>RACE_ASIAN</th>            <td>    0.0551</td> <td>    0.105</td> <td>    0.524</td> <td> 0.600</td> <td>   -0.151</td> <td>    0.261</td>\n",
       "</tr>\n",
       "<tr>\n",
       "  <th>RACE_HISPANIC</th>         <td>   -0.4729</td> <td>    0.055</td> <td>   -8.597</td> <td> 0.000</td> <td>   -0.581</td> <td>   -0.365</td>\n",
       "</tr>\n",
       "<tr>\n",
       "  <th>RACE_OTHER</th>            <td>   -0.4864</td> <td>    0.444</td> <td>   -1.096</td> <td> 0.273</td> <td>   -1.356</td> <td>    0.383</td>\n",
       "</tr>\n",
       "<tr>\n",
       "  <th>POVERTY_BPL</th>           <td>    2.0499</td> <td>    0.077</td> <td>   26.464</td> <td> 0.000</td> <td>    1.898</td> <td>    2.202</td>\n",
       "</tr>\n",
       "<tr>\n",
       "  <th>EMPLOYMENT_UNEMPLOYED</th> <td>    1.0162</td> <td>    0.206</td> <td>    4.941</td> <td> 0.000</td> <td>    0.613</td> <td>    1.419</td>\n",
       "</tr>\n",
       "</table>"
      ],
      "text/plain": [
       "<class 'statsmodels.iolib.summary.Summary'>\n",
       "\"\"\"\n",
       "                          Generalized Linear Model Regression Results                           \n",
       "================================================================================================\n",
       "Dep. Variable:     ['ARREST_COUNT', 'NOT_ARREST_COUNT']   No. Observations:                 2081\n",
       "Model:                                              GLM   Df Residuals:                     2073\n",
       "Model Family:                                  Binomial   Df Model:                            7\n",
       "Link Function:                                    logit   Scale:                          1.0000\n",
       "Method:                                            IRLS   Log-Likelihood:                -9164.9\n",
       "Date:                                  Fri, 16 Nov 2018   Deviance:                       13829.\n",
       "Time:                                          15:56:57   Pearson chi2:                 3.45e+04\n",
       "No. Iterations:                                       9   Covariance Type:             nonrobust\n",
       "=========================================================================================\n",
       "                            coef    std err          z      P>|z|      [0.025      0.975]\n",
       "-----------------------------------------------------------------------------------------\n",
       "const                    -4.4060      0.084    -52.646      0.000      -4.570      -4.242\n",
       "SEX_FEMALE               -4.1008      0.141    -29.184      0.000      -4.376      -3.825\n",
       "RACE_BLACK                0.5605      0.090      6.239      0.000       0.384       0.737\n",
       "RACE_ASIAN                0.0551      0.105      0.524      0.600      -0.151       0.261\n",
       "RACE_HISPANIC            -0.4729      0.055     -8.597      0.000      -0.581      -0.365\n",
       "RACE_OTHER               -0.4864      0.444     -1.096      0.273      -1.356       0.383\n",
       "POVERTY_BPL               2.0499      0.077     26.464      0.000       1.898       2.202\n",
       "EMPLOYMENT_UNEMPLOYED     1.0162      0.206      4.941      0.000       0.613       1.419\n",
       "=========================================================================================\n",
       "\"\"\""
      ]
     },
     "execution_count": 68,
     "metadata": {},
     "output_type": "execute_result"
    }
   ],
   "source": [
    "# generate inputs\n",
    "race_other = bgs[['RACE_NH_INDIAN', 'RACE_NH_HAWAIIAN', 'RACE_NH_OTHER', 'RACE_NH_MULTIRACIAL']].sum(axis=1)\n",
    "inputs = pandas.DataFrame({\n",
    "    'SEX_FEMALE': bgs['SEX_FEMALE'] / bgs['SEX_TOTAL'],\n",
    "    'RACE_BLACK': bgs['RACE_NH_BLACK'] / bgs['RACE_TOTAL'],\n",
    "    'RACE_ASIAN': bgs['RACE_NH_ASIAN'] / bgs['RACE_TOTAL'],\n",
    "    'RACE_HISPANIC': bgs['RACE_HISPANIC'] / bgs['RACE_TOTAL'],\n",
    "    'RACE_OTHER': race_other / bgs['RACE_TOTAL'],\n",
    "    'POVERTY_BPL': bgs['POVERTY_BPL'] / bgs['POVERTY_TOTAL'],\n",
    "    'EMPLOYMENT_UNEMPLOYED': bgs['EMPLOYMENT_UNEMPLOYED'] / bgs['EMPLOYMENT_TOTAL'],\n",
    "})\n",
    "inputs = statsmodels.api.add_constant(inputs)\n",
    "\n",
    "# generate outputs\n",
    "outputs = pandas.DataFrame({\n",
    "    'ARREST_COUNT': arrest_count,\n",
    "    'NOT_ARREST_COUNT': bgs['TOTAL_POPULATION'] - arrest_count,\n",
    "})\n",
    "\n",
    "# create model\n",
    "results = statsmodels.api.GLM(\n",
    "    outputs,\n",
    "    inputs,\n",
    "    family=statsmodels.api.families.Binomial(),\n",
    ").fit()\n",
    "results.summary()"
   ]
  },
  {
   "cell_type": "markdown",
   "metadata": {},
   "source": [
    "This looks better :D"
   ]
  }
 ],
 "metadata": {
  "kernelspec": {
   "display_name": "Python 3",
   "language": "python",
   "name": "python3"
  },
  "language_info": {
   "codemirror_mode": {
    "name": "ipython",
    "version": 3
   },
   "file_extension": ".py",
   "mimetype": "text/x-python",
   "name": "python",
   "nbconvert_exporter": "python",
   "pygments_lexer": "ipython3",
   "version": "3.7.0"
  }
 },
 "nbformat": 4,
 "nbformat_minor": 2
}
