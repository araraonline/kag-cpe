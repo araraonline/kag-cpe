{
 "cells": [
  {
   "cell_type": "markdown",
   "metadata": {},
   "source": [
    "# Department states\n",
    "\n",
    "The \"consistent\" external data that we have is exactly the shapefiles. These shapefiles dictate the division of police districts or divisions, etc. \n",
    "\n",
    "The objective of this kernel is, from the shapefiles, extract the state of each department. We can also do that in other ways, but I believe this may work."
   ]
  },
  {
   "cell_type": "code",
   "execution_count": 2,
   "metadata": {},
   "outputs": [],
   "source": [
    "import geopandas as gpd\n",
    "\n",
    "from cpe_help import Department"
   ]
  },
  {
   "cell_type": "code",
   "execution_count": 4,
   "metadata": {},
   "outputs": [],
   "source": [
    "df = gpd.read_file(str(Department('11-00091').dir / 'external' / 'shapefiles'))"
   ]
  },
  {
   "cell_type": "code",
   "execution_count": 5,
   "metadata": {},
   "outputs": [
    {
     "data": {
      "text/html": [
       "<div>\n",
       "<style scoped>\n",
       "    .dataframe tbody tr th:only-of-type {\n",
       "        vertical-align: middle;\n",
       "    }\n",
       "\n",
       "    .dataframe tbody tr th {\n",
       "        vertical-align: top;\n",
       "    }\n",
       "\n",
       "    .dataframe thead th {\n",
       "        text-align: right;\n",
       "    }\n",
       "</style>\n",
       "<table border=\"1\" class=\"dataframe\">\n",
       "  <thead>\n",
       "    <tr style=\"text-align: right;\">\n",
       "      <th></th>\n",
       "      <th>DISTRICT_I</th>\n",
       "      <th>ID</th>\n",
       "      <th>DISTRICT</th>\n",
       "      <th>SHAPE_area</th>\n",
       "      <th>SHAPE_len</th>\n",
       "      <th>geometry</th>\n",
       "    </tr>\n",
       "  </thead>\n",
       "  <tbody>\n",
       "    <tr>\n",
       "      <th>0</th>\n",
       "      <td>0.0</td>\n",
       "      <td>D14</td>\n",
       "      <td>D14</td>\n",
       "      <td>1.236310e+08</td>\n",
       "      <td>58042.148803</td>\n",
       "      <td>POLYGON ((761381.3979588002 2953617.032912135,...</td>\n",
       "    </tr>\n",
       "    <tr>\n",
       "      <th>1</th>\n",
       "      <td>0.0</td>\n",
       "      <td>A15</td>\n",
       "      <td>A15</td>\n",
       "      <td>3.798285e+07</td>\n",
       "      <td>57557.005649</td>\n",
       "      <td>(POLYGON ((771204.100559935 2967616.400093168,...</td>\n",
       "    </tr>\n",
       "    <tr>\n",
       "      <th>2</th>\n",
       "      <td>0.0</td>\n",
       "      <td>A7</td>\n",
       "      <td>A7</td>\n",
       "      <td>1.401151e+08</td>\n",
       "      <td>138468.216239</td>\n",
       "      <td>(POLYGON ((792187.2998114824 2969573.400287002...</td>\n",
       "    </tr>\n",
       "    <tr>\n",
       "      <th>3</th>\n",
       "      <td>0.0</td>\n",
       "      <td>A1</td>\n",
       "      <td>A1</td>\n",
       "      <td>4.545927e+07</td>\n",
       "      <td>49109.158160</td>\n",
       "      <td>POLYGON ((777233.1995735615 2959747.999957845,...</td>\n",
       "    </tr>\n",
       "    <tr>\n",
       "      <th>4</th>\n",
       "      <td>0.0</td>\n",
       "      <td>D4</td>\n",
       "      <td>D4</td>\n",
       "      <td>7.004073e+07</td>\n",
       "      <td>40964.780546</td>\n",
       "      <td>POLYGON ((774623.0384191275 2950664.443597391,...</td>\n",
       "    </tr>\n",
       "  </tbody>\n",
       "</table>\n",
       "</div>"
      ],
      "text/plain": [
       "   DISTRICT_I   ID DISTRICT    SHAPE_area      SHAPE_len  \\\n",
       "0         0.0  D14      D14  1.236310e+08   58042.148803   \n",
       "1         0.0  A15      A15  3.798285e+07   57557.005649   \n",
       "2         0.0   A7       A7  1.401151e+08  138468.216239   \n",
       "3         0.0   A1       A1  4.545927e+07   49109.158160   \n",
       "4         0.0   D4       D4  7.004073e+07   40964.780546   \n",
       "\n",
       "                                            geometry  \n",
       "0  POLYGON ((761381.3979588002 2953617.032912135,...  \n",
       "1  (POLYGON ((771204.100559935 2967616.400093168,...  \n",
       "2  (POLYGON ((792187.2998114824 2969573.400287002...  \n",
       "3  POLYGON ((777233.1995735615 2959747.999957845,...  \n",
       "4  POLYGON ((774623.0384191275 2950664.443597391,...  "
      ]
     },
     "execution_count": 5,
     "metadata": {},
     "output_type": "execute_result"
    }
   ],
   "source": [
    "df.head()"
   ]
  },
  {
   "cell_type": "markdown",
   "metadata": {},
   "source": [
    "No county or state information available... we are going to have to base ourselves on the geometry."
   ]
  }
 ],
 "metadata": {
  "kernelspec": {
   "display_name": "Python 3",
   "language": "python",
   "name": "python3"
  },
  "language_info": {
   "codemirror_mode": {
    "name": "ipython",
    "version": 3
   },
   "file_extension": ".py",
   "mimetype": "text/x-python",
   "name": "python",
   "nbconvert_exporter": "python",
   "pygments_lexer": "ipython3",
   "version": "3.7.0"
  }
 },
 "nbformat": 4,
 "nbformat_minor": 2
}
