{
 "cells": [
  {
   "cell_type": "markdown",
   "metadata": {},
   "source": [
    "# Check ACS sources\n",
    "\n",
    "In this notebooks I will explore the various options for retrieving data from the ACS."
   ]
  },
  {
   "cell_type": "markdown",
   "metadata": {},
   "source": [
    "## Scope\n",
    "\n",
    "- Department 11-00091\n",
    "- Boston, Suffolk County - Massachusetts\n",
    "- Tracts / Variance Tables / Microdata\n",
    "\n",
    "[1]: https://factfinder.census.gov/faces/tableservices/jsf/pages/productview.xhtml?pid=ACS_16_5YR_S0101&prodType=table"
   ]
  },
  {
   "cell_type": "code",
   "execution_count": 1,
   "metadata": {},
   "outputs": [],
   "source": [
    "import pandas as pd\n",
    "from cpe_help import Census, list_departments"
   ]
  },
  {
   "cell_type": "code",
   "execution_count": 2,
   "metadata": {},
   "outputs": [
    {
     "data": {
      "text/plain": [
       "Department('11-00091')"
      ]
     },
     "execution_count": 2,
     "metadata": {},
     "output_type": "execute_result"
    }
   ],
   "source": [
    "dept = list_departments()[0]\n",
    "dept"
   ]
  },
  {
   "cell_type": "code",
   "execution_count": 3,
   "metadata": {},
   "outputs": [
    {
     "data": {
      "text/plain": [
       "'25'"
      ]
     },
     "execution_count": 3,
     "metadata": {},
     "output_type": "execute_result"
    }
   ],
   "source": [
    "dept.load_guessed_state()"
   ]
  },
  {
   "cell_type": "markdown",
   "metadata": {},
   "source": [
    "## Tracts\n",
    "\n",
    "Table is here: https://factfinder.census.gov/faces/tableservices/jsf/pages/productview.xhtml?pid=ACS_16_5YR_S0101&prodType=table\n",
    "\n",
    "No need to download.\n",
    "\n",
    "This is also the usual format and the one that CPE gave to us."
   ]
  },
  {
   "cell_type": "markdown",
   "metadata": {},
   "source": [
    "## Microdata\n",
    "\n",
    "Microdata won't work for this case. The examples are granular, but the location of examples not (they are regions bigger than the census tracts).\n",
    "\n",
    "[Reference][1].\n",
    "\n",
    "[1]: https://www.census.gov/content/dam/Census/programs-surveys/acs/guidance/training-presentations/20180214_PUMS.pdf"
   ]
  },
  {
   "cell_type": "markdown",
   "metadata": {},
   "source": [
    "## Variance Replicate Tables\n",
    "\n",
    "This is where the gold is (if estimating margin of errors is something considered valuable).\n",
    "\n",
    "[Source][1]\n",
    "\n",
    "[1]: https://www.census.gov/programs-surveys/acs/data/variance-tables.html"
   ]
  },
  {
   "cell_type": "markdown",
   "metadata": {},
   "source": [
    "Table:\n",
    "\n",
    "- https://www2.census.gov/programs-surveys/acs/replicate_estimates/2016/data/5-year/140/B01001_25.csv.gz"
   ]
  },
  {
   "cell_type": "code",
   "execution_count": 4,
   "metadata": {},
   "outputs": [],
   "source": [
    "census = Census()"
   ]
  },
  {
   "cell_type": "code",
   "execution_count": 5,
   "metadata": {},
   "outputs": [
    {
     "data": {
      "text/html": [
       "<div>\n",
       "<style scoped>\n",
       "    .dataframe tbody tr th:only-of-type {\n",
       "        vertical-align: middle;\n",
       "    }\n",
       "\n",
       "    .dataframe tbody tr th {\n",
       "        vertical-align: top;\n",
       "    }\n",
       "\n",
       "    .dataframe thead th {\n",
       "        text-align: right;\n",
       "    }\n",
       "</style>\n",
       "<table border=\"1\" class=\"dataframe\">\n",
       "  <thead>\n",
       "    <tr style=\"text-align: right;\">\n",
       "      <th></th>\n",
       "      <th>TBLID</th>\n",
       "      <th>GEOID</th>\n",
       "      <th>NAME</th>\n",
       "      <th>ORDER</th>\n",
       "      <th>TITLE</th>\n",
       "      <th>estimate</th>\n",
       "      <th>moe</th>\n",
       "      <th>CME</th>\n",
       "      <th>SE</th>\n",
       "      <th>Var_Rep1</th>\n",
       "      <th>...</th>\n",
       "      <th>Var_Rep71</th>\n",
       "      <th>Var_Rep72</th>\n",
       "      <th>Var_Rep73</th>\n",
       "      <th>Var_Rep74</th>\n",
       "      <th>Var_Rep75</th>\n",
       "      <th>Var_Rep76</th>\n",
       "      <th>Var_Rep77</th>\n",
       "      <th>Var_Rep78</th>\n",
       "      <th>Var_Rep79</th>\n",
       "      <th>Var_Rep80</th>\n",
       "    </tr>\n",
       "  </thead>\n",
       "  <tbody>\n",
       "    <tr>\n",
       "      <th>0</th>\n",
       "      <td>B01001</td>\n",
       "      <td>NaN</td>\n",
       "      <td>NaN</td>\n",
       "      <td>NaN</td>\n",
       "      <td>SEX BY AGE</td>\n",
       "      <td>NaN</td>\n",
       "      <td>NaN</td>\n",
       "      <td>NaN</td>\n",
       "      <td>NaN</td>\n",
       "      <td>NaN</td>\n",
       "      <td>...</td>\n",
       "      <td>NaN</td>\n",
       "      <td>NaN</td>\n",
       "      <td>NaN</td>\n",
       "      <td>NaN</td>\n",
       "      <td>NaN</td>\n",
       "      <td>NaN</td>\n",
       "      <td>NaN</td>\n",
       "      <td>NaN</td>\n",
       "      <td>NaN</td>\n",
       "      <td>NaN</td>\n",
       "    </tr>\n",
       "    <tr>\n",
       "      <th>1</th>\n",
       "      <td>B01001</td>\n",
       "      <td>NaN</td>\n",
       "      <td>NaN</td>\n",
       "      <td>NaN</td>\n",
       "      <td>Universe:  Total population</td>\n",
       "      <td>NaN</td>\n",
       "      <td>NaN</td>\n",
       "      <td>NaN</td>\n",
       "      <td>NaN</td>\n",
       "      <td>NaN</td>\n",
       "      <td>...</td>\n",
       "      <td>NaN</td>\n",
       "      <td>NaN</td>\n",
       "      <td>NaN</td>\n",
       "      <td>NaN</td>\n",
       "      <td>NaN</td>\n",
       "      <td>NaN</td>\n",
       "      <td>NaN</td>\n",
       "      <td>NaN</td>\n",
       "      <td>NaN</td>\n",
       "      <td>NaN</td>\n",
       "    </tr>\n",
       "    <tr>\n",
       "      <th>2</th>\n",
       "      <td>B01001</td>\n",
       "      <td>14000US25001010100</td>\n",
       "      <td>Census Tract 101, Barnstable County, Massachus...</td>\n",
       "      <td>1.0</td>\n",
       "      <td>Total:</td>\n",
       "      <td>2962.0</td>\n",
       "      <td>16.0</td>\n",
       "      <td>+/-16</td>\n",
       "      <td>9.0</td>\n",
       "      <td>2974.0</td>\n",
       "      <td>...</td>\n",
       "      <td>2968.0</td>\n",
       "      <td>2966.0</td>\n",
       "      <td>2966.0</td>\n",
       "      <td>2965.0</td>\n",
       "      <td>2965.0</td>\n",
       "      <td>2966.0</td>\n",
       "      <td>2954.0</td>\n",
       "      <td>2963.0</td>\n",
       "      <td>2968.0</td>\n",
       "      <td>2964.0</td>\n",
       "    </tr>\n",
       "    <tr>\n",
       "      <th>3</th>\n",
       "      <td>B01001</td>\n",
       "      <td>14000US25001010100</td>\n",
       "      <td>Census Tract 101, Barnstable County, Massachus...</td>\n",
       "      <td>2.0</td>\n",
       "      <td>Male:</td>\n",
       "      <td>1595.0</td>\n",
       "      <td>174.0</td>\n",
       "      <td>+/-174</td>\n",
       "      <td>106.0</td>\n",
       "      <td>1601.0</td>\n",
       "      <td>...</td>\n",
       "      <td>1595.0</td>\n",
       "      <td>1569.0</td>\n",
       "      <td>1616.0</td>\n",
       "      <td>1650.0</td>\n",
       "      <td>1646.0</td>\n",
       "      <td>1501.0</td>\n",
       "      <td>1478.0</td>\n",
       "      <td>1638.0</td>\n",
       "      <td>1664.0</td>\n",
       "      <td>1589.0</td>\n",
       "    </tr>\n",
       "    <tr>\n",
       "      <th>4</th>\n",
       "      <td>B01001</td>\n",
       "      <td>14000US25001010100</td>\n",
       "      <td>Census Tract 101, Barnstable County, Massachus...</td>\n",
       "      <td>3.0</td>\n",
       "      <td>Under 5 years</td>\n",
       "      <td>57.0</td>\n",
       "      <td>50.0</td>\n",
       "      <td>+/-50</td>\n",
       "      <td>30.0</td>\n",
       "      <td>64.0</td>\n",
       "      <td>...</td>\n",
       "      <td>63.0</td>\n",
       "      <td>79.0</td>\n",
       "      <td>83.0</td>\n",
       "      <td>56.0</td>\n",
       "      <td>70.0</td>\n",
       "      <td>51.0</td>\n",
       "      <td>48.0</td>\n",
       "      <td>55.0</td>\n",
       "      <td>45.0</td>\n",
       "      <td>33.0</td>\n",
       "    </tr>\n",
       "  </tbody>\n",
       "</table>\n",
       "<p>5 rows × 89 columns</p>\n",
       "</div>"
      ],
      "text/plain": [
       "    TBLID               GEOID  \\\n",
       "0  B01001                 NaN   \n",
       "1  B01001                 NaN   \n",
       "2  B01001  14000US25001010100   \n",
       "3  B01001  14000US25001010100   \n",
       "4  B01001  14000US25001010100   \n",
       "\n",
       "                                                NAME  ORDER  \\\n",
       "0                                                NaN    NaN   \n",
       "1                                                NaN    NaN   \n",
       "2  Census Tract 101, Barnstable County, Massachus...    1.0   \n",
       "3  Census Tract 101, Barnstable County, Massachus...    2.0   \n",
       "4  Census Tract 101, Barnstable County, Massachus...    3.0   \n",
       "\n",
       "                         TITLE  estimate    moe     CME     SE  Var_Rep1  \\\n",
       "0                   SEX BY AGE       NaN    NaN     NaN    NaN       NaN   \n",
       "1  Universe:  Total population       NaN    NaN     NaN    NaN       NaN   \n",
       "2                       Total:    2962.0   16.0   +/-16    9.0    2974.0   \n",
       "3                        Male:    1595.0  174.0  +/-174  106.0    1601.0   \n",
       "4                Under 5 years      57.0   50.0   +/-50   30.0      64.0   \n",
       "\n",
       "     ...      Var_Rep71  Var_Rep72  Var_Rep73  Var_Rep74  Var_Rep75  \\\n",
       "0    ...            NaN        NaN        NaN        NaN        NaN   \n",
       "1    ...            NaN        NaN        NaN        NaN        NaN   \n",
       "2    ...         2968.0     2966.0     2966.0     2965.0     2965.0   \n",
       "3    ...         1595.0     1569.0     1616.0     1650.0     1646.0   \n",
       "4    ...           63.0       79.0       83.0       56.0       70.0   \n",
       "\n",
       "   Var_Rep76  Var_Rep77  Var_Rep78  Var_Rep79  Var_Rep80  \n",
       "0        NaN        NaN        NaN        NaN        NaN  \n",
       "1        NaN        NaN        NaN        NaN        NaN  \n",
       "2     2966.0     2954.0     2963.0     2968.0     2964.0  \n",
       "3     1501.0     1478.0     1638.0     1664.0     1589.0  \n",
       "4       51.0       48.0       55.0       45.0       33.0  \n",
       "\n",
       "[5 rows x 89 columns]"
      ]
     },
     "execution_count": 5,
     "metadata": {},
     "output_type": "execute_result"
    }
   ],
   "source": [
    "df = pd.read_csv(census.path / 'sample_vrt.csv.gz', compression=None)\n",
    "df.head()"
   ]
  },
  {
   "cell_type": "code",
   "execution_count": 6,
   "metadata": {},
   "outputs": [
    {
     "data": {
      "text/plain": [
       "(72424, 89)"
      ]
     },
     "execution_count": 6,
     "metadata": {},
     "output_type": "execute_result"
    }
   ],
   "source": [
    "df.shape"
   ]
  },
  {
   "cell_type": "markdown",
   "metadata": {},
   "source": [
    "That's fun!"
   ]
  }
 ],
 "metadata": {
  "kernelspec": {
   "display_name": "Python 3",
   "language": "python",
   "name": "python3"
  },
  "language_info": {
   "codemirror_mode": {
    "name": "ipython",
    "version": 3
   },
   "file_extension": ".py",
   "mimetype": "text/x-python",
   "name": "python",
   "nbconvert_exporter": "python",
   "pygments_lexer": "ipython3",
   "version": "3.7.0"
  }
 },
 "nbformat": 4,
 "nbformat_minor": 2
}
