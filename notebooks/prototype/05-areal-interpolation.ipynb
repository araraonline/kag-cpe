{
 "cells": [
  {
   "cell_type": "markdown",
   "metadata": {},
   "source": [
    "# 05. Areal Interpolation\n",
    "\n",
    "Let's create prototypes for the types of areal interpolation that we want (right now, just weighted is okay)."
   ]
  },
  {
   "cell_type": "markdown",
   "metadata": {},
   "source": [
    "# Prepare dummy data"
   ]
  },
  {
   "cell_type": "code",
   "execution_count": 1,
   "metadata": {},
   "outputs": [],
   "source": [
    "import geopandas as gpd\n",
    "import matplotlib.pyplot as plt\n",
    "import pandas as pd\n",
    "from shapely.geometry import Polygon"
   ]
  },
  {
   "cell_type": "code",
   "execution_count": 2,
   "metadata": {},
   "outputs": [
    {
     "data": {
      "image/png": "[encoded data removed]",
      "text/plain": [
       "<Figure size 432x288 with 1 Axes>"
      ]
     },
     "metadata": {
      "needs_background": "light"
     },
     "output_type": "display_data"
    }
   ],
   "source": [
    "sq1 = Polygon([(0, 0), (0, 2), (2, 2), (2, 0)])\n",
    "sq2 = Polygon([(2, 0), (2, 2), (4, 2), (4, 0)])\n",
    "\n",
    "inputs = gpd.GeoDataFrame(geometry=[sq1, sq2])\n",
    "inputs['area'] = inputs.area\n",
    "inputs.plot(cmap='Set1');"
   ]
  },
  {
   "cell_type": "code",
   "execution_count": 3,
   "metadata": {},
   "outputs": [
    {
     "data": {
      "image/png": "[encoded data removed]",
      "text/plain": [
       "<Figure size 432x288 with 1 Axes>"
      ]
     },
     "metadata": {
      "needs_background": "light"
     },
     "output_type": "display_data"
    }
   ],
   "source": [
    "sq1 = Polygon([(0, 0), (0, 2), (1, 2), (1, 0)])\n",
    "sq2 = Polygon([(1, 0), (1, 2), (3, 2), (3, 0)])\n",
    "sq3 = Polygon([(3, 0), (3, 2), (4, 2), (4, 0)])\n",
    "\n",
    "outputs = gpd.GeoDataFrame(geometry=[sq1, sq2, sq3])\n",
    "outputs['area'] = outputs.area\n",
    "outputs.plot(cmap='Set1');"
   ]
  },
  {
   "cell_type": "markdown",
   "metadata": {},
   "source": [
    "# Weighted Areal Interpolation (a.k.a. *overlay*)"
   ]
  },
  {
   "cell_type": "markdown",
   "metadata": {},
   "source": [
    "## Values"
   ]
  },
  {
   "cell_type": "code",
   "execution_count": 4,
   "metadata": {},
   "outputs": [],
   "source": [
    "inputs['value'] = [1, 2]\n",
    "outputs['value'] = [0.5, 1.5, 1]"
   ]
  },
  {
   "cell_type": "code",
   "execution_count": 5,
   "metadata": {},
   "outputs": [],
   "source": [
    "inputs['density'] = inputs['value'] / inputs['area']\n",
    "outputs['density'] = outputs['value'] / outputs['area']"
   ]
  },
  {
   "cell_type": "code",
   "execution_count": 6,
   "metadata": {},
   "outputs": [
    {
     "data": {
      "image/png": "[encoded data removed]",
      "text/plain": [
       "<Figure size 432x288 with 2 Axes>"
      ]
     },
     "metadata": {
      "needs_background": "light"
     },
     "output_type": "display_data"
    }
   ],
   "source": [
    "inputs.plot(column='density', legend=True, cmap='Blues', edgecolor='black')\n",
    "plt.title('Input Density');"
   ]
  },
  {
   "cell_type": "code",
   "execution_count": 7,
   "metadata": {},
   "outputs": [
    {
     "data": {
      "image/png": "[encoded data removed]",
      "text/plain": [
       "<Figure size 432x288 with 2 Axes>"
      ]
     },
     "metadata": {
      "needs_background": "light"
     },
     "output_type": "display_data"
    }
   ],
   "source": [
    "outputs.plot(column='density', legend=True, cmap='Blues', edgecolor='black')\n",
    "plt.title('(Expected) Output Density');"
   ]
  },
  {
   "cell_type": "markdown",
   "metadata": {},
   "source": [
    "## Function"
   ]
  },
  {
   "cell_type": "code",
   "execution_count": 8,
   "metadata": {},
   "outputs": [],
   "source": [
    "def weighted_areas(source, target):\n",
    "    # TODO equal area\n",
    "\n",
    "    # checks\n",
    "    assert source.crs == target.crs\n",
    "    assert source.unary_union.contains(target.unary_union)\n",
    "\n",
    "    source_values = source.select_dtypes(include='number')\n",
    "    var_names = source_values.columns\n",
    "    source_geoms = source.geometry\n",
    "    target_geoms = target.geometry\n",
    "\n",
    "    # preprocess (speed)\n",
    "    target_union = target_geoms.unary_union\n",
    "    source_geoms = source_geoms[source_geoms.intersects(target_union)]\n",
    "\n",
    "    # algorithm\n",
    "    target_values = []\n",
    "    for t_id, t_geom in target_geoms.iteritems():        \n",
    "        # calculate target value (actually an array of values)\n",
    "        t_value = pd.Series(0, index=var_names)\n",
    "        for s_id, s_geom in source_geoms.iteritems():\n",
    "            if t_geom.intersects(s_geom):\n",
    "                intersect = t_geom.intersection(s_geom)\n",
    "                ratio = intersect.area / s_geom.area\n",
    "                s_value = source_values.loc[s_id]\n",
    "                t_value += s_value * ratio\n",
    "                \n",
    "        t_value.name = t_id\n",
    "        target_values.append(t_value)\n",
    "\n",
    "    # target_values is already in the same order as target_geoms\n",
    "    return gpd.GeoDataFrame(\n",
    "        target_values,\n",
    "        geometry=target_geoms,\n",
    "        crs=target_geoms.crs,\n",
    "    )"
   ]
  },
  {
   "cell_type": "code",
   "execution_count": 9,
   "metadata": {},
   "outputs": [
    {
     "data": {
      "text/html": [
       "<div>\n",
       "<style scoped>\n",
       "    .dataframe tbody tr th:only-of-type {\n",
       "        vertical-align: middle;\n",
       "    }\n",
       "\n",
       "    .dataframe tbody tr th {\n",
       "        vertical-align: top;\n",
       "    }\n",
       "\n",
       "    .dataframe thead th {\n",
       "        text-align: right;\n",
       "    }\n",
       "</style>\n",
       "<table border=\"1\" class=\"dataframe\">\n",
       "  <thead>\n",
       "    <tr style=\"text-align: right;\">\n",
       "      <th></th>\n",
       "      <th>area</th>\n",
       "      <th>value</th>\n",
       "      <th>density</th>\n",
       "      <th>geometry</th>\n",
       "    </tr>\n",
       "  </thead>\n",
       "  <tbody>\n",
       "    <tr>\n",
       "      <th>0</th>\n",
       "      <td>2.0</td>\n",
       "      <td>0.5</td>\n",
       "      <td>0.125</td>\n",
       "      <td>POLYGON ((0 0, 0 2, 1 2, 1 0, 0 0))</td>\n",
       "    </tr>\n",
       "    <tr>\n",
       "      <th>1</th>\n",
       "      <td>4.0</td>\n",
       "      <td>1.5</td>\n",
       "      <td>0.375</td>\n",
       "      <td>POLYGON ((1 0, 1 2, 3 2, 3 0, 1 0))</td>\n",
       "    </tr>\n",
       "    <tr>\n",
       "      <th>2</th>\n",
       "      <td>2.0</td>\n",
       "      <td>1.0</td>\n",
       "      <td>0.250</td>\n",
       "      <td>POLYGON ((3 0, 3 2, 4 2, 4 0, 3 0))</td>\n",
       "    </tr>\n",
       "  </tbody>\n",
       "</table>\n",
       "</div>"
      ],
      "text/plain": [
       "   area  value  density                             geometry\n",
       "0   2.0    0.5    0.125  POLYGON ((0 0, 0 2, 1 2, 1 0, 0 0))\n",
       "1   4.0    1.5    0.375  POLYGON ((1 0, 1 2, 3 2, 3 0, 1 0))\n",
       "2   2.0    1.0    0.250  POLYGON ((3 0, 3 2, 4 2, 4 0, 3 0))"
      ]
     },
     "execution_count": 9,
     "metadata": {},
     "output_type": "execute_result"
    }
   ],
   "source": [
    "source = inputs.copy()\n",
    "target = outputs.geometry.copy()\n",
    "result = weighted_areas(source, target)  # works nice\n",
    "result"
   ]
  },
  {
   "cell_type": "code",
   "execution_count": 10,
   "metadata": {},
   "outputs": [
    {
     "data": {
      "image/png": "[encoded data removed]",
      "text/plain": [
       "<Figure size 432x288 with 2 Axes>"
      ]
     },
     "metadata": {
      "needs_background": "light"
     },
     "output_type": "display_data"
    }
   ],
   "source": [
    "outputs.plot(column='value', legend=True)\n",
    "plt.title('Expected');"
   ]
  },
  {
   "cell_type": "code",
   "execution_count": 11,
   "metadata": {},
   "outputs": [
    {
     "data": {
      "image/png": "[encoded data removed]",
      "text/plain": [
       "<Figure size 432x288 with 2 Axes>"
      ]
     },
     "metadata": {
      "needs_background": "light"
     },
     "output_type": "display_data"
    }
   ],
   "source": [
    "result.plot(column='value', legend=True)\n",
    "plt.title('Result');"
   ]
  }
 ],
 "metadata": {
  "kernelspec": {
   "display_name": "Python 3",
   "language": "python",
   "name": "python3"
  },
  "language_info": {
   "codemirror_mode": {
    "name": "ipython",
    "version": 3
   },
   "file_extension": ".py",
   "mimetype": "text/x-python",
   "name": "python",
   "nbconvert_exporter": "python",
   "pygments_lexer": "ipython3",
   "version": "3.7.0"
  }
 },
 "nbformat": 4,
 "nbformat_minor": 2
}
