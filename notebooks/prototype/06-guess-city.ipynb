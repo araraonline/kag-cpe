{
 "cells": [
  {
   "cell_type": "markdown",
   "metadata": {},
   "source": [
    "# 6. Guess department city\n",
    "\n",
    "In this kernel, I will try guessing the city of each department. Hmm!"
   ]
  },
  {
   "cell_type": "code",
   "execution_count": 1,
   "metadata": {},
   "outputs": [],
   "source": [
    "%matplotlib inline\n",
    "\n",
    "from cpe_help import Department\n",
    "from cpe_help.tiger import get_tiger\n",
    "from cpe_help.util.crs import equal_area_from_geodf"
   ]
  },
  {
   "cell_type": "code",
   "execution_count": 2,
   "metadata": {},
   "outputs": [],
   "source": [
    "tiger = get_tiger()\n",
    "dept = Department.sample()"
   ]
  },
  {
   "cell_type": "code",
   "execution_count": 3,
   "metadata": {},
   "outputs": [],
   "source": [
    "uac = tiger.load_urban_areas()\n",
    "police = dept.load_preprocessed_shapefile()\n",
    "police = police.to_crs(uac.crs)"
   ]
  },
  {
   "cell_type": "code",
   "execution_count": 4,
   "metadata": {},
   "outputs": [
    {
     "data": {
      "text/plain": [
       "1    3601\n",
       "Name: NAME10, dtype: int64"
      ]
     },
     "execution_count": 4,
     "metadata": {},
     "output_type": "execute_result"
    }
   ],
   "source": [
    "# check if name can be split\n",
    "# Ok!\n",
    "\n",
    "uac['NAME10'].apply(lambda x: x.count(',')).value_counts()"
   ]
  },
  {
   "cell_type": "code",
   "execution_count": 5,
   "metadata": {},
   "outputs": [
    {
     "data": {
      "text/html": [
       "<div>\n",
       "<style scoped>\n",
       "    .dataframe tbody tr th:only-of-type {\n",
       "        vertical-align: middle;\n",
       "    }\n",
       "\n",
       "    .dataframe tbody tr th {\n",
       "        vertical-align: top;\n",
       "    }\n",
       "\n",
       "    .dataframe thead th {\n",
       "        text-align: right;\n",
       "    }\n",
       "</style>\n",
       "<table border=\"1\" class=\"dataframe\">\n",
       "  <thead>\n",
       "    <tr style=\"text-align: right;\">\n",
       "      <th></th>\n",
       "      <th>UACE10</th>\n",
       "      <th>GEOID10</th>\n",
       "      <th>NAME10</th>\n",
       "      <th>NAMELSAD10</th>\n",
       "      <th>LSAD10</th>\n",
       "      <th>MTFCC10</th>\n",
       "      <th>UATYP10</th>\n",
       "      <th>FUNCSTAT10</th>\n",
       "      <th>ALAND10</th>\n",
       "      <th>AWATER10</th>\n",
       "      <th>INTPTLAT10</th>\n",
       "      <th>INTPTLON10</th>\n",
       "      <th>geometry</th>\n",
       "    </tr>\n",
       "  </thead>\n",
       "  <tbody>\n",
       "    <tr>\n",
       "      <th>1593</th>\n",
       "      <td>09271</td>\n",
       "      <td>09271</td>\n",
       "      <td>Boston, MA--NH--RI</td>\n",
       "      <td>Boston, MA--NH--RI Urbanized Area</td>\n",
       "      <td>75</td>\n",
       "      <td>G3500</td>\n",
       "      <td>U</td>\n",
       "      <td>S</td>\n",
       "      <td>4852285339</td>\n",
       "      <td>202265876</td>\n",
       "      <td>+42.3731315</td>\n",
       "      <td>-071.1407078</td>\n",
       "      <td>(POLYGON ((-71.64691599999999 42.644126, -71.6...</td>\n",
       "    </tr>\n",
       "  </tbody>\n",
       "</table>\n",
       "</div>"
      ],
      "text/plain": [
       "     UACE10 GEOID10              NAME10                         NAMELSAD10  \\\n",
       "1593  09271   09271  Boston, MA--NH--RI  Boston, MA--NH--RI Urbanized Area   \n",
       "\n",
       "     LSAD10 MTFCC10 UATYP10 FUNCSTAT10     ALAND10   AWATER10   INTPTLAT10  \\\n",
       "1593     75   G3500       U          S  4852285339  202265876  +42.3731315   \n",
       "\n",
       "        INTPTLON10                                           geometry  \n",
       "1593  -071.1407078  (POLYGON ((-71.64691599999999 42.644126, -71.6...  "
      ]
     },
     "execution_count": 5,
     "metadata": {},
     "output_type": "execute_result"
    }
   ],
   "source": [
    "uac = uac[uac.intersects(police.unary_union)]\n",
    "uac.head()"
   ]
  },
  {
   "cell_type": "code",
   "execution_count": 6,
   "metadata": {},
   "outputs": [],
   "source": [
    "proj = equal_area_from_geodf(uac)\n",
    "uac = uac.to_crs(proj)\n",
    "police = police.to_crs(proj)"
   ]
  },
  {
   "cell_type": "code",
   "execution_count": 7,
   "metadata": {},
   "outputs": [
    {
     "data": {
      "text/plain": [
       "1593"
      ]
     },
     "execution_count": 7,
     "metadata": {},
     "output_type": "execute_result"
    }
   ],
   "source": [
    "idx = uac.intersection(police.unary_union).area.idxmax()  # stil works with points (if only one city intersect)\n",
    "idx"
   ]
  },
  {
   "cell_type": "code",
   "execution_count": 8,
   "metadata": {},
   "outputs": [
    {
     "data": {
      "text/plain": [
       "UACE10                                                    09271\n",
       "GEOID10                                                   09271\n",
       "NAME10                                       Boston, MA--NH--RI\n",
       "NAMELSAD10                    Boston, MA--NH--RI Urbanized Area\n",
       "LSAD10                                                       75\n",
       "MTFCC10                                                   G3500\n",
       "UATYP10                                                       U\n",
       "FUNCSTAT10                                                    S\n",
       "ALAND10                                              4852285339\n",
       "AWATER10                                              202265876\n",
       "INTPTLAT10                                          +42.3731315\n",
       "INTPTLON10                                         -071.1407078\n",
       "geometry      (POLYGON ((-36146.84329126229 25088.2234472110...\n",
       "Name: 1593, dtype: object"
      ]
     },
     "execution_count": 8,
     "metadata": {},
     "output_type": "execute_result"
    }
   ],
   "source": [
    "city_row = uac.loc[idx]\n",
    "city_row"
   ]
  },
  {
   "cell_type": "code",
   "execution_count": 9,
   "metadata": {},
   "outputs": [
    {
     "data": {
      "text/plain": [
       "'Boston'"
      ]
     },
     "execution_count": 9,
     "metadata": {},
     "output_type": "execute_result"
    }
   ],
   "source": [
    "city_name = city_row['NAME10'].split(',')[0]\n",
    "city_name"
   ]
  },
  {
   "cell_type": "markdown",
   "metadata": {},
   "source": [
    "And that's the name we were looking for..."
   ]
  }
 ],
 "metadata": {
  "kernelspec": {
   "display_name": "Python 3",
   "language": "python",
   "name": "python3"
  },
  "language_info": {
   "codemirror_mode": {
    "name": "ipython",
    "version": 3
   },
   "file_extension": ".py",
   "mimetype": "text/x-python",
   "name": "python",
   "nbconvert_exporter": "python",
   "pygments_lexer": "ipython3",
   "version": "3.7.0"
  }
 },
 "nbformat": 4,
 "nbformat_minor": 2
}
