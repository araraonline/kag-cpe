{
 "cells": [
  {
   "cell_type": "markdown",
   "metadata": {},
   "source": [
    "# 6.0 Preprocess Incident Files\n",
    "\n",
    "This file will summarize the next 12 notebooks. Each notebook will be a prototype for preprocessing the externally provided file for a given department.\n",
    "\n",
    "The order that this will be done will be in alphabetic order. Later on I may choose another order or decide that preprocessing everything is way too much.\n",
    "\n",
    "Main objectives:\n",
    "\n",
    "- Preprocess datetime to a standard\n",
    "- Preprocess spatial data to a standard\n",
    "- Preprocess categories of data (e.g. OIS) to a standard\n",
    "\n",
    "  This includes categorizing types of crimes into categories like infraction/felony.\n",
    "  \n",
    "- Discover types of data that may be useful\n",
    "- *Summarize departments data so that a model can be applied uniformly*\n",
    "\n",
    "  Same for EDAs.\n",
    "  \n",
    "Here's a link to the UOF Files EDA: [10-uof-files][1]\n",
    "\n",
    "[1]: http://localhost:8888/notebooks/notebooks/eda/10-uof-files.ipynb"
   ]
  }
 ],
 "metadata": {
  "kernelspec": {
   "display_name": "Python 3",
   "language": "python",
   "name": "python3"
  },
  "language_info": {
   "codemirror_mode": {
    "name": "ipython",
    "version": 3
   },
   "file_extension": ".py",
   "mimetype": "text/x-python",
   "name": "python",
   "nbconvert_exporter": "python",
   "pygments_lexer": "ipython3",
   "version": "3.7.0"
  }
 },
 "nbformat": 4,
 "nbformat_minor": 2
}
