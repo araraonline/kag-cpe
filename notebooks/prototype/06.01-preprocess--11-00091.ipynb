{
 "cells": [
  {
   "cell_type": "markdown",
   "metadata": {},
   "source": [
    "# 6.1 Preprocess department 11-00091 (Boston, MA)\n",
    "\n",
    "This is a prototype for preprocessing Boston's Field Interviews data file."
   ]
  },
  {
   "cell_type": "code",
   "execution_count": 51,
   "metadata": {},
   "outputs": [],
   "source": [
    "import numpy\n",
    "import pandas\n",
    "\n",
    "from cpe_help import Department"
   ]
  },
  {
   "cell_type": "code",
   "execution_count": 7,
   "metadata": {},
   "outputs": [],
   "source": [
    "dept = Department('11-00091')\n",
    "path = dept.tabular_input_dir / '11-00091_Field-Interviews_2011-2015.csv'\n",
    "df = pandas.read_csv(path, skiprows=[1], low_memory=False)"
   ]
  },
  {
   "cell_type": "code",
   "execution_count": 23,
   "metadata": {},
   "outputs": [
    {
     "data": {
      "text/plain": [
       "(152230, 34)"
      ]
     },
     "execution_count": 23,
     "metadata": {},
     "output_type": "execute_result"
    }
   ],
   "source": [
    "df.shape"
   ]
  },
  {
   "cell_type": "code",
   "execution_count": 17,
   "metadata": {},
   "outputs": [
    {
     "data": {
      "text/html": [
       "<div>\n",
       "<style scoped>\n",
       "    .dataframe tbody tr th:only-of-type {\n",
       "        vertical-align: middle;\n",
       "    }\n",
       "\n",
       "    .dataframe tbody tr th {\n",
       "        vertical-align: top;\n",
       "    }\n",
       "\n",
       "    .dataframe thead th {\n",
       "        text-align: right;\n",
       "    }\n",
       "</style>\n",
       "<table border=\"1\" class=\"dataframe\">\n",
       "  <thead>\n",
       "    <tr style=\"text-align: right;\">\n",
       "      <th></th>\n",
       "      <th>0</th>\n",
       "      <th>1</th>\n",
       "      <th>2</th>\n",
       "      <th>3</th>\n",
       "      <th>4</th>\n",
       "    </tr>\n",
       "  </thead>\n",
       "  <tbody>\n",
       "    <tr>\n",
       "      <th>INCIDENT_UNIQUE_IDENTIFIER</th>\n",
       "      <td>938283</td>\n",
       "      <td>881897</td>\n",
       "      <td>882060</td>\n",
       "      <td>971623</td>\n",
       "      <td>882761</td>\n",
       "    </tr>\n",
       "    <tr>\n",
       "      <th>INCIDENT_UNIQUE_IDENTIFIER.1</th>\n",
       "      <td>621880</td>\n",
       "      <td>565177</td>\n",
       "      <td>565340</td>\n",
       "      <td>653895</td>\n",
       "      <td>566043</td>\n",
       "    </tr>\n",
       "    <tr>\n",
       "      <th>SUBJECT_GENDER</th>\n",
       "      <td>MALE</td>\n",
       "      <td>MALE</td>\n",
       "      <td>MALE</td>\n",
       "      <td>MALE</td>\n",
       "      <td>MALE</td>\n",
       "    </tr>\n",
       "    <tr>\n",
       "      <th>LOCATION_FULL_STREET_ADDRESS_OR_INTERSECTION</th>\n",
       "      <td>NORMANDY ST at SUPPLE RD</td>\n",
       "      <td>75 BOYLSTON ST</td>\n",
       "      <td>5 TOPLIFF ST</td>\n",
       "      <td>170 MORTON ST</td>\n",
       "      <td>0 ST ALPHONSUS ST</td>\n",
       "    </tr>\n",
       "    <tr>\n",
       "      <th>LOCATION_DISTRICT</th>\n",
       "      <td>B2</td>\n",
       "      <td>A1</td>\n",
       "      <td>C11</td>\n",
       "      <td>B2</td>\n",
       "      <td>B2</td>\n",
       "    </tr>\n",
       "    <tr>\n",
       "      <th>LOCATION_DISTRICT.1</th>\n",
       "      <td>3</td>\n",
       "      <td>1</td>\n",
       "      <td>5</td>\n",
       "      <td>3</td>\n",
       "      <td>3</td>\n",
       "    </tr>\n",
       "    <tr>\n",
       "      <th>INCIDENT_DATE</th>\n",
       "      <td>12/10/13 0:00</td>\n",
       "      <td>5/24/12 0:00</td>\n",
       "      <td>6/4/12 0:00</td>\n",
       "      <td>6/21/14 0:00</td>\n",
       "      <td>12/2/10 0:00</td>\n",
       "    </tr>\n",
       "    <tr>\n",
       "      <th>INCIDENT_TIME</th>\n",
       "      <td>12/10/13 0:00</td>\n",
       "      <td>5/24/12 0:00</td>\n",
       "      <td>6/4/12 0:00</td>\n",
       "      <td>6/21/14 0:00</td>\n",
       "      <td>12/2/10 0:00</td>\n",
       "    </tr>\n",
       "    <tr>\n",
       "      <th>SUBJECT_DETAILS</th>\n",
       "      <td>YES</td>\n",
       "      <td>NO</td>\n",
       "      <td>YES</td>\n",
       "      <td>YES</td>\n",
       "      <td>YES</td>\n",
       "    </tr>\n",
       "    <tr>\n",
       "      <th>SUBJECT_RACE</th>\n",
       "      <td>B(Black)</td>\n",
       "      <td>W(White)</td>\n",
       "      <td>B(Black)</td>\n",
       "      <td>B(Black)</td>\n",
       "      <td>B(Black)</td>\n",
       "    </tr>\n",
       "    <tr>\n",
       "      <th>SUBJECT_DETAILS.1</th>\n",
       "      <td>blk jacket, blk shirt, blue jeans, wht sneakers</td>\n",
       "      <td>GRY. SWEATSHIRT, BLUE JEANS</td>\n",
       "      <td>GRY SWEATSHIRT, GRY PANTS</td>\n",
       "      <td>lime green shirt, blue jeans</td>\n",
       "      <td>BLU DOWN VEST BLU PANTS</td>\n",
       "    </tr>\n",
       "    <tr>\n",
       "      <th>SUBJECT_DETAILS.2</th>\n",
       "      <td>Med</td>\n",
       "      <td>Med</td>\n",
       "      <td>Dark</td>\n",
       "      <td>Med</td>\n",
       "      <td>Light</td>\n",
       "    </tr>\n",
       "    <tr>\n",
       "      <th>UNKNOWN_FIELD_TYPE</th>\n",
       "      <td>IOFS</td>\n",
       "      <td>IO</td>\n",
       "      <td>IOF</td>\n",
       "      <td>IOFS</td>\n",
       "      <td>IO</td>\n",
       "    </tr>\n",
       "    <tr>\n",
       "      <th>UNKNOWN_FIELD_TYPE.1</th>\n",
       "      <td>NO</td>\n",
       "      <td>NO</td>\n",
       "      <td>NO</td>\n",
       "      <td>NO</td>\n",
       "      <td>NO</td>\n",
       "    </tr>\n",
       "    <tr>\n",
       "      <th>SEARCH_CONDUCTED</th>\n",
       "      <td>VP</td>\n",
       "      <td>NaN</td>\n",
       "      <td>NaN</td>\n",
       "      <td>NaN</td>\n",
       "      <td>P</td>\n",
       "    </tr>\n",
       "    <tr>\n",
       "      <th>SEARCH_REASON</th>\n",
       "      <td>CONSENT SEARCH</td>\n",
       "      <td>REASONABLE SUSPICION</td>\n",
       "      <td>NaN</td>\n",
       "      <td>NaN</td>\n",
       "      <td>REASONABLE SUSPICION</td>\n",
       "    </tr>\n",
       "    <tr>\n",
       "      <th>INCIDENT_REASON</th>\n",
       "      <td>INVESTIGATIVE</td>\n",
       "      <td>RADIO CALL</td>\n",
       "      <td>OTHER (SPECIFY)</td>\n",
       "      <td>INVESTIGATIVE</td>\n",
       "      <td>INVESTIGATIVE</td>\n",
       "    </tr>\n",
       "    <tr>\n",
       "      <th>INCIDENT_REASON.1</th>\n",
       "      <td>DRUGS, INVESTIGATION</td>\n",
       "      <td>DRUGS, POSSESSION</td>\n",
       "      <td>INVESTIGATE, PERSON</td>\n",
       "      <td>ABDW</td>\n",
       "      <td>VAL</td>\n",
       "    </tr>\n",
       "    <tr>\n",
       "      <th>DISPOSITION</th>\n",
       "      <td>SFO</td>\n",
       "      <td>F</td>\n",
       "      <td>F</td>\n",
       "      <td>S</td>\n",
       "      <td>F</td>\n",
       "    </tr>\n",
       "    <tr>\n",
       "      <th>VEHICLE_MAKE</th>\n",
       "      <td>NISSAN</td>\n",
       "      <td>NO DATA ENTERED</td>\n",
       "      <td>NO DATA ENTERED</td>\n",
       "      <td>NO DATA ENTERED</td>\n",
       "      <td>SATURN</td>\n",
       "    </tr>\n",
       "    <tr>\n",
       "      <th>VEHICLE_YEAR</th>\n",
       "      <td>2012</td>\n",
       "      <td>0</td>\n",
       "      <td>0</td>\n",
       "      <td>0</td>\n",
       "      <td>2001</td>\n",
       "    </tr>\n",
       "    <tr>\n",
       "      <th>VEHICLE_COLOR</th>\n",
       "      <td>SILVER</td>\n",
       "      <td>NO DATA ENTERED</td>\n",
       "      <td>NO DATA ENTERED</td>\n",
       "      <td>NO DATA ENTERED</td>\n",
       "      <td>RED</td>\n",
       "    </tr>\n",
       "    <tr>\n",
       "      <th>VEHICLE_MODEL</th>\n",
       "      <td>max</td>\n",
       "      <td>NaN</td>\n",
       "      <td>NaN</td>\n",
       "      <td>NaN</td>\n",
       "      <td>2DR</td>\n",
       "    </tr>\n",
       "    <tr>\n",
       "      <th>VEHICLE_DETAILS</th>\n",
       "      <td>DRIVER</td>\n",
       "      <td>NaN</td>\n",
       "      <td>NaN</td>\n",
       "      <td>NaN</td>\n",
       "      <td>NaN</td>\n",
       "    </tr>\n",
       "    <tr>\n",
       "      <th>VEHICLE_DETAILS.1</th>\n",
       "      <td>MA</td>\n",
       "      <td>NO DATA ENTERED</td>\n",
       "      <td>NO DATA ENTERED</td>\n",
       "      <td>NO DATA ENTERED</td>\n",
       "      <td>MA</td>\n",
       "    </tr>\n",
       "    <tr>\n",
       "      <th>OFFICER_SUPERVISOR</th>\n",
       "      <td>10132</td>\n",
       "      <td>8949</td>\n",
       "      <td>11312</td>\n",
       "      <td>9375</td>\n",
       "      <td>NaN</td>\n",
       "    </tr>\n",
       "    <tr>\n",
       "      <th>OFFICER_ID</th>\n",
       "      <td>98656</td>\n",
       "      <td>9765</td>\n",
       "      <td>83575</td>\n",
       "      <td>76146</td>\n",
       "      <td>107106</td>\n",
       "    </tr>\n",
       "    <tr>\n",
       "      <th>OFFICER_ASSIGNMENT</th>\n",
       "      <td>9999</td>\n",
       "      <td>1</td>\n",
       "      <td>16</td>\n",
       "      <td>25</td>\n",
       "      <td>3</td>\n",
       "    </tr>\n",
       "    <tr>\n",
       "      <th>OFFICER_ASSIGNMENT.1</th>\n",
       "      <td>OTHER</td>\n",
       "      <td>A1</td>\n",
       "      <td>YVSF</td>\n",
       "      <td>BIKE</td>\n",
       "      <td>B2</td>\n",
       "    </tr>\n",
       "    <tr>\n",
       "      <th>OFFICER_ETHNICITY</th>\n",
       "      <td>NaN</td>\n",
       "      <td>NaN</td>\n",
       "      <td>NaN</td>\n",
       "      <td>NaN</td>\n",
       "      <td>NaN</td>\n",
       "    </tr>\n",
       "    <tr>\n",
       "      <th>OFFICER_RACE</th>\n",
       "      <td>B(Black)</td>\n",
       "      <td>W(White)</td>\n",
       "      <td>B(Black)</td>\n",
       "      <td>B(Black)</td>\n",
       "      <td>B(Black)</td>\n",
       "    </tr>\n",
       "    <tr>\n",
       "      <th>OFFICER_AGE</th>\n",
       "      <td>59</td>\n",
       "      <td>26</td>\n",
       "      <td>18</td>\n",
       "      <td>24</td>\n",
       "      <td>70</td>\n",
       "    </tr>\n",
       "    <tr>\n",
       "      <th>LOCATION_STREET_NUMBER</th>\n",
       "      <td>3274</td>\n",
       "      <td>543</td>\n",
       "      <td>4493</td>\n",
       "      <td>3094</td>\n",
       "      <td>4241</td>\n",
       "    </tr>\n",
       "    <tr>\n",
       "      <th>LOCATION_CITY</th>\n",
       "      <td>NO DATA ENTERED</td>\n",
       "      <td>OTHER</td>\n",
       "      <td>NO DATA ENTERED</td>\n",
       "      <td>Dorchester</td>\n",
       "      <td>Dorchester</td>\n",
       "    </tr>\n",
       "  </tbody>\n",
       "</table>\n",
       "</div>"
      ],
      "text/plain": [
       "                                                                                            0  \\\n",
       "INCIDENT_UNIQUE_IDENTIFIER                                                             938283   \n",
       "INCIDENT_UNIQUE_IDENTIFIER.1                                                           621880   \n",
       "SUBJECT_GENDER                                                                           MALE   \n",
       "LOCATION_FULL_STREET_ADDRESS_OR_INTERSECTION                         NORMANDY ST at SUPPLE RD   \n",
       "LOCATION_DISTRICT                                                                          B2   \n",
       "LOCATION_DISTRICT.1                                                                         3   \n",
       "INCIDENT_DATE                                                                   12/10/13 0:00   \n",
       "INCIDENT_TIME                                                                   12/10/13 0:00   \n",
       "SUBJECT_DETAILS                                                                           YES   \n",
       "SUBJECT_RACE                                                                         B(Black)   \n",
       "SUBJECT_DETAILS.1                             blk jacket, blk shirt, blue jeans, wht sneakers   \n",
       "SUBJECT_DETAILS.2                                                                         Med   \n",
       "UNKNOWN_FIELD_TYPE                                                                       IOFS   \n",
       "UNKNOWN_FIELD_TYPE.1                                                                       NO   \n",
       "SEARCH_CONDUCTED                                                                           VP   \n",
       "SEARCH_REASON                                                                  CONSENT SEARCH   \n",
       "INCIDENT_REASON                                                                 INVESTIGATIVE   \n",
       "INCIDENT_REASON.1                                                        DRUGS, INVESTIGATION   \n",
       "DISPOSITION                                                                               SFO   \n",
       "VEHICLE_MAKE                                                                           NISSAN   \n",
       "VEHICLE_YEAR                                                                             2012   \n",
       "VEHICLE_COLOR                                                                          SILVER   \n",
       "VEHICLE_MODEL                                                                             max   \n",
       "VEHICLE_DETAILS                                                                        DRIVER   \n",
       "VEHICLE_DETAILS.1                                                                          MA   \n",
       "OFFICER_SUPERVISOR                                                                      10132   \n",
       "OFFICER_ID                                                                              98656   \n",
       "OFFICER_ASSIGNMENT                                                                       9999   \n",
       "OFFICER_ASSIGNMENT.1                                                                    OTHER   \n",
       "OFFICER_ETHNICITY                                                                         NaN   \n",
       "OFFICER_RACE                                                                         B(Black)   \n",
       "OFFICER_AGE                                                                                59   \n",
       "LOCATION_STREET_NUMBER                                                                   3274   \n",
       "LOCATION_CITY                                                                 NO DATA ENTERED   \n",
       "\n",
       "                                                                        1  \\\n",
       "INCIDENT_UNIQUE_IDENTIFIER                                         881897   \n",
       "INCIDENT_UNIQUE_IDENTIFIER.1                                       565177   \n",
       "SUBJECT_GENDER                                                       MALE   \n",
       "LOCATION_FULL_STREET_ADDRESS_OR_INTERSECTION               75 BOYLSTON ST   \n",
       "LOCATION_DISTRICT                                                      A1   \n",
       "LOCATION_DISTRICT.1                                                     1   \n",
       "INCIDENT_DATE                                                5/24/12 0:00   \n",
       "INCIDENT_TIME                                                5/24/12 0:00   \n",
       "SUBJECT_DETAILS                                                        NO   \n",
       "SUBJECT_RACE                                                     W(White)   \n",
       "SUBJECT_DETAILS.1                             GRY. SWEATSHIRT, BLUE JEANS   \n",
       "SUBJECT_DETAILS.2                                                     Med   \n",
       "UNKNOWN_FIELD_TYPE                                                     IO   \n",
       "UNKNOWN_FIELD_TYPE.1                                                   NO   \n",
       "SEARCH_CONDUCTED                                                      NaN   \n",
       "SEARCH_REASON                                        REASONABLE SUSPICION   \n",
       "INCIDENT_REASON                                                RADIO CALL   \n",
       "INCIDENT_REASON.1                                       DRUGS, POSSESSION   \n",
       "DISPOSITION                                                             F   \n",
       "VEHICLE_MAKE                                              NO DATA ENTERED   \n",
       "VEHICLE_YEAR                                                            0   \n",
       "VEHICLE_COLOR                                             NO DATA ENTERED   \n",
       "VEHICLE_MODEL                                                         NaN   \n",
       "VEHICLE_DETAILS                                                       NaN   \n",
       "VEHICLE_DETAILS.1                                         NO DATA ENTERED   \n",
       "OFFICER_SUPERVISOR                                                   8949   \n",
       "OFFICER_ID                                                           9765   \n",
       "OFFICER_ASSIGNMENT                                                      1   \n",
       "OFFICER_ASSIGNMENT.1                                                   A1   \n",
       "OFFICER_ETHNICITY                                                     NaN   \n",
       "OFFICER_RACE                                                     W(White)   \n",
       "OFFICER_AGE                                                            26   \n",
       "LOCATION_STREET_NUMBER                                                543   \n",
       "LOCATION_CITY                                                       OTHER   \n",
       "\n",
       "                                                                      2  \\\n",
       "INCIDENT_UNIQUE_IDENTIFIER                                       882060   \n",
       "INCIDENT_UNIQUE_IDENTIFIER.1                                     565340   \n",
       "SUBJECT_GENDER                                                     MALE   \n",
       "LOCATION_FULL_STREET_ADDRESS_OR_INTERSECTION               5 TOPLIFF ST   \n",
       "LOCATION_DISTRICT                                                   C11   \n",
       "LOCATION_DISTRICT.1                                                   5   \n",
       "INCIDENT_DATE                                               6/4/12 0:00   \n",
       "INCIDENT_TIME                                               6/4/12 0:00   \n",
       "SUBJECT_DETAILS                                                     YES   \n",
       "SUBJECT_RACE                                                   B(Black)   \n",
       "SUBJECT_DETAILS.1                             GRY SWEATSHIRT, GRY PANTS   \n",
       "SUBJECT_DETAILS.2                                                  Dark   \n",
       "UNKNOWN_FIELD_TYPE                                                  IOF   \n",
       "UNKNOWN_FIELD_TYPE.1                                                 NO   \n",
       "SEARCH_CONDUCTED                                                    NaN   \n",
       "SEARCH_REASON                                                       NaN   \n",
       "INCIDENT_REASON                                         OTHER (SPECIFY)   \n",
       "INCIDENT_REASON.1                                   INVESTIGATE, PERSON   \n",
       "DISPOSITION                                                           F   \n",
       "VEHICLE_MAKE                                            NO DATA ENTERED   \n",
       "VEHICLE_YEAR                                                          0   \n",
       "VEHICLE_COLOR                                           NO DATA ENTERED   \n",
       "VEHICLE_MODEL                                                       NaN   \n",
       "VEHICLE_DETAILS                                                     NaN   \n",
       "VEHICLE_DETAILS.1                                       NO DATA ENTERED   \n",
       "OFFICER_SUPERVISOR                                                11312   \n",
       "OFFICER_ID                                                        83575   \n",
       "OFFICER_ASSIGNMENT                                                   16   \n",
       "OFFICER_ASSIGNMENT.1                                               YVSF   \n",
       "OFFICER_ETHNICITY                                                   NaN   \n",
       "OFFICER_RACE                                                   B(Black)   \n",
       "OFFICER_AGE                                                          18   \n",
       "LOCATION_STREET_NUMBER                                             4493   \n",
       "LOCATION_CITY                                           NO DATA ENTERED   \n",
       "\n",
       "                                                                         3  \\\n",
       "INCIDENT_UNIQUE_IDENTIFIER                                          971623   \n",
       "INCIDENT_UNIQUE_IDENTIFIER.1                                        653895   \n",
       "SUBJECT_GENDER                                                        MALE   \n",
       "LOCATION_FULL_STREET_ADDRESS_OR_INTERSECTION                 170 MORTON ST   \n",
       "LOCATION_DISTRICT                                                       B2   \n",
       "LOCATION_DISTRICT.1                                                      3   \n",
       "INCIDENT_DATE                                                 6/21/14 0:00   \n",
       "INCIDENT_TIME                                                 6/21/14 0:00   \n",
       "SUBJECT_DETAILS                                                        YES   \n",
       "SUBJECT_RACE                                                      B(Black)   \n",
       "SUBJECT_DETAILS.1                             lime green shirt, blue jeans   \n",
       "SUBJECT_DETAILS.2                                                      Med   \n",
       "UNKNOWN_FIELD_TYPE                                                    IOFS   \n",
       "UNKNOWN_FIELD_TYPE.1                                                    NO   \n",
       "SEARCH_CONDUCTED                                                       NaN   \n",
       "SEARCH_REASON                                                          NaN   \n",
       "INCIDENT_REASON                                              INVESTIGATIVE   \n",
       "INCIDENT_REASON.1                                                     ABDW   \n",
       "DISPOSITION                                                              S   \n",
       "VEHICLE_MAKE                                               NO DATA ENTERED   \n",
       "VEHICLE_YEAR                                                             0   \n",
       "VEHICLE_COLOR                                              NO DATA ENTERED   \n",
       "VEHICLE_MODEL                                                          NaN   \n",
       "VEHICLE_DETAILS                                                        NaN   \n",
       "VEHICLE_DETAILS.1                                          NO DATA ENTERED   \n",
       "OFFICER_SUPERVISOR                                                    9375   \n",
       "OFFICER_ID                                                           76146   \n",
       "OFFICER_ASSIGNMENT                                                      25   \n",
       "OFFICER_ASSIGNMENT.1                                                  BIKE   \n",
       "OFFICER_ETHNICITY                                                      NaN   \n",
       "OFFICER_RACE                                                      B(Black)   \n",
       "OFFICER_AGE                                                             24   \n",
       "LOCATION_STREET_NUMBER                                                3094   \n",
       "LOCATION_CITY                                                   Dorchester   \n",
       "\n",
       "                                                                    4  \n",
       "INCIDENT_UNIQUE_IDENTIFIER                                     882761  \n",
       "INCIDENT_UNIQUE_IDENTIFIER.1                                   566043  \n",
       "SUBJECT_GENDER                                                   MALE  \n",
       "LOCATION_FULL_STREET_ADDRESS_OR_INTERSECTION        0 ST ALPHONSUS ST  \n",
       "LOCATION_DISTRICT                                                  B2  \n",
       "LOCATION_DISTRICT.1                                                 3  \n",
       "INCIDENT_DATE                                            12/2/10 0:00  \n",
       "INCIDENT_TIME                                            12/2/10 0:00  \n",
       "SUBJECT_DETAILS                                                   YES  \n",
       "SUBJECT_RACE                                                 B(Black)  \n",
       "SUBJECT_DETAILS.1                             BLU DOWN VEST BLU PANTS  \n",
       "SUBJECT_DETAILS.2                                               Light  \n",
       "UNKNOWN_FIELD_TYPE                                                 IO  \n",
       "UNKNOWN_FIELD_TYPE.1                                               NO  \n",
       "SEARCH_CONDUCTED                                                    P  \n",
       "SEARCH_REASON                                    REASONABLE SUSPICION  \n",
       "INCIDENT_REASON                                         INVESTIGATIVE  \n",
       "INCIDENT_REASON.1                                                 VAL  \n",
       "DISPOSITION                                                         F  \n",
       "VEHICLE_MAKE                                                   SATURN  \n",
       "VEHICLE_YEAR                                                     2001  \n",
       "VEHICLE_COLOR                                                     RED  \n",
       "VEHICLE_MODEL                                                     2DR  \n",
       "VEHICLE_DETAILS                                                   NaN  \n",
       "VEHICLE_DETAILS.1                                                  MA  \n",
       "OFFICER_SUPERVISOR                                                NaN  \n",
       "OFFICER_ID                                                     107106  \n",
       "OFFICER_ASSIGNMENT                                                  3  \n",
       "OFFICER_ASSIGNMENT.1                                               B2  \n",
       "OFFICER_ETHNICITY                                                 NaN  \n",
       "OFFICER_RACE                                                 B(Black)  \n",
       "OFFICER_AGE                                                        70  \n",
       "LOCATION_STREET_NUMBER                                           4241  \n",
       "LOCATION_CITY                                              Dorchester  "
      ]
     },
     "execution_count": 17,
     "metadata": {},
     "output_type": "execute_result"
    }
   ],
   "source": [
    "df.head().T"
   ]
  },
  {
   "cell_type": "markdown",
   "metadata": {},
   "source": [
    "# Date and time"
   ]
  },
  {
   "cell_type": "code",
   "execution_count": 18,
   "metadata": {},
   "outputs": [],
   "source": [
    "date = df['INCIDENT_DATE']\n",
    "time = df['INCIDENT_TIME']"
   ]
  },
  {
   "cell_type": "code",
   "execution_count": 20,
   "metadata": {},
   "outputs": [
    {
     "data": {
      "text/plain": [
       "True"
      ]
     },
     "execution_count": 20,
     "metadata": {},
     "output_type": "execute_result"
    }
   ],
   "source": [
    "(date == time).all()"
   ]
  },
  {
   "cell_type": "markdown",
   "metadata": {},
   "source": [
    "`INCIDENT_DATE` and `INCIDENT_TIME` columns are the same. We can use only one."
   ]
  },
  {
   "cell_type": "code",
   "execution_count": 21,
   "metadata": {},
   "outputs": [],
   "source": [
    "del time"
   ]
  },
  {
   "cell_type": "code",
   "execution_count": 22,
   "metadata": {},
   "outputs": [
    {
     "data": {
      "text/plain": [
       "0    12/10/13 0:00\n",
       "1     5/24/12 0:00\n",
       "2      6/4/12 0:00\n",
       "3     6/21/14 0:00\n",
       "4     12/2/10 0:00\n",
       "Name: INCIDENT_DATE, dtype: object"
      ]
     },
     "execution_count": 22,
     "metadata": {},
     "output_type": "execute_result"
    }
   ],
   "source": [
    "date.head()"
   ]
  },
  {
   "cell_type": "markdown",
   "metadata": {},
   "source": [
    "First try:"
   ]
  },
  {
   "cell_type": "code",
   "execution_count": 29,
   "metadata": {},
   "outputs": [],
   "source": [
    "fdate = pandas.to_datetime(date, format='%m/%d/%y %H:%M')"
   ]
  },
  {
   "cell_type": "code",
   "execution_count": 30,
   "metadata": {},
   "outputs": [
    {
     "data": {
      "text/plain": [
       "count                  152230\n",
       "unique                   2140\n",
       "top       2014-04-25 00:00:00\n",
       "freq                      222\n",
       "first     1969-07-26 00:00:00\n",
       "last      2067-11-11 00:00:00\n",
       "Name: INCIDENT_DATE, dtype: object"
      ]
     },
     "execution_count": 30,
     "metadata": {},
     "output_type": "execute_result"
    }
   ],
   "source": [
    "fdate.describe()"
   ]
  },
  {
   "cell_type": "markdown",
   "metadata": {},
   "source": [
    "Now, wtf, didn't we just have data from 2011 to 2015?"
   ]
  },
  {
   "cell_type": "code",
   "execution_count": 33,
   "metadata": {},
   "outputs": [
    {
     "data": {
      "text/plain": [
       "<matplotlib.axes._subplots.AxesSubplot at 0x7fe64029c748>"
      ]
     },
     "execution_count": 33,
     "metadata": {},
     "output_type": "execute_result"
    },
    {
     "data": {
      "image/png": "[encoded data removed]",
      "text/plain": [
       "<Figure size 432x288 with 1 Axes>"
      ]
     },
     "metadata": {
      "needs_background": "light"
     },
     "output_type": "display_data"
    }
   ],
   "source": [
    "fdate.hist(bins=50)"
   ]
  },
  {
   "cell_type": "code",
   "execution_count": 45,
   "metadata": {
    "scrolled": true
   },
   "outputs": [
    {
     "data": {
      "text/plain": [
       "2012    38703\n",
       "2011    35227\n",
       "2014    33981\n",
       "2013    33370\n",
       "2015     9494\n",
       "2010      922\n",
       "2008      207\n",
       "2007      161\n",
       "2009       43\n",
       "2006       19\n",
       "2018       11\n",
       "2003        9\n",
       "2004        9\n",
       "2016        6\n",
       "2017        6\n",
       "1993        5\n",
       "2021        4\n",
       "2002        3\n",
       "1990        3\n",
       "1989        3\n",
       "Name: INCIDENT_DATE, dtype: int64"
      ]
     },
     "execution_count": 45,
     "metadata": {},
     "output_type": "execute_result"
    }
   ],
   "source": [
    "fdate.dt.year.value_counts().head(20)"
   ]
  },
  {
   "cell_type": "markdown",
   "metadata": {},
   "source": [
    "2020 is not a possible year right now. It must be data from 1920 or an error in the data. If it's not an error, it's a problem because, for example, we can't know if the following entries are from 1913 or 2013:"
   ]
  },
  {
   "cell_type": "code",
   "execution_count": 46,
   "metadata": {},
   "outputs": [
    {
     "data": {
      "text/plain": [
       "0    12/10/13 0:00\n",
       "6      8/3/13 0:00\n",
       "7     8/31/13 0:00\n",
       "8     8/31/13 0:00\n",
       "9     8/31/13 0:00\n",
       "Name: INCIDENT_DATE, dtype: object"
      ]
     },
     "execution_count": 46,
     "metadata": {},
     "output_type": "execute_result"
    }
   ],
   "source": [
    "date[fdate.dt.year == 2013].head()"
   ]
  },
  {
   "cell_type": "markdown",
   "metadata": {},
   "source": [
    "I believe that these entries are really interviews from the past that were somehow registered, seeing that the most common year after 2011-2015 is 2010. A similar trend follows.\n",
    "\n",
    "Given that we won't lose too much data if we drop these past years, let's do it!"
   ]
  },
  {
   "cell_type": "code",
   "execution_count": 49,
   "metadata": {},
   "outputs": [
    {
     "data": {
      "text/plain": [
       "0     True\n",
       "1     True\n",
       "2     True\n",
       "3     True\n",
       "4    False\n",
       "Name: INCIDENT_DATE, dtype: bool"
      ]
     },
     "execution_count": 49,
     "metadata": {},
     "output_type": "execute_result"
    }
   ],
   "source": [
    "year = fdate.dt.year\n",
    "date_inferred = (year >= 2011) & (year <= 2015)\n",
    "date_inferred.head()"
   ]
  },
  {
   "cell_type": "code",
   "execution_count": 50,
   "metadata": {},
   "outputs": [
    {
     "data": {
      "text/plain": [
       "0.9904420941995664"
      ]
     },
     "execution_count": 50,
     "metadata": {},
     "output_type": "execute_result"
    }
   ],
   "source": [
    "date_inferred.mean()\n",
    "\n",
    "# may also call INCIDENT_DATED"
   ]
  },
  {
   "cell_type": "markdown",
   "metadata": {},
   "source": [
    "Now to the dataframe:"
   ]
  },
  {
   "cell_type": "code",
   "execution_count": 52,
   "metadata": {},
   "outputs": [],
   "source": [
    "df = df.drop(['INCIDENT_DATE', 'INCIDENT_TIME'], axis=1)\n",
    "df['INCIDENT_DATED'] = date_inferred\n",
    "df['INCIDENT_DATE'] = fdate.where(date_inferred, other=numpy.nan)"
   ]
  },
  {
   "cell_type": "code",
   "execution_count": 57,
   "metadata": {},
   "outputs": [
    {
     "data": {
      "text/plain": [
       "0.9904420941995664"
      ]
     },
     "execution_count": 57,
     "metadata": {},
     "output_type": "execute_result"
    }
   ],
   "source": [
    "df.INCIDENT_DATED.mean()"
   ]
  },
  {
   "cell_type": "code",
   "execution_count": 56,
   "metadata": {},
   "outputs": [
    {
     "data": {
      "text/plain": [
       "0.9904420941995664"
      ]
     },
     "execution_count": 56,
     "metadata": {},
     "output_type": "execute_result"
    }
   ],
   "source": [
    "df.INCIDENT_DATE.notnull().mean()"
   ]
  },
  {
   "cell_type": "code",
   "execution_count": 59,
   "metadata": {},
   "outputs": [
    {
     "data": {
      "text/plain": [
       "count                  150775\n",
       "unique                   1668\n",
       "top       2014-04-25 00:00:00\n",
       "freq                      222\n",
       "first     2011-01-01 00:00:00\n",
       "last      2015-12-31 00:00:00\n",
       "Name: INCIDENT_DATE, dtype: object"
      ]
     },
     "execution_count": 59,
     "metadata": {},
     "output_type": "execute_result"
    }
   ],
   "source": [
    "df['INCIDENT_DATE'].describe()"
   ]
  },
  {
   "cell_type": "code",
   "execution_count": 61,
   "metadata": {},
   "outputs": [
    {
     "data": {
      "text/plain": [
       "2012.0    38703\n",
       "2011.0    35227\n",
       "2014.0    33981\n",
       "2013.0    33370\n",
       "2015.0     9494\n",
       "Name: INCIDENT_DATE, dtype: int64"
      ]
     },
     "execution_count": 61,
     "metadata": {},
     "output_type": "execute_result"
    }
   ],
   "source": [
    "df['INCIDENT_DATE'].dt.year.value_counts()"
   ]
  },
  {
   "cell_type": "markdown",
   "metadata": {},
   "source": [
    "One weird thing is why there are so few entries for 2015."
   ]
  },
  {
   "cell_type": "code",
   "execution_count": 62,
   "metadata": {},
   "outputs": [
    {
     "data": {
      "text/plain": [
       "<matplotlib.axes._subplots.AxesSubplot at 0x7fe63bbaa6d8>"
      ]
     },
     "execution_count": 62,
     "metadata": {},
     "output_type": "execute_result"
    },
    {
     "data": {
      "image/png": "[encoded data removed]",
      "text/plain": [
       "<Figure size 432x288 with 1 Axes>"
      ]
     },
     "metadata": {
      "needs_background": "light"
     },
     "output_type": "display_data"
    }
   ],
   "source": [
    "df['INCIDENT_DATE'].hist(bins=60)"
   ]
  },
  {
   "cell_type": "markdown",
   "metadata": {},
   "source": [
    "That's because the data is cut at a certain point. Let's find it, or, only use data until 2014."
   ]
  },
  {
   "cell_type": "code",
   "execution_count": 65,
   "metadata": {},
   "outputs": [
    {
     "data": {
      "text/plain": [
       "1     2316\n",
       "2     2431\n",
       "3     2774\n",
       "4     2934\n",
       "5     4083\n",
       "6     3071\n",
       "7     3363\n",
       "8     3299\n",
       "9     3194\n",
       "10    3035\n",
       "11    2005\n",
       "12    1476\n",
       "Name: INCIDENT_DATE, dtype: int64"
      ]
     },
     "execution_count": 65,
     "metadata": {},
     "output_type": "execute_result"
    }
   ],
   "source": [
    "fdate[fdate.dt.year == 2014].dt.month.value_counts().sort_index()"
   ]
  },
  {
   "cell_type": "code",
   "execution_count": 64,
   "metadata": {},
   "outputs": [
    {
     "data": {
      "text/plain": [
       "1     1898\n",
       "2      894\n",
       "3     2037\n",
       "4     1975\n",
       "5     2066\n",
       "6      577\n",
       "7        7\n",
       "8       10\n",
       "9        9\n",
       "10       8\n",
       "11       5\n",
       "12       8\n",
       "Name: INCIDENT_DATE, dtype: int64"
      ]
     },
     "execution_count": 64,
     "metadata": {},
     "output_type": "execute_result"
    }
   ],
   "source": [
    "fdate[fdate.dt.year == 2015].dt.month.value_counts().sort_index()"
   ]
  },
  {
   "cell_type": "code",
   "execution_count": 66,
   "metadata": {},
   "outputs": [
    {
     "data": {
      "text/plain": [
       "'49-00081 (San Francisco, CA)'"
      ]
     },
     "execution_count": 66,
     "metadata": {},
     "output_type": "execute_result"
    }
   ],
   "source": [
    "Department('49-00081').full_name"
   ]
  },
  {
   "cell_type": "markdown",
   "metadata": {},
   "source": [
    "The drop in interviews in February seems to have been caused by a [winter][1]. I think the data collection stopped mid June, so let's use data until May.\n",
    "\n",
    "Interestingly enough, department 49-00081 (San Francisco, CA) also has a table that goes until May, 2015. This may be a date when CPE retrieved some of the data.\n",
    "\n",
    "[1]: https://en.wikipedia.org/wiki/2014%E2%80%9315_North_American_winter#Mid-February_blizzard"
   ]
  },
  {
   "cell_type": "markdown",
   "metadata": {},
   "source": [
    "Clean:"
   ]
  },
  {
   "cell_type": "code",
   "execution_count": 77,
   "metadata": {},
   "outputs": [],
   "source": [
    "dept = Department('11-00091')\n",
    "path = dept.tabular_input_dir / '11-00091_Field-Interviews_2011-2015.csv'\n",
    "df = pandas.read_csv(path, skiprows=[1], low_memory=False)"
   ]
  },
  {
   "cell_type": "code",
   "execution_count": 78,
   "metadata": {},
   "outputs": [],
   "source": [
    "date = df['INCIDENT_DATE']\n",
    "fdate = pandas.to_datetime(date, format='%m/%d/%y %H:%M')"
   ]
  },
  {
   "cell_type": "code",
   "execution_count": 79,
   "metadata": {},
   "outputs": [],
   "source": [
    "date_min = pandas.to_datetime('2011-01-01')\n",
    "date_max = pandas.to_datetime('2015-05-31')\n",
    "\n",
    "date_inferred = (fdate >= date_min) & (fdate <= date_max)"
   ]
  },
  {
   "cell_type": "code",
   "execution_count": 80,
   "metadata": {},
   "outputs": [],
   "source": [
    "df = df.drop(['INCIDENT_DATE', 'INCIDENT_TIME'], axis=1)\n",
    "df['INCIDENT_DATED'] = date_inferred\n",
    "df['INCIDENT_DATE'] = fdate.where(date_inferred)"
   ]
  },
  {
   "cell_type": "code",
   "execution_count": 81,
   "metadata": {},
   "outputs": [
    {
     "data": {
      "text/plain": [
       "0.986343033567628"
      ]
     },
     "execution_count": 81,
     "metadata": {},
     "output_type": "execute_result"
    }
   ],
   "source": [
    "df['INCIDENT_DATED'].mean()"
   ]
  },
  {
   "cell_type": "code",
   "execution_count": 82,
   "metadata": {},
   "outputs": [
    {
     "data": {
      "text/plain": [
       "0.986343033567628"
      ]
     },
     "execution_count": 82,
     "metadata": {},
     "output_type": "execute_result"
    }
   ],
   "source": [
    "df['INCIDENT_DATE'].notnull().mean()"
   ]
  },
  {
   "cell_type": "code",
   "execution_count": 85,
   "metadata": {},
   "outputs": [
    {
     "data": {
      "text/plain": [
       "count                  150151\n",
       "unique                   1612\n",
       "top       2014-04-25 00:00:00\n",
       "freq                      222\n",
       "first     2011-01-01 00:00:00\n",
       "last      2015-05-31 00:00:00\n",
       "Name: INCIDENT_DATE, dtype: object"
      ]
     },
     "execution_count": 85,
     "metadata": {},
     "output_type": "execute_result"
    }
   ],
   "source": [
    "df['INCIDENT_DATE'].describe()"
   ]
  },
  {
   "cell_type": "code",
   "execution_count": 84,
   "metadata": {},
   "outputs": [
    {
     "data": {
      "image/png": "[encoded data removed]",
      "text/plain": [
       "<Figure size 432x288 with 1 Axes>"
      ]
     },
     "metadata": {
      "needs_background": "light"
     },
     "output_type": "display_data"
    }
   ],
   "source": [
    "df['INCIDENT_DATE'].hist(bins=12*4+5);"
   ]
  },
  {
   "cell_type": "markdown",
   "metadata": {},
   "source": [
    "# Location"
   ]
  },
  {
   "cell_type": "markdown",
   "metadata": {},
   "source": [
    "The only available LOCATION parameters are the following:"
   ]
  },
  {
   "cell_type": "code",
   "execution_count": 87,
   "metadata": {},
   "outputs": [
    {
     "data": {
      "text/html": [
       "<div>\n",
       "<style scoped>\n",
       "    .dataframe tbody tr th:only-of-type {\n",
       "        vertical-align: middle;\n",
       "    }\n",
       "\n",
       "    .dataframe tbody tr th {\n",
       "        vertical-align: top;\n",
       "    }\n",
       "\n",
       "    .dataframe thead th {\n",
       "        text-align: right;\n",
       "    }\n",
       "</style>\n",
       "<table border=\"1\" class=\"dataframe\">\n",
       "  <thead>\n",
       "    <tr style=\"text-align: right;\">\n",
       "      <th></th>\n",
       "      <th>LOCATION_FULL_STREET_ADDRESS_OR_INTERSECTION</th>\n",
       "      <th>LOCATION_DISTRICT</th>\n",
       "      <th>LOCATION_DISTRICT.1</th>\n",
       "      <th>LOCATION_STREET_NUMBER</th>\n",
       "      <th>LOCATION_CITY</th>\n",
       "    </tr>\n",
       "  </thead>\n",
       "  <tbody>\n",
       "    <tr>\n",
       "      <th>0</th>\n",
       "      <td>NORMANDY ST at SUPPLE RD</td>\n",
       "      <td>B2</td>\n",
       "      <td>3</td>\n",
       "      <td>3274</td>\n",
       "      <td>NO DATA ENTERED</td>\n",
       "    </tr>\n",
       "    <tr>\n",
       "      <th>1</th>\n",
       "      <td>75 BOYLSTON ST</td>\n",
       "      <td>A1</td>\n",
       "      <td>1</td>\n",
       "      <td>543</td>\n",
       "      <td>OTHER</td>\n",
       "    </tr>\n",
       "    <tr>\n",
       "      <th>2</th>\n",
       "      <td>5 TOPLIFF ST</td>\n",
       "      <td>C11</td>\n",
       "      <td>5</td>\n",
       "      <td>4493</td>\n",
       "      <td>NO DATA ENTERED</td>\n",
       "    </tr>\n",
       "    <tr>\n",
       "      <th>3</th>\n",
       "      <td>170 MORTON ST</td>\n",
       "      <td>B2</td>\n",
       "      <td>3</td>\n",
       "      <td>3094</td>\n",
       "      <td>Dorchester</td>\n",
       "    </tr>\n",
       "    <tr>\n",
       "      <th>4</th>\n",
       "      <td>0 ST ALPHONSUS ST</td>\n",
       "      <td>B2</td>\n",
       "      <td>3</td>\n",
       "      <td>4241</td>\n",
       "      <td>Dorchester</td>\n",
       "    </tr>\n",
       "  </tbody>\n",
       "</table>\n",
       "</div>"
      ],
      "text/plain": [
       "  LOCATION_FULL_STREET_ADDRESS_OR_INTERSECTION LOCATION_DISTRICT  \\\n",
       "0                     NORMANDY ST at SUPPLE RD                B2   \n",
       "1                               75 BOYLSTON ST                A1   \n",
       "2                                 5 TOPLIFF ST               C11   \n",
       "3                                170 MORTON ST                B2   \n",
       "4                            0 ST ALPHONSUS ST                B2   \n",
       "\n",
       "   LOCATION_DISTRICT.1  LOCATION_STREET_NUMBER    LOCATION_CITY  \n",
       "0                    3                    3274  NO DATA ENTERED  \n",
       "1                    1                     543            OTHER  \n",
       "2                    5                    4493  NO DATA ENTERED  \n",
       "3                    3                    3094       Dorchester  \n",
       "4                    3                    4241       Dorchester  "
      ]
     },
     "execution_count": 87,
     "metadata": {},
     "output_type": "execute_result"
    }
   ],
   "source": [
    "df[[c for c in df if c.startswith('LOCATION')]].head()"
   ]
  },
  {
   "cell_type": "markdown",
   "metadata": {},
   "source": [
    "With 152230 entries we will probably use batch requests.\n",
    "\n",
    "Running times:\n",
    "\n",
    "- 1 RPS (Request Per Second):  42h17m\n",
    "- 5 RPS (Request Per Second):  8h27m\n",
    "- 20 RPS (Request Per Second): 2h7m\n",
    "- 50 RPS (Request Per Second): 51m"
   ]
  },
  {
   "cell_type": "code",
   "execution_count": 95,
   "metadata": {},
   "outputs": [
    {
     "data": {
      "text/plain": [
       "Timedelta('0 days 00:50:44.600000')"
      ]
     },
     "execution_count": 95,
     "metadata": {},
     "output_type": "execute_result"
    }
   ],
   "source": [
    "pandas.Timedelta(seconds=152230 / 50)"
   ]
  },
  {
   "cell_type": "code",
   "execution_count": 91,
   "metadata": {},
   "outputs": [
    {
     "data": {
      "text/plain": [
       "42"
      ]
     },
     "execution_count": 91,
     "metadata": {},
     "output_type": "execute_result"
    }
   ],
   "source": [
    "24 + 18"
   ]
  },
  {
   "cell_type": "code",
   "execution_count": 88,
   "metadata": {},
   "outputs": [
    {
     "data": {
      "text/plain": [
       "(152230, 34)"
      ]
     },
     "execution_count": 88,
     "metadata": {},
     "output_type": "execute_result"
    }
   ],
   "source": [
    "df.shape"
   ]
  },
  {
   "cell_type": "markdown",
   "metadata": {},
   "source": [
    "I believe that with the address and number (also a bit of the city), it is possible to retrieve the coordinates. The process will be prone to errors, though, and we should use a service.\n",
    "\n",
    "Libraries:\n",
    "\n",
    "- https://github.com/DenisCarriere/geocoder\n",
    "- https://github.com/geopy/geopy"
   ]
  }
 ],
 "metadata": {
  "kernelspec": {
   "display_name": "Python 3",
   "language": "python",
   "name": "python3"
  },
  "language_info": {
   "codemirror_mode": {
    "name": "ipython",
    "version": 3
   },
   "file_extension": ".py",
   "mimetype": "text/x-python",
   "name": "python",
   "nbconvert_exporter": "python",
   "pygments_lexer": "ipython3",
   "version": "3.7.0"
  }
 },
 "nbformat": 4,
 "nbformat_minor": 2
}
