{
 "cells": [
  {
   "cell_type": "markdown",
   "metadata": {},
   "source": [
    "# 6.2 Preprocess department 23-00089 (Lawrence, IN) UOF\n",
    "\n",
    "Woah! This is the first UOF file to be prepared.\n",
    "\n",
    "First, we will be preoccupied with standardizing:\n",
    "\n",
    "- Date\n",
    "- Location\n",
    "\n",
    "Later on (after more UOF files have been reviewed), we can occupy ourself with more specific stuff, like... Column naming, categories inside columns, standard of formats..."
   ]
  },
  {
   "cell_type": "code",
   "execution_count": 3,
   "metadata": {},
   "outputs": [],
   "source": [
    "import pandas\n",
    "\n",
    "from cpe_help import Department"
   ]
  },
  {
   "cell_type": "code",
   "execution_count": 8,
   "metadata": {},
   "outputs": [],
   "source": [
    "dept = Department('23-00089')\n",
    "path = dept.tabular_input_dir / '23-00089_UOF-P.csv'\n",
    "df = pandas.read_csv(path, low_memory=False, skiprows=[1])"
   ]
  },
  {
   "cell_type": "code",
   "execution_count": 9,
   "metadata": {},
   "outputs": [
    {
     "data": {
      "text/plain": [
       "(10274, 26)"
      ]
     },
     "execution_count": 9,
     "metadata": {},
     "output_type": "execute_result"
    }
   ],
   "source": [
    "df.shape"
   ]
  },
  {
   "cell_type": "code",
   "execution_count": 10,
   "metadata": {},
   "outputs": [
    {
     "data": {
      "text/html": [
       "<div>\n",
       "<style scoped>\n",
       "    .dataframe tbody tr th:only-of-type {\n",
       "        vertical-align: middle;\n",
       "    }\n",
       "\n",
       "    .dataframe tbody tr th {\n",
       "        vertical-align: top;\n",
       "    }\n",
       "\n",
       "    .dataframe thead th {\n",
       "        text-align: right;\n",
       "    }\n",
       "</style>\n",
       "<table border=\"1\" class=\"dataframe\">\n",
       "  <thead>\n",
       "    <tr style=\"text-align: right;\">\n",
       "      <th></th>\n",
       "      <th>0</th>\n",
       "      <th>1</th>\n",
       "      <th>2</th>\n",
       "      <th>3</th>\n",
       "      <th>4</th>\n",
       "    </tr>\n",
       "  </thead>\n",
       "  <tbody>\n",
       "    <tr>\n",
       "      <th>INCIDENT_UNIQUE_IDENTIFIER</th>\n",
       "      <td>9c7c088255e6080dceebafbae22df7eb</td>\n",
       "      <td>670a17d1bc2593b64664b361760d73c5</td>\n",
       "      <td>0dbfcea33161568591ee1bce0498b590</td>\n",
       "      <td>2c556058ed11488c1badb2282f6e453c</td>\n",
       "      <td>f636c99ea09082c1275875903d027ad9</td>\n",
       "    </tr>\n",
       "    <tr>\n",
       "      <th>INCIDENT_DATE</th>\n",
       "      <td>8/23/14 0:00</td>\n",
       "      <td>8/28/14 0:00</td>\n",
       "      <td>8/23/14 0:00</td>\n",
       "      <td>8/28/14 0:00</td>\n",
       "      <td>8/24/14 0:00</td>\n",
       "    </tr>\n",
       "    <tr>\n",
       "      <th>OFFICER_ASSIGNMENT</th>\n",
       "      <td>Operations Division</td>\n",
       "      <td>Operations Division</td>\n",
       "      <td>Operations Division</td>\n",
       "      <td>Homeland Security Division</td>\n",
       "      <td>Operations Division</td>\n",
       "    </tr>\n",
       "    <tr>\n",
       "      <th>LOCATION_DISTRICT</th>\n",
       "      <td>Northwest District</td>\n",
       "      <td>Southeast District</td>\n",
       "      <td>North District</td>\n",
       "      <td>Homeland Security Bureau/Tactical</td>\n",
       "      <td>Southwest District</td>\n",
       "    </tr>\n",
       "    <tr>\n",
       "      <th>SHIFT</th>\n",
       "      <td>NW Day Shift</td>\n",
       "      <td>SE Middle Shift</td>\n",
       "      <td>ND Late Tactical Shift</td>\n",
       "      <td>Canine Section</td>\n",
       "      <td>SW Middle Shift</td>\n",
       "    </tr>\n",
       "    <tr>\n",
       "      <th>LOCATION_DISTRICT.1</th>\n",
       "      <td>NW Day Shift</td>\n",
       "      <td>NaN</td>\n",
       "      <td>NaN</td>\n",
       "      <td>Canine Unit - Late</td>\n",
       "      <td>NaN</td>\n",
       "    </tr>\n",
       "    <tr>\n",
       "      <th>REASON_FOR_FORCE</th>\n",
       "      <td>Fleeing</td>\n",
       "      <td>Combative Suspect</td>\n",
       "      <td>Resisting Arrest</td>\n",
       "      <td>Non-Compliant</td>\n",
       "      <td>Combative Suspect</td>\n",
       "    </tr>\n",
       "    <tr>\n",
       "      <th>TYPE_OF_FORCE_USED</th>\n",
       "      <td>Less Lethal-Taser</td>\n",
       "      <td>Physical-Hands, Fist, Feet</td>\n",
       "      <td>Physical-Handcuffing</td>\n",
       "      <td>Canine Bite</td>\n",
       "      <td>Physical-Handcuffing</td>\n",
       "    </tr>\n",
       "    <tr>\n",
       "      <th>SUBJECT_DETAILS</th>\n",
       "      <td>In compliance</td>\n",
       "      <td>In compliance</td>\n",
       "      <td>In compliance</td>\n",
       "      <td>In compliance</td>\n",
       "      <td>In compliance</td>\n",
       "    </tr>\n",
       "    <tr>\n",
       "      <th>INCIDENT_REASON</th>\n",
       "      <td>Self-Initiated Activity</td>\n",
       "      <td>Arrest</td>\n",
       "      <td>Call For Service</td>\n",
       "      <td>Request For PSD</td>\n",
       "      <td>Arrest</td>\n",
       "    </tr>\n",
       "    <tr>\n",
       "      <th>SUBJECT_WAS_ARRESTED</th>\n",
       "      <td>False</td>\n",
       "      <td>True</td>\n",
       "      <td>True</td>\n",
       "      <td>False</td>\n",
       "      <td>True</td>\n",
       "    </tr>\n",
       "    <tr>\n",
       "      <th>CHARGE</th>\n",
       "      <td>NaN</td>\n",
       "      <td>NaN</td>\n",
       "      <td>Battery by Bodily Waste</td>\n",
       "      <td>NaN</td>\n",
       "      <td>NaN</td>\n",
       "    </tr>\n",
       "    <tr>\n",
       "      <th>SUBJECT_INJURY</th>\n",
       "      <td>False</td>\n",
       "      <td>False</td>\n",
       "      <td>True</td>\n",
       "      <td>True</td>\n",
       "      <td>True</td>\n",
       "    </tr>\n",
       "    <tr>\n",
       "      <th>SUBJECT_HOSPITALIZATION</th>\n",
       "      <td>False</td>\n",
       "      <td>False</td>\n",
       "      <td>True</td>\n",
       "      <td>True</td>\n",
       "      <td>True</td>\n",
       "    </tr>\n",
       "    <tr>\n",
       "      <th>SUBJECT_DETAILS.1</th>\n",
       "      <td>unknwon</td>\n",
       "      <td>NaN</td>\n",
       "      <td>Laceration</td>\n",
       "      <td>Canine Bite</td>\n",
       "      <td>Minor Bleeding</td>\n",
       "    </tr>\n",
       "    <tr>\n",
       "      <th>OFFICER_INJURY</th>\n",
       "      <td>False</td>\n",
       "      <td>False</td>\n",
       "      <td>False</td>\n",
       "      <td>False</td>\n",
       "      <td>True</td>\n",
       "    </tr>\n",
       "    <tr>\n",
       "      <th>OFFICER_HOSPITALIZATION</th>\n",
       "      <td>False</td>\n",
       "      <td>False</td>\n",
       "      <td>False</td>\n",
       "      <td>False</td>\n",
       "      <td>True</td>\n",
       "    </tr>\n",
       "    <tr>\n",
       "      <th>OFFICER_DETAILS</th>\n",
       "      <td>No injuries noted or visible</td>\n",
       "      <td>No injuries noted or visible</td>\n",
       "      <td>No injuries noted or visible</td>\n",
       "      <td>NaN</td>\n",
       "      <td>Internal Pain/Discomfort</td>\n",
       "    </tr>\n",
       "    <tr>\n",
       "      <th>SUBJECT_RACT</th>\n",
       "      <td>Black</td>\n",
       "      <td>White</td>\n",
       "      <td>Black</td>\n",
       "      <td>Black</td>\n",
       "      <td>White</td>\n",
       "    </tr>\n",
       "    <tr>\n",
       "      <th>SUBJECT_GENDER</th>\n",
       "      <td>Male</td>\n",
       "      <td>Male</td>\n",
       "      <td>Male</td>\n",
       "      <td>Male</td>\n",
       "      <td>Male</td>\n",
       "    </tr>\n",
       "    <tr>\n",
       "      <th>SUBJECT_AGE</th>\n",
       "      <td>NaN</td>\n",
       "      <td>18</td>\n",
       "      <td>36</td>\n",
       "      <td>40</td>\n",
       "      <td>51</td>\n",
       "    </tr>\n",
       "    <tr>\n",
       "      <th>OFFICER_RACE</th>\n",
       "      <td>White</td>\n",
       "      <td>White</td>\n",
       "      <td>White</td>\n",
       "      <td>White</td>\n",
       "      <td>White</td>\n",
       "    </tr>\n",
       "    <tr>\n",
       "      <th>OFFICER_GENDER</th>\n",
       "      <td>Male</td>\n",
       "      <td>Male</td>\n",
       "      <td>Male</td>\n",
       "      <td>Male</td>\n",
       "      <td>Male</td>\n",
       "    </tr>\n",
       "    <tr>\n",
       "      <th>OFFICER_AGE</th>\n",
       "      <td>33</td>\n",
       "      <td>37</td>\n",
       "      <td>29</td>\n",
       "      <td>42</td>\n",
       "      <td>34</td>\n",
       "    </tr>\n",
       "    <tr>\n",
       "      <th>OFFICER_YEARS_ON_FORCE</th>\n",
       "      <td>11</td>\n",
       "      <td>13</td>\n",
       "      <td>4</td>\n",
       "      <td>17</td>\n",
       "      <td>10</td>\n",
       "    </tr>\n",
       "    <tr>\n",
       "      <th>OFFICER_ID</th>\n",
       "      <td>11342e9840a7b53dec8c039a6a53c129</td>\n",
       "      <td>547c246b80e932bf70340356c7e207e1</td>\n",
       "      <td>a4555ab4905cda5e4a1430a69a0afdcd</td>\n",
       "      <td>b1b813ded824994e6af194d0d7297470</td>\n",
       "      <td>d4ec041a3cb4e12c28af6794c1c62ebd</td>\n",
       "    </tr>\n",
       "  </tbody>\n",
       "</table>\n",
       "</div>"
      ],
      "text/plain": [
       "                                                           0  \\\n",
       "INCIDENT_UNIQUE_IDENTIFIER  9c7c088255e6080dceebafbae22df7eb   \n",
       "INCIDENT_DATE                                   8/23/14 0:00   \n",
       "OFFICER_ASSIGNMENT                       Operations Division   \n",
       "LOCATION_DISTRICT                         Northwest District   \n",
       "SHIFT                                           NW Day Shift   \n",
       "LOCATION_DISTRICT.1                             NW Day Shift   \n",
       "REASON_FOR_FORCE                                     Fleeing   \n",
       "TYPE_OF_FORCE_USED                         Less Lethal-Taser   \n",
       "SUBJECT_DETAILS                                In compliance   \n",
       "INCIDENT_REASON                      Self-Initiated Activity   \n",
       "SUBJECT_WAS_ARRESTED                                   False   \n",
       "CHARGE                                                   NaN   \n",
       "SUBJECT_INJURY                                         False   \n",
       "SUBJECT_HOSPITALIZATION                                False   \n",
       "SUBJECT_DETAILS.1                                    unknwon   \n",
       "OFFICER_INJURY                                         False   \n",
       "OFFICER_HOSPITALIZATION                                False   \n",
       "OFFICER_DETAILS                 No injuries noted or visible   \n",
       "SUBJECT_RACT                                           Black   \n",
       "SUBJECT_GENDER                                          Male   \n",
       "SUBJECT_AGE                                              NaN   \n",
       "OFFICER_RACE                                           White   \n",
       "OFFICER_GENDER                                          Male   \n",
       "OFFICER_AGE                                               33   \n",
       "OFFICER_YEARS_ON_FORCE                                    11   \n",
       "OFFICER_ID                  11342e9840a7b53dec8c039a6a53c129   \n",
       "\n",
       "                                                           1  \\\n",
       "INCIDENT_UNIQUE_IDENTIFIER  670a17d1bc2593b64664b361760d73c5   \n",
       "INCIDENT_DATE                                   8/28/14 0:00   \n",
       "OFFICER_ASSIGNMENT                       Operations Division   \n",
       "LOCATION_DISTRICT                         Southeast District   \n",
       "SHIFT                                        SE Middle Shift   \n",
       "LOCATION_DISTRICT.1                                      NaN   \n",
       "REASON_FOR_FORCE                           Combative Suspect   \n",
       "TYPE_OF_FORCE_USED                Physical-Hands, Fist, Feet   \n",
       "SUBJECT_DETAILS                                In compliance   \n",
       "INCIDENT_REASON                                       Arrest   \n",
       "SUBJECT_WAS_ARRESTED                                    True   \n",
       "CHARGE                                                   NaN   \n",
       "SUBJECT_INJURY                                         False   \n",
       "SUBJECT_HOSPITALIZATION                                False   \n",
       "SUBJECT_DETAILS.1                                        NaN   \n",
       "OFFICER_INJURY                                         False   \n",
       "OFFICER_HOSPITALIZATION                                False   \n",
       "OFFICER_DETAILS                 No injuries noted or visible   \n",
       "SUBJECT_RACT                                           White   \n",
       "SUBJECT_GENDER                                          Male   \n",
       "SUBJECT_AGE                                               18   \n",
       "OFFICER_RACE                                           White   \n",
       "OFFICER_GENDER                                          Male   \n",
       "OFFICER_AGE                                               37   \n",
       "OFFICER_YEARS_ON_FORCE                                    13   \n",
       "OFFICER_ID                  547c246b80e932bf70340356c7e207e1   \n",
       "\n",
       "                                                           2  \\\n",
       "INCIDENT_UNIQUE_IDENTIFIER  0dbfcea33161568591ee1bce0498b590   \n",
       "INCIDENT_DATE                                   8/23/14 0:00   \n",
       "OFFICER_ASSIGNMENT                       Operations Division   \n",
       "LOCATION_DISTRICT                             North District   \n",
       "SHIFT                                 ND Late Tactical Shift   \n",
       "LOCATION_DISTRICT.1                                      NaN   \n",
       "REASON_FOR_FORCE                            Resisting Arrest   \n",
       "TYPE_OF_FORCE_USED                      Physical-Handcuffing   \n",
       "SUBJECT_DETAILS                                In compliance   \n",
       "INCIDENT_REASON                             Call For Service   \n",
       "SUBJECT_WAS_ARRESTED                                    True   \n",
       "CHARGE                               Battery by Bodily Waste   \n",
       "SUBJECT_INJURY                                          True   \n",
       "SUBJECT_HOSPITALIZATION                                 True   \n",
       "SUBJECT_DETAILS.1                                 Laceration   \n",
       "OFFICER_INJURY                                         False   \n",
       "OFFICER_HOSPITALIZATION                                False   \n",
       "OFFICER_DETAILS                 No injuries noted or visible   \n",
       "SUBJECT_RACT                                           Black   \n",
       "SUBJECT_GENDER                                          Male   \n",
       "SUBJECT_AGE                                               36   \n",
       "OFFICER_RACE                                           White   \n",
       "OFFICER_GENDER                                          Male   \n",
       "OFFICER_AGE                                               29   \n",
       "OFFICER_YEARS_ON_FORCE                                     4   \n",
       "OFFICER_ID                  a4555ab4905cda5e4a1430a69a0afdcd   \n",
       "\n",
       "                                                            3  \\\n",
       "INCIDENT_UNIQUE_IDENTIFIER   2c556058ed11488c1badb2282f6e453c   \n",
       "INCIDENT_DATE                                    8/28/14 0:00   \n",
       "OFFICER_ASSIGNMENT                 Homeland Security Division   \n",
       "LOCATION_DISTRICT           Homeland Security Bureau/Tactical   \n",
       "SHIFT                                          Canine Section   \n",
       "LOCATION_DISTRICT.1                        Canine Unit - Late   \n",
       "REASON_FOR_FORCE                                Non-Compliant   \n",
       "TYPE_OF_FORCE_USED                                Canine Bite   \n",
       "SUBJECT_DETAILS                                 In compliance   \n",
       "INCIDENT_REASON                               Request For PSD   \n",
       "SUBJECT_WAS_ARRESTED                                    False   \n",
       "CHARGE                                                    NaN   \n",
       "SUBJECT_INJURY                                           True   \n",
       "SUBJECT_HOSPITALIZATION                                  True   \n",
       "SUBJECT_DETAILS.1                                 Canine Bite   \n",
       "OFFICER_INJURY                                          False   \n",
       "OFFICER_HOSPITALIZATION                                 False   \n",
       "OFFICER_DETAILS                                           NaN   \n",
       "SUBJECT_RACT                                            Black   \n",
       "SUBJECT_GENDER                                           Male   \n",
       "SUBJECT_AGE                                                40   \n",
       "OFFICER_RACE                                            White   \n",
       "OFFICER_GENDER                                           Male   \n",
       "OFFICER_AGE                                                42   \n",
       "OFFICER_YEARS_ON_FORCE                                     17   \n",
       "OFFICER_ID                   b1b813ded824994e6af194d0d7297470   \n",
       "\n",
       "                                                           4  \n",
       "INCIDENT_UNIQUE_IDENTIFIER  f636c99ea09082c1275875903d027ad9  \n",
       "INCIDENT_DATE                                   8/24/14 0:00  \n",
       "OFFICER_ASSIGNMENT                       Operations Division  \n",
       "LOCATION_DISTRICT                         Southwest District  \n",
       "SHIFT                                        SW Middle Shift  \n",
       "LOCATION_DISTRICT.1                                      NaN  \n",
       "REASON_FOR_FORCE                           Combative Suspect  \n",
       "TYPE_OF_FORCE_USED                      Physical-Handcuffing  \n",
       "SUBJECT_DETAILS                                In compliance  \n",
       "INCIDENT_REASON                                       Arrest  \n",
       "SUBJECT_WAS_ARRESTED                                    True  \n",
       "CHARGE                                                   NaN  \n",
       "SUBJECT_INJURY                                          True  \n",
       "SUBJECT_HOSPITALIZATION                                 True  \n",
       "SUBJECT_DETAILS.1                             Minor Bleeding  \n",
       "OFFICER_INJURY                                          True  \n",
       "OFFICER_HOSPITALIZATION                                 True  \n",
       "OFFICER_DETAILS                     Internal Pain/Discomfort  \n",
       "SUBJECT_RACT                                           White  \n",
       "SUBJECT_GENDER                                          Male  \n",
       "SUBJECT_AGE                                               51  \n",
       "OFFICER_RACE                                           White  \n",
       "OFFICER_GENDER                                          Male  \n",
       "OFFICER_AGE                                               34  \n",
       "OFFICER_YEARS_ON_FORCE                                    10  \n",
       "OFFICER_ID                  d4ec041a3cb4e12c28af6794c1c62ebd  "
      ]
     },
     "execution_count": 10,
     "metadata": {},
     "output_type": "execute_result"
    }
   ],
   "source": [
    "df.head().T"
   ]
  },
  {
   "cell_type": "markdown",
   "metadata": {},
   "source": [
    "# Date"
   ]
  },
  {
   "cell_type": "markdown",
   "metadata": {},
   "source": [
    "First, let's focus on date. It seems like this dataframe has no separate time column, and only an INCIDENT_DATE with a format that is close to the format used in the Boston field interviews data.\n",
    "\n",
    "Let's try processing:"
   ]
  },
  {
   "cell_type": "code",
   "execution_count": 11,
   "metadata": {},
   "outputs": [
    {
     "data": {
      "text/plain": [
       "['INCIDENT_UNIQUE_IDENTIFIER', 'INCIDENT_DATE', 'INCIDENT_REASON']"
      ]
     },
     "execution_count": 11,
     "metadata": {},
     "output_type": "execute_result"
    }
   ],
   "source": [
    "[c for c in df if c.startswith('INCIDENT')]"
   ]
  },
  {
   "cell_type": "code",
   "execution_count": 13,
   "metadata": {},
   "outputs": [],
   "source": [
    "date = df['INCIDENT_DATE']\n",
    "datef = pandas.to_datetime(date, format='%m/%d/%y %H:%M')"
   ]
  },
  {
   "cell_type": "code",
   "execution_count": 14,
   "metadata": {},
   "outputs": [
    {
     "data": {
      "text/plain": [
       "count                   10021\n",
       "unique                   1287\n",
       "top       2017-03-04 00:00:00\n",
       "freq                       41\n",
       "first     2014-01-01 00:00:00\n",
       "last      2018-05-21 00:00:00\n",
       "Name: INCIDENT_DATE, dtype: object"
      ]
     },
     "execution_count": 14,
     "metadata": {},
     "output_type": "execute_result"
    }
   ],
   "source": [
    "datef.describe()"
   ]
  },
  {
   "cell_type": "markdown",
   "metadata": {},
   "source": [
    "Dates from January 2014 to May 2018... That's reasonable."
   ]
  },
  {
   "cell_type": "code",
   "execution_count": 19,
   "metadata": {},
   "outputs": [
    {
     "data": {
      "text/plain": [
       "<matplotlib.axes._subplots.AxesSubplot at 0x7f9fb7f6de48>"
      ]
     },
     "execution_count": 19,
     "metadata": {},
     "output_type": "execute_result"
    },
    {
     "data": {
      "image/png": "[encoded data removed]",
      "text/plain": [
       "<Figure size 864x288 with 1 Axes>"
      ]
     },
     "metadata": {
      "needs_background": "light"
     },
     "output_type": "display_data"
    }
   ],
   "source": [
    "datef.hist(bins=60, figsize=(12, 4))"
   ]
  },
  {
   "cell_type": "markdown",
   "metadata": {},
   "source": [
    "Interestingly, the amount of data collected seems to be increasin along the time.\n",
    "\n",
    "There's a data vaccuum in the first half of 2014:"
   ]
  },
  {
   "cell_type": "code",
   "execution_count": 24,
   "metadata": {},
   "outputs": [
    {
     "data": {
      "text/plain": [
       "<matplotlib.axes._subplots.AxesSubplot at 0x7f9fb7c2e208>"
      ]
     },
     "execution_count": 24,
     "metadata": {},
     "output_type": "execute_result"
    },
    {
     "data": {
      "image/png": "[encoded data removed]",
      "text/plain": [
       "<Figure size 432x288 with 1 Axes>"
      ]
     },
     "metadata": {
      "needs_background": "light"
     },
     "output_type": "display_data"
    }
   ],
   "source": [
    "datef[datef.dt.year == 2014].dt.month.value_counts().sort_index().plot(kind='bar')"
   ]
  },
  {
   "cell_type": "markdown",
   "metadata": {},
   "source": [
    "I don't know if this is an artifact of the data, but, it may be better left to CPE process. I won't drop dates just because I'm not sure of what happened."
   ]
  },
  {
   "cell_type": "markdown",
   "metadata": {},
   "source": [
    "# Location"
   ]
  },
  {
   "cell_type": "code",
   "execution_count": 26,
   "metadata": {},
   "outputs": [
    {
     "data": {
      "text/html": [
       "<div>\n",
       "<style scoped>\n",
       "    .dataframe tbody tr th:only-of-type {\n",
       "        vertical-align: middle;\n",
       "    }\n",
       "\n",
       "    .dataframe tbody tr th {\n",
       "        vertical-align: top;\n",
       "    }\n",
       "\n",
       "    .dataframe thead th {\n",
       "        text-align: right;\n",
       "    }\n",
       "</style>\n",
       "<table border=\"1\" class=\"dataframe\">\n",
       "  <thead>\n",
       "    <tr style=\"text-align: right;\">\n",
       "      <th></th>\n",
       "      <th>LOCATION_DISTRICT</th>\n",
       "      <th>LOCATION_DISTRICT.1</th>\n",
       "    </tr>\n",
       "  </thead>\n",
       "  <tbody>\n",
       "    <tr>\n",
       "      <th>0</th>\n",
       "      <td>Northwest District</td>\n",
       "      <td>NW Day Shift</td>\n",
       "    </tr>\n",
       "    <tr>\n",
       "      <th>1</th>\n",
       "      <td>Southeast District</td>\n",
       "      <td>NaN</td>\n",
       "    </tr>\n",
       "    <tr>\n",
       "      <th>2</th>\n",
       "      <td>North District</td>\n",
       "      <td>NaN</td>\n",
       "    </tr>\n",
       "    <tr>\n",
       "      <th>3</th>\n",
       "      <td>Homeland Security Bureau/Tactical</td>\n",
       "      <td>Canine Unit - Late</td>\n",
       "    </tr>\n",
       "    <tr>\n",
       "      <th>4</th>\n",
       "      <td>Southwest District</td>\n",
       "      <td>NaN</td>\n",
       "    </tr>\n",
       "  </tbody>\n",
       "</table>\n",
       "</div>"
      ],
      "text/plain": [
       "                   LOCATION_DISTRICT LOCATION_DISTRICT.1\n",
       "0                 Northwest District        NW Day Shift\n",
       "1                 Southeast District                 NaN\n",
       "2                     North District                 NaN\n",
       "3  Homeland Security Bureau/Tactical  Canine Unit - Late\n",
       "4                 Southwest District                 NaN"
      ]
     },
     "execution_count": 26,
     "metadata": {},
     "output_type": "execute_result"
    }
   ],
   "source": [
    "df[[c for c in df if c.startswith('LOCATION')]].head()"
   ]
  },
  {
   "cell_type": "markdown",
   "metadata": {},
   "source": [
    "WTF, LOCATION_DISTRICT.1 doesn't even resemble a location..."
   ]
  },
  {
   "cell_type": "code",
   "execution_count": 31,
   "metadata": {},
   "outputs": [
    {
     "data": {
      "text/plain": [
       "INCIDENT_UNIQUE_IDENTIFIER                       id\n",
       "INCIDENT_DATE                          occurredDate\n",
       "OFFICER_ASSIGNMENT                         division\n",
       "LOCATION_DISTRICT                          district\n",
       "SHIFT                                         shift\n",
       "LOCATION_DISTRICT.1                            beat\n",
       "REASON_FOR_FORCE                   useOfForceReason\n",
       "TYPE_OF_FORCE_USED                 officerForceType\n",
       "SUBJECT_DETAILS                         disposition\n",
       "INCIDENT_REASON                         serviceType\n",
       "SUBJECT_WAS_ARRESTED                     arrestMade\n",
       "CHARGE                                arrestCharges\n",
       "SUBJECT_INJURY                      residentInjured\n",
       "SUBJECT_HOSPITALIZATION        residentHospitalized\n",
       "SUBJECT_DETAILS.1                 residentCondition\n",
       "OFFICER_INJURY                       officerInjured\n",
       "OFFICER_HOSPITALIZATION         officerHospitalized\n",
       "OFFICER_DETAILS                    officerCondition\n",
       "SUBJECT_RACT                           residentRace\n",
       "SUBJECT_GENDER                          residentSex\n",
       "SUBJECT_AGE                             residentAge\n",
       "OFFICER_RACE                            officerRace\n",
       "OFFICER_GENDER                           officerSex\n",
       "OFFICER_AGE                              officerAge\n",
       "OFFICER_YEARS_ON_FORCE        officerYearsOfService\n",
       "OFFICER_ID                        officerIdentifier\n",
       "Name: 0, dtype: object"
      ]
     },
     "execution_count": 31,
     "metadata": {},
     "output_type": "execute_result"
    }
   ],
   "source": [
    "cols = pandas.read_csv(path, low_memory=False).loc[0]\n",
    "cols"
   ]
  },
  {
   "cell_type": "markdown",
   "metadata": {},
   "source": [
    "OFFICER_ASSIGNMENT looks also wrongly assigned. It's actually referring to the police division. But, this doesn't add further information (I guess), since the LOCATION_DISTRICT already carries in itself the LOCATION_DIVISION information."
   ]
  },
  {
   "cell_type": "code",
   "execution_count": 35,
   "metadata": {},
   "outputs": [
    {
     "data": {
      "text/html": [
       "<div>\n",
       "<style scoped>\n",
       "    .dataframe tbody tr th:only-of-type {\n",
       "        vertical-align: middle;\n",
       "    }\n",
       "\n",
       "    .dataframe tbody tr th {\n",
       "        vertical-align: top;\n",
       "    }\n",
       "\n",
       "    .dataframe thead th {\n",
       "        text-align: right;\n",
       "    }\n",
       "</style>\n",
       "<table border=\"1\" class=\"dataframe\">\n",
       "  <thead>\n",
       "    <tr style=\"text-align: right;\">\n",
       "      <th></th>\n",
       "      <th>division</th>\n",
       "      <th>district</th>\n",
       "    </tr>\n",
       "  </thead>\n",
       "  <tbody>\n",
       "    <tr>\n",
       "      <th>0</th>\n",
       "      <td>Operations Division</td>\n",
       "      <td>Northwest District</td>\n",
       "    </tr>\n",
       "    <tr>\n",
       "      <th>1</th>\n",
       "      <td>Operations Division</td>\n",
       "      <td>Southeast District</td>\n",
       "    </tr>\n",
       "    <tr>\n",
       "      <th>2</th>\n",
       "      <td>Operations Division</td>\n",
       "      <td>North District</td>\n",
       "    </tr>\n",
       "    <tr>\n",
       "      <th>3</th>\n",
       "      <td>Homeland Security Division</td>\n",
       "      <td>Homeland Security Bureau/Tactical</td>\n",
       "    </tr>\n",
       "    <tr>\n",
       "      <th>4</th>\n",
       "      <td>Operations Division</td>\n",
       "      <td>Southwest District</td>\n",
       "    </tr>\n",
       "  </tbody>\n",
       "</table>\n",
       "</div>"
      ],
      "text/plain": [
       "                     division                           district\n",
       "0         Operations Division                 Northwest District\n",
       "1         Operations Division                 Southeast District\n",
       "2         Operations Division                     North District\n",
       "3  Homeland Security Division  Homeland Security Bureau/Tactical\n",
       "4         Operations Division                 Southwest District"
      ]
     },
     "execution_count": 35,
     "metadata": {},
     "output_type": "execute_result"
    }
   ],
   "source": [
    "location = df[['OFFICER_ASSIGNMENT', 'LOCATION_DISTRICT']]\n",
    "location.columns = ['division', 'district']\n",
    "location.head()"
   ]
  },
  {
   "cell_type": "markdown",
   "metadata": {},
   "source": [
    "Let's look at the boundaries to see if any geocoding is viable (I guess not)."
   ]
  },
  {
   "cell_type": "code",
   "execution_count": 36,
   "metadata": {},
   "outputs": [
    {
     "data": {
      "text/plain": [
       "<matplotlib.axes._subplots.AxesSubplot at 0x7f9fb737f1d0>"
      ]
     },
     "execution_count": 36,
     "metadata": {},
     "output_type": "execute_result"
    },
    {
     "data": {
      "image/png": "[encoded data removed]",
      "text/plain": [
       "<Figure size 432x288 with 1 Axes>"
      ]
     },
     "metadata": {
      "needs_background": "light"
     },
     "output_type": "display_data"
    }
   ],
   "source": [
    "dept.load_police_precincts().plot()"
   ]
  },
  {
   "cell_type": "markdown",
   "metadata": {},
   "source": [
    "Yep, regions are big,geocoding to a point is counter productive.\n",
    "\n",
    "The work with this deparmtment is done. The only possible further action is summarizing incidents by district, and I don't wanna do this right now.\n",
    "\n",
    "Let's just see if the districts in one set really mean police districts or are just town districts. And how we could possibly join the data later."
   ]
  },
  {
   "cell_type": "code",
   "execution_count": 41,
   "metadata": {},
   "outputs": [
    {
     "data": {
      "text/html": [
       "<div>\n",
       "<style scoped>\n",
       "    .dataframe tbody tr th:only-of-type {\n",
       "        vertical-align: middle;\n",
       "    }\n",
       "\n",
       "    .dataframe tbody tr th {\n",
       "        vertical-align: top;\n",
       "    }\n",
       "\n",
       "    .dataframe thead th {\n",
       "        text-align: right;\n",
       "    }\n",
       "</style>\n",
       "<table border=\"1\" class=\"dataframe\">\n",
       "  <thead>\n",
       "    <tr style=\"text-align: right;\">\n",
       "      <th></th>\n",
       "      <th>OBJECTID</th>\n",
       "      <th>JURISDCTN</th>\n",
       "      <th>DISTRICT</th>\n",
       "      <th>POLICEZONE</th>\n",
       "    </tr>\n",
       "  </thead>\n",
       "  <tbody>\n",
       "    <tr>\n",
       "      <th>55</th>\n",
       "      <td>28</td>\n",
       "      <td>IMPD</td>\n",
       "      <td>North</td>\n",
       "      <td>ND50</td>\n",
       "    </tr>\n",
       "    <tr>\n",
       "      <th>56</th>\n",
       "      <td>29</td>\n",
       "      <td>Beech Grove</td>\n",
       "      <td>Excluded</td>\n",
       "      <td>Excluded</td>\n",
       "    </tr>\n",
       "    <tr>\n",
       "      <th>57</th>\n",
       "      <td>30</td>\n",
       "      <td>Airport Authority</td>\n",
       "      <td>Excluded</td>\n",
       "      <td>Excluded</td>\n",
       "    </tr>\n",
       "    <tr>\n",
       "      <th>58</th>\n",
       "      <td>57</td>\n",
       "      <td>IMPD</td>\n",
       "      <td>Southeast</td>\n",
       "      <td>SE10</td>\n",
       "    </tr>\n",
       "    <tr>\n",
       "      <th>59</th>\n",
       "      <td>58</td>\n",
       "      <td>IMPD</td>\n",
       "      <td>Southwest</td>\n",
       "      <td>SW10</td>\n",
       "    </tr>\n",
       "  </tbody>\n",
       "</table>\n",
       "</div>"
      ],
      "text/plain": [
       "    OBJECTID          JURISDCTN   DISTRICT POLICEZONE\n",
       "55        28               IMPD      North       ND50\n",
       "56        29        Beech Grove   Excluded   Excluded\n",
       "57        30  Airport Authority   Excluded   Excluded\n",
       "58        57               IMPD  Southeast       SE10\n",
       "59        58               IMPD  Southwest       SW10"
      ]
     },
     "execution_count": 41,
     "metadata": {},
     "output_type": "execute_result"
    }
   ],
   "source": [
    "precincts = dept.load_police_precincts()\n",
    "precincts = precincts.loc[:, :'POLICEZONE']\n",
    "precincts.tail()"
   ]
  },
  {
   "cell_type": "code",
   "execution_count": 43,
   "metadata": {},
   "outputs": [
    {
     "data": {
      "text/html": [
       "<div>\n",
       "<style scoped>\n",
       "    .dataframe tbody tr th:only-of-type {\n",
       "        vertical-align: middle;\n",
       "    }\n",
       "\n",
       "    .dataframe tbody tr th {\n",
       "        vertical-align: top;\n",
       "    }\n",
       "\n",
       "    .dataframe thead th {\n",
       "        text-align: right;\n",
       "    }\n",
       "</style>\n",
       "<table border=\"1\" class=\"dataframe\">\n",
       "  <thead>\n",
       "    <tr style=\"text-align: right;\">\n",
       "      <th></th>\n",
       "      <th>division</th>\n",
       "      <th>district</th>\n",
       "    </tr>\n",
       "  </thead>\n",
       "  <tbody>\n",
       "    <tr>\n",
       "      <th>0</th>\n",
       "      <td>Operations Division</td>\n",
       "      <td>Northwest District</td>\n",
       "    </tr>\n",
       "    <tr>\n",
       "      <th>1</th>\n",
       "      <td>Operations Division</td>\n",
       "      <td>Southeast District</td>\n",
       "    </tr>\n",
       "    <tr>\n",
       "      <th>2</th>\n",
       "      <td>Operations Division</td>\n",
       "      <td>North District</td>\n",
       "    </tr>\n",
       "    <tr>\n",
       "      <th>3</th>\n",
       "      <td>Homeland Security Division</td>\n",
       "      <td>Homeland Security Bureau/Tactical</td>\n",
       "    </tr>\n",
       "    <tr>\n",
       "      <th>4</th>\n",
       "      <td>Operations Division</td>\n",
       "      <td>Southwest District</td>\n",
       "    </tr>\n",
       "  </tbody>\n",
       "</table>\n",
       "</div>"
      ],
      "text/plain": [
       "                     division                           district\n",
       "0         Operations Division                 Northwest District\n",
       "1         Operations Division                 Southeast District\n",
       "2         Operations Division                     North District\n",
       "3  Homeland Security Division  Homeland Security Bureau/Tactical\n",
       "4         Operations Division                 Southwest District"
      ]
     },
     "execution_count": 43,
     "metadata": {},
     "output_type": "execute_result"
    }
   ],
   "source": [
    "location.head()"
   ]
  },
  {
   "cell_type": "code",
   "execution_count": 48,
   "metadata": {},
   "outputs": [
    {
     "data": {
      "text/plain": [
       "Operations Division                8569\n",
       "Administration Division             702\n",
       "Homeland Security Division          571\n",
       "Criminal Investigation Division     162\n",
       "Reserves                             34\n",
       "Other Assignments                    19\n",
       "Office of the Chief                   4\n",
       "Name: division, dtype: int64"
      ]
     },
     "execution_count": 48,
     "metadata": {},
     "output_type": "execute_result"
    }
   ],
   "source": [
    "location['division'].value_counts()"
   ]
  },
  {
   "cell_type": "code",
   "execution_count": 47,
   "metadata": {},
   "outputs": [
    {
     "data": {
      "text/plain": [
       "East District                        2120\n",
       "Southwest District                   1689\n",
       "Northwest District                   1376\n",
       "North District                       1290\n",
       "Southeast District                   1255\n",
       "Downtown  District                    798\n",
       "Training Bureau                       698\n",
       "Homeland Security Bureau/Tactical     547\n",
       "Covert Investigations                  71\n",
       "Narcotics & Gangs                      23\n",
       "Homicide and Robbery                   23\n",
       "Park Rangers                           21\n",
       "Temporary Assignments                  19\n",
       "Homeland Security Bureau/Traffic       19\n",
       "Organized Crime                        18\n",
       "Platoon 4                              13\n",
       "Operations Support                     12\n",
       "Investigative Support                  11\n",
       "Narcotics and Firearms Bureau           9\n",
       "Cycles                                  8\n",
       "Platoon 1                               6\n",
       "Community Engagement Office             5\n",
       "Intel Operations Branch                 5\n",
       "Patrol G300                             4\n",
       "Night Watch                             4\n",
       "Platoon 3                               3\n",
       "Robbery                                 3\n",
       "Technology & Information Bureau         3\n",
       "Homicide and Agg Assault                3\n",
       "Professional Standards Branch           2\n",
       "Information & Intelligence Branch       1\n",
       "Domestic & Sex Violence                 1\n",
       "Community Affairs Branch                1\n",
       "Name: district, dtype: int64"
      ]
     },
     "execution_count": 47,
     "metadata": {},
     "output_type": "execute_result"
    }
   ],
   "source": [
    "location['district'].value_counts()"
   ]
  },
  {
   "cell_type": "markdown",
   "metadata": {},
   "source": [
    "I really don't know what these mean (if they are, for example, just administrative branches or if there's a selected zone for each). It seems like a mix, and the districts information are present at the police_districts dataset."
   ]
  },
  {
   "cell_type": "code",
   "execution_count": 51,
   "metadata": {},
   "outputs": [
    {
     "data": {
      "text/html": [
       "<div>\n",
       "<style scoped>\n",
       "    .dataframe tbody tr th:only-of-type {\n",
       "        vertical-align: middle;\n",
       "    }\n",
       "\n",
       "    .dataframe tbody tr th {\n",
       "        vertical-align: top;\n",
       "    }\n",
       "\n",
       "    .dataframe thead th {\n",
       "        text-align: right;\n",
       "    }\n",
       "</style>\n",
       "<table border=\"1\" class=\"dataframe\">\n",
       "  <thead>\n",
       "    <tr style=\"text-align: right;\">\n",
       "      <th></th>\n",
       "      <th>OBJECTID</th>\n",
       "      <th>JURISDCTN</th>\n",
       "      <th>DISTRICT</th>\n",
       "      <th>POLICEZONE</th>\n",
       "    </tr>\n",
       "  </thead>\n",
       "  <tbody>\n",
       "    <tr>\n",
       "      <th>55</th>\n",
       "      <td>28</td>\n",
       "      <td>IMPD</td>\n",
       "      <td>North</td>\n",
       "      <td>ND50</td>\n",
       "    </tr>\n",
       "    <tr>\n",
       "      <th>56</th>\n",
       "      <td>29</td>\n",
       "      <td>Beech Grove</td>\n",
       "      <td>Excluded</td>\n",
       "      <td>Excluded</td>\n",
       "    </tr>\n",
       "    <tr>\n",
       "      <th>57</th>\n",
       "      <td>30</td>\n",
       "      <td>Airport Authority</td>\n",
       "      <td>Excluded</td>\n",
       "      <td>Excluded</td>\n",
       "    </tr>\n",
       "    <tr>\n",
       "      <th>58</th>\n",
       "      <td>57</td>\n",
       "      <td>IMPD</td>\n",
       "      <td>Southeast</td>\n",
       "      <td>SE10</td>\n",
       "    </tr>\n",
       "    <tr>\n",
       "      <th>59</th>\n",
       "      <td>58</td>\n",
       "      <td>IMPD</td>\n",
       "      <td>Southwest</td>\n",
       "      <td>SW10</td>\n",
       "    </tr>\n",
       "  </tbody>\n",
       "</table>\n",
       "</div>"
      ],
      "text/plain": [
       "    OBJECTID          JURISDCTN   DISTRICT POLICEZONE\n",
       "55        28               IMPD      North       ND50\n",
       "56        29        Beech Grove   Excluded   Excluded\n",
       "57        30  Airport Authority   Excluded   Excluded\n",
       "58        57               IMPD  Southeast       SE10\n",
       "59        58               IMPD  Southwest       SW10"
      ]
     },
     "execution_count": 51,
     "metadata": {},
     "output_type": "execute_result"
    }
   ],
   "source": [
    "precincts.tail()"
   ]
  },
  {
   "cell_type": "code",
   "execution_count": 53,
   "metadata": {},
   "outputs": [
    {
     "data": {
      "text/plain": [
       "North        11\n",
       "Northeast    11\n",
       "Northwest    10\n",
       "Southwest     8\n",
       "Excluded      8\n",
       "Downtown      6\n",
       "Southeast     6\n",
       "Name: DISTRICT, dtype: int64"
      ]
     },
     "execution_count": 53,
     "metadata": {},
     "output_type": "execute_result"
    }
   ],
   "source": [
    "precincts['DISTRICT'].value_counts()"
   ]
  },
  {
   "cell_type": "code",
   "execution_count": 55,
   "metadata": {},
   "outputs": [
    {
     "data": {
      "text/plain": [
       "Excluded    8\n",
       "ND25        1\n",
       "SW20        1\n",
       "NE75        1\n",
       "SE20        1\n",
       "Name: POLICEZONE, dtype: int64"
      ]
     },
     "execution_count": 55,
     "metadata": {},
     "output_type": "execute_result"
    }
   ],
   "source": [
    "precincts['POLICEZONE'].value_counts().head()"
   ]
  },
  {
   "cell_type": "markdown",
   "metadata": {},
   "source": [
    "We may later assemble things with the OFFICER_ID or external data.\n",
    "\n",
    "For now, let's put this department on hold, as more background information is needed."
   ]
  }
 ],
 "metadata": {
  "kernelspec": {
   "display_name": "Python 3",
   "language": "python",
   "name": "python3"
  },
  "language_info": {
   "codemirror_mode": {
    "name": "ipython",
    "version": 3
   },
   "file_extension": ".py",
   "mimetype": "text/x-python",
   "name": "python",
   "nbconvert_exporter": "python",
   "pygments_lexer": "ipython3",
   "version": "3.7.0"
  }
 },
 "nbformat": 4,
 "nbformat_minor": 2
}
