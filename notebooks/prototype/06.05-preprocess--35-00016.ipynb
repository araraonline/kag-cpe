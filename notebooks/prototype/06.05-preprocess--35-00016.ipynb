{
 "cells": [
  {
   "cell_type": "markdown",
   "metadata": {},
   "source": [
    "# 6.5 Preprocess department 35-00016 (Orlando, FL)\n",
    "\n",
    "This is a small table with few entries. A good statistical knowledge must be required to generate good models (and they should be simple). Anyway, let's preprocess."
   ]
  },
  {
   "cell_type": "code",
   "execution_count": 28,
   "metadata": {},
   "outputs": [],
   "source": [
    "import matplotlib.pyplot\n",
    "import pandas\n",
    "\n",
    "from cpe_help import Department"
   ]
  },
  {
   "cell_type": "code",
   "execution_count": 8,
   "metadata": {},
   "outputs": [
    {
     "data": {
      "text/html": [
       "<div>\n",
       "<style scoped>\n",
       "    .dataframe tbody tr th:only-of-type {\n",
       "        vertical-align: middle;\n",
       "    }\n",
       "\n",
       "    .dataframe tbody tr th {\n",
       "        vertical-align: top;\n",
       "    }\n",
       "\n",
       "    .dataframe thead th {\n",
       "        text-align: right;\n",
       "    }\n",
       "</style>\n",
       "<table border=\"1\" class=\"dataframe\">\n",
       "  <thead>\n",
       "    <tr style=\"text-align: right;\">\n",
       "      <th></th>\n",
       "      <th>0</th>\n",
       "      <th>1</th>\n",
       "      <th>2</th>\n",
       "      <th>3</th>\n",
       "      <th>4</th>\n",
       "    </tr>\n",
       "  </thead>\n",
       "  <tbody>\n",
       "    <tr>\n",
       "      <th>INCIDENT_UNIQUE_IDENTIFIER</th>\n",
       "      <td>16-179658</td>\n",
       "      <td>16-242039</td>\n",
       "      <td>16-153523</td>\n",
       "      <td>16-025283</td>\n",
       "      <td>16-041504</td>\n",
       "    </tr>\n",
       "    <tr>\n",
       "      <th>INCIDENT_DATE</th>\n",
       "      <td>5/1/16</td>\n",
       "      <td>6/12/16</td>\n",
       "      <td>4/13/16</td>\n",
       "      <td>1/18/16</td>\n",
       "      <td>1/29/16</td>\n",
       "    </tr>\n",
       "    <tr>\n",
       "      <th>LOCATION_FULL_STREET_ADDRESS_OR_INTERSECTION</th>\n",
       "      <td>707 S Orange Blossom Tr</td>\n",
       "      <td>1912 S. Orange Ave</td>\n",
       "      <td>Bowen DR at Folkstone</td>\n",
       "      <td>6584 Swissco Dr #734</td>\n",
       "      <td>South St &amp; Bumby Ave</td>\n",
       "    </tr>\n",
       "    <tr>\n",
       "      <th>Unnamed: 3</th>\n",
       "      <td>Armed Subject</td>\n",
       "      <td>Active Shooter</td>\n",
       "      <td>Battery</td>\n",
       "      <td>Well Being Check</td>\n",
       "      <td>Carjacking</td>\n",
       "    </tr>\n",
       "    <tr>\n",
       "      <th>NUMBER_OF_OFFICERS</th>\n",
       "      <td>2</td>\n",
       "      <td>11</td>\n",
       "      <td>1</td>\n",
       "      <td>2</td>\n",
       "      <td>3</td>\n",
       "    </tr>\n",
       "    <tr>\n",
       "      <th>OFFICER_RACE</th>\n",
       "      <td>W, W</td>\n",
       "      <td>W,W, W, W, W, B, W, W, B, W, W</td>\n",
       "      <td>W</td>\n",
       "      <td>W, B</td>\n",
       "      <td>W, W, W</td>\n",
       "    </tr>\n",
       "    <tr>\n",
       "      <th>OFFICER_ETHNICITY</th>\n",
       "      <td>N, N</td>\n",
       "      <td>N,N, N, N, N, H, N, N, N, N, H</td>\n",
       "      <td>H</td>\n",
       "      <td>H, N</td>\n",
       "      <td>N, N, N</td>\n",
       "    </tr>\n",
       "    <tr>\n",
       "      <th>OFFICER_GENDER</th>\n",
       "      <td>M, M</td>\n",
       "      <td>M, M, M, M, M, M, M, M, M, M, M</td>\n",
       "      <td>M</td>\n",
       "      <td>M, F</td>\n",
       "      <td>M, M, M</td>\n",
       "    </tr>\n",
       "    <tr>\n",
       "      <th>OFFICER_AGE</th>\n",
       "      <td>28, 28</td>\n",
       "      <td>29, 39, 48, 46, 34, 45, 47, 44, 47, 38, 31</td>\n",
       "      <td>34</td>\n",
       "      <td>41, 37</td>\n",
       "      <td>31, 47, 32</td>\n",
       "    </tr>\n",
       "    <tr>\n",
       "      <th>OFFICER_YEARS_ON_FORCE</th>\n",
       "      <td>3, 1</td>\n",
       "      <td>4, 14, 25, 23, 11, 23, 18, 21, 21, 14, 2</td>\n",
       "      <td>8</td>\n",
       "      <td>4, 5</td>\n",
       "      <td>7, 18, 9</td>\n",
       "    </tr>\n",
       "    <tr>\n",
       "      <th>NUMBER_OF_SUBJECTS</th>\n",
       "      <td>1</td>\n",
       "      <td>1</td>\n",
       "      <td>1</td>\n",
       "      <td>1</td>\n",
       "      <td>1</td>\n",
       "    </tr>\n",
       "    <tr>\n",
       "      <th>SUBJECT_RACE</th>\n",
       "      <td>Black</td>\n",
       "      <td>Other</td>\n",
       "      <td>White</td>\n",
       "      <td>White</td>\n",
       "      <td>White</td>\n",
       "    </tr>\n",
       "    <tr>\n",
       "      <th>SUBJECT_GENDER</th>\n",
       "      <td>M</td>\n",
       "      <td>M</td>\n",
       "      <td>M</td>\n",
       "      <td>M</td>\n",
       "      <td>F</td>\n",
       "    </tr>\n",
       "    <tr>\n",
       "      <th>SUBJECT_AGE</th>\n",
       "      <td>25</td>\n",
       "      <td>29</td>\n",
       "      <td>22</td>\n",
       "      <td>28</td>\n",
       "      <td>34</td>\n",
       "    </tr>\n",
       "    <tr>\n",
       "      <th>SUBJECT_POSSESSED_WEAPON</th>\n",
       "      <td>Handgun</td>\n",
       "      <td>Rifle</td>\n",
       "      <td>Handgun</td>\n",
       "      <td>Handgun</td>\n",
       "      <td>Motor Vehicle</td>\n",
       "    </tr>\n",
       "    <tr>\n",
       "      <th>SUBJECT_INJURY</th>\n",
       "      <td>Yes</td>\n",
       "      <td>Yes</td>\n",
       "      <td>Yes</td>\n",
       "      <td>Yes</td>\n",
       "      <td>Yes</td>\n",
       "    </tr>\n",
       "    <tr>\n",
       "      <th>SUBJECT_DEATH</th>\n",
       "      <td>Yes</td>\n",
       "      <td>Yes</td>\n",
       "      <td>No</td>\n",
       "      <td>Yes</td>\n",
       "      <td>No</td>\n",
       "    </tr>\n",
       "    <tr>\n",
       "      <th>OFFICER_INJURY</th>\n",
       "      <td>No, No</td>\n",
       "      <td>Yes, No, No, No, No, No, No, No,No, No, No</td>\n",
       "      <td>No</td>\n",
       "      <td>No, No</td>\n",
       "      <td>No, No, No</td>\n",
       "    </tr>\n",
       "    <tr>\n",
       "      <th>OFFICER_DEATH</th>\n",
       "      <td>No, No</td>\n",
       "      <td>No, No, No, No, No, No, No, No, No, No, No</td>\n",
       "      <td>No</td>\n",
       "      <td>No, No</td>\n",
       "      <td>No, No, No</td>\n",
       "    </tr>\n",
       "    <tr>\n",
       "      <th>LOCATION_LATITUDE</th>\n",
       "      <td>28.5344</td>\n",
       "      <td>28.5196</td>\n",
       "      <td>28.5181</td>\n",
       "      <td>28.4696</td>\n",
       "      <td>NaN</td>\n",
       "    </tr>\n",
       "    <tr>\n",
       "      <th>LOCATION_LONGITUDE</th>\n",
       "      <td>-81.3971</td>\n",
       "      <td>-81.3764</td>\n",
       "      <td>-81.3062</td>\n",
       "      <td>-81.2994</td>\n",
       "      <td>NaN</td>\n",
       "    </tr>\n",
       "  </tbody>\n",
       "</table>\n",
       "</div>"
      ],
      "text/plain": [
       "                                                                    0  \\\n",
       "INCIDENT_UNIQUE_IDENTIFIER                                  16-179658   \n",
       "INCIDENT_DATE                                                  5/1/16   \n",
       "LOCATION_FULL_STREET_ADDRESS_OR_INTERSECTION  707 S Orange Blossom Tr   \n",
       "Unnamed: 3                                              Armed Subject   \n",
       "NUMBER_OF_OFFICERS                                                  2   \n",
       "OFFICER_RACE                                                     W, W   \n",
       "OFFICER_ETHNICITY                                                N, N   \n",
       "OFFICER_GENDER                                                   M, M   \n",
       "OFFICER_AGE                                                    28, 28   \n",
       "OFFICER_YEARS_ON_FORCE                                           3, 1   \n",
       "NUMBER_OF_SUBJECTS                                                  1   \n",
       "SUBJECT_RACE                                                    Black   \n",
       "SUBJECT_GENDER                                                      M   \n",
       "SUBJECT_AGE                                                        25   \n",
       "SUBJECT_POSSESSED_WEAPON                                      Handgun   \n",
       "SUBJECT_INJURY                                                    Yes   \n",
       "SUBJECT_DEATH                                                     Yes   \n",
       "OFFICER_INJURY                                                 No, No   \n",
       "OFFICER_DEATH                                                  No, No   \n",
       "LOCATION_LATITUDE                                             28.5344   \n",
       "LOCATION_LONGITUDE                                           -81.3971   \n",
       "\n",
       "                                                                                       1  \\\n",
       "INCIDENT_UNIQUE_IDENTIFIER                                                     16-242039   \n",
       "INCIDENT_DATE                                                                    6/12/16   \n",
       "LOCATION_FULL_STREET_ADDRESS_OR_INTERSECTION                          1912 S. Orange Ave   \n",
       "Unnamed: 3                                                                Active Shooter   \n",
       "NUMBER_OF_OFFICERS                                                                    11   \n",
       "OFFICER_RACE                                              W,W, W, W, W, B, W, W, B, W, W   \n",
       "OFFICER_ETHNICITY                                         N,N, N, N, N, H, N, N, N, N, H   \n",
       "OFFICER_GENDER                                           M, M, M, M, M, M, M, M, M, M, M   \n",
       "OFFICER_AGE                                   29, 39, 48, 46, 34, 45, 47, 44, 47, 38, 31   \n",
       "OFFICER_YEARS_ON_FORCE                          4, 14, 25, 23, 11, 23, 18, 21, 21, 14, 2   \n",
       "NUMBER_OF_SUBJECTS                                                                     1   \n",
       "SUBJECT_RACE                                                                       Other   \n",
       "SUBJECT_GENDER                                                                         M   \n",
       "SUBJECT_AGE                                                                           29   \n",
       "SUBJECT_POSSESSED_WEAPON                                                           Rifle   \n",
       "SUBJECT_INJURY                                                                       Yes   \n",
       "SUBJECT_DEATH                                                                        Yes   \n",
       "OFFICER_INJURY                                Yes, No, No, No, No, No, No, No,No, No, No   \n",
       "OFFICER_DEATH                                 No, No, No, No, No, No, No, No, No, No, No   \n",
       "LOCATION_LATITUDE                                                                28.5196   \n",
       "LOCATION_LONGITUDE                                                              -81.3764   \n",
       "\n",
       "                                                                  2  \\\n",
       "INCIDENT_UNIQUE_IDENTIFIER                                16-153523   \n",
       "INCIDENT_DATE                                               4/13/16   \n",
       "LOCATION_FULL_STREET_ADDRESS_OR_INTERSECTION  Bowen DR at Folkstone   \n",
       "Unnamed: 3                                                  Battery   \n",
       "NUMBER_OF_OFFICERS                                                1   \n",
       "OFFICER_RACE                                                      W   \n",
       "OFFICER_ETHNICITY                                                 H   \n",
       "OFFICER_GENDER                                                    M   \n",
       "OFFICER_AGE                                                      34   \n",
       "OFFICER_YEARS_ON_FORCE                                            8   \n",
       "NUMBER_OF_SUBJECTS                                                1   \n",
       "SUBJECT_RACE                                                  White   \n",
       "SUBJECT_GENDER                                                    M   \n",
       "SUBJECT_AGE                                                      22   \n",
       "SUBJECT_POSSESSED_WEAPON                                    Handgun   \n",
       "SUBJECT_INJURY                                                  Yes   \n",
       "SUBJECT_DEATH                                                    No   \n",
       "OFFICER_INJURY                                                   No   \n",
       "OFFICER_DEATH                                                    No   \n",
       "LOCATION_LATITUDE                                           28.5181   \n",
       "LOCATION_LONGITUDE                                         -81.3062   \n",
       "\n",
       "                                                                 3  \\\n",
       "INCIDENT_UNIQUE_IDENTIFIER                               16-025283   \n",
       "INCIDENT_DATE                                              1/18/16   \n",
       "LOCATION_FULL_STREET_ADDRESS_OR_INTERSECTION  6584 Swissco Dr #734   \n",
       "Unnamed: 3                                        Well Being Check   \n",
       "NUMBER_OF_OFFICERS                                               2   \n",
       "OFFICER_RACE                                                  W, B   \n",
       "OFFICER_ETHNICITY                                             H, N   \n",
       "OFFICER_GENDER                                                M, F   \n",
       "OFFICER_AGE                                                 41, 37   \n",
       "OFFICER_YEARS_ON_FORCE                                        4, 5   \n",
       "NUMBER_OF_SUBJECTS                                               1   \n",
       "SUBJECT_RACE                                                 White   \n",
       "SUBJECT_GENDER                                                   M   \n",
       "SUBJECT_AGE                                                     28   \n",
       "SUBJECT_POSSESSED_WEAPON                                   Handgun   \n",
       "SUBJECT_INJURY                                                 Yes   \n",
       "SUBJECT_DEATH                                                  Yes   \n",
       "OFFICER_INJURY                                              No, No   \n",
       "OFFICER_DEATH                                               No, No   \n",
       "LOCATION_LATITUDE                                          28.4696   \n",
       "LOCATION_LONGITUDE                                        -81.2994   \n",
       "\n",
       "                                                                 4  \n",
       "INCIDENT_UNIQUE_IDENTIFIER                               16-041504  \n",
       "INCIDENT_DATE                                              1/29/16  \n",
       "LOCATION_FULL_STREET_ADDRESS_OR_INTERSECTION  South St & Bumby Ave  \n",
       "Unnamed: 3                                              Carjacking  \n",
       "NUMBER_OF_OFFICERS                                               3  \n",
       "OFFICER_RACE                                               W, W, W  \n",
       "OFFICER_ETHNICITY                                          N, N, N  \n",
       "OFFICER_GENDER                                             M, M, M  \n",
       "OFFICER_AGE                                             31, 47, 32  \n",
       "OFFICER_YEARS_ON_FORCE                                    7, 18, 9  \n",
       "NUMBER_OF_SUBJECTS                                               1  \n",
       "SUBJECT_RACE                                                 White  \n",
       "SUBJECT_GENDER                                                   F  \n",
       "SUBJECT_AGE                                                     34  \n",
       "SUBJECT_POSSESSED_WEAPON                             Motor Vehicle  \n",
       "SUBJECT_INJURY                                                 Yes  \n",
       "SUBJECT_DEATH                                                   No  \n",
       "OFFICER_INJURY                                          No, No, No  \n",
       "OFFICER_DEATH                                           No, No, No  \n",
       "LOCATION_LATITUDE                                              NaN  \n",
       "LOCATION_LONGITUDE                                             NaN  "
      ]
     },
     "execution_count": 8,
     "metadata": {},
     "output_type": "execute_result"
    }
   ],
   "source": [
    "dept = Department('35-00016')\n",
    "path = dept.tabular_input_dir / '35-00016_UOF-OIS-P.csv'\n",
    "df = pandas.read_csv(path, low_memory=False, skiprows=[1])\n",
    "df.head().T"
   ]
  },
  {
   "cell_type": "markdown",
   "metadata": {},
   "source": [
    "As we have both the address and coordinates, this dataset *may be used for benchmarking geocoding* services/methods."
   ]
  },
  {
   "cell_type": "markdown",
   "metadata": {},
   "source": [
    "# Date\n",
    "\n",
    "There is a single date column with no type, probably easy."
   ]
  },
  {
   "cell_type": "code",
   "execution_count": 10,
   "metadata": {},
   "outputs": [],
   "source": [
    "date = df['INCIDENT_DATE']\n",
    "fdate = pandas.to_datetime(date, format='%m/%d/%y')"
   ]
  },
  {
   "cell_type": "code",
   "execution_count": 11,
   "metadata": {},
   "outputs": [
    {
     "data": {
      "text/plain": [
       "count                      54\n",
       "unique                     52\n",
       "top       2012-02-19 00:00:00\n",
       "freq                        2\n",
       "first     2009-05-06 00:00:00\n",
       "last      2018-05-07 00:00:00\n",
       "Name: INCIDENT_DATE, dtype: object"
      ]
     },
     "execution_count": 11,
     "metadata": {},
     "output_type": "execute_result"
    }
   ],
   "source": [
    "fdate.describe()"
   ]
  },
  {
   "cell_type": "markdown",
   "metadata": {},
   "source": [
    "2009 to 2018, looks good."
   ]
  },
  {
   "cell_type": "code",
   "execution_count": 18,
   "metadata": {},
   "outputs": [
    {
     "data": {
      "text/plain": [
       "<matplotlib.axes._subplots.AxesSubplot at 0x7f6ab45b4978>"
      ]
     },
     "execution_count": 18,
     "metadata": {},
     "output_type": "execute_result"
    },
    {
     "data": {
      "image/png": "[encoded data removed]",
      "text/plain": [
       "<Figure size 432x288 with 1 Axes>"
      ]
     },
     "metadata": {
      "needs_background": "light"
     },
     "output_type": "display_data"
    }
   ],
   "source": [
    "fdate.hist(bins=20)"
   ]
  },
  {
   "cell_type": "markdown",
   "metadata": {},
   "source": [
    "A relatively small amount through the years... Consistent"
   ]
  },
  {
   "cell_type": "markdown",
   "metadata": {},
   "source": [
    "# Location\n",
    "\n",
    "There are the geographic coordinates, which we will use, bu also, there's an address of the location. This may be used as a testing ground for geocoding methods.\n",
    "\n",
    "Also, there are lots of unknown lat/longitudes and these can be filled in with geocoding itself. This is a *great* playground. :D"
   ]
  },
  {
   "cell_type": "code",
   "execution_count": 23,
   "metadata": {},
   "outputs": [],
   "source": [
    "lat = df['LOCATION_LATITUDE']\n",
    "lon = df['LOCATION_LONGITUDE']\n",
    "address = df['LOCATION_FULL_STREET_ADDRESS_OR_INTERSECTION']"
   ]
  },
  {
   "cell_type": "code",
   "execution_count": 21,
   "metadata": {},
   "outputs": [
    {
     "data": {
      "text/plain": [
       "0.25925925925925924"
      ]
     },
     "execution_count": 21,
     "metadata": {},
     "output_type": "execute_result"
    }
   ],
   "source": [
    "lat.isnull().mean()"
   ]
  },
  {
   "cell_type": "code",
   "execution_count": 22,
   "metadata": {},
   "outputs": [
    {
     "data": {
      "text/plain": [
       "0.25925925925925924"
      ]
     },
     "execution_count": 22,
     "metadata": {},
     "output_type": "execute_result"
    }
   ],
   "source": [
    "lon.isnull().mean()"
   ]
  },
  {
   "cell_type": "code",
   "execution_count": 26,
   "metadata": {},
   "outputs": [
    {
     "data": {
      "text/plain": [
       "True"
      ]
     },
     "execution_count": 26,
     "metadata": {},
     "output_type": "execute_result"
    }
   ],
   "source": [
    "(lat.isnull() == lon.isnull()).all()"
   ]
  },
  {
   "cell_type": "code",
   "execution_count": 24,
   "metadata": {},
   "outputs": [
    {
     "data": {
      "text/plain": [
       "0.0"
      ]
     },
     "execution_count": 24,
     "metadata": {},
     "output_type": "execute_result"
    }
   ],
   "source": [
    "address.isnull().mean()"
   ]
  },
  {
   "cell_type": "code",
   "execution_count": 25,
   "metadata": {},
   "outputs": [
    {
     "data": {
      "text/plain": [
       "390 N Orange          1\n",
       "1159 Soria Ct         1\n",
       "1905 Lee Road         1\n",
       "756 Bennett Rd.       1\n",
       "Universal/Vineland    1\n",
       "Name: LOCATION_FULL_STREET_ADDRESS_OR_INTERSECTION, dtype: int64"
      ]
     },
     "execution_count": 25,
     "metadata": {},
     "output_type": "execute_result"
    }
   ],
   "source": [
    "address.value_counts().head()"
   ]
  },
  {
   "cell_type": "code",
   "execution_count": 31,
   "metadata": {},
   "outputs": [],
   "source": [
    "precincts = dept.load_police_precincts()"
   ]
  },
  {
   "cell_type": "code",
   "execution_count": 37,
   "metadata": {},
   "outputs": [
    {
     "data": {
      "text/plain": [
       "<matplotlib.collections.PathCollection at 0x7f6ab2745358>"
      ]
     },
     "execution_count": 37,
     "metadata": {},
     "output_type": "execute_result"
    },
    {
     "data": {
      "image/png": "[encoded data removed]",
      "text/plain": [
       "<Figure size 864x864 with 1 Axes>"
      ]
     },
     "metadata": {
      "needs_background": "light"
     },
     "output_type": "display_data"
    }
   ],
   "source": [
    "fig, ax = matplotlib.pyplot.subplots(figsize=(12, 12))\n",
    "\n",
    "ax.set_aspect('equal')\n",
    "precincts.plot(ax=ax, facecolor='none', edgecolor=(0, 0, 0, 0.5))\n",
    "ax.scatter(lon, lat, s=15)"
   ]
  },
  {
   "cell_type": "markdown",
   "metadata": {},
   "source": [
    "Some points are outside of boundaries, but the map indicates a very healthy dataset. There's a central region where OIS happen more."
   ]
  },
  {
   "cell_type": "markdown",
   "metadata": {},
   "source": [
    "*wip*\n",
    "\n",
    "Later on I will use this data as a testing ground for geocoding (the only spatial information available in 36% of the data is the street address)."
   ]
  }
 ],
 "metadata": {
  "kernelspec": {
   "display_name": "Python 3",
   "language": "python",
   "name": "python3"
  },
  "language_info": {
   "codemirror_mode": {
    "name": "ipython",
    "version": 3
   },
   "file_extension": ".py",
   "mimetype": "text/x-python",
   "name": "python",
   "nbconvert_exporter": "python",
   "pygments_lexer": "ipython3",
   "version": "3.7.0"
  }
 },
 "nbformat": 4,
 "nbformat_minor": 2
}
