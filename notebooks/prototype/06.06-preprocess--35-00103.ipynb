{
 "cells": [
  {
   "cell_type": "markdown",
   "metadata": {},
   "source": [
    "# 6.6 Preprocess 35-00103 (Charlotte, NC)\n",
    "\n",
    "I'm not sure whether this file has alraedy been preprocessed, but, let's do it anyway."
   ]
  },
  {
   "cell_type": "code",
   "execution_count": 34,
   "metadata": {},
   "outputs": [],
   "source": [
    "import geopandas\n",
    "import pandas\n",
    "import shapely\n",
    "\n",
    "from cpe_help import Department, util\n",
    "\n",
    "%matplotlib inline"
   ]
  },
  {
   "cell_type": "code",
   "execution_count": 6,
   "metadata": {},
   "outputs": [],
   "source": [
    "dept = Department('35-00103')\n",
    "path = dept.tabular_input_dir / '35-00103_UOF-OIS-P_prepped.csv'\n",
    "df = pandas.read_csv(path, skiprows=[1])"
   ]
  },
  {
   "cell_type": "code",
   "execution_count": 7,
   "metadata": {},
   "outputs": [
    {
     "data": {
      "text/html": [
       "<div>\n",
       "<style scoped>\n",
       "    .dataframe tbody tr th:only-of-type {\n",
       "        vertical-align: middle;\n",
       "    }\n",
       "\n",
       "    .dataframe tbody tr th {\n",
       "        vertical-align: top;\n",
       "    }\n",
       "\n",
       "    .dataframe thead th {\n",
       "        text-align: right;\n",
       "    }\n",
       "</style>\n",
       "<table border=\"1\" class=\"dataframe\">\n",
       "  <thead>\n",
       "    <tr style=\"text-align: right;\">\n",
       "      <th></th>\n",
       "      <th>0</th>\n",
       "      <th>1</th>\n",
       "      <th>2</th>\n",
       "      <th>3</th>\n",
       "      <th>4</th>\n",
       "    </tr>\n",
       "  </thead>\n",
       "  <tbody>\n",
       "    <tr>\n",
       "      <th>INCIDENT_UNIQUE_IDENTIFIER</th>\n",
       "      <td>1649</td>\n",
       "      <td>1739</td>\n",
       "      <td>1953</td>\n",
       "      <td>2421</td>\n",
       "      <td>1875</td>\n",
       "    </tr>\n",
       "    <tr>\n",
       "      <th>INCIDENT_DATE</th>\n",
       "      <td>2005-03</td>\n",
       "      <td>2005-03</td>\n",
       "      <td>2005-05</td>\n",
       "      <td>2005-08</td>\n",
       "      <td>2005-04</td>\n",
       "    </tr>\n",
       "    <tr>\n",
       "      <th>SUBJECT_RACE</th>\n",
       "      <td>Black</td>\n",
       "      <td>White</td>\n",
       "      <td>White</td>\n",
       "      <td>Black</td>\n",
       "      <td>Black</td>\n",
       "    </tr>\n",
       "    <tr>\n",
       "      <th>SUBJECT_GENDER</th>\n",
       "      <td>Male</td>\n",
       "      <td>Male</td>\n",
       "      <td>Male</td>\n",
       "      <td>Male</td>\n",
       "      <td>Male</td>\n",
       "    </tr>\n",
       "    <tr>\n",
       "      <th>SUBJECT_AGE_IN_YEARS</th>\n",
       "      <td>33</td>\n",
       "      <td>25</td>\n",
       "      <td>67</td>\n",
       "      <td>25</td>\n",
       "      <td>19</td>\n",
       "    </tr>\n",
       "    <tr>\n",
       "      <th>SUBJECT_INJURY_TYPE</th>\n",
       "      <td>Miss</td>\n",
       "      <td>Non-Fatal Injury</td>\n",
       "      <td>Fatal Injury</td>\n",
       "      <td>Miss</td>\n",
       "      <td>Miss</td>\n",
       "    </tr>\n",
       "    <tr>\n",
       "      <th>LOCATION_LATITUDE</th>\n",
       "      <td>35.2245</td>\n",
       "      <td>35.227</td>\n",
       "      <td>35.199</td>\n",
       "      <td>35.2193</td>\n",
       "      <td>35.1444</td>\n",
       "    </tr>\n",
       "    <tr>\n",
       "      <th>LOCATION_LONGITUDE</th>\n",
       "      <td>-80.8965</td>\n",
       "      <td>-80.7293</td>\n",
       "      <td>-80.7563</td>\n",
       "      <td>-80.8764</td>\n",
       "      <td>-80.8618</td>\n",
       "    </tr>\n",
       "    <tr>\n",
       "      <th>LOCATION_FULL_STREET_ADDRESS_OR_INTERSECTION</th>\n",
       "      <td>WILKINSON BOULEVARD, CHARLOTTE 28208</td>\n",
       "      <td>KEYWAY BOULEVARD, CHARLOTTE 28205</td>\n",
       "      <td>AMITY SPRINGS DRIVE, CHARLOTTE 28212</td>\n",
       "      <td>BETHEL ROAD, CHARLOTTE 28208</td>\n",
       "      <td>LEAFCREST LANE, CHARLOTTE 28216</td>\n",
       "    </tr>\n",
       "  </tbody>\n",
       "</table>\n",
       "</div>"
      ],
      "text/plain": [
       "                                                                                 0  \\\n",
       "INCIDENT_UNIQUE_IDENTIFIER                                                    1649   \n",
       "INCIDENT_DATE                                                              2005-03   \n",
       "SUBJECT_RACE                                                                 Black   \n",
       "SUBJECT_GENDER                                                                Male   \n",
       "SUBJECT_AGE_IN_YEARS                                                            33   \n",
       "SUBJECT_INJURY_TYPE                                                           Miss   \n",
       "LOCATION_LATITUDE                                                          35.2245   \n",
       "LOCATION_LONGITUDE                                                        -80.8965   \n",
       "LOCATION_FULL_STREET_ADDRESS_OR_INTERSECTION  WILKINSON BOULEVARD, CHARLOTTE 28208   \n",
       "\n",
       "                                                                              1  \\\n",
       "INCIDENT_UNIQUE_IDENTIFIER                                                 1739   \n",
       "INCIDENT_DATE                                                           2005-03   \n",
       "SUBJECT_RACE                                                              White   \n",
       "SUBJECT_GENDER                                                             Male   \n",
       "SUBJECT_AGE_IN_YEARS                                                         25   \n",
       "SUBJECT_INJURY_TYPE                                            Non-Fatal Injury   \n",
       "LOCATION_LATITUDE                                                        35.227   \n",
       "LOCATION_LONGITUDE                                                     -80.7293   \n",
       "LOCATION_FULL_STREET_ADDRESS_OR_INTERSECTION  KEYWAY BOULEVARD, CHARLOTTE 28205   \n",
       "\n",
       "                                                                                 2  \\\n",
       "INCIDENT_UNIQUE_IDENTIFIER                                                    1953   \n",
       "INCIDENT_DATE                                                              2005-05   \n",
       "SUBJECT_RACE                                                                 White   \n",
       "SUBJECT_GENDER                                                                Male   \n",
       "SUBJECT_AGE_IN_YEARS                                                            67   \n",
       "SUBJECT_INJURY_TYPE                                                   Fatal Injury   \n",
       "LOCATION_LATITUDE                                                           35.199   \n",
       "LOCATION_LONGITUDE                                                        -80.7563   \n",
       "LOCATION_FULL_STREET_ADDRESS_OR_INTERSECTION  AMITY SPRINGS DRIVE, CHARLOTTE 28212   \n",
       "\n",
       "                                                                         3  \\\n",
       "INCIDENT_UNIQUE_IDENTIFIER                                            2421   \n",
       "INCIDENT_DATE                                                      2005-08   \n",
       "SUBJECT_RACE                                                         Black   \n",
       "SUBJECT_GENDER                                                        Male   \n",
       "SUBJECT_AGE_IN_YEARS                                                    25   \n",
       "SUBJECT_INJURY_TYPE                                                   Miss   \n",
       "LOCATION_LATITUDE                                                  35.2193   \n",
       "LOCATION_LONGITUDE                                                -80.8764   \n",
       "LOCATION_FULL_STREET_ADDRESS_OR_INTERSECTION  BETHEL ROAD, CHARLOTTE 28208   \n",
       "\n",
       "                                                                            4  \n",
       "INCIDENT_UNIQUE_IDENTIFIER                                               1875  \n",
       "INCIDENT_DATE                                                         2005-04  \n",
       "SUBJECT_RACE                                                            Black  \n",
       "SUBJECT_GENDER                                                           Male  \n",
       "SUBJECT_AGE_IN_YEARS                                                       19  \n",
       "SUBJECT_INJURY_TYPE                                                      Miss  \n",
       "LOCATION_LATITUDE                                                     35.1444  \n",
       "LOCATION_LONGITUDE                                                   -80.8618  \n",
       "LOCATION_FULL_STREET_ADDRESS_OR_INTERSECTION  LEAFCREST LANE, CHARLOTTE 28216  "
      ]
     },
     "execution_count": 7,
     "metadata": {},
     "output_type": "execute_result"
    }
   ],
   "source": [
    "df.head().T"
   ]
  },
  {
   "cell_type": "markdown",
   "metadata": {},
   "source": [
    "# Date\n",
    "\n",
    "We have year and month variables."
   ]
  },
  {
   "cell_type": "code",
   "execution_count": 9,
   "metadata": {},
   "outputs": [],
   "source": [
    "date = df['INCIDENT_DATE']\n",
    "datef = pandas.to_datetime(date, format='%Y-%m')"
   ]
  },
  {
   "cell_type": "code",
   "execution_count": 13,
   "metadata": {},
   "outputs": [
    {
     "data": {
      "text/plain": [
       "count                      77\n",
       "unique                     60\n",
       "top       2013-09-01 00:00:00\n",
       "freq                        4\n",
       "first     2005-03-01 00:00:00\n",
       "last      2018-02-01 00:00:00\n",
       "Name: INCIDENT_DATE, dtype: object"
      ]
     },
     "execution_count": 13,
     "metadata": {},
     "output_type": "execute_result"
    }
   ],
   "source": [
    "datef.describe()"
   ]
  },
  {
   "cell_type": "code",
   "execution_count": 11,
   "metadata": {},
   "outputs": [
    {
     "data": {
      "text/plain": [
       "<matplotlib.axes._subplots.AxesSubplot at 0x7f0cc816bb38>"
      ]
     },
     "execution_count": 11,
     "metadata": {},
     "output_type": "execute_result"
    },
    {
     "data": {
      "image/png": "[encoded data removed]",
      "text/plain": [
       "<Figure size 432x288 with 1 Axes>"
      ]
     },
     "metadata": {
      "needs_background": "light"
     },
     "output_type": "display_data"
    }
   ],
   "source": [
    "datef.hist(bins=50)"
   ]
  },
  {
   "cell_type": "code",
   "execution_count": 14,
   "metadata": {},
   "outputs": [
    {
     "data": {
      "text/plain": [
       "0   2005-03-01\n",
       "1   2005-03-01\n",
       "2   2005-05-01\n",
       "3   2005-08-01\n",
       "4   2005-04-01\n",
       "Name: INCIDENT_DATE, dtype: datetime64[ns]"
      ]
     },
     "execution_count": 14,
     "metadata": {},
     "output_type": "execute_result"
    }
   ],
   "source": [
    "datef.head()"
   ]
  },
  {
   "cell_type": "markdown",
   "metadata": {},
   "source": [
    "Perfect!"
   ]
  },
  {
   "cell_type": "markdown",
   "metadata": {},
   "source": [
    "# Location"
   ]
  },
  {
   "cell_type": "code",
   "execution_count": 33,
   "metadata": {},
   "outputs": [
    {
     "data": {
      "text/plain": [
       "{'init': 'epsg:4326'}"
      ]
     },
     "execution_count": 33,
     "metadata": {},
     "output_type": "execute_result"
    }
   ],
   "source": [
    "dept.load_external_shapefile().crs"
   ]
  },
  {
   "cell_type": "code",
   "execution_count": 26,
   "metadata": {},
   "outputs": [],
   "source": [
    "lat = df['LOCATION_LATITUDE']\n",
    "lon = df['LOCATION_LONGITUDE']"
   ]
  },
  {
   "cell_type": "code",
   "execution_count": 27,
   "metadata": {},
   "outputs": [
    {
     "data": {
      "text/plain": [
       "0.012987012987012988"
      ]
     },
     "execution_count": 27,
     "metadata": {},
     "output_type": "execute_result"
    }
   ],
   "source": [
    "lat.isnull().mean()"
   ]
  },
  {
   "cell_type": "code",
   "execution_count": 28,
   "metadata": {},
   "outputs": [
    {
     "data": {
      "text/plain": [
       "0.012987012987012988"
      ]
     },
     "execution_count": 28,
     "metadata": {},
     "output_type": "execute_result"
    }
   ],
   "source": [
    "lon.isnull().mean()"
   ]
  },
  {
   "cell_type": "code",
   "execution_count": 29,
   "metadata": {},
   "outputs": [
    {
     "data": {
      "text/plain": [
       "True"
      ]
     },
     "execution_count": 29,
     "metadata": {},
     "output_type": "execute_result"
    }
   ],
   "source": [
    "(lat.isnull() == lon.isnull()).all()"
   ]
  },
  {
   "cell_type": "code",
   "execution_count": 30,
   "metadata": {},
   "outputs": [],
   "source": [
    "geocoded = lat.notnull()"
   ]
  },
  {
   "cell_type": "code",
   "execution_count": 31,
   "metadata": {},
   "outputs": [],
   "source": [
    "Point = shapely.geometry.Point\n",
    "points = [Point(lon, lat) if coded else Point()\n",
    "          for lat, lon, coded in zip(lat, lon, geocoded)]  # careful with state"
   ]
  },
  {
   "cell_type": "code",
   "execution_count": 37,
   "metadata": {},
   "outputs": [
    {
     "data": {
      "text/html": [
       "<div>\n",
       "<style scoped>\n",
       "    .dataframe tbody tr th:only-of-type {\n",
       "        vertical-align: middle;\n",
       "    }\n",
       "\n",
       "    .dataframe tbody tr th {\n",
       "        vertical-align: top;\n",
       "    }\n",
       "\n",
       "    .dataframe thead th {\n",
       "        text-align: right;\n",
       "    }\n",
       "</style>\n",
       "<table border=\"1\" class=\"dataframe\">\n",
       "  <thead>\n",
       "    <tr style=\"text-align: right;\">\n",
       "      <th></th>\n",
       "      <th>INCIDENT_UNIQUE_IDENTIFIER</th>\n",
       "      <th>INCIDENT_DATE</th>\n",
       "      <th>SUBJECT_RACE</th>\n",
       "      <th>SUBJECT_GENDER</th>\n",
       "      <th>SUBJECT_AGE_IN_YEARS</th>\n",
       "      <th>SUBJECT_INJURY_TYPE</th>\n",
       "      <th>LOCATION_LATITUDE</th>\n",
       "      <th>LOCATION_LONGITUDE</th>\n",
       "      <th>LOCATION_FULL_STREET_ADDRESS_OR_INTERSECTION</th>\n",
       "      <th>geometry</th>\n",
       "    </tr>\n",
       "  </thead>\n",
       "  <tbody>\n",
       "    <tr>\n",
       "      <th>0</th>\n",
       "      <td>1649</td>\n",
       "      <td>2005-03</td>\n",
       "      <td>Black</td>\n",
       "      <td>Male</td>\n",
       "      <td>33.0</td>\n",
       "      <td>Miss</td>\n",
       "      <td>35.224496</td>\n",
       "      <td>-80.896504</td>\n",
       "      <td>WILKINSON BOULEVARD, CHARLOTTE 28208</td>\n",
       "      <td>POINT (-80.89650368 35.22449626)</td>\n",
       "    </tr>\n",
       "    <tr>\n",
       "      <th>1</th>\n",
       "      <td>1739</td>\n",
       "      <td>2005-03</td>\n",
       "      <td>White</td>\n",
       "      <td>Male</td>\n",
       "      <td>25.0</td>\n",
       "      <td>Non-Fatal Injury</td>\n",
       "      <td>35.226991</td>\n",
       "      <td>-80.729299</td>\n",
       "      <td>KEYWAY BOULEVARD, CHARLOTTE 28205</td>\n",
       "      <td>POINT (-80.72929894000001 35.22699116)</td>\n",
       "    </tr>\n",
       "    <tr>\n",
       "      <th>2</th>\n",
       "      <td>1953</td>\n",
       "      <td>2005-05</td>\n",
       "      <td>White</td>\n",
       "      <td>Male</td>\n",
       "      <td>67.0</td>\n",
       "      <td>Fatal Injury</td>\n",
       "      <td>35.199025</td>\n",
       "      <td>-80.756286</td>\n",
       "      <td>AMITY SPRINGS DRIVE, CHARLOTTE 28212</td>\n",
       "      <td>POINT (-80.75628578 35.19902512)</td>\n",
       "    </tr>\n",
       "    <tr>\n",
       "      <th>3</th>\n",
       "      <td>2421</td>\n",
       "      <td>2005-08</td>\n",
       "      <td>Black</td>\n",
       "      <td>Male</td>\n",
       "      <td>25.0</td>\n",
       "      <td>Miss</td>\n",
       "      <td>35.219339</td>\n",
       "      <td>-80.876367</td>\n",
       "      <td>BETHEL ROAD, CHARLOTTE 28208</td>\n",
       "      <td>POINT (-80.87636738 35.2193387)</td>\n",
       "    </tr>\n",
       "    <tr>\n",
       "      <th>4</th>\n",
       "      <td>1875</td>\n",
       "      <td>2005-04</td>\n",
       "      <td>Black</td>\n",
       "      <td>Male</td>\n",
       "      <td>19.0</td>\n",
       "      <td>Miss</td>\n",
       "      <td>35.144363</td>\n",
       "      <td>-80.861774</td>\n",
       "      <td>LEAFCREST LANE, CHARLOTTE 28216</td>\n",
       "      <td>POINT (-80.86177397 35.14436326)</td>\n",
       "    </tr>\n",
       "  </tbody>\n",
       "</table>\n",
       "</div>"
      ],
      "text/plain": [
       "   INCIDENT_UNIQUE_IDENTIFIER INCIDENT_DATE SUBJECT_RACE SUBJECT_GENDER  \\\n",
       "0                        1649       2005-03        Black           Male   \n",
       "1                        1739       2005-03        White           Male   \n",
       "2                        1953       2005-05        White           Male   \n",
       "3                        2421       2005-08        Black           Male   \n",
       "4                        1875       2005-04        Black           Male   \n",
       "\n",
       "   SUBJECT_AGE_IN_YEARS SUBJECT_INJURY_TYPE  LOCATION_LATITUDE  \\\n",
       "0                  33.0                Miss          35.224496   \n",
       "1                  25.0    Non-Fatal Injury          35.226991   \n",
       "2                  67.0        Fatal Injury          35.199025   \n",
       "3                  25.0                Miss          35.219339   \n",
       "4                  19.0                Miss          35.144363   \n",
       "\n",
       "   LOCATION_LONGITUDE LOCATION_FULL_STREET_ADDRESS_OR_INTERSECTION  \\\n",
       "0          -80.896504         WILKINSON BOULEVARD, CHARLOTTE 28208   \n",
       "1          -80.729299            KEYWAY BOULEVARD, CHARLOTTE 28205   \n",
       "2          -80.756286         AMITY SPRINGS DRIVE, CHARLOTTE 28212   \n",
       "3          -80.876367                 BETHEL ROAD, CHARLOTTE 28208   \n",
       "4          -80.861774              LEAFCREST LANE, CHARLOTTE 28216   \n",
       "\n",
       "                                 geometry  \n",
       "0        POINT (-80.89650368 35.22449626)  \n",
       "1  POINT (-80.72929894000001 35.22699116)  \n",
       "2        POINT (-80.75628578 35.19902512)  \n",
       "3         POINT (-80.87636738 35.2193387)  \n",
       "4        POINT (-80.86177397 35.14436326)  "
      ]
     },
     "execution_count": 37,
     "metadata": {},
     "output_type": "execute_result"
    }
   ],
   "source": [
    "gdf = geopandas.GeoDataFrame(df, geometry=points, crs=util.crs.epsg4326)\n",
    "gdf.head()"
   ]
  },
  {
   "cell_type": "code",
   "execution_count": 38,
   "metadata": {},
   "outputs": [
    {
     "data": {
      "text/plain": [
       "<matplotlib.axes._subplots.AxesSubplot at 0x7f0cc807c0f0>"
      ]
     },
     "execution_count": 38,
     "metadata": {},
     "output_type": "execute_result"
    },
    {
     "data": {
      "image/png": "[encoded data removed]",
      "text/plain": [
       "<Figure size 432x288 with 1 Axes>"
      ]
     },
     "metadata": {
      "needs_background": "light"
     },
     "output_type": "display_data"
    }
   ],
   "source": [
    "gdf.plot()"
   ]
  }
 ],
 "metadata": {
  "kernelspec": {
   "display_name": "Python 3",
   "language": "python",
   "name": "python3"
  },
  "language_info": {
   "codemirror_mode": {
    "name": "ipython",
    "version": 3
   },
   "file_extension": ".py",
   "mimetype": "text/x-python",
   "name": "python",
   "nbconvert_exporter": "python",
   "pygments_lexer": "ipython3",
   "version": "3.7.0"
  }
 },
 "nbformat": 4,
 "nbformat_minor": 2
}
