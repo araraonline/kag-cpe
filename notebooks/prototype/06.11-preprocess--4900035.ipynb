{
 "cells": [
  {
   "cell_type": "markdown",
   "metadata": {},
   "source": [
    "# 6.11 Preprocess 49-00035 (Oakland, CA)"
   ]
  },
  {
   "cell_type": "code",
   "execution_count": 1,
   "metadata": {},
   "outputs": [],
   "source": [
    "import pandas\n",
    "\n",
    "from cpe_help import Department"
   ]
  },
  {
   "cell_type": "code",
   "execution_count": 6,
   "metadata": {},
   "outputs": [
    {
     "data": {
      "text/html": [
       "<div>\n",
       "<style scoped>\n",
       "    .dataframe tbody tr th:only-of-type {\n",
       "        vertical-align: middle;\n",
       "    }\n",
       "\n",
       "    .dataframe tbody tr th {\n",
       "        vertical-align: top;\n",
       "    }\n",
       "\n",
       "    .dataframe thead th {\n",
       "        text-align: right;\n",
       "    }\n",
       "</style>\n",
       "<table border=\"1\" class=\"dataframe\">\n",
       "  <thead>\n",
       "    <tr style=\"text-align: right;\">\n",
       "      <th></th>\n",
       "      <th>10764</th>\n",
       "      <th>10765</th>\n",
       "      <th>10766</th>\n",
       "      <th>10767</th>\n",
       "      <th>10768</th>\n",
       "    </tr>\n",
       "  </thead>\n",
       "  <tbody>\n",
       "    <tr>\n",
       "      <th>CRIME_TYPE</th>\n",
       "      <td>BURG - AUTO</td>\n",
       "      <td>VANDALISM</td>\n",
       "      <td>STOLEN VEHICLE</td>\n",
       "      <td>STOLEN VEHICLE</td>\n",
       "      <td>STOLEN VEHICLE</td>\n",
       "    </tr>\n",
       "    <tr>\n",
       "      <th>INCIDENT_DATE</th>\n",
       "      <td>1/19/17 19:00</td>\n",
       "      <td>12/22/16 11:55</td>\n",
       "      <td>1/19/17 15:00</td>\n",
       "      <td>1/20/17 9:19</td>\n",
       "      <td>1/19/17 3:00</td>\n",
       "    </tr>\n",
       "    <tr>\n",
       "      <th>INCIDENT_UNIQUE_IDENTIFIER</th>\n",
       "      <td>17-003513</td>\n",
       "      <td>16-917612</td>\n",
       "      <td>17-003518</td>\n",
       "      <td>17-003520</td>\n",
       "      <td>17-003521</td>\n",
       "    </tr>\n",
       "    <tr>\n",
       "      <th>INCIDENT_REASON</th>\n",
       "      <td>BURGLARY-AUTO</td>\n",
       "      <td>VANDALISM</td>\n",
       "      <td>VEHICLE THEFT - AUTO</td>\n",
       "      <td>POSS STOLEN VEH/VES/ETC</td>\n",
       "      <td>VEHICLE THEFT - AUTO</td>\n",
       "    </tr>\n",
       "    <tr>\n",
       "      <th>LOCATION_DISTRICT</th>\n",
       "      <td>04X</td>\n",
       "      <td>77X</td>\n",
       "      <td>32Y</td>\n",
       "      <td>07X</td>\n",
       "      <td>03Y</td>\n",
       "    </tr>\n",
       "    <tr>\n",
       "      <th>LOCATION_FULL_STREET_ADDRESS_OR_INTERSECTION</th>\n",
       "      <td>1700 MARTIN LUTHER KING JR W</td>\n",
       "      <td>SAN PABLO AVE</td>\n",
       "      <td>9800 SUNNYSIDE ST</td>\n",
       "      <td>2200 CAMPBELL ST</td>\n",
       "      <td>600 10TH ST</td>\n",
       "    </tr>\n",
       "    <tr>\n",
       "      <th>LOCATION_CITY</th>\n",
       "      <td>Oakland</td>\n",
       "      <td>Oakland</td>\n",
       "      <td>Oakland</td>\n",
       "      <td>Oakland</td>\n",
       "      <td>Oakland</td>\n",
       "    </tr>\n",
       "    <tr>\n",
       "      <th>LOCATION_STATE</th>\n",
       "      <td>CA</td>\n",
       "      <td>CA</td>\n",
       "      <td>CA</td>\n",
       "      <td>CA</td>\n",
       "      <td>CA</td>\n",
       "    </tr>\n",
       "  </tbody>\n",
       "</table>\n",
       "</div>"
      ],
      "text/plain": [
       "                                                                     10764  \\\n",
       "CRIME_TYPE                                                     BURG - AUTO   \n",
       "INCIDENT_DATE                                                1/19/17 19:00   \n",
       "INCIDENT_UNIQUE_IDENTIFIER                                       17-003513   \n",
       "INCIDENT_REASON                                              BURGLARY-AUTO   \n",
       "LOCATION_DISTRICT                                                      04X   \n",
       "LOCATION_FULL_STREET_ADDRESS_OR_INTERSECTION  1700 MARTIN LUTHER KING JR W   \n",
       "LOCATION_CITY                                                      Oakland   \n",
       "LOCATION_STATE                                                          CA   \n",
       "\n",
       "                                                       10765  \\\n",
       "CRIME_TYPE                                         VANDALISM   \n",
       "INCIDENT_DATE                                 12/22/16 11:55   \n",
       "INCIDENT_UNIQUE_IDENTIFIER                         16-917612   \n",
       "INCIDENT_REASON                                    VANDALISM   \n",
       "LOCATION_DISTRICT                                        77X   \n",
       "LOCATION_FULL_STREET_ADDRESS_OR_INTERSECTION   SAN PABLO AVE   \n",
       "LOCATION_CITY                                        Oakland   \n",
       "LOCATION_STATE                                            CA   \n",
       "\n",
       "                                                             10766  \\\n",
       "CRIME_TYPE                                          STOLEN VEHICLE   \n",
       "INCIDENT_DATE                                        1/19/17 15:00   \n",
       "INCIDENT_UNIQUE_IDENTIFIER                               17-003518   \n",
       "INCIDENT_REASON                               VEHICLE THEFT - AUTO   \n",
       "LOCATION_DISTRICT                                              32Y   \n",
       "LOCATION_FULL_STREET_ADDRESS_OR_INTERSECTION     9800 SUNNYSIDE ST   \n",
       "LOCATION_CITY                                              Oakland   \n",
       "LOCATION_STATE                                                  CA   \n",
       "\n",
       "                                                                10767  \\\n",
       "CRIME_TYPE                                             STOLEN VEHICLE   \n",
       "INCIDENT_DATE                                            1/20/17 9:19   \n",
       "INCIDENT_UNIQUE_IDENTIFIER                                  17-003520   \n",
       "INCIDENT_REASON                               POSS STOLEN VEH/VES/ETC   \n",
       "LOCATION_DISTRICT                                                 07X   \n",
       "LOCATION_FULL_STREET_ADDRESS_OR_INTERSECTION         2200 CAMPBELL ST   \n",
       "LOCATION_CITY                                                 Oakland   \n",
       "LOCATION_STATE                                                     CA   \n",
       "\n",
       "                                                             10768  \n",
       "CRIME_TYPE                                          STOLEN VEHICLE  \n",
       "INCIDENT_DATE                                         1/19/17 3:00  \n",
       "INCIDENT_UNIQUE_IDENTIFIER                               17-003521  \n",
       "INCIDENT_REASON                               VEHICLE THEFT - AUTO  \n",
       "LOCATION_DISTRICT                                              03Y  \n",
       "LOCATION_FULL_STREET_ADDRESS_OR_INTERSECTION           600 10TH ST  \n",
       "LOCATION_CITY                                              Oakland  \n",
       "LOCATION_STATE                                                  CA  "
      ]
     },
     "execution_count": 6,
     "metadata": {},
     "output_type": "execute_result"
    }
   ],
   "source": [
    "dept = Department('49-00035')\n",
    "path = dept.tabular_input_dir / '49-00035_Incidents_2016.csv'\n",
    "df = pandas.read_csv(path, low_memory=False, skiprows=[1])\n",
    "\n",
    "df.tail().T"
   ]
  },
  {
   "cell_type": "code",
   "execution_count": 5,
   "metadata": {},
   "outputs": [
    {
     "data": {
      "text/plain": [
       "(10769, 8)"
      ]
     },
     "execution_count": 5,
     "metadata": {},
     "output_type": "execute_result"
    }
   ],
   "source": [
    "df.shape"
   ]
  },
  {
   "cell_type": "markdown",
   "metadata": {},
   "source": [
    "# Date"
   ]
  },
  {
   "cell_type": "code",
   "execution_count": 7,
   "metadata": {},
   "outputs": [],
   "source": [
    "date = df['INCIDENT_DATE']\n",
    "datef = pandas.to_datetime(date, format='%m/%d/%y %H:%M')"
   ]
  },
  {
   "cell_type": "code",
   "execution_count": 8,
   "metadata": {},
   "outputs": [
    {
     "data": {
      "text/plain": [
       "count                   10767\n",
       "unique                   7651\n",
       "top       2016-11-22 20:00:00\n",
       "freq                       10\n",
       "first     2004-08-08 00:00:00\n",
       "last      2050-01-03 13:55:00\n",
       "Name: INCIDENT_DATE, dtype: object"
      ]
     },
     "execution_count": 8,
     "metadata": {},
     "output_type": "execute_result"
    }
   ],
   "source": [
    "datef.describe()"
   ]
  },
  {
   "cell_type": "code",
   "execution_count": 11,
   "metadata": {},
   "outputs": [
    {
     "data": {
      "text/plain": [
       "2016.0    6110\n",
       "2017.0    4646\n",
       "2040.0       2\n",
       "2030.0       2\n",
       "2019.0       2\n",
       "2014.0       1\n",
       "2004.0       1\n",
       "2034.0       1\n",
       "2050.0       1\n",
       "2020.0       1\n",
       "Name: INCIDENT_DATE, dtype: int64"
      ]
     },
     "execution_count": 11,
     "metadata": {},
     "output_type": "execute_result"
    }
   ],
   "source": [
    "datef.dt.year.value_counts()"
   ]
  },
  {
   "cell_type": "code",
   "execution_count": 12,
   "metadata": {},
   "outputs": [
    {
     "data": {
      "text/html": [
       "<div>\n",
       "<style scoped>\n",
       "    .dataframe tbody tr th:only-of-type {\n",
       "        vertical-align: middle;\n",
       "    }\n",
       "\n",
       "    .dataframe tbody tr th {\n",
       "        vertical-align: top;\n",
       "    }\n",
       "\n",
       "    .dataframe thead th {\n",
       "        text-align: right;\n",
       "    }\n",
       "</style>\n",
       "<table border=\"1\" class=\"dataframe\">\n",
       "  <thead>\n",
       "    <tr style=\"text-align: right;\">\n",
       "      <th></th>\n",
       "      <th>CRIME_TYPE</th>\n",
       "      <th>INCIDENT_DATE</th>\n",
       "      <th>INCIDENT_UNIQUE_IDENTIFIER</th>\n",
       "      <th>INCIDENT_REASON</th>\n",
       "      <th>LOCATION_DISTRICT</th>\n",
       "      <th>LOCATION_FULL_STREET_ADDRESS_OR_INTERSECTION</th>\n",
       "      <th>LOCATION_CITY</th>\n",
       "      <th>LOCATION_STATE</th>\n",
       "    </tr>\n",
       "  </thead>\n",
       "  <tbody>\n",
       "    <tr>\n",
       "      <th>8864</th>\n",
       "      <td>BURG - AUTO</td>\n",
       "      <td>1/3/50 13:55</td>\n",
       "      <td>14-038177</td>\n",
       "      <td>BURGLARY-AUTO</td>\n",
       "      <td>08X</td>\n",
       "      <td>TELEGRAPH AV &amp; W MACARTHUR BLVD</td>\n",
       "      <td>Oakland</td>\n",
       "      <td>CA</td>\n",
       "    </tr>\n",
       "  </tbody>\n",
       "</table>\n",
       "</div>"
      ],
      "text/plain": [
       "       CRIME_TYPE INCIDENT_DATE INCIDENT_UNIQUE_IDENTIFIER INCIDENT_REASON  \\\n",
       "8864  BURG - AUTO  1/3/50 13:55                  14-038177   BURGLARY-AUTO   \n",
       "\n",
       "     LOCATION_DISTRICT LOCATION_FULL_STREET_ADDRESS_OR_INTERSECTION  \\\n",
       "8864               08X              TELEGRAPH AV & W MACARTHUR BLVD   \n",
       "\n",
       "     LOCATION_CITY LOCATION_STATE  \n",
       "8864       Oakland             CA  "
      ]
     },
     "execution_count": 12,
     "metadata": {},
     "output_type": "execute_result"
    }
   ],
   "source": [
    "df[datef.dt.year == 2050]"
   ]
  },
  {
   "cell_type": "markdown",
   "metadata": {},
   "source": [
    "Bad entries"
   ]
  },
  {
   "cell_type": "code",
   "execution_count": 16,
   "metadata": {},
   "outputs": [
    {
     "data": {
      "text/plain": [
       "0.9987928312749559"
      ]
     },
     "execution_count": 16,
     "metadata": {},
     "output_type": "execute_result"
    }
   ],
   "source": [
    "good_date = (datef >= '2016-01-01') & (datef <= '2017-12-31')\n",
    "good_date.mean()"
   ]
  },
  {
   "cell_type": "code",
   "execution_count": 19,
   "metadata": {},
   "outputs": [
    {
     "data": {
      "text/plain": [
       "count                   10756\n",
       "unique                   7640\n",
       "top       2016-11-22 20:00:00\n",
       "freq                       10\n",
       "first     2016-11-11 00:00:00\n",
       "last      2017-02-09 14:45:00\n",
       "Name: INCIDENT_DATE, dtype: object"
      ]
     },
     "execution_count": 19,
     "metadata": {},
     "output_type": "execute_result"
    }
   ],
   "source": [
    "datef2 = datef[good_date]\n",
    "datef2.describe()"
   ]
  },
  {
   "cell_type": "code",
   "execution_count": 23,
   "metadata": {},
   "outputs": [
    {
     "data": {
      "text/plain": [
       "<matplotlib.axes._subplots.AxesSubplot at 0x7fb9b53e6710>"
      ]
     },
     "execution_count": 23,
     "metadata": {},
     "output_type": "execute_result"
    },
    {
     "data": {
      "image/png": "[encoded data removed]",
      "text/plain": [
       "<Figure size 864x288 with 1 Axes>"
      ]
     },
     "metadata": {
      "needs_background": "light"
     },
     "output_type": "display_data"
    }
   ],
   "source": [
    "datef2.hist(bins=50, figsize=(12, 4))"
   ]
  },
  {
   "cell_type": "markdown",
   "metadata": {},
   "source": [
    "The dates are weird, from November 2016 to February 2017. Given that they are so well spread, I will believe them :)"
   ]
  },
  {
   "cell_type": "code",
   "execution_count": 28,
   "metadata": {},
   "outputs": [
    {
     "data": {
      "text/plain": [
       "CRIME_TYPE                                         PETTY THEFT\n",
       "INCIDENT_DATE                                    11/11/16 0:00\n",
       "INCIDENT_UNIQUE_IDENTIFIER                           16-060900\n",
       "INCIDENT_REASON                                          THEFT\n",
       "LOCATION_DISTRICT                                          30X\n",
       "LOCATION_FULL_STREET_ADDRESS_OR_INTERSECTION    2100 CHURCH ST\n",
       "LOCATION_CITY                                          Oakland\n",
       "LOCATION_STATE                                              CA\n",
       "Name: 1306, dtype: object"
      ]
     },
     "execution_count": 28,
     "metadata": {},
     "output_type": "execute_result"
    }
   ],
   "source": [
    "df.loc[datef2.idxmin()]"
   ]
  },
  {
   "cell_type": "markdown",
   "metadata": {},
   "source": [
    "# Location"
   ]
  },
  {
   "cell_type": "code",
   "execution_count": 29,
   "metadata": {},
   "outputs": [
    {
     "data": {
      "text/html": [
       "<div>\n",
       "<style scoped>\n",
       "    .dataframe tbody tr th:only-of-type {\n",
       "        vertical-align: middle;\n",
       "    }\n",
       "\n",
       "    .dataframe tbody tr th {\n",
       "        vertical-align: top;\n",
       "    }\n",
       "\n",
       "    .dataframe thead th {\n",
       "        text-align: right;\n",
       "    }\n",
       "</style>\n",
       "<table border=\"1\" class=\"dataframe\">\n",
       "  <thead>\n",
       "    <tr style=\"text-align: right;\">\n",
       "      <th></th>\n",
       "      <th>LOCATION_DISTRICT</th>\n",
       "      <th>LOCATION_FULL_STREET_ADDRESS_OR_INTERSECTION</th>\n",
       "      <th>LOCATION_CITY</th>\n",
       "      <th>LOCATION_STATE</th>\n",
       "    </tr>\n",
       "  </thead>\n",
       "  <tbody>\n",
       "    <tr>\n",
       "      <th>0</th>\n",
       "      <td>04X</td>\n",
       "      <td>1700 MARTIN LUTHER KING JR W</td>\n",
       "      <td>Oakland</td>\n",
       "      <td>CA</td>\n",
       "    </tr>\n",
       "    <tr>\n",
       "      <th>1</th>\n",
       "      <td>27X</td>\n",
       "      <td>1600 HIGH ST</td>\n",
       "      <td>Oakland</td>\n",
       "      <td>CA</td>\n",
       "    </tr>\n",
       "    <tr>\n",
       "      <th>2</th>\n",
       "      <td>08X</td>\n",
       "      <td>2800 TELEGRAPH AV</td>\n",
       "      <td>Oakland</td>\n",
       "      <td>CA</td>\n",
       "    </tr>\n",
       "    <tr>\n",
       "      <th>3</th>\n",
       "      <td>07X</td>\n",
       "      <td>34TH ST &amp; LINDEN ST</td>\n",
       "      <td>Oakland</td>\n",
       "      <td>CA</td>\n",
       "    </tr>\n",
       "    <tr>\n",
       "      <th>4</th>\n",
       "      <td>04X</td>\n",
       "      <td>2100 SAN PABLO AV</td>\n",
       "      <td>Oakland</td>\n",
       "      <td>CA</td>\n",
       "    </tr>\n",
       "  </tbody>\n",
       "</table>\n",
       "</div>"
      ],
      "text/plain": [
       "  LOCATION_DISTRICT LOCATION_FULL_STREET_ADDRESS_OR_INTERSECTION  \\\n",
       "0               04X                 1700 MARTIN LUTHER KING JR W   \n",
       "1               27X                                 1600 HIGH ST   \n",
       "2               08X                            2800 TELEGRAPH AV   \n",
       "3               07X                          34TH ST & LINDEN ST   \n",
       "4               04X                            2100 SAN PABLO AV   \n",
       "\n",
       "  LOCATION_CITY LOCATION_STATE  \n",
       "0       Oakland             CA  \n",
       "1       Oakland             CA  \n",
       "2       Oakland             CA  \n",
       "3       Oakland             CA  \n",
       "4       Oakland             CA  "
      ]
     },
     "execution_count": 29,
     "metadata": {},
     "output_type": "execute_result"
    }
   ],
   "source": [
    "location = df[[c for c in df if c.startswith('LOCATION')]]\n",
    "location.head()"
   ]
  },
  {
   "cell_type": "markdown",
   "metadata": {},
   "source": [
    "We can use the districts directly (most cases) and, we may need to geocode to get to more precise locations. "
   ]
  },
  {
   "cell_type": "code",
   "execution_count": 31,
   "metadata": {},
   "outputs": [
    {
     "data": {
      "text/plain": [
       "LOCATION_DISTRICT                               0.018293\n",
       "LOCATION_FULL_STREET_ADDRESS_OR_INTERSECTION    0.000000\n",
       "LOCATION_CITY                                   0.000000\n",
       "LOCATION_STATE                                  0.000000\n",
       "dtype: float64"
      ]
     },
     "execution_count": 31,
     "metadata": {},
     "output_type": "execute_result"
    }
   ],
   "source": [
    "location.isnull().mean()"
   ]
  }
 ],
 "metadata": {
  "kernelspec": {
   "display_name": "Python 3",
   "language": "python",
   "name": "python3"
  },
  "language_info": {
   "codemirror_mode": {
    "name": "ipython",
    "version": 3
   },
   "file_extension": ".py",
   "mimetype": "text/x-python",
   "name": "python",
   "nbconvert_exporter": "python",
   "pygments_lexer": "ipython3",
   "version": "3.7.0"
  }
 },
 "nbformat": 4,
 "nbformat_minor": 2
}
