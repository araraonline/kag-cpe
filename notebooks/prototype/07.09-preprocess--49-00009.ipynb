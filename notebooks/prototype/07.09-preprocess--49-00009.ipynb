{
 "cells": [
  {
   "cell_type": "markdown",
   "metadata": {},
   "source": [
    "# Preprocess 49-00009 (Seattle, WA)"
   ]
  },
  {
   "cell_type": "code",
   "execution_count": 3,
   "metadata": {},
   "outputs": [],
   "source": [
    "import pandas\n",
    "\n",
    "from cpe_help import Department"
   ]
  },
  {
   "cell_type": "code",
   "execution_count": 5,
   "metadata": {},
   "outputs": [
    {
     "data": {
      "text/html": [
       "<div>\n",
       "<style scoped>\n",
       "    .dataframe tbody tr th:only-of-type {\n",
       "        vertical-align: middle;\n",
       "    }\n",
       "\n",
       "    .dataframe tbody tr th {\n",
       "        vertical-align: top;\n",
       "    }\n",
       "\n",
       "    .dataframe thead th {\n",
       "        text-align: right;\n",
       "    }\n",
       "</style>\n",
       "<table border=\"1\" class=\"dataframe\">\n",
       "  <thead>\n",
       "    <tr style=\"text-align: right;\">\n",
       "      <th></th>\n",
       "      <th>0</th>\n",
       "      <th>1</th>\n",
       "      <th>2</th>\n",
       "      <th>3</th>\n",
       "      <th>4</th>\n",
       "    </tr>\n",
       "  </thead>\n",
       "  <tbody>\n",
       "    <tr>\n",
       "      <th>INCIDENT_UNIQUE_IDENTIFIER</th>\n",
       "      <td>18412-2238-14470</td>\n",
       "      <td>16162-1589-12833</td>\n",
       "      <td>30638-2146-17272</td>\n",
       "      <td>31850-634-11958</td>\n",
       "      <td>15041-2017-12130</td>\n",
       "    </tr>\n",
       "    <tr>\n",
       "      <th>INCIDENT_UNIQUE)IDENTIFIER.1</th>\n",
       "      <td>18412</td>\n",
       "      <td>16162</td>\n",
       "      <td>30638</td>\n",
       "      <td>31850</td>\n",
       "      <td>15041</td>\n",
       "    </tr>\n",
       "    <tr>\n",
       "      <th>TYPE_OF_FORCE_USED</th>\n",
       "      <td>Level 1 - Use of Force</td>\n",
       "      <td>Level 1 - Use of Force</td>\n",
       "      <td>Level 1 - Use of Force</td>\n",
       "      <td>Level 1 - Use of Force</td>\n",
       "      <td>Level 1 - Use of Force</td>\n",
       "    </tr>\n",
       "    <tr>\n",
       "      <th>INCIDENT_DATE</th>\n",
       "      <td>11/28/17 1:40</td>\n",
       "      <td>6/22/17 4:15</td>\n",
       "      <td>7/21/18 18:58</td>\n",
       "      <td>8/10/18 12:40</td>\n",
       "      <td>3/30/17 15:59</td>\n",
       "    </tr>\n",
       "    <tr>\n",
       "      <th>LOCATION_DISTRICT</th>\n",
       "      <td>-</td>\n",
       "      <td>-</td>\n",
       "      <td>-</td>\n",
       "      <td>-</td>\n",
       "      <td>-</td>\n",
       "    </tr>\n",
       "    <tr>\n",
       "      <th>LOCATION_DISTRICT.1</th>\n",
       "      <td>-</td>\n",
       "      <td>-</td>\n",
       "      <td>-</td>\n",
       "      <td>-</td>\n",
       "      <td>-</td>\n",
       "    </tr>\n",
       "    <tr>\n",
       "      <th>LOCATION_DISTRICT.2</th>\n",
       "      <td>-</td>\n",
       "      <td>-</td>\n",
       "      <td>-</td>\n",
       "      <td>-</td>\n",
       "      <td>-</td>\n",
       "    </tr>\n",
       "    <tr>\n",
       "      <th>OFFICER_ID</th>\n",
       "      <td>2238</td>\n",
       "      <td>1589</td>\n",
       "      <td>2146</td>\n",
       "      <td>634</td>\n",
       "      <td>2017</td>\n",
       "    </tr>\n",
       "    <tr>\n",
       "      <th>SUBJECT_ID</th>\n",
       "      <td>14470</td>\n",
       "      <td>12833</td>\n",
       "      <td>17272</td>\n",
       "      <td>11958</td>\n",
       "      <td>12130</td>\n",
       "    </tr>\n",
       "    <tr>\n",
       "      <th>SUBJECT_RACE</th>\n",
       "      <td>Black or African American</td>\n",
       "      <td>Black or African American</td>\n",
       "      <td>White</td>\n",
       "      <td>Not Specified</td>\n",
       "      <td>White</td>\n",
       "    </tr>\n",
       "    <tr>\n",
       "      <th>SUBJECT_GENDER</th>\n",
       "      <td>Female</td>\n",
       "      <td>Male</td>\n",
       "      <td>Male</td>\n",
       "      <td>Male</td>\n",
       "      <td>Male</td>\n",
       "    </tr>\n",
       "  </tbody>\n",
       "</table>\n",
       "</div>"
      ],
      "text/plain": [
       "                                                      0  \\\n",
       "INCIDENT_UNIQUE_IDENTIFIER             18412-2238-14470   \n",
       "INCIDENT_UNIQUE)IDENTIFIER.1                      18412   \n",
       "TYPE_OF_FORCE_USED               Level 1 - Use of Force   \n",
       "INCIDENT_DATE                             11/28/17 1:40   \n",
       "LOCATION_DISTRICT                                     -   \n",
       "LOCATION_DISTRICT.1                                   -   \n",
       "LOCATION_DISTRICT.2                                   -   \n",
       "OFFICER_ID                                         2238   \n",
       "SUBJECT_ID                                        14470   \n",
       "SUBJECT_RACE                  Black or African American   \n",
       "SUBJECT_GENDER                                   Female   \n",
       "\n",
       "                                                      1  \\\n",
       "INCIDENT_UNIQUE_IDENTIFIER             16162-1589-12833   \n",
       "INCIDENT_UNIQUE)IDENTIFIER.1                      16162   \n",
       "TYPE_OF_FORCE_USED               Level 1 - Use of Force   \n",
       "INCIDENT_DATE                              6/22/17 4:15   \n",
       "LOCATION_DISTRICT                                     -   \n",
       "LOCATION_DISTRICT.1                                   -   \n",
       "LOCATION_DISTRICT.2                                   -   \n",
       "OFFICER_ID                                         1589   \n",
       "SUBJECT_ID                                        12833   \n",
       "SUBJECT_RACE                  Black or African American   \n",
       "SUBJECT_GENDER                                     Male   \n",
       "\n",
       "                                                   2                       3  \\\n",
       "INCIDENT_UNIQUE_IDENTIFIER          30638-2146-17272         31850-634-11958   \n",
       "INCIDENT_UNIQUE)IDENTIFIER.1                   30638                   31850   \n",
       "TYPE_OF_FORCE_USED            Level 1 - Use of Force  Level 1 - Use of Force   \n",
       "INCIDENT_DATE                          7/21/18 18:58           8/10/18 12:40   \n",
       "LOCATION_DISTRICT                                  -                       -   \n",
       "LOCATION_DISTRICT.1                                -                       -   \n",
       "LOCATION_DISTRICT.2                                -                       -   \n",
       "OFFICER_ID                                      2146                     634   \n",
       "SUBJECT_ID                                     17272                   11958   \n",
       "SUBJECT_RACE                                   White           Not Specified   \n",
       "SUBJECT_GENDER                                  Male                    Male   \n",
       "\n",
       "                                                   4  \n",
       "INCIDENT_UNIQUE_IDENTIFIER          15041-2017-12130  \n",
       "INCIDENT_UNIQUE)IDENTIFIER.1                   15041  \n",
       "TYPE_OF_FORCE_USED            Level 1 - Use of Force  \n",
       "INCIDENT_DATE                          3/30/17 15:59  \n",
       "LOCATION_DISTRICT                                  -  \n",
       "LOCATION_DISTRICT.1                                -  \n",
       "LOCATION_DISTRICT.2                                -  \n",
       "OFFICER_ID                                      2017  \n",
       "SUBJECT_ID                                     12130  \n",
       "SUBJECT_RACE                                   White  \n",
       "SUBJECT_GENDER                                  Male  "
      ]
     },
     "execution_count": 5,
     "metadata": {},
     "output_type": "execute_result"
    }
   ],
   "source": [
    "dept = Department('49-00009')\n",
    "path = dept.tabular_input_dir / '49-00009_UOF.csv'\n",
    "df = pandas.read_csv(path, skiprows=[1])\n",
    "\n",
    "df.head().T"
   ]
  },
  {
   "cell_type": "code",
   "execution_count": 6,
   "metadata": {},
   "outputs": [
    {
     "data": {
      "text/plain": [
       "(8687, 11)"
      ]
     },
     "execution_count": 6,
     "metadata": {},
     "output_type": "execute_result"
    }
   ],
   "source": [
    "df.shape"
   ]
  },
  {
   "cell_type": "markdown",
   "metadata": {},
   "source": [
    "Various officers, same subject:"
   ]
  },
  {
   "cell_type": "code",
   "execution_count": 13,
   "metadata": {
    "scrolled": true
   },
   "outputs": [
    {
     "data": {
      "text/html": [
       "<div>\n",
       "<style scoped>\n",
       "    .dataframe tbody tr th:only-of-type {\n",
       "        vertical-align: middle;\n",
       "    }\n",
       "\n",
       "    .dataframe tbody tr th {\n",
       "        vertical-align: top;\n",
       "    }\n",
       "\n",
       "    .dataframe thead th {\n",
       "        text-align: right;\n",
       "    }\n",
       "</style>\n",
       "<table border=\"1\" class=\"dataframe\">\n",
       "  <thead>\n",
       "    <tr style=\"text-align: right;\">\n",
       "      <th></th>\n",
       "      <th>INCIDENT_UNIQUE_IDENTIFIER</th>\n",
       "      <th>INCIDENT_UNIQUE)IDENTIFIER.1</th>\n",
       "      <th>TYPE_OF_FORCE_USED</th>\n",
       "      <th>INCIDENT_DATE</th>\n",
       "      <th>LOCATION_DISTRICT</th>\n",
       "      <th>LOCATION_DISTRICT.1</th>\n",
       "      <th>LOCATION_DISTRICT.2</th>\n",
       "      <th>OFFICER_ID</th>\n",
       "      <th>SUBJECT_ID</th>\n",
       "      <th>SUBJECT_RACE</th>\n",
       "      <th>SUBJECT_GENDER</th>\n",
       "    </tr>\n",
       "  </thead>\n",
       "  <tbody>\n",
       "    <tr>\n",
       "      <th>990</th>\n",
       "      <td>1836-1708-1020</td>\n",
       "      <td>1836</td>\n",
       "      <td>Level 1 - Use of Force</td>\n",
       "      <td>5/1/14 20:54</td>\n",
       "      <td>W</td>\n",
       "      <td>D</td>\n",
       "      <td>D2</td>\n",
       "      <td>1708</td>\n",
       "      <td>1020</td>\n",
       "      <td>Not Specified</td>\n",
       "      <td>Not Specified</td>\n",
       "    </tr>\n",
       "    <tr>\n",
       "      <th>991</th>\n",
       "      <td>1785-1659-1708</td>\n",
       "      <td>1785</td>\n",
       "      <td>Level 1 - Use of Force</td>\n",
       "      <td>5/1/14 20:54</td>\n",
       "      <td>W</td>\n",
       "      <td>D</td>\n",
       "      <td>D2</td>\n",
       "      <td>1659</td>\n",
       "      <td>1708</td>\n",
       "      <td>Not Specified</td>\n",
       "      <td>Not Specified</td>\n",
       "    </tr>\n",
       "    <tr>\n",
       "      <th>992</th>\n",
       "      <td>1791-1685-1708</td>\n",
       "      <td>1791</td>\n",
       "      <td>Level 1 - Use of Force</td>\n",
       "      <td>5/1/14 20:54</td>\n",
       "      <td>W</td>\n",
       "      <td>D</td>\n",
       "      <td>D2</td>\n",
       "      <td>1685</td>\n",
       "      <td>1708</td>\n",
       "      <td>Not Specified</td>\n",
       "      <td>Not Specified</td>\n",
       "    </tr>\n",
       "    <tr>\n",
       "      <th>993</th>\n",
       "      <td>1820-1672-1708</td>\n",
       "      <td>1820</td>\n",
       "      <td>Level 1 - Use of Force</td>\n",
       "      <td>5/1/14 20:54</td>\n",
       "      <td>W</td>\n",
       "      <td>D</td>\n",
       "      <td>D2</td>\n",
       "      <td>1672</td>\n",
       "      <td>1708</td>\n",
       "      <td>Not Specified</td>\n",
       "      <td>Not Specified</td>\n",
       "    </tr>\n",
       "    <tr>\n",
       "      <th>994</th>\n",
       "      <td>1812-769-1708</td>\n",
       "      <td>1812</td>\n",
       "      <td>Level 1 - Use of Force</td>\n",
       "      <td>5/1/14 20:54</td>\n",
       "      <td>W</td>\n",
       "      <td>D</td>\n",
       "      <td>D2</td>\n",
       "      <td>769</td>\n",
       "      <td>1708</td>\n",
       "      <td>Not Specified</td>\n",
       "      <td>Not Specified</td>\n",
       "    </tr>\n",
       "    <tr>\n",
       "      <th>995</th>\n",
       "      <td>1814-1582-1708</td>\n",
       "      <td>1814</td>\n",
       "      <td>Level 1 - Use of Force</td>\n",
       "      <td>5/1/14 20:54</td>\n",
       "      <td>W</td>\n",
       "      <td>D</td>\n",
       "      <td>D2</td>\n",
       "      <td>1582</td>\n",
       "      <td>1708</td>\n",
       "      <td>Not Specified</td>\n",
       "      <td>Not Specified</td>\n",
       "    </tr>\n",
       "    <tr>\n",
       "      <th>996</th>\n",
       "      <td>1802-1616-1708</td>\n",
       "      <td>1802</td>\n",
       "      <td>Level 1 - Use of Force</td>\n",
       "      <td>5/1/14 20:54</td>\n",
       "      <td>W</td>\n",
       "      <td>D</td>\n",
       "      <td>D2</td>\n",
       "      <td>1616</td>\n",
       "      <td>1708</td>\n",
       "      <td>Not Specified</td>\n",
       "      <td>Not Specified</td>\n",
       "    </tr>\n",
       "    <tr>\n",
       "      <th>997</th>\n",
       "      <td>1804-1176-1708</td>\n",
       "      <td>1804</td>\n",
       "      <td>Level 1 - Use of Force</td>\n",
       "      <td>5/1/14 20:54</td>\n",
       "      <td>W</td>\n",
       "      <td>D</td>\n",
       "      <td>D2</td>\n",
       "      <td>1176</td>\n",
       "      <td>1708</td>\n",
       "      <td>Not Specified</td>\n",
       "      <td>Not Specified</td>\n",
       "    </tr>\n",
       "    <tr>\n",
       "      <th>998</th>\n",
       "      <td>1847-1599-1708</td>\n",
       "      <td>1847</td>\n",
       "      <td>Level 1 - Use of Force</td>\n",
       "      <td>5/1/14 20:54</td>\n",
       "      <td>W</td>\n",
       "      <td>D</td>\n",
       "      <td>D2</td>\n",
       "      <td>1599</td>\n",
       "      <td>1708</td>\n",
       "      <td>Not Specified</td>\n",
       "      <td>Not Specified</td>\n",
       "    </tr>\n",
       "    <tr>\n",
       "      <th>999</th>\n",
       "      <td>1837-898-1708</td>\n",
       "      <td>1837</td>\n",
       "      <td>Level 1 - Use of Force</td>\n",
       "      <td>5/1/14 20:54</td>\n",
       "      <td>W</td>\n",
       "      <td>D</td>\n",
       "      <td>D2</td>\n",
       "      <td>898</td>\n",
       "      <td>1708</td>\n",
       "      <td>Not Specified</td>\n",
       "      <td>Not Specified</td>\n",
       "    </tr>\n",
       "  </tbody>\n",
       "</table>\n",
       "</div>"
      ],
      "text/plain": [
       "    INCIDENT_UNIQUE_IDENTIFIER  INCIDENT_UNIQUE)IDENTIFIER.1  \\\n",
       "990             1836-1708-1020                          1836   \n",
       "991             1785-1659-1708                          1785   \n",
       "992             1791-1685-1708                          1791   \n",
       "993             1820-1672-1708                          1820   \n",
       "994              1812-769-1708                          1812   \n",
       "995             1814-1582-1708                          1814   \n",
       "996             1802-1616-1708                          1802   \n",
       "997             1804-1176-1708                          1804   \n",
       "998             1847-1599-1708                          1847   \n",
       "999              1837-898-1708                          1837   \n",
       "\n",
       "         TYPE_OF_FORCE_USED INCIDENT_DATE LOCATION_DISTRICT  \\\n",
       "990  Level 1 - Use of Force  5/1/14 20:54                 W   \n",
       "991  Level 1 - Use of Force  5/1/14 20:54                 W   \n",
       "992  Level 1 - Use of Force  5/1/14 20:54                 W   \n",
       "993  Level 1 - Use of Force  5/1/14 20:54                 W   \n",
       "994  Level 1 - Use of Force  5/1/14 20:54                 W   \n",
       "995  Level 1 - Use of Force  5/1/14 20:54                 W   \n",
       "996  Level 1 - Use of Force  5/1/14 20:54                 W   \n",
       "997  Level 1 - Use of Force  5/1/14 20:54                 W   \n",
       "998  Level 1 - Use of Force  5/1/14 20:54                 W   \n",
       "999  Level 1 - Use of Force  5/1/14 20:54                 W   \n",
       "\n",
       "    LOCATION_DISTRICT.1 LOCATION_DISTRICT.2  OFFICER_ID  SUBJECT_ID  \\\n",
       "990                   D                  D2        1708        1020   \n",
       "991                   D                  D2        1659        1708   \n",
       "992                   D                  D2        1685        1708   \n",
       "993                   D                  D2        1672        1708   \n",
       "994                   D                  D2         769        1708   \n",
       "995                   D                  D2        1582        1708   \n",
       "996                   D                  D2        1616        1708   \n",
       "997                   D                  D2        1176        1708   \n",
       "998                   D                  D2        1599        1708   \n",
       "999                   D                  D2         898        1708   \n",
       "\n",
       "      SUBJECT_RACE SUBJECT_GENDER  \n",
       "990  Not Specified  Not Specified  \n",
       "991  Not Specified  Not Specified  \n",
       "992  Not Specified  Not Specified  \n",
       "993  Not Specified  Not Specified  \n",
       "994  Not Specified  Not Specified  \n",
       "995  Not Specified  Not Specified  \n",
       "996  Not Specified  Not Specified  \n",
       "997  Not Specified  Not Specified  \n",
       "998  Not Specified  Not Specified  \n",
       "999  Not Specified  Not Specified  "
      ]
     },
     "execution_count": 13,
     "metadata": {},
     "output_type": "execute_result"
    }
   ],
   "source": [
    "df[datef == '2014-05-01 20:54:00'].head(10)"
   ]
  },
  {
   "cell_type": "markdown",
   "metadata": {},
   "source": [
    "# Date"
   ]
  },
  {
   "cell_type": "code",
   "execution_count": 10,
   "metadata": {},
   "outputs": [],
   "source": [
    "date = df['INCIDENT_DATE']\n",
    "datef = pandas.to_datetime(date, format='%m/%d/%y %H:%M')"
   ]
  },
  {
   "cell_type": "code",
   "execution_count": 11,
   "metadata": {},
   "outputs": [
    {
     "data": {
      "text/plain": [
       "count                    8687\n",
       "unique                   6461\n",
       "top       2014-05-01 20:54:00\n",
       "freq                       24\n",
       "first     2014-01-27 21:10:00\n",
       "last      2018-10-10 10:30:00\n",
       "Name: INCIDENT_DATE, dtype: object"
      ]
     },
     "execution_count": 11,
     "metadata": {},
     "output_type": "execute_result"
    }
   ],
   "source": [
    "datef.describe()"
   ]
  },
  {
   "cell_type": "code",
   "execution_count": 16,
   "metadata": {},
   "outputs": [
    {
     "data": {
      "text/plain": [
       "<matplotlib.axes._subplots.AxesSubplot at 0x7f102842f940>"
      ]
     },
     "execution_count": 16,
     "metadata": {},
     "output_type": "execute_result"
    },
    {
     "data": {
      "image/png": "[encoded data removed]",
      "text/plain": [
       "<Figure size 432x288 with 1 Axes>"
      ]
     },
     "metadata": {
      "needs_background": "light"
     },
     "output_type": "display_data"
    }
   ],
   "source": [
    "datef.hist(bins=100)"
   ]
  },
  {
   "cell_type": "markdown",
   "metadata": {},
   "source": [
    "Few dates at the beginning. Adoption period?"
   ]
  },
  {
   "cell_type": "markdown",
   "metadata": {},
   "source": [
    "# Location"
   ]
  },
  {
   "cell_type": "code",
   "execution_count": 17,
   "metadata": {},
   "outputs": [
    {
     "data": {
      "text/html": [
       "<div>\n",
       "<style scoped>\n",
       "    .dataframe tbody tr th:only-of-type {\n",
       "        vertical-align: middle;\n",
       "    }\n",
       "\n",
       "    .dataframe tbody tr th {\n",
       "        vertical-align: top;\n",
       "    }\n",
       "\n",
       "    .dataframe thead th {\n",
       "        text-align: right;\n",
       "    }\n",
       "</style>\n",
       "<table border=\"1\" class=\"dataframe\">\n",
       "  <thead>\n",
       "    <tr style=\"text-align: right;\">\n",
       "      <th></th>\n",
       "      <th>LOCATION_DISTRICT</th>\n",
       "      <th>LOCATION_DISTRICT.1</th>\n",
       "      <th>LOCATION_DISTRICT.2</th>\n",
       "    </tr>\n",
       "  </thead>\n",
       "  <tbody>\n",
       "    <tr>\n",
       "      <th>0</th>\n",
       "      <td>-</td>\n",
       "      <td>-</td>\n",
       "      <td>-</td>\n",
       "    </tr>\n",
       "    <tr>\n",
       "      <th>1</th>\n",
       "      <td>-</td>\n",
       "      <td>-</td>\n",
       "      <td>-</td>\n",
       "    </tr>\n",
       "    <tr>\n",
       "      <th>2</th>\n",
       "      <td>-</td>\n",
       "      <td>-</td>\n",
       "      <td>-</td>\n",
       "    </tr>\n",
       "    <tr>\n",
       "      <th>3</th>\n",
       "      <td>-</td>\n",
       "      <td>-</td>\n",
       "      <td>-</td>\n",
       "    </tr>\n",
       "    <tr>\n",
       "      <th>4</th>\n",
       "      <td>-</td>\n",
       "      <td>-</td>\n",
       "      <td>-</td>\n",
       "    </tr>\n",
       "  </tbody>\n",
       "</table>\n",
       "</div>"
      ],
      "text/plain": [
       "  LOCATION_DISTRICT LOCATION_DISTRICT.1 LOCATION_DISTRICT.2\n",
       "0                 -                   -                   -\n",
       "1                 -                   -                   -\n",
       "2                 -                   -                   -\n",
       "3                 -                   -                   -\n",
       "4                 -                   -                   -"
      ]
     },
     "execution_count": 17,
     "metadata": {},
     "output_type": "execute_result"
    }
   ],
   "source": [
    "location = df[[c for c in df if c.startswith('LOCATION')]]\n",
    "location.head()"
   ]
  },
  {
   "cell_type": "code",
   "execution_count": 19,
   "metadata": {},
   "outputs": [
    {
     "data": {
      "text/plain": [
       "LOCATION_DISTRICT       7\n",
       "LOCATION_DISTRICT.1    20\n",
       "LOCATION_DISTRICT.2    54\n",
       "dtype: int64"
      ]
     },
     "execution_count": 19,
     "metadata": {},
     "output_type": "execute_result"
    }
   ],
   "source": [
    "location.apply(lambda x: x.nunique())"
   ]
  },
  {
   "cell_type": "code",
   "execution_count": 22,
   "metadata": {},
   "outputs": [
    {
     "data": {
      "text/plain": [
       "<matplotlib.axes._subplots.AxesSubplot at 0x7f1027f1d470>"
      ]
     },
     "execution_count": 22,
     "metadata": {},
     "output_type": "execute_result"
    },
    {
     "data": {
      "image/png": "[encoded data removed]",
      "text/plain": [
       "<Figure size 432x288 with 1 Axes>"
      ]
     },
     "metadata": {
      "needs_background": "light"
     },
     "output_type": "display_data"
    }
   ],
   "source": [
    "df['LOCATION_DISTRICT'].value_counts().sort_values(ascending=True).plot(kind='barh')"
   ]
  },
  {
   "cell_type": "code",
   "execution_count": 25,
   "metadata": {},
   "outputs": [
    {
     "data": {
      "text/plain": [
       "<matplotlib.axes._subplots.AxesSubplot at 0x7f1027c966d8>"
      ]
     },
     "execution_count": 25,
     "metadata": {},
     "output_type": "execute_result"
    },
    {
     "data": {
      "image/png": "[encoded data removed]",
      "text/plain": [
       "<Figure size 864x576 with 1 Axes>"
      ]
     },
     "metadata": {
      "needs_background": "light"
     },
     "output_type": "display_data"
    }
   ],
   "source": [
    "df['LOCATION_DISTRICT.1'].value_counts().sort_values(ascending=True).plot(kind='barh', figsize=(12, 8))"
   ]
  },
  {
   "cell_type": "code",
   "execution_count": 26,
   "metadata": {},
   "outputs": [
    {
     "data": {
      "text/plain": [
       "<matplotlib.axes._subplots.AxesSubplot at 0x7f10279eb550>"
      ]
     },
     "execution_count": 26,
     "metadata": {},
     "output_type": "execute_result"
    },
    {
     "data": {
      "image/png": "[encoded data removed]",
      "text/plain": [
       "<Figure size 1152x864 with 1 Axes>"
      ]
     },
     "metadata": {
      "needs_background": "light"
     },
     "output_type": "display_data"
    }
   ],
   "source": [
    "df['LOCATION_DISTRICT.2'].value_counts().sort_values(ascending=True).plot(kind='barh', figsize=(16, 12))"
   ]
  },
  {
   "cell_type": "markdown",
   "metadata": {},
   "source": [
    "Hmmm, lots of empty"
   ]
  }
 ],
 "metadata": {
  "kernelspec": {
   "display_name": "Python 3",
   "language": "python",
   "name": "python3"
  },
  "language_info": {
   "codemirror_mode": {
    "name": "ipython",
    "version": 3
   },
   "file_extension": ".py",
   "mimetype": "text/x-python",
   "name": "python",
   "nbconvert_exporter": "python",
   "pygments_lexer": "ipython3",
   "version": "3.7.0"
  }
 },
 "nbformat": 4,
 "nbformat_minor": 2
}
