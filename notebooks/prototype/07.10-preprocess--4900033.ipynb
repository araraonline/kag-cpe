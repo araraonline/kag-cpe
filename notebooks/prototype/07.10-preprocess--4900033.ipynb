{
 "cells": [
  {
   "cell_type": "markdown",
   "metadata": {},
   "source": [
    "# 7.10 Preprocess 49-00033 (Los Angeles, CA)"
   ]
  },
  {
   "cell_type": "code",
   "execution_count": 68,
   "metadata": {},
   "outputs": [],
   "source": [
    "import matplotlib.pyplot as plt\n",
    "import pandas\n",
    "\n",
    "from cpe_help import Department"
   ]
  },
  {
   "cell_type": "code",
   "execution_count": 32,
   "metadata": {},
   "outputs": [
    {
     "data": {
      "text/html": [
       "<div>\n",
       "<style scoped>\n",
       "    .dataframe tbody tr th:only-of-type {\n",
       "        vertical-align: middle;\n",
       "    }\n",
       "\n",
       "    .dataframe tbody tr th {\n",
       "        vertical-align: top;\n",
       "    }\n",
       "\n",
       "    .dataframe thead th {\n",
       "        text-align: right;\n",
       "    }\n",
       "</style>\n",
       "<table border=\"1\" class=\"dataframe\">\n",
       "  <thead>\n",
       "    <tr style=\"text-align: right;\">\n",
       "      <th></th>\n",
       "      <th>0</th>\n",
       "      <th>1</th>\n",
       "      <th>2</th>\n",
       "      <th>3</th>\n",
       "      <th>4</th>\n",
       "    </tr>\n",
       "  </thead>\n",
       "  <tbody>\n",
       "    <tr>\n",
       "      <th>INCIDENT_DATE</th>\n",
       "      <td>12/31/15 0:00</td>\n",
       "      <td>12/31/15 0:00</td>\n",
       "      <td>12/31/15 0:00</td>\n",
       "      <td>12/31/15 0:00</td>\n",
       "      <td>12/31/15 0:00</td>\n",
       "    </tr>\n",
       "    <tr>\n",
       "      <th>INCIDENT_TIME</th>\n",
       "      <td>2345</td>\n",
       "      <td>2330</td>\n",
       "      <td>2320</td>\n",
       "      <td>2319</td>\n",
       "      <td>2316</td>\n",
       "    </tr>\n",
       "    <tr>\n",
       "      <th>INCIDENT_UNIQUE_IDENTIFIER</th>\n",
       "      <td>4538991</td>\n",
       "      <td>4538996</td>\n",
       "      <td>4539142</td>\n",
       "      <td>4538947</td>\n",
       "      <td>4538938</td>\n",
       "    </tr>\n",
       "    <tr>\n",
       "      <th>LOCATION_DISTRICT</th>\n",
       "      <td>14</td>\n",
       "      <td>1</td>\n",
       "      <td>6</td>\n",
       "      <td>21</td>\n",
       "      <td>17</td>\n",
       "    </tr>\n",
       "    <tr>\n",
       "      <th>LOCATION_TYPE</th>\n",
       "      <td>Pacific</td>\n",
       "      <td>Central</td>\n",
       "      <td>Hollywood</td>\n",
       "      <td>Topanga</td>\n",
       "      <td>Devonshire</td>\n",
       "    </tr>\n",
       "    <tr>\n",
       "      <th>UNKNOWN_FIELD_TYPE</th>\n",
       "      <td>1435</td>\n",
       "      <td>101</td>\n",
       "      <td>646</td>\n",
       "      <td>2189</td>\n",
       "      <td>1739</td>\n",
       "    </tr>\n",
       "    <tr>\n",
       "      <th>SUBJECT_AGE</th>\n",
       "      <td>43</td>\n",
       "      <td>27</td>\n",
       "      <td>31</td>\n",
       "      <td>28</td>\n",
       "      <td>29</td>\n",
       "    </tr>\n",
       "    <tr>\n",
       "      <th>SUBJECT_GENDER</th>\n",
       "      <td>M</td>\n",
       "      <td>M</td>\n",
       "      <td>M</td>\n",
       "      <td>M</td>\n",
       "      <td>M</td>\n",
       "    </tr>\n",
       "    <tr>\n",
       "      <th>SUBJECT_RACE</th>\n",
       "      <td>H</td>\n",
       "      <td>W</td>\n",
       "      <td>W</td>\n",
       "      <td>H</td>\n",
       "      <td>B</td>\n",
       "    </tr>\n",
       "    <tr>\n",
       "      <th>UNKNOWN_FIELD_TYPE.1</th>\n",
       "      <td>22</td>\n",
       "      <td>4</td>\n",
       "      <td>16</td>\n",
       "      <td>22</td>\n",
       "      <td>16</td>\n",
       "    </tr>\n",
       "    <tr>\n",
       "      <th>INCIDENT_REASON</th>\n",
       "      <td>Driving Under Influence</td>\n",
       "      <td>Aggravated Assault</td>\n",
       "      <td>Narcotic Drug Laws</td>\n",
       "      <td>Driving Under Influence</td>\n",
       "      <td>Narcotic Drug Laws</td>\n",
       "    </tr>\n",
       "    <tr>\n",
       "      <th>UNKNOWN_FIELD_TYPE.2</th>\n",
       "      <td>M</td>\n",
       "      <td>F</td>\n",
       "      <td>M</td>\n",
       "      <td>M</td>\n",
       "      <td>F</td>\n",
       "    </tr>\n",
       "    <tr>\n",
       "      <th>CHARGE</th>\n",
       "      <td>23152(A)VC</td>\n",
       "      <td>273.5(A)PC</td>\n",
       "      <td>11350(A)HS</td>\n",
       "      <td>23152(A)VC</td>\n",
       "      <td>11351HS</td>\n",
       "    </tr>\n",
       "    <tr>\n",
       "      <th>CHARGE_DESCRIPTION</th>\n",
       "      <td>DRUNK DRIVING ALCOHOL/DRUGS</td>\n",
       "      <td>CORPORAL INJURY ON SPOUSE/COHABITANT/ETC</td>\n",
       "      <td>POSSESSION OF CONTROLLED SUBSTANCE</td>\n",
       "      <td>DRUNK DRIVING ALCOHOL/DRUGS</td>\n",
       "      <td>POSSESS/PURCHASE CONTROLLED SUBS FOR SALE</td>\n",
       "    </tr>\n",
       "    <tr>\n",
       "      <th>LOCATION_FULL_STREET_ADDRESS_OR_INTERSECTION</th>\n",
       "      <td>3500    MCLAUGHLIN                   AV</td>\n",
       "      <td>900    FIGUEROA                     TR</td>\n",
       "      <td>6300    HOLLYWOOD                    BL</td>\n",
       "      <td>VENTURA                      FY</td>\n",
       "      <td>10800    WOODLEY                      AV</td>\n",
       "    </tr>\n",
       "    <tr>\n",
       "      <th>CROSS_STREET</th>\n",
       "      <td>NaN</td>\n",
       "      <td>NaN</td>\n",
       "      <td>NaN</td>\n",
       "      <td>WINNETKA</td>\n",
       "      <td>NaN</td>\n",
       "    </tr>\n",
       "    <tr>\n",
       "      <th>LOCATION_LATITUDE</th>\n",
       "      <td>34.0141</td>\n",
       "      <td>34.0663</td>\n",
       "      <td>34.1016</td>\n",
       "      <td>34.1723</td>\n",
       "      <td>34.2667</td>\n",
       "    </tr>\n",
       "    <tr>\n",
       "      <th>LOCATION_LONGITUDE</th>\n",
       "      <td>-118.429</td>\n",
       "      <td>-118.244</td>\n",
       "      <td>-118.327</td>\n",
       "      <td>-118.571</td>\n",
       "      <td>-118.485</td>\n",
       "    </tr>\n",
       "  </tbody>\n",
       "</table>\n",
       "</div>"
      ],
      "text/plain": [
       "                                                                                     0  \\\n",
       "INCIDENT_DATE                                                            12/31/15 0:00   \n",
       "INCIDENT_TIME                                                                     2345   \n",
       "INCIDENT_UNIQUE_IDENTIFIER                                                     4538991   \n",
       "LOCATION_DISTRICT                                                                   14   \n",
       "LOCATION_TYPE                                                                  Pacific   \n",
       "UNKNOWN_FIELD_TYPE                                                                1435   \n",
       "SUBJECT_AGE                                                                         43   \n",
       "SUBJECT_GENDER                                                                       M   \n",
       "SUBJECT_RACE                                                                         H   \n",
       "UNKNOWN_FIELD_TYPE.1                                                                22   \n",
       "INCIDENT_REASON                                                Driving Under Influence   \n",
       "UNKNOWN_FIELD_TYPE.2                                                                 M   \n",
       "CHARGE                                                                      23152(A)VC   \n",
       "CHARGE_DESCRIPTION                                         DRUNK DRIVING ALCOHOL/DRUGS   \n",
       "LOCATION_FULL_STREET_ADDRESS_OR_INTERSECTION   3500    MCLAUGHLIN                   AV   \n",
       "CROSS_STREET                                                                       NaN   \n",
       "LOCATION_LATITUDE                                                              34.0141   \n",
       "LOCATION_LONGITUDE                                                            -118.429   \n",
       "\n",
       "                                                                                     1  \\\n",
       "INCIDENT_DATE                                                            12/31/15 0:00   \n",
       "INCIDENT_TIME                                                                     2330   \n",
       "INCIDENT_UNIQUE_IDENTIFIER                                                     4538996   \n",
       "LOCATION_DISTRICT                                                                    1   \n",
       "LOCATION_TYPE                                                                  Central   \n",
       "UNKNOWN_FIELD_TYPE                                                                 101   \n",
       "SUBJECT_AGE                                                                         27   \n",
       "SUBJECT_GENDER                                                                       M   \n",
       "SUBJECT_RACE                                                                         W   \n",
       "UNKNOWN_FIELD_TYPE.1                                                                 4   \n",
       "INCIDENT_REASON                                                     Aggravated Assault   \n",
       "UNKNOWN_FIELD_TYPE.2                                                                 F   \n",
       "CHARGE                                                                      273.5(A)PC   \n",
       "CHARGE_DESCRIPTION                            CORPORAL INJURY ON SPOUSE/COHABITANT/ETC   \n",
       "LOCATION_FULL_STREET_ADDRESS_OR_INTERSECTION    900    FIGUEROA                     TR   \n",
       "CROSS_STREET                                                                       NaN   \n",
       "LOCATION_LATITUDE                                                              34.0663   \n",
       "LOCATION_LONGITUDE                                                            -118.244   \n",
       "\n",
       "                                                                                     2  \\\n",
       "INCIDENT_DATE                                                            12/31/15 0:00   \n",
       "INCIDENT_TIME                                                                     2320   \n",
       "INCIDENT_UNIQUE_IDENTIFIER                                                     4539142   \n",
       "LOCATION_DISTRICT                                                                    6   \n",
       "LOCATION_TYPE                                                                Hollywood   \n",
       "UNKNOWN_FIELD_TYPE                                                                 646   \n",
       "SUBJECT_AGE                                                                         31   \n",
       "SUBJECT_GENDER                                                                       M   \n",
       "SUBJECT_RACE                                                                         W   \n",
       "UNKNOWN_FIELD_TYPE.1                                                                16   \n",
       "INCIDENT_REASON                                                     Narcotic Drug Laws   \n",
       "UNKNOWN_FIELD_TYPE.2                                                                 M   \n",
       "CHARGE                                                                      11350(A)HS   \n",
       "CHARGE_DESCRIPTION                                  POSSESSION OF CONTROLLED SUBSTANCE   \n",
       "LOCATION_FULL_STREET_ADDRESS_OR_INTERSECTION   6300    HOLLYWOOD                    BL   \n",
       "CROSS_STREET                                                                       NaN   \n",
       "LOCATION_LATITUDE                                                              34.1016   \n",
       "LOCATION_LONGITUDE                                                            -118.327   \n",
       "\n",
       "                                                                                     3  \\\n",
       "INCIDENT_DATE                                                            12/31/15 0:00   \n",
       "INCIDENT_TIME                                                                     2319   \n",
       "INCIDENT_UNIQUE_IDENTIFIER                                                     4538947   \n",
       "LOCATION_DISTRICT                                                                   21   \n",
       "LOCATION_TYPE                                                                  Topanga   \n",
       "UNKNOWN_FIELD_TYPE                                                                2189   \n",
       "SUBJECT_AGE                                                                         28   \n",
       "SUBJECT_GENDER                                                                       M   \n",
       "SUBJECT_RACE                                                                         H   \n",
       "UNKNOWN_FIELD_TYPE.1                                                                22   \n",
       "INCIDENT_REASON                                                Driving Under Influence   \n",
       "UNKNOWN_FIELD_TYPE.2                                                                 M   \n",
       "CHARGE                                                                      23152(A)VC   \n",
       "CHARGE_DESCRIPTION                                         DRUNK DRIVING ALCOHOL/DRUGS   \n",
       "LOCATION_FULL_STREET_ADDRESS_OR_INTERSECTION           VENTURA                      FY   \n",
       "CROSS_STREET                                                                  WINNETKA   \n",
       "LOCATION_LATITUDE                                                              34.1723   \n",
       "LOCATION_LONGITUDE                                                            -118.571   \n",
       "\n",
       "                                                                                      4  \n",
       "INCIDENT_DATE                                                             12/31/15 0:00  \n",
       "INCIDENT_TIME                                                                      2316  \n",
       "INCIDENT_UNIQUE_IDENTIFIER                                                      4538938  \n",
       "LOCATION_DISTRICT                                                                    17  \n",
       "LOCATION_TYPE                                                                Devonshire  \n",
       "UNKNOWN_FIELD_TYPE                                                                 1739  \n",
       "SUBJECT_AGE                                                                          29  \n",
       "SUBJECT_GENDER                                                                        M  \n",
       "SUBJECT_RACE                                                                          B  \n",
       "UNKNOWN_FIELD_TYPE.1                                                                 16  \n",
       "INCIDENT_REASON                                                      Narcotic Drug Laws  \n",
       "UNKNOWN_FIELD_TYPE.2                                                                  F  \n",
       "CHARGE                                                                          11351HS  \n",
       "CHARGE_DESCRIPTION                            POSSESS/PURCHASE CONTROLLED SUBS FOR SALE  \n",
       "LOCATION_FULL_STREET_ADDRESS_OR_INTERSECTION   10800    WOODLEY                      AV  \n",
       "CROSS_STREET                                                                        NaN  \n",
       "LOCATION_LATITUDE                                                               34.2667  \n",
       "LOCATION_LONGITUDE                                                             -118.485  "
      ]
     },
     "execution_count": 32,
     "metadata": {},
     "output_type": "execute_result"
    }
   ],
   "source": [
    "dept = Department('49-00033')\n",
    "path = dept.tabular_input_dir / '49-00033_Arrests_2015.csv'\n",
    "df = pandas.read_csv(path, low_memory=False, dtype={'INCIDENT_TIME': str}, skiprows=[1])\n",
    "\n",
    "df.head().T"
   ]
  },
  {
   "cell_type": "code",
   "execution_count": 53,
   "metadata": {},
   "outputs": [
    {
     "data": {
      "text/plain": [
       "(126854, 18)"
      ]
     },
     "execution_count": 53,
     "metadata": {},
     "output_type": "execute_result"
    }
   ],
   "source": [
    "df.shape"
   ]
  },
  {
   "cell_type": "markdown",
   "metadata": {},
   "source": [
    "# Date and time"
   ]
  },
  {
   "cell_type": "code",
   "execution_count": 33,
   "metadata": {},
   "outputs": [],
   "source": [
    "date = df['INCIDENT_DATE']\n",
    "time = df['INCIDENT_TIME']"
   ]
  },
  {
   "cell_type": "code",
   "execution_count": 34,
   "metadata": {},
   "outputs": [
    {
     "data": {
      "text/plain": [
       "False"
      ]
     },
     "execution_count": 34,
     "metadata": {},
     "output_type": "execute_result"
    }
   ],
   "source": [
    "date.isnull().any()"
   ]
  },
  {
   "cell_type": "code",
   "execution_count": 35,
   "metadata": {},
   "outputs": [
    {
     "data": {
      "text/plain": [
       "0.00025225850189982183"
      ]
     },
     "execution_count": 35,
     "metadata": {},
     "output_type": "execute_result"
    }
   ],
   "source": [
    "time.isnull().mean()"
   ]
  },
  {
   "cell_type": "code",
   "execution_count": 36,
   "metadata": {},
   "outputs": [
    {
     "data": {
      "text/plain": [
       "1/9/15 0:00     579\n",
       "3/6/15 0:00     556\n",
       "2/13/15 0:00    544\n",
       "2/27/15 0:00    541\n",
       "1/29/15 0:00    538\n",
       "Name: INCIDENT_DATE, dtype: int64"
      ]
     },
     "execution_count": 36,
     "metadata": {},
     "output_type": "execute_result"
    }
   ],
   "source": [
    "date.value_counts().head()"
   ]
  },
  {
   "cell_type": "code",
   "execution_count": 37,
   "metadata": {},
   "outputs": [
    {
     "data": {
      "text/plain": [
       "0    2345\n",
       "1    2330\n",
       "2    2320\n",
       "3    2319\n",
       "4    2316\n",
       "Name: INCIDENT_TIME, dtype: object"
      ]
     },
     "execution_count": 37,
     "metadata": {},
     "output_type": "execute_result"
    }
   ],
   "source": [
    "time.head()\n",
    "# some times are exact"
   ]
  },
  {
   "cell_type": "code",
   "execution_count": 38,
   "metadata": {},
   "outputs": [
    {
     "data": {
      "text/plain": [
       "1500    1326\n",
       "1800    1285\n",
       "1600    1271\n",
       "2000    1254\n",
       "1830    1188\n",
       "Name: INCIDENT_TIME, dtype: int64"
      ]
     },
     "execution_count": 38,
     "metadata": {},
     "output_type": "execute_result"
    }
   ],
   "source": [
    "time.value_counts().head()\n",
    "# some times are not exact"
   ]
  },
  {
   "cell_type": "code",
   "execution_count": 45,
   "metadata": {},
   "outputs": [
    {
     "data": {
      "text/plain": [
       "305     110\n",
       "306     110\n",
       "1196    110\n",
       "1445    110\n",
       "1446    110\n",
       "Name: INCIDENT_TIME, dtype: object"
      ]
     },
     "execution_count": 45,
     "metadata": {},
     "output_type": "execute_result"
    }
   ],
   "source": [
    "time[time == '110'].head()\n",
    "# some times are ambiguous (is 110 equivalent to 1:10 or 11:0)"
   ]
  },
  {
   "cell_type": "code",
   "execution_count": 48,
   "metadata": {},
   "outputs": [
    {
     "data": {
      "text/plain": [
       "320     5\n",
       "669     5\n",
       "943     5\n",
       "1206    5\n",
       "1463    5\n",
       "Name: INCIDENT_TIME, dtype: object"
      ]
     },
     "execution_count": 48,
     "metadata": {},
     "output_type": "execute_result"
    }
   ],
   "source": [
    "time[time == '5'].head()\n",
    "# and what does 5 even mean? 5:00?"
   ]
  },
  {
   "cell_type": "code",
   "execution_count": 49,
   "metadata": {},
   "outputs": [],
   "source": [
    "date = df['INCIDENT_DATE']\n",
    "# ignore time\n",
    "datef = pandas.to_datetime(date, format='%m/%d/%y %H:%M')"
   ]
  },
  {
   "cell_type": "code",
   "execution_count": 50,
   "metadata": {},
   "outputs": [
    {
     "data": {
      "text/plain": [
       "count                  126854\n",
       "unique                    365\n",
       "top       2015-01-09 00:00:00\n",
       "freq                      579\n",
       "first     2015-01-01 00:00:00\n",
       "last      2015-12-31 00:00:00\n",
       "Name: INCIDENT_DATE, dtype: object"
      ]
     },
     "execution_count": 50,
     "metadata": {},
     "output_type": "execute_result"
    }
   ],
   "source": [
    "datef.describe()"
   ]
  },
  {
   "cell_type": "code",
   "execution_count": 52,
   "metadata": {},
   "outputs": [
    {
     "data": {
      "text/plain": [
       "<matplotlib.axes._subplots.AxesSubplot at 0x7f211fe469e8>"
      ]
     },
     "execution_count": 52,
     "metadata": {},
     "output_type": "execute_result"
    },
    {
     "data": {
      "image/png": "[encoded data removed]",
      "text/plain": [
       "<Figure size 432x288 with 1 Axes>"
      ]
     },
     "metadata": {
      "needs_background": "light"
     },
     "output_type": "display_data"
    }
   ],
   "source": [
    "datef.hist(bins=50)"
   ]
  },
  {
   "cell_type": "markdown",
   "metadata": {},
   "source": [
    "Perfect"
   ]
  },
  {
   "cell_type": "markdown",
   "metadata": {},
   "source": [
    "# Location"
   ]
  },
  {
   "cell_type": "code",
   "execution_count": 55,
   "metadata": {},
   "outputs": [
    {
     "data": {
      "text/html": [
       "<div>\n",
       "<style scoped>\n",
       "    .dataframe tbody tr th:only-of-type {\n",
       "        vertical-align: middle;\n",
       "    }\n",
       "\n",
       "    .dataframe tbody tr th {\n",
       "        vertical-align: top;\n",
       "    }\n",
       "\n",
       "    .dataframe thead th {\n",
       "        text-align: right;\n",
       "    }\n",
       "</style>\n",
       "<table border=\"1\" class=\"dataframe\">\n",
       "  <thead>\n",
       "    <tr style=\"text-align: right;\">\n",
       "      <th></th>\n",
       "      <th>LOCATION_DISTRICT</th>\n",
       "      <th>LOCATION_TYPE</th>\n",
       "      <th>LOCATION_FULL_STREET_ADDRESS_OR_INTERSECTION</th>\n",
       "      <th>LOCATION_LATITUDE</th>\n",
       "      <th>LOCATION_LONGITUDE</th>\n",
       "    </tr>\n",
       "  </thead>\n",
       "  <tbody>\n",
       "    <tr>\n",
       "      <th>0</th>\n",
       "      <td>14</td>\n",
       "      <td>Pacific</td>\n",
       "      <td>3500    MCLAUGHLIN                   AV</td>\n",
       "      <td>34.0141</td>\n",
       "      <td>-118.4288</td>\n",
       "    </tr>\n",
       "    <tr>\n",
       "      <th>1</th>\n",
       "      <td>1</td>\n",
       "      <td>Central</td>\n",
       "      <td>900    FIGUEROA                     TR</td>\n",
       "      <td>34.0663</td>\n",
       "      <td>-118.2441</td>\n",
       "    </tr>\n",
       "    <tr>\n",
       "      <th>2</th>\n",
       "      <td>6</td>\n",
       "      <td>Hollywood</td>\n",
       "      <td>6300    HOLLYWOOD                    BL</td>\n",
       "      <td>34.1016</td>\n",
       "      <td>-118.3267</td>\n",
       "    </tr>\n",
       "    <tr>\n",
       "      <th>3</th>\n",
       "      <td>21</td>\n",
       "      <td>Topanga</td>\n",
       "      <td>VENTURA                      FY</td>\n",
       "      <td>34.1723</td>\n",
       "      <td>-118.5709</td>\n",
       "    </tr>\n",
       "    <tr>\n",
       "      <th>4</th>\n",
       "      <td>17</td>\n",
       "      <td>Devonshire</td>\n",
       "      <td>10800    WOODLEY                      AV</td>\n",
       "      <td>34.2667</td>\n",
       "      <td>-118.4848</td>\n",
       "    </tr>\n",
       "  </tbody>\n",
       "</table>\n",
       "</div>"
      ],
      "text/plain": [
       "   LOCATION_DISTRICT LOCATION_TYPE  \\\n",
       "0                 14       Pacific   \n",
       "1                  1       Central   \n",
       "2                  6     Hollywood   \n",
       "3                 21       Topanga   \n",
       "4                 17    Devonshire   \n",
       "\n",
       "  LOCATION_FULL_STREET_ADDRESS_OR_INTERSECTION  LOCATION_LATITUDE  \\\n",
       "0      3500    MCLAUGHLIN                   AV            34.0141   \n",
       "1       900    FIGUEROA                     TR            34.0663   \n",
       "2      6300    HOLLYWOOD                    BL            34.1016   \n",
       "3              VENTURA                      FY            34.1723   \n",
       "4     10800    WOODLEY                      AV            34.2667   \n",
       "\n",
       "   LOCATION_LONGITUDE  \n",
       "0           -118.4288  \n",
       "1           -118.2441  \n",
       "2           -118.3267  \n",
       "3           -118.5709  \n",
       "4           -118.4848  "
      ]
     },
     "execution_count": 55,
     "metadata": {},
     "output_type": "execute_result"
    }
   ],
   "source": [
    "location = df[[c for c in df if c.startswith('LOCATION')]]\n",
    "location.head()"
   ]
  },
  {
   "cell_type": "code",
   "execution_count": 56,
   "metadata": {},
   "outputs": [
    {
     "data": {
      "text/plain": [
       "LOCATION_DISTRICT                               0.0\n",
       "LOCATION_TYPE                                   0.0\n",
       "LOCATION_FULL_STREET_ADDRESS_OR_INTERSECTION    0.0\n",
       "LOCATION_LATITUDE                               0.0\n",
       "LOCATION_LONGITUDE                              0.0\n",
       "dtype: float64"
      ]
     },
     "execution_count": 56,
     "metadata": {},
     "output_type": "execute_result"
    }
   ],
   "source": [
    "location.isnull().mean()"
   ]
  },
  {
   "cell_type": "code",
   "execution_count": 58,
   "metadata": {},
   "outputs": [
    {
     "data": {
      "text/html": [
       "<div>\n",
       "<style scoped>\n",
       "    .dataframe tbody tr th:only-of-type {\n",
       "        vertical-align: middle;\n",
       "    }\n",
       "\n",
       "    .dataframe tbody tr th {\n",
       "        vertical-align: top;\n",
       "    }\n",
       "\n",
       "    .dataframe thead th {\n",
       "        text-align: right;\n",
       "    }\n",
       "</style>\n",
       "<table border=\"1\" class=\"dataframe\">\n",
       "  <thead>\n",
       "    <tr style=\"text-align: right;\">\n",
       "      <th></th>\n",
       "      <th>LOCATION_DISTRICT</th>\n",
       "      <th>LOCATION_TYPE</th>\n",
       "      <th>LOCATION_FULL_STREET_ADDRESS_OR_INTERSECTION</th>\n",
       "      <th>LOCATION_LATITUDE</th>\n",
       "      <th>LOCATION_LONGITUDE</th>\n",
       "    </tr>\n",
       "  </thead>\n",
       "  <tbody>\n",
       "    <tr>\n",
       "      <th>0</th>\n",
       "      <td>1</td>\n",
       "      <td>Central</td>\n",
       "      <td>OCEAN FRONT</td>\n",
       "      <td>0.0</td>\n",
       "      <td>0.0</td>\n",
       "    </tr>\n",
       "  </tbody>\n",
       "</table>\n",
       "</div>"
      ],
      "text/plain": [
       "   LOCATION_DISTRICT LOCATION_TYPE  \\\n",
       "0                  1       Central   \n",
       "\n",
       "  LOCATION_FULL_STREET_ADDRESS_OR_INTERSECTION  LOCATION_LATITUDE  \\\n",
       "0                                  OCEAN FRONT                0.0   \n",
       "\n",
       "   LOCATION_LONGITUDE  \n",
       "0                 0.0  "
      ]
     },
     "execution_count": 58,
     "metadata": {},
     "output_type": "execute_result"
    }
   ],
   "source": [
    "location.mode()"
   ]
  },
  {
   "cell_type": "code",
   "execution_count": 63,
   "metadata": {},
   "outputs": [
    {
     "data": {
      "text/plain": [
       "0.05318712850994056"
      ]
     },
     "execution_count": 63,
     "metadata": {},
     "output_type": "execute_result"
    }
   ],
   "source": [
    "(df['LOCATION_LATITUDE'] == 0).mean()"
   ]
  },
  {
   "cell_type": "code",
   "execution_count": 64,
   "metadata": {},
   "outputs": [
    {
     "data": {
      "text/plain": [
       "0.05318712850994056"
      ]
     },
     "execution_count": 64,
     "metadata": {},
     "output_type": "execute_result"
    }
   ],
   "source": [
    "(df['LOCATION_LONGITUDE'] == 0).mean()"
   ]
  },
  {
   "cell_type": "code",
   "execution_count": 65,
   "metadata": {},
   "outputs": [
    {
     "data": {
      "text/plain": [
       "True"
      ]
     },
     "execution_count": 65,
     "metadata": {},
     "output_type": "execute_result"
    }
   ],
   "source": [
    "((df['LOCATION_LATITUDE'] == 0) == (df['LOCATION_LONGITUDE'] == 0)).all()"
   ]
  },
  {
   "cell_type": "code",
   "execution_count": 67,
   "metadata": {},
   "outputs": [],
   "source": [
    "lats = df['LOCATION_LATITUDE']\n",
    "lons = df['LOCATION_LONGITUDE']\n",
    "geocoded = df['LOCATION_LATITUDE'] != 0"
   ]
  },
  {
   "cell_type": "code",
   "execution_count": 71,
   "metadata": {},
   "outputs": [
    {
     "data": {
      "text/plain": [
       "<matplotlib.collections.PathCollection at 0x7f211d5f31d0>"
      ]
     },
     "execution_count": 71,
     "metadata": {},
     "output_type": "execute_result"
    },
    {
     "data": {
      "image/png": "[encoded data removed]",
      "text/plain": [
       "<Figure size 864x864 with 1 Axes>"
      ]
     },
     "metadata": {
      "needs_background": "light"
     },
     "output_type": "display_data"
    }
   ],
   "source": [
    "fig, ax = plt.subplots(figsize=(12, 12))\n",
    "\n",
    "ax.set_aspect('equal')\n",
    "\n",
    "xs = lons[geocoded]\n",
    "ys = lats[geocoded]\n",
    "ax.scatter(xs, ys, s=1, alpha=0.5)"
   ]
  },
  {
   "cell_type": "markdown",
   "metadata": {},
   "source": [
    "Nice! We can geocode missing points later if necessary (6747 entries)"
   ]
  },
  {
   "cell_type": "code",
   "execution_count": 74,
   "metadata": {},
   "outputs": [
    {
     "data": {
      "text/plain": [
       "{'init': 'epsg:4269'}"
      ]
     },
     "execution_count": 74,
     "metadata": {},
     "output_type": "execute_result"
    }
   ],
   "source": [
    "# probably in the NAD83 CRS\n",
    "dept.load_external_shapefile().crs"
   ]
  }
 ],
 "metadata": {
  "kernelspec": {
   "display_name": "Python 3",
   "language": "python",
   "name": "python3"
  },
  "language_info": {
   "codemirror_mode": {
    "name": "ipython",
    "version": 3
   },
   "file_extension": ".py",
   "mimetype": "text/x-python",
   "name": "python",
   "nbconvert_exporter": "python",
   "pygments_lexer": "ipython3",
   "version": "3.7.0"
  }
 },
 "nbformat": 4,
 "nbformat_minor": 2
}
